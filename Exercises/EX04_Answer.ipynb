{
 "cells": [
  {
   "attachments": {},
   "cell_type": "markdown",
   "metadata": {},
   "source": [
    "# **Computer Exercise 4: Discrete Event Simulation**"
   ]
  },
  {
   "cell_type": "code",
   "execution_count": 1,
   "metadata": {},
   "outputs": [],
   "source": [
    "# Plotting\n",
    "import plotly.graph_objects as go\n",
    "import plotly.express as px\n",
    "import plotly.subplots as sp\n",
    "import plotly.io as pio\n",
    "pio.renderers.default = \"notebook+pdf\"\n",
    "pio.templates.default = \"plotly_dark\"\n",
    "\n",
    "# Utilities\n",
    "import numpy as np\n",
    "import pandas as pd\n",
    "import math\n",
    "from scipy.stats import t"
   ]
  },
  {
   "cell_type": "markdown",
   "metadata": {},
   "source": [
    "## **Part 1 - Poisson Arrivals**"
   ]
  },
  {
   "cell_type": "code",
   "execution_count": 2,
   "metadata": {},
   "outputs": [],
   "source": [
    "def blocking_system_simulation(\n",
    "        num_service_units,\n",
    "        num_costumers,\n",
    "        arrival_sample_fun,\n",
    "        service_time_sample_fun,\n",
    "        num_samples=None\n",
    "    ):\n",
    "\n",
    "\n",
    "    def single_sample():\n",
    "        # Initialize the state of the system\n",
    "        service_units_occupied = np.zeros(num_service_units)\n",
    "        blocked_customers = 0\n",
    "\n",
    "        # Main loop\n",
    "        for _ in range(num_costumers):\n",
    "\n",
    "            # Sample arrival of a new customer\n",
    "            arrival = arrival_sample_fun()\n",
    "\n",
    "            # Update the state of the system\n",
    "            service_units_occupied = np.maximum(0, service_units_occupied - arrival)\n",
    "\n",
    "            # Check if a service unit is available\n",
    "            if any(service_units_occupied == 0):\n",
    "                # Sample the service time and assign the customer to the first available service unit\n",
    "                service_time = service_time_sample_fun()\n",
    "                service_unit = np.argmin(service_units_occupied)\n",
    "                service_units_occupied[service_unit] = service_time\n",
    "            else:\n",
    "                # Block the customer\n",
    "                blocked_customers += 1\n",
    "    \n",
    "        return blocked_customers/num_costumers\n",
    "    \n",
    "    if num_samples is None:\n",
    "        return single_sample()\n",
    "    else:\n",
    "        return np.array([single_sample() for _ in range(num_samples)])\n",
    "\n",
    "\n",
    "def simulation_stats(theta_hats, alpha, verbose=False):\n",
    "    n = len(theta_hats)\n",
    "    theta_bar = np.mean(theta_hats)\n",
    "    S = np.sqrt((np.sum(theta_hats**2) - n*theta_bar**2)/(n-1))\n",
    "    CI = theta_bar + S/np.sqrt(n) * t.ppf([alpha/2, 1-alpha/2], n-1)\n",
    "\n",
    "    if verbose:\n",
    "        print(f\"Simulated blocking probability: {np.round(theta_bar, 4)}\")\n",
    "        print(f\"{(1-alpha)*100}% confidence interval: {np.round(CI, 4)}\")\n",
    "\n",
    "    return np.array([theta_bar, theta_bar-CI[0], CI[1]-theta_bar])\n",
    "\n",
    "\n",
    "def analytic_block_prob(lam, s, m):\n",
    "    A = lam * s\n",
    "    return A**m/math.factorial(m)/np.sum([A**i/math.factorial(i) for i in range(m+1)])"
   ]
  },
  {
   "cell_type": "code",
   "execution_count": 3,
   "metadata": {},
   "outputs": [
    {
     "name": "stdout",
     "output_type": "stream",
     "text": [
      "Analytical blocking probability: 0.1217\n",
      "Simulated blocking probability: 0.1203\n",
      "95.0% confidence interval: [0.1162 0.1245]\n"
     ]
    }
   ],
   "source": [
    "num_samples = 10\n",
    "num_customers = 10000\n",
    "m = 10\n",
    "mean_service_time = 8\n",
    "arrival_intensity = 1\n",
    "alpha = 0.05\n",
    "\n",
    "# Samplers\n",
    "arrival_time_sampler = lambda: np.random.exponential(1/arrival_intensity)\n",
    "service_time_sampler = lambda: np.random.exponential(mean_service_time)\n",
    "\n",
    "# Compute the analytical blocking probability\n",
    "B = analytic_block_prob(arrival_intensity, mean_service_time, m)\n",
    "print(f\"Analytical blocking probability: {np.round(B, 4)}\")\n",
    "\n",
    "# Simulate the blocking probability\n",
    "theta_hats = blocking_system_simulation(m, num_customers, arrival_time_sampler, service_time_sampler, num_samples)\n",
    "stats_exponential = simulation_stats(theta_hats, alpha, verbose=True)"
   ]
  },
  {
   "cell_type": "markdown",
   "metadata": {},
   "source": [
    "## **Part 2 - Renewal Arrivals**"
   ]
  },
  {
   "cell_type": "markdown",
   "metadata": {},
   "source": [
    "### **(a) Erlang Inter Arrival Times**"
   ]
  },
  {
   "cell_type": "code",
   "execution_count": 4,
   "metadata": {},
   "outputs": [
    {
     "name": "stdout",
     "output_type": "stream",
     "text": [
      "Simulated blocking probability: 0.1201\n",
      "95.0% confidence interval: [0.1157 0.1245]\n"
     ]
    }
   ],
   "source": [
    "# Erlang sampler\n",
    "k = 1\n",
    "arrival_time_sampler = lambda: np.random.gamma(k, 1/arrival_intensity)\n",
    "\n",
    "# Simulate the blocking probability\n",
    "theta_hats = blocking_system_simulation(m, num_customers, arrival_time_sampler, service_time_sampler, num_samples)\n",
    "stats_erlang = simulation_stats(theta_hats, alpha, verbose=True)"
   ]
  },
  {
   "cell_type": "markdown",
   "metadata": {},
   "source": [
    "### **(b) Hyper Exponential Arrival Times**"
   ]
  },
  {
   "cell_type": "code",
   "execution_count": 5,
   "metadata": {},
   "outputs": [
    {
     "name": "stdout",
     "output_type": "stream",
     "text": [
      "Simulated blocking probability: 0.1378\n",
      "95.0% confidence interval: [0.1338 0.1417]\n"
     ]
    }
   ],
   "source": [
    "# Hyperexponential sampler\n",
    "p1 = 0.8; p2 = 0.2\n",
    "lam1 = 0.8333; lam2 = 5.0\n",
    "\n",
    "arrival_time_sampler = lambda: np.random.choice([np.random.exponential(1/lam1), np.random.exponential(1/lam2)], p=[p1, p2])\n",
    "\n",
    "# Simulate the blocking probability\n",
    "theta_hats = blocking_system_simulation(m, num_customers, arrival_time_sampler, service_time_sampler, num_samples)\n",
    "stats_hyperexponential = simulation_stats(theta_hats, alpha, verbose=True)"
   ]
  },
  {
   "cell_type": "code",
   "execution_count": 6,
   "metadata": {},
   "outputs": [],
   "source": [
    "results_vary_arrival_times = np.array([stats_exponential, stats_erlang, stats_hyperexponential])\n",
    "df_vary_arrival_times = pd.DataFrame(results_vary_arrival_times, \n",
    "    columns=[\"Blocking Probability\", \"Lower Bound\", \"Upper Bound\"])\n",
    "df_vary_arrival_times[\"Distribution\"] = [\"Exponential\", \"Erlang\", \"Hyperexponential\"]"
   ]
  },
  {
   "cell_type": "markdown",
   "metadata": {},
   "source": [
    "## **Part 3 - Service Time Distribution**"
   ]
  },
  {
   "cell_type": "code",
   "execution_count": 7,
   "metadata": {},
   "outputs": [],
   "source": [
    "arrival_time_sampler = lambda: np.random.exponential(1/arrival_intensity)"
   ]
  },
  {
   "cell_type": "markdown",
   "metadata": {},
   "source": [
    "### **(a) Constant Service Time**"
   ]
  },
  {
   "cell_type": "code",
   "execution_count": 8,
   "metadata": {},
   "outputs": [
    {
     "name": "stdout",
     "output_type": "stream",
     "text": [
      "Simulated blocking probability: 0.1186\n",
      "95.0% confidence interval: [0.1165 0.1208]\n"
     ]
    }
   ],
   "source": [
    "# Constant \"sampler\"\n",
    "service_time_sampler = lambda: mean_service_time\n",
    "\n",
    "# Simulate the blocking probability\n",
    "theta_hats = blocking_system_simulation(m, num_customers, arrival_time_sampler, service_time_sampler, num_samples)\n",
    "stats_const = simulation_stats(theta_hats, alpha, verbose=True)"
   ]
  },
  {
   "cell_type": "markdown",
   "metadata": {},
   "source": [
    "### **(b) Pareto Service Time**"
   ]
  },
  {
   "cell_type": "code",
   "execution_count": 9,
   "metadata": {},
   "outputs": [],
   "source": [
    "# Pareto sampler\n",
    "\n",
    "# k = 1.05\n",
    "service_time_sampler = lambda: np.random.pareto(1.05) # Pareto with beta=1\n",
    "theta_hats = blocking_system_simulation(m, num_customers, arrival_time_sampler, service_time_sampler, num_samples)\n",
    "stats_pareto105 = simulation_stats(theta_hats, alpha)\n",
    "\n",
    "# k = 2.05\n",
    "service_time_sampler = lambda: np.random.pareto(2.05) # Pareto with beta=1\n",
    "theta_hats = blocking_system_simulation(m, num_customers, arrival_time_sampler, service_time_sampler, num_samples)\n",
    "stats_pareto205 = simulation_stats(theta_hats, alpha)\n"
   ]
  },
  {
   "cell_type": "markdown",
   "metadata": {},
   "source": [
    "As $k$ increases, the Pareto distribution skews more to the right, resulting in decreasing service times which in turn allows for more customers to be served."
   ]
  },
  {
   "cell_type": "markdown",
   "metadata": {},
   "source": [
    "### **(c) Half-Cauchy and Chi-Square Service Time**"
   ]
  },
  {
   "cell_type": "code",
   "execution_count": 10,
   "metadata": {},
   "outputs": [
    {
     "name": "stdout",
     "output_type": "stream",
     "text": [
      "Simulated blocking probability: 0.0358\n",
      "95.0% confidence interval: [0.027  0.0446]\n"
     ]
    }
   ],
   "source": [
    "# Half-Cauchy sampler\n",
    "service_time_sampler = lambda: np.abs(np.random.standard_cauchy())\n",
    "\n",
    "# Simulate the blocking probability\n",
    "theta_hats = blocking_system_simulation(m, num_customers, arrival_time_sampler, service_time_sampler, num_samples)\n",
    "stats_cauchy = simulation_stats(theta_hats, alpha, verbose=True)"
   ]
  },
  {
   "cell_type": "code",
   "execution_count": 11,
   "metadata": {},
   "outputs": [
    {
     "name": "stdout",
     "output_type": "stream",
     "text": [
      "Simulated blocking probability: 0.1206\n",
      "95.0% confidence interval: [0.1181 0.1231]\n"
     ]
    }
   ],
   "source": [
    "# Chi-Square sampler\n",
    "df = 8\n",
    "service_time_sampler = lambda: np.random.chisquare(df)\n",
    "\n",
    "# Simulate the blocking probability\n",
    "theta_hats = blocking_system_simulation(m, num_customers, arrival_time_sampler, service_time_sampler, num_samples)\n",
    "stats_chi2 = simulation_stats(theta_hats, alpha, verbose=True)"
   ]
  },
  {
   "cell_type": "code",
   "execution_count": 12,
   "metadata": {},
   "outputs": [],
   "source": [
    "results_vary_service_times = np.array([stats_const, stats_pareto105, stats_pareto205, stats_cauchy, stats_chi2])\n",
    "df_vary_service_times = pd.DataFrame(results_vary_service_times,\n",
    "    columns=[\"Blocking Probability\", \"Lower Bound\", \"Upper Bound\"])\n",
    "df_vary_service_times[\"Distribution\"] = [\"Constant\", \"Pareto (k=1.05)\", \"Pareto (k=2.05)\", \"Half-Cauchy\", \"Chi-Square (df=8)\"]"
   ]
  },
  {
   "cell_type": "markdown",
   "metadata": {},
   "source": [
    "## **Part 4 - Confidence Intervals**"
   ]
  },
  {
   "cell_type": "code",
   "execution_count": 54,
   "metadata": {},
   "outputs": [
    {
     "data": {
      "application/pdf": "[encoded data removed]",
      "text/html": [
       "<div>                            <div id=\"a39b47f0-7ea6-4b57-9d31-cdc5ff483436\" class=\"plotly-graph-div\" style=\"height:525px; width:100%;\"></div>            <script type=\"text/javascript\">                require([\"plotly\"], function(Plotly) {                    window.PLOTLYENV=window.PLOTLYENV || {};                                    if (document.getElementById(\"a39b47f0-7ea6-4b57-9d31-cdc5ff483436\")) {                    Plotly.newPlot(                        \"a39b47f0-7ea6-4b57-9d31-cdc5ff483436\",                        [{\"error_y\":{\"array\":[0.00414155336881207,0.004400824418613447,0.0039662080404386235],\"arrayminus\":[0.00414155336881207,0.004400824418613447,0.0039662080404386235]},\"hovertemplate\":\"Distribution=%{x}\\u003cbr\\u003eBlocking Probability=%{y}\\u003cextra\\u003e\\u003c\\u002fextra\\u003e\",\"legendgroup\":\"\",\"marker\":{\"color\":\"#636efa\",\"symbol\":\"circle\"},\"mode\":\"markers\",\"name\":\"\",\"orientation\":\"v\",\"showlegend\":false,\"x\":[\"Exponential\",\"Erlang\",\"Hyperexponential\"],\"xaxis\":\"x\",\"y\":[0.12034,0.12008,0.13777],\"yaxis\":\"y\",\"type\":\"scatter\"},{\"error_y\":{\"array\":[0.002154281614880446,0.013154391492117432,0.0,0.008783143818331084,0.002520836717555708],\"arrayminus\":[0.002154281614880446,0.013154391492117438,0.0,0.00878314381833109,0.002520836717555708]},\"hovertemplate\":\"Distribution=%{x}\\u003cbr\\u003eBlocking Probability=%{y}\\u003cextra\\u003e\\u003c\\u002fextra\\u003e\",\"legendgroup\":\"\",\"marker\":{\"color\":\"#636efa\",\"symbol\":\"circle\"},\"mode\":\"markers\",\"name\":\"\",\"orientation\":\"v\",\"showlegend\":false,\"x\":[\"Constant\",\"Pareto (k=1.05)\",\"Pareto (k=2.05)\",\"Half-Cauchy\",\"Chi-Square (df=8)\"],\"xaxis\":\"x2\",\"y\":[0.11862999999999999,0.05328000000000001,0.0,0.03577,0.12059999999999997],\"yaxis\":\"y2\",\"type\":\"scatter\"}],                        {\"template\":{\"data\":{\"histogram2dcontour\":[{\"type\":\"histogram2dcontour\",\"colorbar\":{\"outlinewidth\":0,\"ticks\":\"\"},\"colorscale\":[[0.0,\"#0d0887\"],[0.1111111111111111,\"#46039f\"],[0.2222222222222222,\"#7201a8\"],[0.3333333333333333,\"#9c179e\"],[0.4444444444444444,\"#bd3786\"],[0.5555555555555556,\"#d8576b\"],[0.6666666666666666,\"#ed7953\"],[0.7777777777777778,\"#fb9f3a\"],[0.8888888888888888,\"#fdca26\"],[1.0,\"#f0f921\"]]}],\"choropleth\":[{\"type\":\"choropleth\",\"colorbar\":{\"outlinewidth\":0,\"ticks\":\"\"}}],\"histogram2d\":[{\"type\":\"histogram2d\",\"colorbar\":{\"outlinewidth\":0,\"ticks\":\"\"},\"colorscale\":[[0.0,\"#0d0887\"],[0.1111111111111111,\"#46039f\"],[0.2222222222222222,\"#7201a8\"],[0.3333333333333333,\"#9c179e\"],[0.4444444444444444,\"#bd3786\"],[0.5555555555555556,\"#d8576b\"],[0.6666666666666666,\"#ed7953\"],[0.7777777777777778,\"#fb9f3a\"],[0.8888888888888888,\"#fdca26\"],[1.0,\"#f0f921\"]]}],\"heatmap\":[{\"type\":\"heatmap\",\"colorbar\":{\"outlinewidth\":0,\"ticks\":\"\"},\"colorscale\":[[0.0,\"#0d0887\"],[0.1111111111111111,\"#46039f\"],[0.2222222222222222,\"#7201a8\"],[0.3333333333333333,\"#9c179e\"],[0.4444444444444444,\"#bd3786\"],[0.5555555555555556,\"#d8576b\"],[0.6666666666666666,\"#ed7953\"],[0.7777777777777778,\"#fb9f3a\"],[0.8888888888888888,\"#fdca26\"],[1.0,\"#f0f921\"]]}],\"heatmapgl\":[{\"type\":\"heatmapgl\",\"colorbar\":{\"outlinewidth\":0,\"ticks\":\"\"},\"colorscale\":[[0.0,\"#0d0887\"],[0.1111111111111111,\"#46039f\"],[0.2222222222222222,\"#7201a8\"],[0.3333333333333333,\"#9c179e\"],[0.4444444444444444,\"#bd3786\"],[0.5555555555555556,\"#d8576b\"],[0.6666666666666666,\"#ed7953\"],[0.7777777777777778,\"#fb9f3a\"],[0.8888888888888888,\"#fdca26\"],[1.0,\"#f0f921\"]]}],\"contourcarpet\":[{\"type\":\"contourcarpet\",\"colorbar\":{\"outlinewidth\":0,\"ticks\":\"\"}}],\"contour\":[{\"type\":\"contour\",\"colorbar\":{\"outlinewidth\":0,\"ticks\":\"\"},\"colorscale\":[[0.0,\"#0d0887\"],[0.1111111111111111,\"#46039f\"],[0.2222222222222222,\"#7201a8\"],[0.3333333333333333,\"#9c179e\"],[0.4444444444444444,\"#bd3786\"],[0.5555555555555556,\"#d8576b\"],[0.6666666666666666,\"#ed7953\"],[0.7777777777777778,\"#fb9f3a\"],[0.8888888888888888,\"#fdca26\"],[1.0,\"#f0f921\"]]}],\"surface\":[{\"type\":\"surface\",\"colorbar\":{\"outlinewidth\":0,\"ticks\":\"\"},\"colorscale\":[[0.0,\"#0d0887\"],[0.1111111111111111,\"#46039f\"],[0.2222222222222222,\"#7201a8\"],[0.3333333333333333,\"#9c179e\"],[0.4444444444444444,\"#bd3786\"],[0.5555555555555556,\"#d8576b\"],[0.6666666666666666,\"#ed7953\"],[0.7777777777777778,\"#fb9f3a\"],[0.8888888888888888,\"#fdca26\"],[1.0,\"#f0f921\"]]}],\"mesh3d\":[{\"type\":\"mesh3d\",\"colorbar\":{\"outlinewidth\":0,\"ticks\":\"\"}}],\"scatter\":[{\"marker\":{\"line\":{\"color\":\"#283442\"}},\"type\":\"scatter\"}],\"parcoords\":[{\"type\":\"parcoords\",\"line\":{\"colorbar\":{\"outlinewidth\":0,\"ticks\":\"\"}}}],\"scatterpolargl\":[{\"type\":\"scatterpolargl\",\"marker\":{\"colorbar\":{\"outlinewidth\":0,\"ticks\":\"\"}}}],\"bar\":[{\"error_x\":{\"color\":\"#f2f5fa\"},\"error_y\":{\"color\":\"#f2f5fa\"},\"marker\":{\"line\":{\"color\":\"rgb(17,17,17)\",\"width\":0.5},\"pattern\":{\"fillmode\":\"overlay\",\"size\":10,\"solidity\":0.2}},\"type\":\"bar\"}],\"scattergeo\":[{\"type\":\"scattergeo\",\"marker\":{\"colorbar\":{\"outlinewidth\":0,\"ticks\":\"\"}}}],\"scatterpolar\":[{\"type\":\"scatterpolar\",\"marker\":{\"colorbar\":{\"outlinewidth\":0,\"ticks\":\"\"}}}],\"histogram\":[{\"marker\":{\"pattern\":{\"fillmode\":\"overlay\",\"size\":10,\"solidity\":0.2}},\"type\":\"histogram\"}],\"scattergl\":[{\"marker\":{\"line\":{\"color\":\"#283442\"}},\"type\":\"scattergl\"}],\"scatter3d\":[{\"type\":\"scatter3d\",\"line\":{\"colorbar\":{\"outlinewidth\":0,\"ticks\":\"\"}},\"marker\":{\"colorbar\":{\"outlinewidth\":0,\"ticks\":\"\"}}}],\"scattermapbox\":[{\"type\":\"scattermapbox\",\"marker\":{\"colorbar\":{\"outlinewidth\":0,\"ticks\":\"\"}}}],\"scatterternary\":[{\"type\":\"scatterternary\",\"marker\":{\"colorbar\":{\"outlinewidth\":0,\"ticks\":\"\"}}}],\"scattercarpet\":[{\"type\":\"scattercarpet\",\"marker\":{\"colorbar\":{\"outlinewidth\":0,\"ticks\":\"\"}}}],\"carpet\":[{\"aaxis\":{\"endlinecolor\":\"#A2B1C6\",\"gridcolor\":\"#506784\",\"linecolor\":\"#506784\",\"minorgridcolor\":\"#506784\",\"startlinecolor\":\"#A2B1C6\"},\"baxis\":{\"endlinecolor\":\"#A2B1C6\",\"gridcolor\":\"#506784\",\"linecolor\":\"#506784\",\"minorgridcolor\":\"#506784\",\"startlinecolor\":\"#A2B1C6\"},\"type\":\"carpet\"}],\"table\":[{\"cells\":{\"fill\":{\"color\":\"#506784\"},\"line\":{\"color\":\"rgb(17,17,17)\"}},\"header\":{\"fill\":{\"color\":\"#2a3f5f\"},\"line\":{\"color\":\"rgb(17,17,17)\"}},\"type\":\"table\"}],\"barpolar\":[{\"marker\":{\"line\":{\"color\":\"rgb(17,17,17)\",\"width\":0.5},\"pattern\":{\"fillmode\":\"overlay\",\"size\":10,\"solidity\":0.2}},\"type\":\"barpolar\"}],\"pie\":[{\"automargin\":true,\"type\":\"pie\"}]},\"layout\":{\"autotypenumbers\":\"strict\",\"colorway\":[\"#636efa\",\"#EF553B\",\"#00cc96\",\"#ab63fa\",\"#FFA15A\",\"#19d3f3\",\"#FF6692\",\"#B6E880\",\"#FF97FF\",\"#FECB52\"],\"font\":{\"color\":\"#f2f5fa\"},\"hovermode\":\"closest\",\"hoverlabel\":{\"align\":\"left\"},\"paper_bgcolor\":\"rgb(17,17,17)\",\"plot_bgcolor\":\"rgb(17,17,17)\",\"polar\":{\"bgcolor\":\"rgb(17,17,17)\",\"angularaxis\":{\"gridcolor\":\"#506784\",\"linecolor\":\"#506784\",\"ticks\":\"\"},\"radialaxis\":{\"gridcolor\":\"#506784\",\"linecolor\":\"#506784\",\"ticks\":\"\"}},\"ternary\":{\"bgcolor\":\"rgb(17,17,17)\",\"aaxis\":{\"gridcolor\":\"#506784\",\"linecolor\":\"#506784\",\"ticks\":\"\"},\"baxis\":{\"gridcolor\":\"#506784\",\"linecolor\":\"#506784\",\"ticks\":\"\"},\"caxis\":{\"gridcolor\":\"#506784\",\"linecolor\":\"#506784\",\"ticks\":\"\"}},\"coloraxis\":{\"colorbar\":{\"outlinewidth\":0,\"ticks\":\"\"}},\"colorscale\":{\"sequential\":[[0.0,\"#0d0887\"],[0.1111111111111111,\"#46039f\"],[0.2222222222222222,\"#7201a8\"],[0.3333333333333333,\"#9c179e\"],[0.4444444444444444,\"#bd3786\"],[0.5555555555555556,\"#d8576b\"],[0.6666666666666666,\"#ed7953\"],[0.7777777777777778,\"#fb9f3a\"],[0.8888888888888888,\"#fdca26\"],[1.0,\"#f0f921\"]],\"sequentialminus\":[[0.0,\"#0d0887\"],[0.1111111111111111,\"#46039f\"],[0.2222222222222222,\"#7201a8\"],[0.3333333333333333,\"#9c179e\"],[0.4444444444444444,\"#bd3786\"],[0.5555555555555556,\"#d8576b\"],[0.6666666666666666,\"#ed7953\"],[0.7777777777777778,\"#fb9f3a\"],[0.8888888888888888,\"#fdca26\"],[1.0,\"#f0f921\"]],\"diverging\":[[0,\"#8e0152\"],[0.1,\"#c51b7d\"],[0.2,\"#de77ae\"],[0.3,\"#f1b6da\"],[0.4,\"#fde0ef\"],[0.5,\"#f7f7f7\"],[0.6,\"#e6f5d0\"],[0.7,\"#b8e186\"],[0.8,\"#7fbc41\"],[0.9,\"#4d9221\"],[1,\"#276419\"]]},\"xaxis\":{\"gridcolor\":\"#283442\",\"linecolor\":\"#506784\",\"ticks\":\"\",\"title\":{\"standoff\":15},\"zerolinecolor\":\"#283442\",\"automargin\":true,\"zerolinewidth\":2},\"yaxis\":{\"gridcolor\":\"#283442\",\"linecolor\":\"#506784\",\"ticks\":\"\",\"title\":{\"standoff\":15},\"zerolinecolor\":\"#283442\",\"automargin\":true,\"zerolinewidth\":2},\"scene\":{\"xaxis\":{\"backgroundcolor\":\"rgb(17,17,17)\",\"gridcolor\":\"#506784\",\"linecolor\":\"#506784\",\"showbackground\":true,\"ticks\":\"\",\"zerolinecolor\":\"#C8D4E3\",\"gridwidth\":2},\"yaxis\":{\"backgroundcolor\":\"rgb(17,17,17)\",\"gridcolor\":\"#506784\",\"linecolor\":\"#506784\",\"showbackground\":true,\"ticks\":\"\",\"zerolinecolor\":\"#C8D4E3\",\"gridwidth\":2},\"zaxis\":{\"backgroundcolor\":\"rgb(17,17,17)\",\"gridcolor\":\"#506784\",\"linecolor\":\"#506784\",\"showbackground\":true,\"ticks\":\"\",\"zerolinecolor\":\"#C8D4E3\",\"gridwidth\":2}},\"shapedefaults\":{\"line\":{\"color\":\"#f2f5fa\"}},\"annotationdefaults\":{\"arrowcolor\":\"#f2f5fa\",\"arrowhead\":0,\"arrowwidth\":1},\"geo\":{\"bgcolor\":\"rgb(17,17,17)\",\"landcolor\":\"rgb(17,17,17)\",\"subunitcolor\":\"#506784\",\"showland\":true,\"showlakes\":true,\"lakecolor\":\"rgb(17,17,17)\"},\"title\":{\"x\":0.05},\"updatemenudefaults\":{\"bgcolor\":\"#506784\",\"borderwidth\":0},\"sliderdefaults\":{\"bgcolor\":\"#C8D4E3\",\"borderwidth\":1,\"bordercolor\":\"rgb(17,17,17)\",\"tickwidth\":0},\"mapbox\":{\"style\":\"dark\"}}},\"xaxis\":{\"anchor\":\"y\",\"domain\":[0.0,0.45]},\"yaxis\":{\"anchor\":\"x\",\"domain\":[0.0,1.0]},\"xaxis2\":{\"anchor\":\"y2\",\"domain\":[0.55,1.0]},\"yaxis2\":{\"anchor\":\"x2\",\"domain\":[0.0,1.0]},\"annotations\":[{\"font\":{\"size\":16},\"showarrow\":false,\"text\":\"Varying Arrival Times\",\"x\":0.225,\"xanchor\":\"center\",\"xref\":\"paper\",\"y\":1.0,\"yanchor\":\"bottom\",\"yref\":\"paper\"},{\"font\":{\"size\":16},\"showarrow\":false,\"text\":\"Varying Service Times\",\"x\":0.775,\"xanchor\":\"center\",\"xref\":\"paper\",\"y\":1.0,\"yanchor\":\"bottom\",\"yref\":\"paper\"}],\"title\":{\"text\":\"Blocking Probability 95% Confidence Intervals\"}},                        {\"responsive\": true}                    ).then(function(){\n",
       "                            \n",
       "var gd = document.getElementById('a39b47f0-7ea6-4b57-9d31-cdc5ff483436');\n",
       "var x = new MutationObserver(function (mutations, observer) {{\n",
       "        var display = window.getComputedStyle(gd).display;\n",
       "        if (!display || display === 'none') {{\n",
       "            console.log([gd, 'removed!']);\n",
       "            Plotly.purge(gd);\n",
       "            observer.disconnect();\n",
       "        }}\n",
       "}});\n",
       "\n",
       "// Listen for the removal of the full notebook cells\n",
       "var notebookContainer = gd.closest('#notebook-container');\n",
       "if (notebookContainer) {{\n",
       "    x.observe(notebookContainer, {childList: true});\n",
       "}}\n",
       "\n",
       "// Listen for the clearing of the current output cell\n",
       "var outputEl = gd.closest('.output');\n",
       "if (outputEl) {{\n",
       "    x.observe(outputEl, {childList: true});\n",
       "}}\n",
       "\n",
       "                        })                };                });            </script>        </div>"
      ]
     },
     "metadata": {},
     "output_type": "display_data"
    }
   ],
   "source": [
    "fig = sp.make_subplots(rows=1, cols=2, subplot_titles=[\"Varying Arrival Times\", \"Varying Service Times\"])\n",
    "scatter1 = px.scatter(df_vary_arrival_times, x=\"Distribution\", y=\"Blocking Probability\", error_y=\"Upper Bound\", error_y_minus=\"Lower Bound\", title=\"Varying Arrival Times\")\n",
    "scatter2 = px.scatter(df_vary_service_times, x=\"Distribution\", y=\"Blocking Probability\", error_y=\"Upper Bound\", error_y_minus=\"Lower Bound\", title=\"Varying Arrival Times\")\n",
    "fig.add_trace(scatter1.data[0], row=1, col=1)\n",
    "fig.add_trace(scatter2.data[0], row=1, col=2)\n",
    "fig.update_layout(title=\"Blocking Probability 95% Confidence Intervals\")\n",
    "fig.show()"
   ]
  },
  {
   "cell_type": "markdown",
   "metadata": {},
   "source": [
    "When varying the arrival time distribution, we observe that the confidence intervals for the blocking probability almost have the same width. This consistency suggests that the uncertainty associated with the blocking probability remains unaffected by whether the arrivals are more dispersed or concentrated. However, it is important to note that the blocking probability itself is influenced by the arrival time distribution.\n",
    "\n",
    "When varying the service time distribution, we observe that the confidence intervals for the blocking probability have different widths. This variation indicates that the uncertainty associated with the blocking probability is influenced by the characteristics of the service time distribution. Additionally, the blocking probability itself also seems to be affected by changes in the service time distribution."
   ]
  }
 ],
 "metadata": {
  "kernelspec": {
   "display_name": "Python 3",
   "language": "python",
   "name": "python3"
  },
  "language_info": {
   "codemirror_mode": {
    "name": "ipython",
    "version": 3
   },
   "file_extension": ".py",
   "mimetype": "text/x-python",
   "name": "python",
   "nbconvert_exporter": "python",
   "pygments_lexer": "ipython3",
   "version": "3.11.9"
  },
  "orig_nbformat": 4
 },
 "nbformat": 4,
 "nbformat_minor": 2
}
