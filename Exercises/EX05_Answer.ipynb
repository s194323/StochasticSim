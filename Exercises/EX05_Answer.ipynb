{
 "cells": [
  {
   "attachments": {},
   "cell_type": "markdown",
   "metadata": {},
   "source": [
    "# **Computer Exercise 5: Variance Reduction Methods**"
   ]
  },
  {
   "cell_type": "code",
   "execution_count": 1,
   "metadata": {},
   "outputs": [],
   "source": [
    "# Plotting\n",
    "import plotly.graph_objects as go\n",
    "import plotly.express as px\n",
    "import plotly.subplots as sp\n",
    "import plotly.io as pio\n",
    "pio.renderers.default = \"notebook+pdf\"\n",
    "pio.templates.default = \"plotly_dark\"\n",
    "\n",
    "# Utilities\n",
    "import numpy as np\n",
    "from scipy.stats import t"
   ]
  },
  {
   "cell_type": "code",
   "execution_count": 2,
   "metadata": {},
   "outputs": [],
   "source": [
    "def sample_CI(data, alpha=0.05):\n",
    "    n = len(data)\n",
    "    mu = np.mean(data)\n",
    "    s = np.std(data, ddof=1)\n",
    "    t_val = t.ppf([alpha/2, 1 - alpha/2], n-1)\n",
    "    s = np.std(data, ddof=1)\n",
    "    CI = mu + t_val * s / np.sqrt(n)\n",
    "    return mu, mu+t_val*s/np.sqrt(n)"
   ]
  },
  {
   "cell_type": "markdown",
   "metadata": {},
   "source": [
    "## **Part 1 - Integral Estimation by Crude Monte Carlo**"
   ]
  },
  {
   "cell_type": "code",
   "execution_count": 3,
   "metadata": {},
   "outputs": [
    {
     "name": "stdout",
     "output_type": "stream",
     "text": [
      "Crude Monte Carlo point estimate: 1.7379\n",
      "Confidence interval: [1.6458, 1.8299]\n"
     ]
    }
   ],
   "source": [
    "num_samples = 100\n",
    "\n",
    "# Crude Monte Carlo\n",
    "U = np.random.uniform(0, 1, num_samples)\n",
    "X = np.exp(U)\n",
    "\n",
    "X_bar, CI = sample_CI(X)\n",
    "\n",
    "print(f\"Crude Monte Carlo point estimate: {X_bar:.4f}\")\n",
    "print(f\"Confidence interval: [{CI[0]:.4f}, {CI[1]:.4f}]\")\n"
   ]
  },
  {
   "cell_type": "markdown",
   "metadata": {},
   "source": [
    "## **Part 2 - Integral Estimation by Antithetic Variables**"
   ]
  },
  {
   "cell_type": "code",
   "execution_count": 4,
   "metadata": {},
   "outputs": [
    {
     "name": "stdout",
     "output_type": "stream",
     "text": [
      "Antithetic point estimate: 1.7095\n",
      "Confidence interval: [1.6979, 1.7212]\n"
     ]
    }
   ],
   "source": [
    "Y = (np.exp(U) + np.exp(1 - U)) / 2\n",
    "\n",
    "Y_bar, CI = sample_CI(Y)\n",
    "\n",
    "print(f\"Antithetic point estimate: {Y_bar:.4f}\")\n",
    "print(f\"Confidence interval: [{CI[0]:.4f}, {CI[1]:.4f}]\")"
   ]
  },
  {
   "cell_type": "markdown",
   "metadata": {},
   "source": [
    "## **Part 3 - Integral Estimation by Control Variable**"
   ]
  },
  {
   "cell_type": "code",
   "execution_count": 13,
   "metadata": {},
   "outputs": [
    {
     "name": "stdout",
     "output_type": "stream",
     "text": [
      "Control variates point estimate: 1.7379\n",
      "Confidence interval: [1.7259, 1.7498]\n"
     ]
    }
   ],
   "source": [
    "c = -np.cov(X,U)/np.var(U)\n",
    "Z = X + c[0][1]*(U - np.mean(U))\n",
    "\n",
    "Z_bar, CI = sample_CI(Z)\n",
    "\n",
    "print(f\"Control variates point estimate: {Z_bar:.4f}\")\n",
    "print(f\"Confidence interval: [{CI[0]:.4f}, {CI[1]:.4f}]\")"
   ]
  },
  {
   "cell_type": "markdown",
   "metadata": {},
   "source": [
    "## **Part 4 - Integral Estimation by Stratified Sampling**"
   ]
  },
  {
   "cell_type": "code",
   "execution_count": 21,
   "metadata": {},
   "outputs": [
    {
     "name": "stdout",
     "output_type": "stream",
     "text": [
      "Stratified point estimate: 1.7173\n",
      "Confidence interval: [1.7138, 1.7208]\n"
     ]
    }
   ],
   "source": [
    "U2 = np.random.uniform(0, 1, size=(num_samples,10))\n",
    "\n",
    "strata_number = 10\n",
    "\n",
    "W = np.empty(num_samples)\n",
    "for i in range(strata_number):\n",
    "    W += np.exp(i/strata_number)*np.exp(U2[:,i]/strata_number)\n",
    "\n",
    "W /= strata_number\n",
    "\n",
    "W_bar, CI = sample_CI(W)\n",
    "\n",
    "print(f\"Stratified point estimate: {W_bar:.4f}\")\n",
    "print(f\"Confidence interval: [{CI[0]:.4f}, {CI[1]:.4f}]\")"
   ]
  },
  {
   "cell_type": "markdown",
   "metadata": {},
   "source": [
    "## **Part 5 - Variance Reduction with Control Variates**"
   ]
  },
  {
   "cell_type": "code",
   "execution_count": null,
   "metadata": {},
   "outputs": [],
   "source": []
  },
  {
   "cell_type": "markdown",
   "metadata": {},
   "source": [
    "## **Part 6 - Effect of Using Common Random Numbers**"
   ]
  },
  {
   "cell_type": "code",
   "execution_count": null,
   "metadata": {},
   "outputs": [],
   "source": []
  },
  {
   "cell_type": "markdown",
   "metadata": {},
   "source": [
    "## **Part 7 - Probability Estimation**"
   ]
  },
  {
   "cell_type": "code",
   "execution_count": null,
   "metadata": {},
   "outputs": [],
   "source": [
    "a = 2\n",
    "sigma2 = 1\n",
    "\n",
    "# crude monte carlo estimator\n",
    "X = np.random.normal(a, sigma2, num_samples)\n",
    "X_bar, CI = sample_CI(X)\n",
    "\n"
   ]
  },
  {
   "cell_type": "markdown",
   "metadata": {},
   "source": [
    "## **Part 8 - Integral Estimation by Importance Sampling**"
   ]
  },
  {
   "cell_type": "code",
   "execution_count": null,
   "metadata": {},
   "outputs": [],
   "source": []
  },
  {
   "cell_type": "markdown",
   "metadata": {},
   "source": [
    "## **Part 9 - Importance Sampling Estimator for Pareto Distribution**"
   ]
  },
  {
   "cell_type": "code",
   "execution_count": null,
   "metadata": {},
   "outputs": [],
   "source": []
  }
 ],
 "metadata": {
  "kernelspec": {
   "display_name": "Python 3",
   "language": "python",
   "name": "python3"
  },
  "language_info": {
   "codemirror_mode": {
    "name": "ipython",
    "version": 3
   },
   "file_extension": ".py",
   "mimetype": "text/x-python",
   "name": "python",
   "nbconvert_exporter": "python",
   "pygments_lexer": "ipython3",
   "version": "3.11.9"
  },
  "orig_nbformat": 4
 },
 "nbformat": 4,
 "nbformat_minor": 2
}
