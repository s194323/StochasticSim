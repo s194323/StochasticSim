{
 "cells": [
  {
   "cell_type": "code",
   "execution_count": 1,
   "metadata": {},
   "outputs": [],
   "source": [
    "import numpy as np\n",
    "import pandas as pd\n",
    "import copy\n",
    "from scipy.stats import t, chi2\n",
    "\n",
    "# Event codes\n",
    "ARRIVAL=0\n",
    "DEPARTURE=1\n",
    "\n",
    "# Patient status codes\n",
    "PENDING=0\n",
    "ADMITTED=1\n",
    "RELOCATED=2\n",
    "REJECTED=3\n",
    "DISCHARGED=4\n",
    "\n",
    "# Simulation parameters\n",
    "SIM_TIME = 30   # Simulation time in days\n"
   ]
  },
  {
   "cell_type": "code",
   "execution_count": 3,
   "metadata": {},
   "outputs": [],
   "source": [
    "wards = dict(\n",
    "    capacities = [55, 40, 30, 20, 20, 0],\n",
    "    lams = [14.5, 11.0, 8.0, 6.5, 5.0, 13.0],\n",
    "    mu_invs = [2.9, 4.0, 4.5, 1.4, 3.9, 2.2],\n",
    "    urgency_points = [7, 5, 2, 10, 5, 0],\n",
    "    occupancy = [0, 0, 0, 0, 0, 0],\n",
    ")\n",
    "\n",
    "relocation_probability = np.array([\n",
    "    [0.0, 0.05, 0.10, 0.05, 0.80, 0.00],\n",
    "    [0.2, 0, 0.50, 0.15, 0.15, 0.00],\n",
    "    [0.30, 0.20, 0, 0.20, 0.30, 0.00],\n",
    "    [0.35, 0.30, 0.05, 0, 0.3, 0.00],\n",
    "    [0.20, 0.10, 0.60 ,0.10, 0, 0.00],\n",
    "    [0.20, 0.20, 0.20, 0.20, 0.20 ,0]\n",
    "    ])"
   ]
  },
  {
   "cell_type": "markdown",
   "metadata": {},
   "source": [
    "**Simulation Setup**"
   ]
  },
  {
   "cell_type": "code",
   "execution_count": 4,
   "metadata": {},
   "outputs": [],
   "source": [
    "def simulatation_setup(wards, ar_sampler, los_sampler, sim_time=SIM_TIME):\n",
    "    \"\"\"\n",
    "    Keyword arguments:\n",
    "    wards -- dictionary containing ward parameters:\n",
    "        capacities -- array of ward capacities\n",
    "        lams -- array of arrival rates\n",
    "        mu_invs -- array of inverse lengths of stay rates\n",
    "        urgency_points -- array of urgency points\n",
    "        occupancy -- array of current ward occupancies\n",
    "\n",
    "    ar_sampler -- arrival time sampler, takes lambda as input\n",
    "    los_sampler -- length of stay sampler, takes 1/mu as input\n",
    "    sim_time -- simulation time in months\n",
    "\n",
    "    Returns:\n",
    "    events -- dictionary of simulation events:\n",
    "        time -- list of event times\n",
    "        ward -- list of ward indices\n",
    "        event -- list of event types\n",
    "        ID -- list of patient IDs\n",
    "        status -- list of patient statuses\n",
    "    \"\"\"\n",
    "\n",
    "    # Precompute arrival and departure times for each ward\n",
    "    events = dict( time=[], ward=[], event=[], ID=[] )\n",
    "    patient_id = 0\n",
    "    for i, (lam, mu_inv) in enumerate(zip(wards['lams'], wards['mu_invs'])):\n",
    "        \n",
    "        # Sample patients for ward\n",
    "        clock = 0\n",
    "        while clock < sim_time:\n",
    "\n",
    "            # Sample arrival time\n",
    "            clock += ar_sampler(lam)\n",
    "\n",
    "            # Add patient to event list if arrival time is before simulation end\n",
    "            if clock <= sim_time:\n",
    "                events['time'] += [clock, clock+los_sampler(mu_inv)]\n",
    "                events['ID'] += [patient_id]*2\n",
    "                events['ward'] += [i]*2\n",
    "                events['event'] += [ARRIVAL, DEPARTURE]\n",
    "                patient_id += 1\n",
    "\n",
    "\n",
    "    # Sort events by time\n",
    "    idx = np.argsort(events['time'])\n",
    "    for key in events.keys():\n",
    "        events[key] = [events[key][i] for i in idx]\n",
    "\n",
    "    # Add simulation lists\n",
    "    N = len(idx)\n",
    "    events['status'] = [PENDING]*N\n",
    "    events['new_ward'] = [None]*N\n",
    "\n",
    "    return events\n"
   ]
  },
  {
   "cell_type": "markdown",
   "metadata": {},
   "source": [
    "**Inspect the Event List**"
   ]
  },
  {
   "cell_type": "code",
   "execution_count": 5,
   "metadata": {},
   "outputs": [
    {
     "name": "stdout",
     "output_type": "stream",
     "text": [
      "           time  ward  event    ID  status new_ward\n",
      "0      0.006138     2      0   844       0     None\n",
      "1      0.033458     5      0  1437       0     None\n",
      "2      0.035700     5      0  1438       0     None\n",
      "3      0.055619     5      0  1439       0     None\n",
      "4      0.060836     5      0  1440       0     None\n",
      "...         ...   ...    ...   ...     ...      ...\n",
      "3721  42.357472     1      1   829       0     None\n",
      "3722  42.496211     1      1   718       0     None\n",
      "3723  42.496941     1      1   830       0     None\n",
      "3724  43.176215     2      1  1017       0     None\n",
      "3725  45.219268     1      1   805       0     None\n",
      "\n",
      "[3726 rows x 6 columns]\n"
     ]
    }
   ],
   "source": [
    "ar_sampler = lambda lam: np.random.exponential(1/lam)\n",
    "los_sampler = lambda mu_inv: np.random.exponential(mu_inv)\n",
    "events = simulatation_setup(wards, ar_sampler, los_sampler)\n",
    "df = pd.DataFrame(events)\n",
    "print(df)"
   ]
  },
  {
   "cell_type": "markdown",
   "metadata": {},
   "source": [
    "**Simulation Loop**"
   ]
  },
  {
   "cell_type": "code",
   "execution_count": 6,
   "metadata": {},
   "outputs": [],
   "source": [
    "def simulate(events, wards, relocation_probability):\n",
    "\n",
    "    # Clear event statuses\n",
    "    events['status'] = [PENDING]*len(events['time'])\n",
    "\n",
    "    # Simulate loop\n",
    "    for idx, (ward, event, id) in enumerate(zip(events['ward'], events['event'], events['ID'])):\n",
    "\n",
    "        if event == ARRIVAL:\n",
    "\n",
    "            # Admit patient\n",
    "            if wards['occupancy'][ward] < wards['capacities'][ward]:\n",
    "                wards['occupancy'][ward] += 1\n",
    "                events['status'][idx] = ADMITTED\n",
    "\n",
    "            else:\n",
    "                # Relocate patient\n",
    "                events['status'][idx] = RELOCATED\n",
    "                departure_idx = events['ID'].index(id, idx+1)\n",
    "                new_ward = np.random.choice(len(wards['capacities']), p=relocation_probability[ward])\n",
    "                if wards['occupancy'][new_ward] < wards['capacities'][new_ward]:\n",
    "                    wards['occupancy'][new_ward] += 1\n",
    "                    \n",
    "                    # Update ward of departure event\n",
    "                    events['ward'][idx] = events['ward'][departure_idx] = new_ward\n",
    "                                                        \n",
    "                # Reject patient\n",
    "                else:\n",
    "                    events['status'][idx] = events['status'][departure_idx] = REJECTED\n",
    "\n",
    "\n",
    "        # Discharge patient\n",
    "        elif events['status'][idx] != REJECTED:\n",
    "            wards['occupancy'][ward] -= 1\n",
    "            events['status'][idx] = DISCHARGED"
   ]
  },
  {
   "cell_type": "code",
   "execution_count": 8,
   "metadata": {},
   "outputs": [],
   "source": [
    "for _ in range(1000):\n",
    "    events = simulatation_setup(wards, ar_sampler, los_sampler)\n",
    "    simulate(events, wards, relocation_probability)"
   ]
  },
  {
   "cell_type": "markdown",
   "metadata": {},
   "source": [
    "**Confidence Intervals**"
   ]
  },
  {
   "cell_type": "code",
   "execution_count": 7,
   "metadata": {},
   "outputs": [],
   "source": [
    "# alpha = 0.05\n",
    "\n",
    "# def control_variate(X, U, mu=0.5):\n",
    "#     c = -np.cov(X, U)[0,1]/np.var(U)\n",
    "#     return X + c*(U - mu)\n",
    "\n",
    "# X = np.array(events['faith'])==REJECTED\n",
    "# U = np.array(events['U'])\n",
    "# Z = control_variate(X, U)\n",
    "# N = len(X)\n",
    "\n",
    "# muX, varX = X.mean(), X.var()\n",
    "# muZ, varZ = Z.mean(), Z.var()\n",
    "\n",
    "# muX_CI = muX + t.ppf([alpha/2, 1-alpha/2], N-1) * np.sqrt(varX/N)\n",
    "# muZ_CI = muZ + t.ppf([alpha/2, 1-alpha/2], N-1) * np.sqrt(varZ/N)\n",
    "# varX_CI = (N-1)*varX / chi2.ppf([1-alpha/2, alpha/2], N-1)\n",
    "# varZ_CI = (N-1)*varZ / chi2.ppf([1-alpha/2, alpha/2], N-1)\n",
    "\n",
    "# print(f\"muX = {muX:.3f} ({muX_CI[0]:.3f}, {muX_CI[1]:.3f})\")\n",
    "# print(f\"muZ = {muZ:.3f} ({muZ_CI[0]:.3f}, {muZ_CI[1]:.3f})\")"
   ]
  }
 ],
 "metadata": {
  "kernelspec": {
   "display_name": "Python 3",
   "language": "python",
   "name": "python3"
  },
  "language_info": {
   "codemirror_mode": {
    "name": "ipython",
    "version": 3
   },
   "file_extension": ".py",
   "mimetype": "text/x-python",
   "name": "python",
   "nbconvert_exporter": "python",
   "pygments_lexer": "ipython3",
   "version": "3.12.4"
  }
 },
 "nbformat": 4,
 "nbformat_minor": 2
}
