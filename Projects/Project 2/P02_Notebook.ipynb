{
 "cells": [
  {
   "cell_type": "markdown",
   "metadata": {},
   "source": [
    "# **Project 2:**"
   ]
  },
  {
   "cell_type": "code",
   "execution_count": null,
   "metadata": {},
   "outputs": [],
   "source": []
  },
  {
   "cell_type": "code",
   "execution_count": 15,
   "metadata": {},
   "outputs": [],
   "source": [
    "import numpy as np\n",
    "import pandas as pd\n",
    "import math\n",
    "import plotly.graph_objects as go\n",
    "from src.Ward import Ward, initialize_wards\n",
    "from src.Patient import Patient, initialize_patients\n",
    "from src.simulation import simulation_loop, run_simulations,compute_gradient"
   ]
  },
  {
   "cell_type": "markdown",
   "metadata": {},
   "source": []
  },
  {
   "cell_type": "markdown",
   "metadata": {},
   "source": [
    "## initialization"
   ]
  },
  {
   "cell_type": "code",
   "execution_count": 16,
   "metadata": {},
   "outputs": [],
   "source": [
    "\n",
    "#patient type from 'A' to 'F'\n",
    "patient_types = ['A', 'B', 'C', 'D', 'E', 'F']\n",
    "bed_capacity = np.array([55,40,30,20,20, 0])\n",
    "arrivals_pr_day = np.array([14.5,11.0,8.0,6.5,5.0, 13.0])\n",
    "mean_length_of_stay = np.array([2.9,4.0,4.5,1.4,3.9, 2.2])\n",
    "urgency_points = np.array([7,5,2,10,5, 0])\n",
    "\n",
    "#reloaction probability\n",
    "relocation_probability = np.array([\n",
    "    [0.0, 0.05, 0.10, 0.05, 0.80, 0.00],\n",
    "    [0.2, 0, 0.50, 0.15, 0.15, 0.00],\n",
    "    [0.30, 0.20, 0, 0.20, 0.30, 0.00],\n",
    "    [0.35, 0.30, 0.05, 0, 0.3, 0.00],\n",
    "    [0.20, 0.10, 0.60 ,0.10, 0, 0.00],\n",
    "    [0.20, 0.20, 0.20, 0.20, 0.20 ,0]\n",
    "    ])\n",
    "\n",
    "#Dataframe containing all the data (indexed by patient type)\n",
    "df = pd.DataFrame({\n",
    "    'Patient Type': patient_types,\n",
    "    'Bed Capacity': bed_capacity,\n",
    "    'Arrivals per day': arrivals_pr_day,\n",
    "    'Mean Length of Stay': mean_length_of_stay,\n",
    "    'Urgency Points': urgency_points\n",
    "    }).set_index('Patient Type')"
   ]
  },
  {
   "cell_type": "code",
   "execution_count": 17,
   "metadata": {},
   "outputs": [],
   "source": [
    "#sampling functions. Takes type as input and returns a sample with the corresponding distribution\n",
    "arrival_interval_function = lambda type: np.random.exponential(1/df[\"Arrivals per day\"][type])\n",
    "occupancy_time_function = lambda type: np.random.exponential(df[\"Mean Length of Stay\"][type])\n",
    "total_time = 31 #simulate 1 month"
   ]
  },
  {
   "cell_type": "code",
   "execution_count": 18,
   "metadata": {},
   "outputs": [
    {
     "name": "stdout",
     "output_type": "stream",
     "text": [
      "Simulation 1 results:\n",
      "A Ward with 55 beds and 7 urgency points.: {'Occupied probability': 0.029106029106029108, 'Estimated admissions': 467, 'Estimated rejections': 14, 'Estimated lost': 1, 'Estimated relocations': 0}\n",
      "B Ward with 40 beds and 5 urgency points.: {'Occupied probability': 0.22811671087533156, 'Estimated admissions': 291, 'Estimated rejections': 86, 'Estimated lost': 8, 'Estimated relocations': 49}\n",
      "C Ward with 30 beds and 2 urgency points.: {'Occupied probability': 0.421875, 'Estimated admissions': 185, 'Estimated rejections': 135, 'Estimated lost': 32, 'Estimated relocations': 82}\n",
      "D Ward with 20 beds and 10 urgency points.: {'Occupied probability': 0.07048458149779736, 'Estimated admissions': 211, 'Estimated rejections': 16, 'Estimated lost': 3, 'Estimated relocations': 9}\n",
      "E Ward with 20 beds and 5 urgency points.: {'Occupied probability': 0.32338308457711445, 'Estimated admissions': 136, 'Estimated rejections': 65, 'Estimated lost': 34, 'Estimated relocations': 20}\n",
      "Patients: {'A': {'Admitted': 623, 'Rejected': 13, 'Lost': 13, 'Relocated': 0}, 'B': {'Admitted': 482, 'Rejected': 90, 'Lost': 31, 'Relocated': 59}, 'D': {'Admitted': 291, 'Rejected': 13, 'Lost': 4, 'Relocated': 9}, 'C': {'Admitted': 336, 'Rejected': 109, 'Lost': 21, 'Relocated': 88}, 'E': {'Admitted': 201, 'Rejected': 50, 'Lost': 14, 'Relocated': 36}}\n",
      "Simulation 2 results:\n",
      "A Ward with 55 beds and 7 urgency points.: {'Occupied probability': 0.0660377358490566, 'Estimated admissions': 495, 'Estimated rejections': 35, 'Estimated lost': 5, 'Estimated relocations': 20}\n",
      "B Ward with 40 beds and 5 urgency points.: {'Occupied probability': 0.3038961038961039, 'Estimated admissions': 268, 'Estimated rejections': 117, 'Estimated lost': 11, 'Estimated relocations': 68}\n",
      "C Ward with 30 beds and 2 urgency points.: {'Occupied probability': 0.4328767123287671, 'Estimated admissions': 207, 'Estimated rejections': 158, 'Estimated lost': 53, 'Estimated relocations': 77}\n",
      "D Ward with 20 beds and 10 urgency points.: {'Occupied probability': 0.11297071129707113, 'Estimated admissions': 212, 'Estimated rejections': 27, 'Estimated lost': 3, 'Estimated relocations': 17}\n",
      "E Ward with 20 beds and 5 urgency points.: {'Occupied probability': 0.3968871595330739, 'Estimated admissions': 155, 'Estimated rejections': 102, 'Estimated lost': 33, 'Estimated relocations': 47}\n",
      "Patients: {'A': {'Admitted': 659, 'Rejected': 30, 'Lost': 10, 'Relocated': 20}, 'D': {'Admitted': 277, 'Rejected': 24, 'Lost': 7, 'Relocated': 17}, 'C': {'Admitted': 348, 'Rejected': 136, 'Lost': 31, 'Relocated': 105}, 'B': {'Admitted': 487, 'Rejected': 138, 'Lost': 47, 'Relocated': 91}, 'E': {'Admitted': 230, 'Rejected': 93, 'Lost': 30, 'Relocated': 63}}\n",
      "Simulation 3 results:\n",
      "A Ward with 55 beds and 7 urgency points.: {'Occupied probability': 0.027083333333333334, 'Estimated admissions': 467, 'Estimated rejections': 13, 'Estimated lost': 2, 'Estimated relocations': 6}\n",
      "B Ward with 40 beds and 5 urgency points.: {'Occupied probability': 0.2, 'Estimated admissions': 300, 'Estimated rejections': 75, 'Estimated lost': 10, 'Estimated relocations': 48}\n",
      "C Ward with 30 beds and 2 urgency points.: {'Occupied probability': 0.23154362416107382, 'Estimated admissions': 229, 'Estimated rejections': 69, 'Estimated lost': 15, 'Estimated relocations': 47}\n",
      "D Ward with 20 beds and 10 urgency points.: {'Occupied probability': 0.0398406374501992, 'Estimated admissions': 241, 'Estimated rejections': 10, 'Estimated lost': 0, 'Estimated relocations': 9}\n",
      "E Ward with 20 beds and 5 urgency points.: {'Occupied probability': 0.18716577540106952, 'Estimated admissions': 152, 'Estimated rejections': 35, 'Estimated lost': 10, 'Estimated relocations': 18}\n",
      "Patients: {'A': {'Admitted': 669, 'Rejected': 15, 'Lost': 5, 'Relocated': 10}, 'C': {'Admitted': 348, 'Rejected': 63, 'Lost': 7, 'Relocated': 56}, 'E': {'Admitted': 218, 'Rejected': 34, 'Lost': 8, 'Relocated': 26}, 'B': {'Admitted': 482, 'Rejected': 91, 'Lost': 21, 'Relocated': 70}, 'D': {'Admitted': 315, 'Rejected': 10, 'Lost': 1, 'Relocated': 9}}\n",
      "Simulation 4 results:\n",
      "A Ward with 55 beds and 7 urgency points.: {'Occupied probability': 0.023762376237623763, 'Estimated admissions': 493, 'Estimated rejections': 12, 'Estimated lost': 1, 'Estimated relocations': 5}\n",
      "B Ward with 40 beds and 5 urgency points.: {'Occupied probability': 0.273224043715847, 'Estimated admissions': 266, 'Estimated rejections': 100, 'Estimated lost': 7, 'Estimated relocations': 73}\n",
      "C Ward with 30 beds and 2 urgency points.: {'Occupied probability': 0.35365853658536583, 'Estimated admissions': 212, 'Estimated rejections': 116, 'Estimated lost': 28, 'Estimated relocations': 71}\n",
      "D Ward with 20 beds and 10 urgency points.: {'Occupied probability': 0.023148148148148147, 'Estimated admissions': 211, 'Estimated rejections': 5, 'Estimated lost': 1, 'Estimated relocations': 3}\n",
      "E Ward with 20 beds and 5 urgency points.: {'Occupied probability': 0.2971698113207547, 'Estimated admissions': 149, 'Estimated rejections': 63, 'Estimated lost': 21, 'Estimated relocations': 28}\n",
      "Patients: {'A': {'Admitted': 690, 'Rejected': 13, 'Lost': 6, 'Relocated': 7}, 'D': {'Admitted': 275, 'Rejected': 7, 'Lost': 2, 'Relocated': 5}, 'C': {'Admitted': 343, 'Rejected': 99, 'Lost': 18, 'Relocated': 81}, 'B': {'Admitted': 486, 'Rejected': 116, 'Lost': 23, 'Relocated': 93}, 'E': {'Admitted': 208, 'Rejected': 46, 'Lost': 15, 'Relocated': 31}}\n",
      "Simulation 5 results:\n",
      "A Ward with 55 beds and 7 urgency points.: {'Occupied probability': 0.00881057268722467, 'Estimated admissions': 450, 'Estimated rejections': 4, 'Estimated lost': 0, 'Estimated relocations': 1}\n",
      "B Ward with 40 beds and 5 urgency points.: {'Occupied probability': 0.16954022988505746, 'Estimated admissions': 289, 'Estimated rejections': 59, 'Estimated lost': 2, 'Estimated relocations': 56}\n",
      "C Ward with 30 beds and 2 urgency points.: {'Occupied probability': 0.2656826568265683, 'Estimated admissions': 199, 'Estimated rejections': 72, 'Estimated lost': 10, 'Estimated relocations': 57}\n",
      "D Ward with 20 beds and 10 urgency points.: {'Occupied probability': 0.014492753623188406, 'Estimated admissions': 204, 'Estimated rejections': 3, 'Estimated lost': 0, 'Estimated relocations': 2}\n",
      "E Ward with 20 beds and 5 urgency points.: {'Occupied probability': 0.1746031746031746, 'Estimated admissions': 156, 'Estimated rejections': 33, 'Estimated lost': 7, 'Estimated relocations': 17}\n",
      "Patients: {'E': {'Admitted': 207, 'Rejected': 26, 'Lost': 9, 'Relocated': 17}, 'A': {'Admitted': 631, 'Rejected': 4, 'Lost': 3, 'Relocated': 1}, 'C': {'Admitted': 333, 'Rejected': 65, 'Lost': 5, 'Relocated': 60}, 'B': {'Admitted': 490, 'Rejected': 58, 'Lost': 1, 'Relocated': 57}, 'D': {'Admitted': 268, 'Rejected': 3, 'Lost': 1, 'Relocated': 2}}\n",
      "Simulation 6 results:\n",
      "A Ward with 55 beds and 7 urgency points.: {'Occupied probability': 0.05858585858585859, 'Estimated admissions': 466, 'Estimated rejections': 29, 'Estimated lost': 4, 'Estimated relocations': 18}\n",
      "B Ward with 40 beds and 5 urgency points.: {'Occupied probability': 0.16477272727272727, 'Estimated admissions': 294, 'Estimated rejections': 58, 'Estimated lost': 2, 'Estimated relocations': 36}\n",
      "C Ward with 30 beds and 2 urgency points.: {'Occupied probability': 0.43174603174603177, 'Estimated admissions': 179, 'Estimated rejections': 136, 'Estimated lost': 32, 'Estimated relocations': 86}\n",
      "D Ward with 20 beds and 10 urgency points.: {'Occupied probability': 0.008333333333333333, 'Estimated admissions': 238, 'Estimated rejections': 2, 'Estimated lost': 0, 'Estimated relocations': 2}\n",
      "E Ward with 20 beds and 5 urgency points.: {'Occupied probability': 0.3515981735159817, 'Estimated admissions': 142, 'Estimated rejections': 77, 'Estimated lost': 22, 'Estimated relocations': 40}\n",
      "Patients: {'D': {'Admitted': 298, 'Rejected': 2, 'Lost': 0, 'Relocated': 2}, 'B': {'Admitted': 457, 'Rejected': 63, 'Lost': 21, 'Relocated': 42}, 'A': {'Admitted': 686, 'Rejected': 31, 'Lost': 10, 'Relocated': 21}, 'E': {'Admitted': 205, 'Rejected': 71, 'Lost': 23, 'Relocated': 48}, 'C': {'Admitted': 343, 'Rejected': 129, 'Lost': 22, 'Relocated': 107}}\n",
      "Simulation 7 results:\n",
      "A Ward with 55 beds and 7 urgency points.: {'Occupied probability': 0.031055900621118012, 'Estimated admissions': 468, 'Estimated rejections': 15, 'Estimated lost': 1, 'Estimated relocations': 4}\n",
      "B Ward with 40 beds and 5 urgency points.: {'Occupied probability': 0.20441988950276244, 'Estimated admissions': 288, 'Estimated rejections': 74, 'Estimated lost': 9, 'Estimated relocations': 49}\n",
      "C Ward with 30 beds and 2 urgency points.: {'Occupied probability': 0.43853820598006643, 'Estimated admissions': 169, 'Estimated rejections': 132, 'Estimated lost': 25, 'Estimated relocations': 88}\n",
      "D Ward with 20 beds and 10 urgency points.: {'Occupied probability': 0.0, 'Estimated admissions': 213, 'Estimated rejections': 0, 'Estimated lost': 0, 'Estimated relocations': 0}\n",
      "E Ward with 20 beds and 5 urgency points.: {'Occupied probability': 0.26576576576576577, 'Estimated admissions': 163, 'Estimated rejections': 59, 'Estimated lost': 23, 'Estimated relocations': 23}\n",
      "Patients: {'B': {'Admitted': 493, 'Rejected': 85, 'Lost': 24, 'Relocated': 61}, 'A': {'Admitted': 639, 'Rejected': 21, 'Lost': 14, 'Relocated': 7}, 'C': {'Admitted': 344, 'Rejected': 127, 'Lost': 19, 'Relocated': 108}, 'D': {'Admitted': 282, 'Rejected': 0, 'Lost': 0, 'Relocated': 0}, 'E': {'Admitted': 211, 'Rejected': 38, 'Lost': 14, 'Relocated': 24}}\n",
      "Simulation 8 results:\n",
      "A Ward with 55 beds and 7 urgency points.: {'Occupied probability': 0.024390243902439025, 'Estimated admissions': 480, 'Estimated rejections': 12, 'Estimated lost': 2, 'Estimated relocations': 5}\n",
      "B Ward with 40 beds and 5 urgency points.: {'Occupied probability': 0.2062146892655367, 'Estimated admissions': 281, 'Estimated rejections': 73, 'Estimated lost': 5, 'Estimated relocations': 47}\n",
      "C Ward with 30 beds and 2 urgency points.: {'Occupied probability': 0.30141843971631205, 'Estimated admissions': 197, 'Estimated rejections': 85, 'Estimated lost': 25, 'Estimated relocations': 49}\n",
      "D Ward with 20 beds and 10 urgency points.: {'Occupied probability': 0.009216589861751152, 'Estimated admissions': 215, 'Estimated rejections': 2, 'Estimated lost': 0, 'Estimated relocations': 2}\n",
      "E Ward with 20 beds and 5 urgency points.: {'Occupied probability': 0.27053140096618356, 'Estimated admissions': 151, 'Estimated rejections': 56, 'Estimated lost': 17, 'Estimated relocations': 27}\n",
      "Patients: {'A': {'Admitted': 649, 'Rejected': 10, 'Lost': 5, 'Relocated': 5}, 'C': {'Admitted': 328, 'Rejected': 82, 'Lost': 14, 'Relocated': 68}, 'E': {'Admitted': 245, 'Rejected': 66, 'Lost': 18, 'Relocated': 48}, 'B': {'Admitted': 467, 'Rejected': 81, 'Lost': 28, 'Relocated': 53}, 'D': {'Admitted': 290, 'Rejected': 2, 'Lost': 0, 'Relocated': 2}}\n",
      "Simulation 9 results:\n",
      "A Ward with 55 beds and 7 urgency points.: {'Occupied probability': 0.060836501901140684, 'Estimated admissions': 494, 'Estimated rejections': 32, 'Estimated lost': 4, 'Estimated relocations': 8}\n",
      "B Ward with 40 beds and 5 urgency points.: {'Occupied probability': 0.23821989528795812, 'Estimated admissions': 291, 'Estimated rejections': 91, 'Estimated lost': 5, 'Estimated relocations': 60}\n",
      "C Ward with 30 beds and 2 urgency points.: {'Occupied probability': 0.3812316715542522, 'Estimated admissions': 211, 'Estimated rejections': 130, 'Estimated lost': 33, 'Estimated relocations': 76}\n",
      "D Ward with 20 beds and 10 urgency points.: {'Occupied probability': 0.029411764705882353, 'Estimated admissions': 231, 'Estimated rejections': 7, 'Estimated lost': 1, 'Estimated relocations': 4}\n",
      "E Ward with 20 beds and 5 urgency points.: {'Occupied probability': 0.3964757709251101, 'Estimated admissions': 137, 'Estimated rejections': 90, 'Estimated lost': 39, 'Estimated relocations': 38}\n",
      "Patients: {'B': {'Admitted': 486, 'Rejected': 98, 'Lost': 28, 'Relocated': 70}, 'A': {'Admitted': 669, 'Rejected': 33, 'Lost': 23, 'Relocated': 10}, 'D': {'Admitted': 284, 'Rejected': 6, 'Lost': 2, 'Relocated': 4}, 'C': {'Admitted': 372, 'Rejected': 128, 'Lost': 24, 'Relocated': 104}, 'E': {'Admitted': 227, 'Rejected': 56, 'Lost': 14, 'Relocated': 42}}\n",
      "Simulation 10 results:\n",
      "A Ward with 55 beds and 7 urgency points.: {'Occupied probability': 0.04435483870967742, 'Estimated admissions': 474, 'Estimated rejections': 22, 'Estimated lost': 3, 'Estimated relocations': 15}\n",
      "B Ward with 40 beds and 5 urgency points.: {'Occupied probability': 0.1523545706371191, 'Estimated admissions': 306, 'Estimated rejections': 55, 'Estimated lost': 3, 'Estimated relocations': 32}\n",
      "C Ward with 30 beds and 2 urgency points.: {'Occupied probability': 0.4332344213649852, 'Estimated admissions': 191, 'Estimated rejections': 146, 'Estimated lost': 39, 'Estimated relocations': 88}\n",
      "D Ward with 20 beds and 10 urgency points.: {'Occupied probability': 0.032520325203252036, 'Estimated admissions': 238, 'Estimated rejections': 8, 'Estimated lost': 0, 'Estimated relocations': 6}\n",
      "E Ward with 20 beds and 5 urgency points.: {'Occupied probability': 0.3432203389830508, 'Estimated admissions': 155, 'Estimated rejections': 81, 'Estimated lost': 23, 'Estimated relocations': 35}\n",
      "Patients: {'A': {'Admitted': 667, 'Rejected': 25, 'Lost': 4, 'Relocated': 21}, 'B': {'Admitted': 474, 'Rejected': 69, 'Lost': 22, 'Relocated': 47}, 'C': {'Admitted': 355, 'Rejected': 117, 'Lost': 21, 'Relocated': 96}, 'E': {'Admitted': 199, 'Rejected': 65, 'Lost': 24, 'Relocated': 41}, 'D': {'Admitted': 314, 'Rejected': 8, 'Lost': 2, 'Relocated': 6}}\n"
     ]
    }
   ],
   "source": [
    "#hospital before bed optimization. No F\n",
    "wards = initialize_wards(df.drop('F'))\n",
    "performance = run_simulations(total_time, wards, relocation_probability[:-1,:-1], arrival_interval_function, occupancy_time_function, n_simulations = 10, verbose = True, burn_in_time = 15)"
   ]
  },
  {
   "cell_type": "code",
   "execution_count": 19,
   "metadata": {},
   "outputs": [
    {
     "data": {
      "text/html": [
       "<div>\n",
       "<style scoped>\n",
       "    .dataframe tbody tr th:only-of-type {\n",
       "        vertical-align: middle;\n",
       "    }\n",
       "\n",
       "    .dataframe tbody tr th {\n",
       "        vertical-align: top;\n",
       "    }\n",
       "\n",
       "    .dataframe thead th {\n",
       "        text-align: right;\n",
       "    }\n",
       "</style>\n",
       "<table border=\"1\" class=\"dataframe\">\n",
       "  <thead>\n",
       "    <tr style=\"text-align: right;\">\n",
       "      <th></th>\n",
       "      <th>Admitted</th>\n",
       "      <th>Rejected</th>\n",
       "      <th>Lost</th>\n",
       "      <th>Relocated</th>\n",
       "    </tr>\n",
       "  </thead>\n",
       "  <tbody>\n",
       "    <tr>\n",
       "      <th>A</th>\n",
       "      <td>658.2</td>\n",
       "      <td>19.5</td>\n",
       "      <td>9.3</td>\n",
       "      <td>10.2</td>\n",
       "    </tr>\n",
       "    <tr>\n",
       "      <th>B</th>\n",
       "      <td>480.4</td>\n",
       "      <td>88.9</td>\n",
       "      <td>24.6</td>\n",
       "      <td>64.3</td>\n",
       "    </tr>\n",
       "    <tr>\n",
       "      <th>C</th>\n",
       "      <td>345.0</td>\n",
       "      <td>105.5</td>\n",
       "      <td>18.2</td>\n",
       "      <td>87.3</td>\n",
       "    </tr>\n",
       "    <tr>\n",
       "      <th>D</th>\n",
       "      <td>289.4</td>\n",
       "      <td>7.5</td>\n",
       "      <td>1.9</td>\n",
       "      <td>5.6</td>\n",
       "    </tr>\n",
       "    <tr>\n",
       "      <th>E</th>\n",
       "      <td>215.1</td>\n",
       "      <td>54.5</td>\n",
       "      <td>16.9</td>\n",
       "      <td>37.6</td>\n",
       "    </tr>\n",
       "  </tbody>\n",
       "</table>\n",
       "</div>"
      ],
      "text/plain": [
       "   Admitted  Rejected  Lost  Relocated\n",
       "A     658.2      19.5   9.3       10.2\n",
       "B     480.4      88.9  24.6       64.3\n",
       "C     345.0     105.5  18.2       87.3\n",
       "D     289.4       7.5   1.9        5.6\n",
       "E     215.1      54.5  16.9       37.6"
      ]
     },
     "execution_count": 19,
     "metadata": {},
     "output_type": "execute_result"
    }
   ],
   "source": [
    "#convert performance to dataframe\n",
    "df_performance = pd.DataFrame(performance[\"Patients\"]).T\n",
    "df_performance"
   ]
  },
  {
   "cell_type": "code",
   "execution_count": 20,
   "metadata": {},
   "outputs": [
    {
     "data": {
      "application/vnd.plotly.v1+json": {
       "config": {
        "plotlyServerURL": "https://plot.ly"
       },
       "data": [
        {
         "alignmentgroup": "True",
         "hovertemplate": "variable=Admitted<br>index=%{x}<br>value=%{y}<extra></extra>",
         "legendgroup": "Admitted",
         "marker": {
          "color": "#636efa",
          "pattern": {
           "shape": ""
          }
         },
         "name": "Admitted",
         "offsetgroup": "Admitted",
         "orientation": "v",
         "showlegend": true,
         "textposition": "auto",
         "type": "bar",
         "x": [
          "A",
          "B",
          "C",
          "D",
          "E"
         ],
         "xaxis": "x",
         "y": [
          658.2,
          480.40000000000003,
          345,
          289.4,
          215.1
         ],
         "yaxis": "y"
        },
        {
         "alignmentgroup": "True",
         "hovertemplate": "variable=Lost<br>index=%{x}<br>value=%{y}<extra></extra>",
         "legendgroup": "Lost",
         "marker": {
          "color": "#EF553B",
          "pattern": {
           "shape": ""
          }
         },
         "name": "Lost",
         "offsetgroup": "Lost",
         "orientation": "v",
         "showlegend": true,
         "textposition": "auto",
         "type": "bar",
         "x": [
          "A",
          "B",
          "C",
          "D",
          "E"
         ],
         "xaxis": "x",
         "y": [
          9.299999999999999,
          24.599999999999998,
          18.2,
          1.9000000000000001,
          16.900000000000002
         ],
         "yaxis": "y"
        },
        {
         "alignmentgroup": "True",
         "hovertemplate": "variable=Relocated<br>index=%{x}<br>value=%{y}<extra></extra>",
         "legendgroup": "Relocated",
         "marker": {
          "color": "#00cc96",
          "pattern": {
           "shape": ""
          }
         },
         "name": "Relocated",
         "offsetgroup": "Relocated",
         "orientation": "v",
         "showlegend": true,
         "textposition": "auto",
         "type": "bar",
         "x": [
          "A",
          "B",
          "C",
          "D",
          "E"
         ],
         "xaxis": "x",
         "y": [
          10.200000000000001,
          64.3,
          87.3,
          5.6000000000000005,
          37.6
         ],
         "yaxis": "y"
        }
       ],
       "layout": {
        "barmode": "stack",
        "legend": {
         "title": {
          "text": "variable"
         },
         "tracegroupgap": 0
        },
        "margin": {
         "t": 60
        },
        "template": {
         "data": {
          "bar": [
           {
            "error_x": {
             "color": "#2a3f5f"
            },
            "error_y": {
             "color": "#2a3f5f"
            },
            "marker": {
             "line": {
              "color": "#E5ECF6",
              "width": 0.5
             },
             "pattern": {
              "fillmode": "overlay",
              "size": 10,
              "solidity": 0.2
             }
            },
            "type": "bar"
           }
          ],
          "barpolar": [
           {
            "marker": {
             "line": {
              "color": "#E5ECF6",
              "width": 0.5
             },
             "pattern": {
              "fillmode": "overlay",
              "size": 10,
              "solidity": 0.2
             }
            },
            "type": "barpolar"
           }
          ],
          "carpet": [
           {
            "aaxis": {
             "endlinecolor": "#2a3f5f",
             "gridcolor": "white",
             "linecolor": "white",
             "minorgridcolor": "white",
             "startlinecolor": "#2a3f5f"
            },
            "baxis": {
             "endlinecolor": "#2a3f5f",
             "gridcolor": "white",
             "linecolor": "white",
             "minorgridcolor": "white",
             "startlinecolor": "#2a3f5f"
            },
            "type": "carpet"
           }
          ],
          "choropleth": [
           {
            "colorbar": {
             "outlinewidth": 0,
             "ticks": ""
            },
            "type": "choropleth"
           }
          ],
          "contour": [
           {
            "colorbar": {
             "outlinewidth": 0,
             "ticks": ""
            },
            "colorscale": [
             [
              0,
              "#0d0887"
             ],
             [
              0.1111111111111111,
              "#46039f"
             ],
             [
              0.2222222222222222,
              "#7201a8"
             ],
             [
              0.3333333333333333,
              "#9c179e"
             ],
             [
              0.4444444444444444,
              "#bd3786"
             ],
             [
              0.5555555555555556,
              "#d8576b"
             ],
             [
              0.6666666666666666,
              "#ed7953"
             ],
             [
              0.7777777777777778,
              "#fb9f3a"
             ],
             [
              0.8888888888888888,
              "#fdca26"
             ],
             [
              1,
              "#f0f921"
             ]
            ],
            "type": "contour"
           }
          ],
          "contourcarpet": [
           {
            "colorbar": {
             "outlinewidth": 0,
             "ticks": ""
            },
            "type": "contourcarpet"
           }
          ],
          "heatmap": [
           {
            "colorbar": {
             "outlinewidth": 0,
             "ticks": ""
            },
            "colorscale": [
             [
              0,
              "#0d0887"
             ],
             [
              0.1111111111111111,
              "#46039f"
             ],
             [
              0.2222222222222222,
              "#7201a8"
             ],
             [
              0.3333333333333333,
              "#9c179e"
             ],
             [
              0.4444444444444444,
              "#bd3786"
             ],
             [
              0.5555555555555556,
              "#d8576b"
             ],
             [
              0.6666666666666666,
              "#ed7953"
             ],
             [
              0.7777777777777778,
              "#fb9f3a"
             ],
             [
              0.8888888888888888,
              "#fdca26"
             ],
             [
              1,
              "#f0f921"
             ]
            ],
            "type": "heatmap"
           }
          ],
          "heatmapgl": [
           {
            "colorbar": {
             "outlinewidth": 0,
             "ticks": ""
            },
            "colorscale": [
             [
              0,
              "#0d0887"
             ],
             [
              0.1111111111111111,
              "#46039f"
             ],
             [
              0.2222222222222222,
              "#7201a8"
             ],
             [
              0.3333333333333333,
              "#9c179e"
             ],
             [
              0.4444444444444444,
              "#bd3786"
             ],
             [
              0.5555555555555556,
              "#d8576b"
             ],
             [
              0.6666666666666666,
              "#ed7953"
             ],
             [
              0.7777777777777778,
              "#fb9f3a"
             ],
             [
              0.8888888888888888,
              "#fdca26"
             ],
             [
              1,
              "#f0f921"
             ]
            ],
            "type": "heatmapgl"
           }
          ],
          "histogram": [
           {
            "marker": {
             "pattern": {
              "fillmode": "overlay",
              "size": 10,
              "solidity": 0.2
             }
            },
            "type": "histogram"
           }
          ],
          "histogram2d": [
           {
            "colorbar": {
             "outlinewidth": 0,
             "ticks": ""
            },
            "colorscale": [
             [
              0,
              "#0d0887"
             ],
             [
              0.1111111111111111,
              "#46039f"
             ],
             [
              0.2222222222222222,
              "#7201a8"
             ],
             [
              0.3333333333333333,
              "#9c179e"
             ],
             [
              0.4444444444444444,
              "#bd3786"
             ],
             [
              0.5555555555555556,
              "#d8576b"
             ],
             [
              0.6666666666666666,
              "#ed7953"
             ],
             [
              0.7777777777777778,
              "#fb9f3a"
             ],
             [
              0.8888888888888888,
              "#fdca26"
             ],
             [
              1,
              "#f0f921"
             ]
            ],
            "type": "histogram2d"
           }
          ],
          "histogram2dcontour": [
           {
            "colorbar": {
             "outlinewidth": 0,
             "ticks": ""
            },
            "colorscale": [
             [
              0,
              "#0d0887"
             ],
             [
              0.1111111111111111,
              "#46039f"
             ],
             [
              0.2222222222222222,
              "#7201a8"
             ],
             [
              0.3333333333333333,
              "#9c179e"
             ],
             [
              0.4444444444444444,
              "#bd3786"
             ],
             [
              0.5555555555555556,
              "#d8576b"
             ],
             [
              0.6666666666666666,
              "#ed7953"
             ],
             [
              0.7777777777777778,
              "#fb9f3a"
             ],
             [
              0.8888888888888888,
              "#fdca26"
             ],
             [
              1,
              "#f0f921"
             ]
            ],
            "type": "histogram2dcontour"
           }
          ],
          "mesh3d": [
           {
            "colorbar": {
             "outlinewidth": 0,
             "ticks": ""
            },
            "type": "mesh3d"
           }
          ],
          "parcoords": [
           {
            "line": {
             "colorbar": {
              "outlinewidth": 0,
              "ticks": ""
             }
            },
            "type": "parcoords"
           }
          ],
          "pie": [
           {
            "automargin": true,
            "type": "pie"
           }
          ],
          "scatter": [
           {
            "fillpattern": {
             "fillmode": "overlay",
             "size": 10,
             "solidity": 0.2
            },
            "type": "scatter"
           }
          ],
          "scatter3d": [
           {
            "line": {
             "colorbar": {
              "outlinewidth": 0,
              "ticks": ""
             }
            },
            "marker": {
             "colorbar": {
              "outlinewidth": 0,
              "ticks": ""
             }
            },
            "type": "scatter3d"
           }
          ],
          "scattercarpet": [
           {
            "marker": {
             "colorbar": {
              "outlinewidth": 0,
              "ticks": ""
             }
            },
            "type": "scattercarpet"
           }
          ],
          "scattergeo": [
           {
            "marker": {
             "colorbar": {
              "outlinewidth": 0,
              "ticks": ""
             }
            },
            "type": "scattergeo"
           }
          ],
          "scattergl": [
           {
            "marker": {
             "colorbar": {
              "outlinewidth": 0,
              "ticks": ""
             }
            },
            "type": "scattergl"
           }
          ],
          "scattermapbox": [
           {
            "marker": {
             "colorbar": {
              "outlinewidth": 0,
              "ticks": ""
             }
            },
            "type": "scattermapbox"
           }
          ],
          "scatterpolar": [
           {
            "marker": {
             "colorbar": {
              "outlinewidth": 0,
              "ticks": ""
             }
            },
            "type": "scatterpolar"
           }
          ],
          "scatterpolargl": [
           {
            "marker": {
             "colorbar": {
              "outlinewidth": 0,
              "ticks": ""
             }
            },
            "type": "scatterpolargl"
           }
          ],
          "scatterternary": [
           {
            "marker": {
             "colorbar": {
              "outlinewidth": 0,
              "ticks": ""
             }
            },
            "type": "scatterternary"
           }
          ],
          "surface": [
           {
            "colorbar": {
             "outlinewidth": 0,
             "ticks": ""
            },
            "colorscale": [
             [
              0,
              "#0d0887"
             ],
             [
              0.1111111111111111,
              "#46039f"
             ],
             [
              0.2222222222222222,
              "#7201a8"
             ],
             [
              0.3333333333333333,
              "#9c179e"
             ],
             [
              0.4444444444444444,
              "#bd3786"
             ],
             [
              0.5555555555555556,
              "#d8576b"
             ],
             [
              0.6666666666666666,
              "#ed7953"
             ],
             [
              0.7777777777777778,
              "#fb9f3a"
             ],
             [
              0.8888888888888888,
              "#fdca26"
             ],
             [
              1,
              "#f0f921"
             ]
            ],
            "type": "surface"
           }
          ],
          "table": [
           {
            "cells": {
             "fill": {
              "color": "#EBF0F8"
             },
             "line": {
              "color": "white"
             }
            },
            "header": {
             "fill": {
              "color": "#C8D4E3"
             },
             "line": {
              "color": "white"
             }
            },
            "type": "table"
           }
          ]
         },
         "layout": {
          "annotationdefaults": {
           "arrowcolor": "#2a3f5f",
           "arrowhead": 0,
           "arrowwidth": 1
          },
          "autotypenumbers": "strict",
          "coloraxis": {
           "colorbar": {
            "outlinewidth": 0,
            "ticks": ""
           }
          },
          "colorscale": {
           "diverging": [
            [
             0,
             "#8e0152"
            ],
            [
             0.1,
             "#c51b7d"
            ],
            [
             0.2,
             "#de77ae"
            ],
            [
             0.3,
             "#f1b6da"
            ],
            [
             0.4,
             "#fde0ef"
            ],
            [
             0.5,
             "#f7f7f7"
            ],
            [
             0.6,
             "#e6f5d0"
            ],
            [
             0.7,
             "#b8e186"
            ],
            [
             0.8,
             "#7fbc41"
            ],
            [
             0.9,
             "#4d9221"
            ],
            [
             1,
             "#276419"
            ]
           ],
           "sequential": [
            [
             0,
             "#0d0887"
            ],
            [
             0.1111111111111111,
             "#46039f"
            ],
            [
             0.2222222222222222,
             "#7201a8"
            ],
            [
             0.3333333333333333,
             "#9c179e"
            ],
            [
             0.4444444444444444,
             "#bd3786"
            ],
            [
             0.5555555555555556,
             "#d8576b"
            ],
            [
             0.6666666666666666,
             "#ed7953"
            ],
            [
             0.7777777777777778,
             "#fb9f3a"
            ],
            [
             0.8888888888888888,
             "#fdca26"
            ],
            [
             1,
             "#f0f921"
            ]
           ],
           "sequentialminus": [
            [
             0,
             "#0d0887"
            ],
            [
             0.1111111111111111,
             "#46039f"
            ],
            [
             0.2222222222222222,
             "#7201a8"
            ],
            [
             0.3333333333333333,
             "#9c179e"
            ],
            [
             0.4444444444444444,
             "#bd3786"
            ],
            [
             0.5555555555555556,
             "#d8576b"
            ],
            [
             0.6666666666666666,
             "#ed7953"
            ],
            [
             0.7777777777777778,
             "#fb9f3a"
            ],
            [
             0.8888888888888888,
             "#fdca26"
            ],
            [
             1,
             "#f0f921"
            ]
           ]
          },
          "colorway": [
           "#636efa",
           "#EF553B",
           "#00cc96",
           "#ab63fa",
           "#FFA15A",
           "#19d3f3",
           "#FF6692",
           "#B6E880",
           "#FF97FF",
           "#FECB52"
          ],
          "font": {
           "color": "#2a3f5f"
          },
          "geo": {
           "bgcolor": "white",
           "lakecolor": "white",
           "landcolor": "#E5ECF6",
           "showlakes": true,
           "showland": true,
           "subunitcolor": "white"
          },
          "hoverlabel": {
           "align": "left"
          },
          "hovermode": "closest",
          "mapbox": {
           "style": "light"
          },
          "paper_bgcolor": "white",
          "plot_bgcolor": "#E5ECF6",
          "polar": {
           "angularaxis": {
            "gridcolor": "white",
            "linecolor": "white",
            "ticks": ""
           },
           "bgcolor": "#E5ECF6",
           "radialaxis": {
            "gridcolor": "white",
            "linecolor": "white",
            "ticks": ""
           }
          },
          "scene": {
           "xaxis": {
            "backgroundcolor": "#E5ECF6",
            "gridcolor": "white",
            "gridwidth": 2,
            "linecolor": "white",
            "showbackground": true,
            "ticks": "",
            "zerolinecolor": "white"
           },
           "yaxis": {
            "backgroundcolor": "#E5ECF6",
            "gridcolor": "white",
            "gridwidth": 2,
            "linecolor": "white",
            "showbackground": true,
            "ticks": "",
            "zerolinecolor": "white"
           },
           "zaxis": {
            "backgroundcolor": "#E5ECF6",
            "gridcolor": "white",
            "gridwidth": 2,
            "linecolor": "white",
            "showbackground": true,
            "ticks": "",
            "zerolinecolor": "white"
           }
          },
          "shapedefaults": {
           "line": {
            "color": "#2a3f5f"
           }
          },
          "ternary": {
           "aaxis": {
            "gridcolor": "white",
            "linecolor": "white",
            "ticks": ""
           },
           "baxis": {
            "gridcolor": "white",
            "linecolor": "white",
            "ticks": ""
           },
           "bgcolor": "#E5ECF6",
           "caxis": {
            "gridcolor": "white",
            "linecolor": "white",
            "ticks": ""
           }
          },
          "title": {
           "x": 0.05
          },
          "xaxis": {
           "automargin": true,
           "gridcolor": "white",
           "linecolor": "white",
           "ticks": "",
           "title": {
            "standoff": 15
           },
           "zerolinecolor": "white",
           "zerolinewidth": 2
          },
          "yaxis": {
           "automargin": true,
           "gridcolor": "white",
           "linecolor": "white",
           "ticks": "",
           "title": {
            "standoff": 15
           },
           "zerolinecolor": "white",
           "zerolinewidth": 2
          }
         }
        },
        "title": {
         "text": "Occupancy of the wards after 1 month"
        },
        "xaxis": {
         "anchor": "y",
         "domain": [
          0,
          1
         ],
         "title": {
          "text": "Ward"
         }
        },
        "yaxis": {
         "anchor": "x",
         "domain": [
          0,
          1
         ],
         "title": {
          "text": "Number of patients"
         }
        }
       }
      }
     },
     "metadata": {},
     "output_type": "display_data"
    }
   ],
   "source": [
    "#create a stacked bar chart of the occupancy of the wards\n",
    "import plotly.express as px\n",
    "fig = px.bar(df_performance.drop(\"Rejected\", axis = 1))\n",
    "fig.update_layout(barmode='stack',\n",
    "                    title='Occupancy of the wards after 1 month',\n",
    "                    xaxis_title='Ward',\n",
    "                    yaxis_title='Number of patients')\n",
    "fig.show()\n",
    "fig.write_image(\"plots/occupancy_before_F.png\")\n",
    "#save fig in plots"
   ]
  },
  {
   "cell_type": "markdown",
   "metadata": {},
   "source": [
    "# Optimize Bed configuration\n",
    "\n",
    "Create a new ward (F\n",
    "∗\n",
    ") in the system and allocate a minimal number of the current bed\n",
    "resources to the new ward. Ensure that at least 95% of the type F\n",
    "∗ patients are hospitalized in\n",
    "Ward F\n",
    "∗\n",
    ". Use the ”urgency points” from Table 1 to balance the solution (prioritize wards that\n",
    "need beds more than other wards)."
   ]
  },
  {
   "cell_type": "code",
   "execution_count": 21,
   "metadata": {},
   "outputs": [],
   "source": [
    "do_optimization = True"
   ]
  },
  {
   "cell_type": "code",
   "execution_count": 22,
   "metadata": {},
   "outputs": [
    {
     "name": "stdout",
     "output_type": "stream",
     "text": [
      "F probability of rejection 0.9999999999999999  with bed capacity  0\n",
      "F probability of rejection 0.9663723145538172  with bed capacity  1\n",
      "F probability of rejection 0.9371740066828078  with bed capacity  2\n",
      "F probability of rejection 0.8978806691916963  with bed capacity  3\n",
      "F probability of rejection 0.8653345671438247  with bed capacity  4\n",
      "F probability of rejection 0.8311750999242015  with bed capacity  5\n",
      "F probability of rejection 0.8019503789461226  with bed capacity  6\n",
      "F probability of rejection 0.761697631322295  with bed capacity  7\n",
      "F probability of rejection 0.725605739683655  with bed capacity  8\n",
      "F probability of rejection 0.7117388137494347  with bed capacity  9\n",
      "F probability of rejection 0.6732910798558855  with bed capacity  10\n",
      "F probability of rejection 0.6335712250658336  with bed capacity  11\n",
      "F probability of rejection 0.6087747315226727  with bed capacity  12\n",
      "F probability of rejection 0.5770535297868049  with bed capacity  13\n",
      "F probability of rejection 0.5373969596513113  with bed capacity  14\n",
      "F probability of rejection 0.4938553099657294  with bed capacity  15\n",
      "F probability of rejection 0.48393481076434774  with bed capacity  16\n",
      "F probability of rejection 0.4467148864111763  with bed capacity  17\n",
      "F probability of rejection 0.40099803919506033  with bed capacity  18\n",
      "F probability of rejection 0.38241607836959796  with bed capacity  19\n",
      "F probability of rejection 0.366814693891933  with bed capacity  20\n",
      "F probability of rejection 0.3304872322358366  with bed capacity  21\n",
      "F probability of rejection 0.30469896700762117  with bed capacity  22\n",
      "F probability of rejection 0.23047756373390338  with bed capacity  23\n",
      "F probability of rejection 0.279414540590583  with bed capacity  24\n",
      "F probability of rejection 0.18061550096841797  with bed capacity  25\n",
      "F probability of rejection 0.20394581095593414  with bed capacity  26\n",
      "F probability of rejection 0.15769575174670933  with bed capacity  27\n",
      "F probability of rejection 0.13923855523751355  with bed capacity  28\n",
      "F probability of rejection 0.1081693637269748  with bed capacity  29\n",
      "F probability of rejection 0.1151150994721672  with bed capacity  30\n",
      "F probability of rejection 0.11269954787797205  with bed capacity  31\n",
      "F probability of rejection 0.08289227107409727  with bed capacity  32\n",
      "F probability of rejection 0.07692948354609844  with bed capacity  33\n",
      "F probability of rejection 0.04755556925460368  with bed capacity  34\n"
     ]
    }
   ],
   "source": [
    "#set seed!\n",
    "np.random.seed(69)\n",
    "F_occupied_prob = 1.0\n",
    "penalties_F = []\n",
    "F_occupied_probabilities = []\n",
    "wards = initialize_wards(df) #list of wards\n",
    "if do_optimization: #set to True to run optimization\n",
    "    df.loc['F', 'Bed Capacity'] = 0\n",
    "    while F_occupied_prob > 0.05:\n",
    "        #set F bed capacity in the dataframe\n",
    "        performance= run_simulations(total_time, wards, relocation_probability, arrival_interval_function, occupancy_time_function, n_simulations = 10, verbose = False)\n",
    "        F_ward = wards[-1]\n",
    "        F_occupied_prob = performance[F_ward][\"Occupied probability\"]\n",
    "        print(\"F probability of rejection\",F_occupied_prob, \" with bed capacity \", wards[-1].capacity)\n",
    "        penalties_F.append(performance[\"Weighted penalty\"])\n",
    "        F_occupied_probabilities.append(F_occupied_prob)\n",
    "        \n",
    "        \n",
    "        gradients = compute_gradient(total_time, wards, relocation_probability, arrival_interval_function, occupancy_time_function, n_simulations = 1, verbose = False)\n",
    "        #find least negative gradient\n",
    "        max_gradient = np.argmax(gradients[:-1])\n",
    "        wards[max_gradient].capacity -=1\n",
    "        wards[-1].capacity += 1\n",
    "        for ward in wards:\n",
    "            ward.reset_metrics()\n",
    "    wards[-1].capacity -=1\n",
    "    wards[max_gradient].capacity += 1\n",
    "    F_bed_capacity = len(penalties_F)"
   ]
  },
  {
   "cell_type": "code",
   "execution_count": 23,
   "metadata": {},
   "outputs": [],
   "source": [
    "#Theoretical rejection rate\n",
    "A = 13*2.2\n",
    "Erlang_b = lambda m : (A**m/math.factorial(m))/np.sum([A**i/math.factorial(i) for i in range(0, m+1)])"
   ]
  },
  {
   "cell_type": "code",
   "execution_count": 24,
   "metadata": {},
   "outputs": [
    {
     "data": {
      "application/vnd.plotly.v1+json": {
       "config": {
        "plotlyServerURL": "https://plot.ly"
       },
       "data": [
        {
         "name": "Weighted penalty",
         "type": "scatter",
         "x": [
          0,
          1,
          2,
          3,
          4,
          5,
          6,
          7,
          8,
          9,
          10,
          11,
          12,
          13,
          14,
          15,
          16,
          17,
          18,
          19,
          20,
          21,
          22,
          23,
          24,
          25,
          26,
          27,
          28,
          29,
          30,
          31,
          32,
          33,
          34
         ],
         "y": [
          3108.3,
          3036.9,
          3211.3,
          3265.6,
          2964.1,
          3323.6,
          3184.7999999999997,
          3318,
          2907.6000000000004,
          3325.6000000000004,
          3115.3999999999996,
          3315.8,
          3175.8,
          2932.4,
          3053.8,
          2906.7,
          3478.1,
          3094.3,
          3311.5,
          3372,
          3419.1,
          3368.7,
          3034.6,
          2933.4,
          3400.2000000000003,
          3264.7,
          3518.9,
          3332.8999999999996,
          3503,
          3480.8,
          3511.3,
          3443.8999999999996,
          3646.1,
          3806.3,
          3514.2999999999997
         ]
        },
        {
         "name": "Rejection probability",
         "type": "scatter",
         "x": [
          0,
          1,
          2,
          3,
          4,
          5,
          6,
          7,
          8,
          9,
          10,
          11,
          12,
          13,
          14,
          15,
          16,
          17,
          18,
          19,
          20,
          21,
          22,
          23,
          24,
          25,
          26,
          27,
          28,
          29,
          30,
          31,
          32,
          33,
          34
         ],
         "y": [
          0.9999999999999999,
          0.9663723145538172,
          0.9371740066828078,
          0.8978806691916963,
          0.8653345671438247,
          0.8311750999242015,
          0.8019503789461226,
          0.761697631322295,
          0.725605739683655,
          0.7117388137494347,
          0.6732910798558855,
          0.6335712250658336,
          0.6087747315226727,
          0.5770535297868049,
          0.5373969596513113,
          0.4938553099657294,
          0.48393481076434774,
          0.4467148864111763,
          0.40099803919506033,
          0.38241607836959796,
          0.366814693891933,
          0.3304872322358366,
          0.30469896700762117,
          0.23047756373390338,
          0.279414540590583,
          0.18061550096841797,
          0.20394581095593414,
          0.15769575174670933,
          0.13923855523751355,
          0.1081693637269748,
          0.1151150994721672,
          0.11269954787797205,
          0.08289227107409727,
          0.07692948354609844,
          0.04755556925460368
         ],
         "yaxis": "y2"
        },
        {
         "mode": "lines",
         "name": "Erlang b rejection probability",
         "type": "scatter",
         "x": [
          0,
          1,
          2,
          3,
          4,
          5,
          6,
          7,
          8,
          9,
          10,
          11,
          12,
          13,
          14,
          15,
          16,
          17,
          18,
          19,
          20,
          21,
          22,
          23,
          24,
          25,
          26,
          27,
          28,
          29,
          30,
          31,
          32,
          33,
          34
         ],
         "y": [
          0.9662162162162162,
          0.9325094623557846,
          0.8988869837221983,
          0.8653568932371117,
          0.8319282939083447,
          0.7986114204121716,
          0.7654178028430956,
          0.7323604561090922,
          0.6994540988914373,
          0.6667154065199613,
          0.6341633024939435,
          0.60181929363769,
          0.5697078539138748,
          0.5378568615721447,
          0.5062980933615348,
          0.4750677776679584,
          0.4442072052218292,
          0.41376339088674924,
          0.3837897722685502,
          0.3543469196183506,
          0.325503215817002,
          0.2973354442840266,
          0.2699291960117923,
          0.24337897506199982,
          0.21778784695106332,
          0.1932664412949067,
          0.16993109762390393,
          0.14790094476362228,
          0.12729374716692385,
          0.1082204551187292,
          0.09077857407704952,
          0.07504472092895366,
          0.061067034078747785,
          0.04885838712954783
         ],
         "yaxis": "y2"
        },
        {
         "marker": {
          "color": "red",
          "size": 10
         },
         "mode": "markers",
         "name": "5% Rejection",
         "type": "scatter",
         "x": [
          33
         ],
         "y": [
          0.07692948354609844
         ]
        }
       ],
       "layout": {
        "legend": {
         "orientation": "h",
         "x": 1,
         "xanchor": "right",
         "y": 1.02,
         "yanchor": "bottom"
        },
        "template": {
         "data": {
          "bar": [
           {
            "error_x": {
             "color": "#2a3f5f"
            },
            "error_y": {
             "color": "#2a3f5f"
            },
            "marker": {
             "line": {
              "color": "#E5ECF6",
              "width": 0.5
             },
             "pattern": {
              "fillmode": "overlay",
              "size": 10,
              "solidity": 0.2
             }
            },
            "type": "bar"
           }
          ],
          "barpolar": [
           {
            "marker": {
             "line": {
              "color": "#E5ECF6",
              "width": 0.5
             },
             "pattern": {
              "fillmode": "overlay",
              "size": 10,
              "solidity": 0.2
             }
            },
            "type": "barpolar"
           }
          ],
          "carpet": [
           {
            "aaxis": {
             "endlinecolor": "#2a3f5f",
             "gridcolor": "white",
             "linecolor": "white",
             "minorgridcolor": "white",
             "startlinecolor": "#2a3f5f"
            },
            "baxis": {
             "endlinecolor": "#2a3f5f",
             "gridcolor": "white",
             "linecolor": "white",
             "minorgridcolor": "white",
             "startlinecolor": "#2a3f5f"
            },
            "type": "carpet"
           }
          ],
          "choropleth": [
           {
            "colorbar": {
             "outlinewidth": 0,
             "ticks": ""
            },
            "type": "choropleth"
           }
          ],
          "contour": [
           {
            "colorbar": {
             "outlinewidth": 0,
             "ticks": ""
            },
            "colorscale": [
             [
              0,
              "#0d0887"
             ],
             [
              0.1111111111111111,
              "#46039f"
             ],
             [
              0.2222222222222222,
              "#7201a8"
             ],
             [
              0.3333333333333333,
              "#9c179e"
             ],
             [
              0.4444444444444444,
              "#bd3786"
             ],
             [
              0.5555555555555556,
              "#d8576b"
             ],
             [
              0.6666666666666666,
              "#ed7953"
             ],
             [
              0.7777777777777778,
              "#fb9f3a"
             ],
             [
              0.8888888888888888,
              "#fdca26"
             ],
             [
              1,
              "#f0f921"
             ]
            ],
            "type": "contour"
           }
          ],
          "contourcarpet": [
           {
            "colorbar": {
             "outlinewidth": 0,
             "ticks": ""
            },
            "type": "contourcarpet"
           }
          ],
          "heatmap": [
           {
            "colorbar": {
             "outlinewidth": 0,
             "ticks": ""
            },
            "colorscale": [
             [
              0,
              "#0d0887"
             ],
             [
              0.1111111111111111,
              "#46039f"
             ],
             [
              0.2222222222222222,
              "#7201a8"
             ],
             [
              0.3333333333333333,
              "#9c179e"
             ],
             [
              0.4444444444444444,
              "#bd3786"
             ],
             [
              0.5555555555555556,
              "#d8576b"
             ],
             [
              0.6666666666666666,
              "#ed7953"
             ],
             [
              0.7777777777777778,
              "#fb9f3a"
             ],
             [
              0.8888888888888888,
              "#fdca26"
             ],
             [
              1,
              "#f0f921"
             ]
            ],
            "type": "heatmap"
           }
          ],
          "heatmapgl": [
           {
            "colorbar": {
             "outlinewidth": 0,
             "ticks": ""
            },
            "colorscale": [
             [
              0,
              "#0d0887"
             ],
             [
              0.1111111111111111,
              "#46039f"
             ],
             [
              0.2222222222222222,
              "#7201a8"
             ],
             [
              0.3333333333333333,
              "#9c179e"
             ],
             [
              0.4444444444444444,
              "#bd3786"
             ],
             [
              0.5555555555555556,
              "#d8576b"
             ],
             [
              0.6666666666666666,
              "#ed7953"
             ],
             [
              0.7777777777777778,
              "#fb9f3a"
             ],
             [
              0.8888888888888888,
              "#fdca26"
             ],
             [
              1,
              "#f0f921"
             ]
            ],
            "type": "heatmapgl"
           }
          ],
          "histogram": [
           {
            "marker": {
             "pattern": {
              "fillmode": "overlay",
              "size": 10,
              "solidity": 0.2
             }
            },
            "type": "histogram"
           }
          ],
          "histogram2d": [
           {
            "colorbar": {
             "outlinewidth": 0,
             "ticks": ""
            },
            "colorscale": [
             [
              0,
              "#0d0887"
             ],
             [
              0.1111111111111111,
              "#46039f"
             ],
             [
              0.2222222222222222,
              "#7201a8"
             ],
             [
              0.3333333333333333,
              "#9c179e"
             ],
             [
              0.4444444444444444,
              "#bd3786"
             ],
             [
              0.5555555555555556,
              "#d8576b"
             ],
             [
              0.6666666666666666,
              "#ed7953"
             ],
             [
              0.7777777777777778,
              "#fb9f3a"
             ],
             [
              0.8888888888888888,
              "#fdca26"
             ],
             [
              1,
              "#f0f921"
             ]
            ],
            "type": "histogram2d"
           }
          ],
          "histogram2dcontour": [
           {
            "colorbar": {
             "outlinewidth": 0,
             "ticks": ""
            },
            "colorscale": [
             [
              0,
              "#0d0887"
             ],
             [
              0.1111111111111111,
              "#46039f"
             ],
             [
              0.2222222222222222,
              "#7201a8"
             ],
             [
              0.3333333333333333,
              "#9c179e"
             ],
             [
              0.4444444444444444,
              "#bd3786"
             ],
             [
              0.5555555555555556,
              "#d8576b"
             ],
             [
              0.6666666666666666,
              "#ed7953"
             ],
             [
              0.7777777777777778,
              "#fb9f3a"
             ],
             [
              0.8888888888888888,
              "#fdca26"
             ],
             [
              1,
              "#f0f921"
             ]
            ],
            "type": "histogram2dcontour"
           }
          ],
          "mesh3d": [
           {
            "colorbar": {
             "outlinewidth": 0,
             "ticks": ""
            },
            "type": "mesh3d"
           }
          ],
          "parcoords": [
           {
            "line": {
             "colorbar": {
              "outlinewidth": 0,
              "ticks": ""
             }
            },
            "type": "parcoords"
           }
          ],
          "pie": [
           {
            "automargin": true,
            "type": "pie"
           }
          ],
          "scatter": [
           {
            "fillpattern": {
             "fillmode": "overlay",
             "size": 10,
             "solidity": 0.2
            },
            "type": "scatter"
           }
          ],
          "scatter3d": [
           {
            "line": {
             "colorbar": {
              "outlinewidth": 0,
              "ticks": ""
             }
            },
            "marker": {
             "colorbar": {
              "outlinewidth": 0,
              "ticks": ""
             }
            },
            "type": "scatter3d"
           }
          ],
          "scattercarpet": [
           {
            "marker": {
             "colorbar": {
              "outlinewidth": 0,
              "ticks": ""
             }
            },
            "type": "scattercarpet"
           }
          ],
          "scattergeo": [
           {
            "marker": {
             "colorbar": {
              "outlinewidth": 0,
              "ticks": ""
             }
            },
            "type": "scattergeo"
           }
          ],
          "scattergl": [
           {
            "marker": {
             "colorbar": {
              "outlinewidth": 0,
              "ticks": ""
             }
            },
            "type": "scattergl"
           }
          ],
          "scattermapbox": [
           {
            "marker": {
             "colorbar": {
              "outlinewidth": 0,
              "ticks": ""
             }
            },
            "type": "scattermapbox"
           }
          ],
          "scatterpolar": [
           {
            "marker": {
             "colorbar": {
              "outlinewidth": 0,
              "ticks": ""
             }
            },
            "type": "scatterpolar"
           }
          ],
          "scatterpolargl": [
           {
            "marker": {
             "colorbar": {
              "outlinewidth": 0,
              "ticks": ""
             }
            },
            "type": "scatterpolargl"
           }
          ],
          "scatterternary": [
           {
            "marker": {
             "colorbar": {
              "outlinewidth": 0,
              "ticks": ""
             }
            },
            "type": "scatterternary"
           }
          ],
          "surface": [
           {
            "colorbar": {
             "outlinewidth": 0,
             "ticks": ""
            },
            "colorscale": [
             [
              0,
              "#0d0887"
             ],
             [
              0.1111111111111111,
              "#46039f"
             ],
             [
              0.2222222222222222,
              "#7201a8"
             ],
             [
              0.3333333333333333,
              "#9c179e"
             ],
             [
              0.4444444444444444,
              "#bd3786"
             ],
             [
              0.5555555555555556,
              "#d8576b"
             ],
             [
              0.6666666666666666,
              "#ed7953"
             ],
             [
              0.7777777777777778,
              "#fb9f3a"
             ],
             [
              0.8888888888888888,
              "#fdca26"
             ],
             [
              1,
              "#f0f921"
             ]
            ],
            "type": "surface"
           }
          ],
          "table": [
           {
            "cells": {
             "fill": {
              "color": "#EBF0F8"
             },
             "line": {
              "color": "white"
             }
            },
            "header": {
             "fill": {
              "color": "#C8D4E3"
             },
             "line": {
              "color": "white"
             }
            },
            "type": "table"
           }
          ]
         },
         "layout": {
          "annotationdefaults": {
           "arrowcolor": "#2a3f5f",
           "arrowhead": 0,
           "arrowwidth": 1
          },
          "autotypenumbers": "strict",
          "coloraxis": {
           "colorbar": {
            "outlinewidth": 0,
            "ticks": ""
           }
          },
          "colorscale": {
           "diverging": [
            [
             0,
             "#8e0152"
            ],
            [
             0.1,
             "#c51b7d"
            ],
            [
             0.2,
             "#de77ae"
            ],
            [
             0.3,
             "#f1b6da"
            ],
            [
             0.4,
             "#fde0ef"
            ],
            [
             0.5,
             "#f7f7f7"
            ],
            [
             0.6,
             "#e6f5d0"
            ],
            [
             0.7,
             "#b8e186"
            ],
            [
             0.8,
             "#7fbc41"
            ],
            [
             0.9,
             "#4d9221"
            ],
            [
             1,
             "#276419"
            ]
           ],
           "sequential": [
            [
             0,
             "#0d0887"
            ],
            [
             0.1111111111111111,
             "#46039f"
            ],
            [
             0.2222222222222222,
             "#7201a8"
            ],
            [
             0.3333333333333333,
             "#9c179e"
            ],
            [
             0.4444444444444444,
             "#bd3786"
            ],
            [
             0.5555555555555556,
             "#d8576b"
            ],
            [
             0.6666666666666666,
             "#ed7953"
            ],
            [
             0.7777777777777778,
             "#fb9f3a"
            ],
            [
             0.8888888888888888,
             "#fdca26"
            ],
            [
             1,
             "#f0f921"
            ]
           ],
           "sequentialminus": [
            [
             0,
             "#0d0887"
            ],
            [
             0.1111111111111111,
             "#46039f"
            ],
            [
             0.2222222222222222,
             "#7201a8"
            ],
            [
             0.3333333333333333,
             "#9c179e"
            ],
            [
             0.4444444444444444,
             "#bd3786"
            ],
            [
             0.5555555555555556,
             "#d8576b"
            ],
            [
             0.6666666666666666,
             "#ed7953"
            ],
            [
             0.7777777777777778,
             "#fb9f3a"
            ],
            [
             0.8888888888888888,
             "#fdca26"
            ],
            [
             1,
             "#f0f921"
            ]
           ]
          },
          "colorway": [
           "#636efa",
           "#EF553B",
           "#00cc96",
           "#ab63fa",
           "#FFA15A",
           "#19d3f3",
           "#FF6692",
           "#B6E880",
           "#FF97FF",
           "#FECB52"
          ],
          "font": {
           "color": "#2a3f5f"
          },
          "geo": {
           "bgcolor": "white",
           "lakecolor": "white",
           "landcolor": "#E5ECF6",
           "showlakes": true,
           "showland": true,
           "subunitcolor": "white"
          },
          "hoverlabel": {
           "align": "left"
          },
          "hovermode": "closest",
          "mapbox": {
           "style": "light"
          },
          "paper_bgcolor": "white",
          "plot_bgcolor": "#E5ECF6",
          "polar": {
           "angularaxis": {
            "gridcolor": "white",
            "linecolor": "white",
            "ticks": ""
           },
           "bgcolor": "#E5ECF6",
           "radialaxis": {
            "gridcolor": "white",
            "linecolor": "white",
            "ticks": ""
           }
          },
          "scene": {
           "xaxis": {
            "backgroundcolor": "#E5ECF6",
            "gridcolor": "white",
            "gridwidth": 2,
            "linecolor": "white",
            "showbackground": true,
            "ticks": "",
            "zerolinecolor": "white"
           },
           "yaxis": {
            "backgroundcolor": "#E5ECF6",
            "gridcolor": "white",
            "gridwidth": 2,
            "linecolor": "white",
            "showbackground": true,
            "ticks": "",
            "zerolinecolor": "white"
           },
           "zaxis": {
            "backgroundcolor": "#E5ECF6",
            "gridcolor": "white",
            "gridwidth": 2,
            "linecolor": "white",
            "showbackground": true,
            "ticks": "",
            "zerolinecolor": "white"
           }
          },
          "shapedefaults": {
           "line": {
            "color": "#2a3f5f"
           }
          },
          "ternary": {
           "aaxis": {
            "gridcolor": "white",
            "linecolor": "white",
            "ticks": ""
           },
           "baxis": {
            "gridcolor": "white",
            "linecolor": "white",
            "ticks": ""
           },
           "bgcolor": "#E5ECF6",
           "caxis": {
            "gridcolor": "white",
            "linecolor": "white",
            "ticks": ""
           }
          },
          "title": {
           "x": 0.05
          },
          "xaxis": {
           "automargin": true,
           "gridcolor": "white",
           "linecolor": "white",
           "ticks": "",
           "title": {
            "standoff": 15
           },
           "zerolinecolor": "white",
           "zerolinewidth": 2
          },
          "yaxis": {
           "automargin": true,
           "gridcolor": "white",
           "linecolor": "white",
           "ticks": "",
           "title": {
            "standoff": 15
           },
           "zerolinecolor": "white",
           "zerolinewidth": 2
          }
         }
        },
        "title": {
         "text": "Penalty and rejection rate as a function of F bed capacity"
        },
        "xaxis": {
         "title": {
          "text": "F bed capacity"
         }
        },
        "yaxis": {
         "title": {
          "text": "Weighted penalty"
         }
        },
        "yaxis2": {
         "overlaying": "y",
         "side": "right",
         "title": {
          "text": "Simulated rejection probability"
         }
        }
       }
      }
     },
     "metadata": {},
     "output_type": "display_data"
    }
   ],
   "source": [
    "fig = go.Figure()\n",
    "fig.add_trace(go.Scatter(x=np.arange(0, F_bed_capacity), y=penalties_F, name='Weighted penalty'))\n",
    "fig.update_layout(title=\"Penalty and rejection rate as a function of F bed capacity\",\n",
    "                  xaxis_title=\"F bed capacity\",\n",
    "                  yaxis_title=\"Weighted penalty\")\n",
    "\n",
    "fig.add_trace(go.Scatter(x=np.arange(0, F_bed_capacity), y=F_occupied_probabilities, yaxis='y2', name='Rejection probability'))\n",
    "fig.update_layout(yaxis2=dict(title=\"Simulated rejection probability\", overlaying='y', side='right'))\n",
    "theoretical_rejection = [Erlang_b(i) for i in range(1, F_bed_capacity)]\n",
    "fig.add_trace(go.Scatter(x=np.arange(0, F_bed_capacity), y=theoretical_rejection, yaxis='y2', name='Erlang b rejection probability', mode='lines'))\n",
    "fig.update_layout(yaxis2=dict(title=\"Simulated rejection probability\", overlaying='y', side='right'))\n",
    "if do_optimization:\n",
    "    index = (np.abs(np.array(F_occupied_probabilities) - 0.05)).argmin()\n",
    "    fig.add_trace(go.Scatter(x=[np.arange(0, F_bed_capacity)[index-1]], \n",
    "                            y=[F_occupied_probabilities[index-1]], \n",
    "                            mode='markers', \n",
    "                            marker=dict(size=10, color='red'), \n",
    "                            name='5% Rejection'))\n",
    "\n",
    "    # Update layout for the legend\n",
    "    fig.update_layout(\n",
    "        legend=dict(\n",
    "            orientation=\"h\",\n",
    "            yanchor=\"bottom\",\n",
    "            y=1.02,\n",
    "            xanchor=\"right\",\n",
    "            x=1\n",
    "        )\n",
    "    )\n",
    "\n",
    "    fig.show()\n",
    "    fig.write_image(\"plots/penalty_rejection.png\")"
   ]
  },
  {
   "cell_type": "code",
   "execution_count": 25,
   "metadata": {},
   "outputs": [
    {
     "data": {
      "text/html": [
       "<div>\n",
       "<style scoped>\n",
       "    .dataframe tbody tr th:only-of-type {\n",
       "        vertical-align: middle;\n",
       "    }\n",
       "\n",
       "    .dataframe tbody tr th {\n",
       "        vertical-align: top;\n",
       "    }\n",
       "\n",
       "    .dataframe thead th {\n",
       "        text-align: right;\n",
       "    }\n",
       "</style>\n",
       "<table border=\"1\" class=\"dataframe\">\n",
       "  <thead>\n",
       "    <tr style=\"text-align: right;\">\n",
       "      <th></th>\n",
       "      <th>Bed Capacity</th>\n",
       "      <th>Arrivals per day</th>\n",
       "      <th>Mean Length of Stay</th>\n",
       "      <th>Urgency Points</th>\n",
       "    </tr>\n",
       "    <tr>\n",
       "      <th>Patient Type</th>\n",
       "      <th></th>\n",
       "      <th></th>\n",
       "      <th></th>\n",
       "      <th></th>\n",
       "    </tr>\n",
       "  </thead>\n",
       "  <tbody>\n",
       "    <tr>\n",
       "      <th>A</th>\n",
       "      <td>49</td>\n",
       "      <td>14.5</td>\n",
       "      <td>2.9</td>\n",
       "      <td>7</td>\n",
       "    </tr>\n",
       "    <tr>\n",
       "      <th>B</th>\n",
       "      <td>28</td>\n",
       "      <td>11.0</td>\n",
       "      <td>4.0</td>\n",
       "      <td>5</td>\n",
       "    </tr>\n",
       "    <tr>\n",
       "      <th>C</th>\n",
       "      <td>22</td>\n",
       "      <td>8.0</td>\n",
       "      <td>4.5</td>\n",
       "      <td>2</td>\n",
       "    </tr>\n",
       "    <tr>\n",
       "      <th>D</th>\n",
       "      <td>16</td>\n",
       "      <td>6.5</td>\n",
       "      <td>1.4</td>\n",
       "      <td>10</td>\n",
       "    </tr>\n",
       "    <tr>\n",
       "      <th>E</th>\n",
       "      <td>16</td>\n",
       "      <td>5.0</td>\n",
       "      <td>3.9</td>\n",
       "      <td>5</td>\n",
       "    </tr>\n",
       "    <tr>\n",
       "      <th>F</th>\n",
       "      <td>34</td>\n",
       "      <td>13.0</td>\n",
       "      <td>2.2</td>\n",
       "      <td>0</td>\n",
       "    </tr>\n",
       "  </tbody>\n",
       "</table>\n",
       "</div>"
      ],
      "text/plain": [
       "              Bed Capacity  Arrivals per day  Mean Length of Stay  \\\n",
       "Patient Type                                                        \n",
       "A                       49              14.5                  2.9   \n",
       "B                       28              11.0                  4.0   \n",
       "C                       22               8.0                  4.5   \n",
       "D                       16               6.5                  1.4   \n",
       "E                       16               5.0                  3.9   \n",
       "F                       34              13.0                  2.2   \n",
       "\n",
       "              Urgency Points  \n",
       "Patient Type                  \n",
       "A                          7  \n",
       "B                          5  \n",
       "C                          2  \n",
       "D                         10  \n",
       "E                          5  \n",
       "F                          0  "
      ]
     },
     "execution_count": 25,
     "metadata": {},
     "output_type": "execute_result"
    }
   ],
   "source": [
    "#update the dataframe based on the optimal bed configuration\n",
    "df[\"Bed Capacity\"] = np.array([49,28,22,16,16, 34]) #hardcoded\n",
    "\n",
    "#export dataframe to latex\n",
    "df.to_latex(\"tables/ward_data.tex\", float_format=\"%.1f\")\n",
    "#new bed configuration\n",
    "df"
   ]
  },
  {
   "cell_type": "code",
   "execution_count": 26,
   "metadata": {},
   "outputs": [
    {
     "data": {
      "text/plain": [
       "{A Ward with 49 beds and 7 urgency points.: {'Occupied probability': 0.1878885055958295,\n",
       "  'Estimated admissions': 460.6,\n",
       "  'Estimated rejections': 108.10000000000001,\n",
       "  'Estimated lost': 23.4,\n",
       "  'Estimated relocations': 27.399999999999995},\n",
       " B Ward with 28 beds and 5 urgency points.: {'Occupied probability': 0.468579528169839,\n",
       "  'Estimated admissions': 213.7,\n",
       "  'Estimated rejections': 190.6,\n",
       "  'Estimated lost': 28.300000000000004,\n",
       "  'Estimated relocations': 83.9},\n",
       " C Ward with 22 beds and 2 urgency points.: {'Occupied probability': 0.618602853462657,\n",
       "  'Estimated admissions': 151.60000000000002,\n",
       "  'Estimated rejections': 248.1,\n",
       "  'Estimated lost': 99.30000000000001,\n",
       "  'Estimated relocations': 90.1},\n",
       " D Ward with 16 beds and 10 urgency points.: {'Occupied probability': 0.23506699161631725,\n",
       "  'Estimated admissions': 207.50000000000003,\n",
       "  'Estimated rejections': 64.6,\n",
       "  'Estimated lost': 17.9,\n",
       "  'Estimated relocations': 27.099999999999998},\n",
       " E Ward with 16 beds and 5 urgency points.: {'Occupied probability': 0.5920764569737753,\n",
       "  'Estimated admissions': 127.3,\n",
       "  'Estimated rejections': 187.2,\n",
       "  'Estimated lost': 98.6,\n",
       "  'Estimated relocations': 43.1},\n",
       " F Ward with 34 beds and 0 urgency points.: {'Occupied probability': 0.04303060938072981,\n",
       "  'Estimated admissions': 379.0,\n",
       "  'Estimated rejections': 17.099999999999998,\n",
       "  'Estimated lost': 0.0,\n",
       "  'Estimated relocations': 9.100000000000001},\n",
       " 'Weighted penalty': 3787.9,\n",
       " 'Patients': {'A': {'Admitted': 599.8,\n",
       "   'Rejected': 106.9,\n",
       "   'Lost': 72.19999999999999,\n",
       "   'Relocated': 34.70000000000001},\n",
       "  'B': {'Admitted': 408.5,\n",
       "   'Rejected': 221.70000000000002,\n",
       "   'Lost': 105.6,\n",
       "   'Relocated': 116.10000000000001},\n",
       "  'C': {'Admitted': 296.40000000000003,\n",
       "   'Rejected': 202.19999999999996,\n",
       "   'Lost': 73.5,\n",
       "   'Relocated': 128.7},\n",
       "  'D': {'Admitted': 279.0,\n",
       "   'Rejected': 55.8,\n",
       "   'Lost': 24.099999999999998,\n",
       "   'Relocated': 31.700000000000003},\n",
       "  'E': {'Admitted': 172.8,\n",
       "   'Rejected': 114.8,\n",
       "   'Lost': 58.400000000000006,\n",
       "   'Relocated': 56.4},\n",
       "  'F': {'Admitted': 577.0, 'Rejected': 20.9, 'Lost': 9.4, 'Relocated': 11.5}}}"
      ]
     },
     "execution_count": 26,
     "metadata": {},
     "output_type": "execute_result"
    }
   ],
   "source": [
    "#run the simulation with the optimal bed configuration\n",
    "wards = initialize_wards(df)\n",
    "performance = run_simulations(total_time, wards, relocation_probability, arrival_interval_function, occupancy_time_function, n_simulations = 10, verbose = False, burn_in_time = 15)\n",
    "performance"
   ]
  },
  {
   "cell_type": "code",
   "execution_count": 28,
   "metadata": {},
   "outputs": [
    {
     "data": {
      "text/html": [
       "<div>\n",
       "<style scoped>\n",
       "    .dataframe tbody tr th:only-of-type {\n",
       "        vertical-align: middle;\n",
       "    }\n",
       "\n",
       "    .dataframe tbody tr th {\n",
       "        vertical-align: top;\n",
       "    }\n",
       "\n",
       "    .dataframe thead th {\n",
       "        text-align: right;\n",
       "    }\n",
       "</style>\n",
       "<table border=\"1\" class=\"dataframe\">\n",
       "  <thead>\n",
       "    <tr style=\"text-align: right;\">\n",
       "      <th></th>\n",
       "      <th>Admitted</th>\n",
       "      <th>Rejected</th>\n",
       "      <th>Lost</th>\n",
       "      <th>Relocated</th>\n",
       "    </tr>\n",
       "  </thead>\n",
       "  <tbody>\n",
       "    <tr>\n",
       "      <th>A</th>\n",
       "      <td>599.8</td>\n",
       "      <td>106.9</td>\n",
       "      <td>72.2</td>\n",
       "      <td>34.7</td>\n",
       "    </tr>\n",
       "    <tr>\n",
       "      <th>B</th>\n",
       "      <td>408.5</td>\n",
       "      <td>221.7</td>\n",
       "      <td>105.6</td>\n",
       "      <td>116.1</td>\n",
       "    </tr>\n",
       "    <tr>\n",
       "      <th>C</th>\n",
       "      <td>296.4</td>\n",
       "      <td>202.2</td>\n",
       "      <td>73.5</td>\n",
       "      <td>128.7</td>\n",
       "    </tr>\n",
       "    <tr>\n",
       "      <th>D</th>\n",
       "      <td>279.0</td>\n",
       "      <td>55.8</td>\n",
       "      <td>24.1</td>\n",
       "      <td>31.7</td>\n",
       "    </tr>\n",
       "    <tr>\n",
       "      <th>E</th>\n",
       "      <td>172.8</td>\n",
       "      <td>114.8</td>\n",
       "      <td>58.4</td>\n",
       "      <td>56.4</td>\n",
       "    </tr>\n",
       "    <tr>\n",
       "      <th>F</th>\n",
       "      <td>577.0</td>\n",
       "      <td>20.9</td>\n",
       "      <td>9.4</td>\n",
       "      <td>11.5</td>\n",
       "    </tr>\n",
       "  </tbody>\n",
       "</table>\n",
       "</div>"
      ],
      "text/plain": [
       "   Admitted  Rejected   Lost  Relocated\n",
       "A     599.8     106.9   72.2       34.7\n",
       "B     408.5     221.7  105.6      116.1\n",
       "C     296.4     202.2   73.5      128.7\n",
       "D     279.0      55.8   24.1       31.7\n",
       "E     172.8     114.8   58.4       56.4\n",
       "F     577.0      20.9    9.4       11.5"
      ]
     },
     "execution_count": 28,
     "metadata": {},
     "output_type": "execute_result"
    }
   ],
   "source": [
    "#convert performance to dataframe\n",
    "df_performance = pd.DataFrame(performance[\"Patients\"]).T\n",
    "df_performance"
   ]
  },
  {
   "cell_type": "code",
   "execution_count": 29,
   "metadata": {},
   "outputs": [
    {
     "data": {
      "application/vnd.plotly.v1+json": {
       "config": {
        "plotlyServerURL": "https://plot.ly"
       },
       "data": [
        {
         "alignmentgroup": "True",
         "hovertemplate": "variable=Admitted<br>index=%{x}<br>value=%{y}<extra></extra>",
         "legendgroup": "Admitted",
         "marker": {
          "color": "#636efa",
          "pattern": {
           "shape": ""
          }
         },
         "name": "Admitted",
         "offsetgroup": "Admitted",
         "orientation": "v",
         "showlegend": true,
         "textposition": "auto",
         "type": "bar",
         "x": [
          "A",
          "B",
          "C",
          "D",
          "E",
          "F"
         ],
         "xaxis": "x",
         "y": [
          599.8,
          408.5,
          296.40000000000003,
          279,
          172.8,
          577
         ],
         "yaxis": "y"
        },
        {
         "alignmentgroup": "True",
         "hovertemplate": "variable=Lost<br>index=%{x}<br>value=%{y}<extra></extra>",
         "legendgroup": "Lost",
         "marker": {
          "color": "#EF553B",
          "pattern": {
           "shape": ""
          }
         },
         "name": "Lost",
         "offsetgroup": "Lost",
         "orientation": "v",
         "showlegend": true,
         "textposition": "auto",
         "type": "bar",
         "x": [
          "A",
          "B",
          "C",
          "D",
          "E",
          "F"
         ],
         "xaxis": "x",
         "y": [
          72.19999999999999,
          105.6,
          73.5,
          24.099999999999998,
          58.400000000000006,
          9.4
         ],
         "yaxis": "y"
        },
        {
         "alignmentgroup": "True",
         "hovertemplate": "variable=Relocated<br>index=%{x}<br>value=%{y}<extra></extra>",
         "legendgroup": "Relocated",
         "marker": {
          "color": "#00cc96",
          "pattern": {
           "shape": ""
          }
         },
         "name": "Relocated",
         "offsetgroup": "Relocated",
         "orientation": "v",
         "showlegend": true,
         "textposition": "auto",
         "type": "bar",
         "x": [
          "A",
          "B",
          "C",
          "D",
          "E",
          "F"
         ],
         "xaxis": "x",
         "y": [
          34.70000000000001,
          116.10000000000001,
          128.7,
          31.700000000000003,
          56.4,
          11.5
         ],
         "yaxis": "y"
        }
       ],
       "layout": {
        "barmode": "stack",
        "legend": {
         "title": {
          "text": "variable"
         },
         "tracegroupgap": 0
        },
        "margin": {
         "t": 60
        },
        "template": {
         "data": {
          "bar": [
           {
            "error_x": {
             "color": "#2a3f5f"
            },
            "error_y": {
             "color": "#2a3f5f"
            },
            "marker": {
             "line": {
              "color": "#E5ECF6",
              "width": 0.5
             },
             "pattern": {
              "fillmode": "overlay",
              "size": 10,
              "solidity": 0.2
             }
            },
            "type": "bar"
           }
          ],
          "barpolar": [
           {
            "marker": {
             "line": {
              "color": "#E5ECF6",
              "width": 0.5
             },
             "pattern": {
              "fillmode": "overlay",
              "size": 10,
              "solidity": 0.2
             }
            },
            "type": "barpolar"
           }
          ],
          "carpet": [
           {
            "aaxis": {
             "endlinecolor": "#2a3f5f",
             "gridcolor": "white",
             "linecolor": "white",
             "minorgridcolor": "white",
             "startlinecolor": "#2a3f5f"
            },
            "baxis": {
             "endlinecolor": "#2a3f5f",
             "gridcolor": "white",
             "linecolor": "white",
             "minorgridcolor": "white",
             "startlinecolor": "#2a3f5f"
            },
            "type": "carpet"
           }
          ],
          "choropleth": [
           {
            "colorbar": {
             "outlinewidth": 0,
             "ticks": ""
            },
            "type": "choropleth"
           }
          ],
          "contour": [
           {
            "colorbar": {
             "outlinewidth": 0,
             "ticks": ""
            },
            "colorscale": [
             [
              0,
              "#0d0887"
             ],
             [
              0.1111111111111111,
              "#46039f"
             ],
             [
              0.2222222222222222,
              "#7201a8"
             ],
             [
              0.3333333333333333,
              "#9c179e"
             ],
             [
              0.4444444444444444,
              "#bd3786"
             ],
             [
              0.5555555555555556,
              "#d8576b"
             ],
             [
              0.6666666666666666,
              "#ed7953"
             ],
             [
              0.7777777777777778,
              "#fb9f3a"
             ],
             [
              0.8888888888888888,
              "#fdca26"
             ],
             [
              1,
              "#f0f921"
             ]
            ],
            "type": "contour"
           }
          ],
          "contourcarpet": [
           {
            "colorbar": {
             "outlinewidth": 0,
             "ticks": ""
            },
            "type": "contourcarpet"
           }
          ],
          "heatmap": [
           {
            "colorbar": {
             "outlinewidth": 0,
             "ticks": ""
            },
            "colorscale": [
             [
              0,
              "#0d0887"
             ],
             [
              0.1111111111111111,
              "#46039f"
             ],
             [
              0.2222222222222222,
              "#7201a8"
             ],
             [
              0.3333333333333333,
              "#9c179e"
             ],
             [
              0.4444444444444444,
              "#bd3786"
             ],
             [
              0.5555555555555556,
              "#d8576b"
             ],
             [
              0.6666666666666666,
              "#ed7953"
             ],
             [
              0.7777777777777778,
              "#fb9f3a"
             ],
             [
              0.8888888888888888,
              "#fdca26"
             ],
             [
              1,
              "#f0f921"
             ]
            ],
            "type": "heatmap"
           }
          ],
          "heatmapgl": [
           {
            "colorbar": {
             "outlinewidth": 0,
             "ticks": ""
            },
            "colorscale": [
             [
              0,
              "#0d0887"
             ],
             [
              0.1111111111111111,
              "#46039f"
             ],
             [
              0.2222222222222222,
              "#7201a8"
             ],
             [
              0.3333333333333333,
              "#9c179e"
             ],
             [
              0.4444444444444444,
              "#bd3786"
             ],
             [
              0.5555555555555556,
              "#d8576b"
             ],
             [
              0.6666666666666666,
              "#ed7953"
             ],
             [
              0.7777777777777778,
              "#fb9f3a"
             ],
             [
              0.8888888888888888,
              "#fdca26"
             ],
             [
              1,
              "#f0f921"
             ]
            ],
            "type": "heatmapgl"
           }
          ],
          "histogram": [
           {
            "marker": {
             "pattern": {
              "fillmode": "overlay",
              "size": 10,
              "solidity": 0.2
             }
            },
            "type": "histogram"
           }
          ],
          "histogram2d": [
           {
            "colorbar": {
             "outlinewidth": 0,
             "ticks": ""
            },
            "colorscale": [
             [
              0,
              "#0d0887"
             ],
             [
              0.1111111111111111,
              "#46039f"
             ],
             [
              0.2222222222222222,
              "#7201a8"
             ],
             [
              0.3333333333333333,
              "#9c179e"
             ],
             [
              0.4444444444444444,
              "#bd3786"
             ],
             [
              0.5555555555555556,
              "#d8576b"
             ],
             [
              0.6666666666666666,
              "#ed7953"
             ],
             [
              0.7777777777777778,
              "#fb9f3a"
             ],
             [
              0.8888888888888888,
              "#fdca26"
             ],
             [
              1,
              "#f0f921"
             ]
            ],
            "type": "histogram2d"
           }
          ],
          "histogram2dcontour": [
           {
            "colorbar": {
             "outlinewidth": 0,
             "ticks": ""
            },
            "colorscale": [
             [
              0,
              "#0d0887"
             ],
             [
              0.1111111111111111,
              "#46039f"
             ],
             [
              0.2222222222222222,
              "#7201a8"
             ],
             [
              0.3333333333333333,
              "#9c179e"
             ],
             [
              0.4444444444444444,
              "#bd3786"
             ],
             [
              0.5555555555555556,
              "#d8576b"
             ],
             [
              0.6666666666666666,
              "#ed7953"
             ],
             [
              0.7777777777777778,
              "#fb9f3a"
             ],
             [
              0.8888888888888888,
              "#fdca26"
             ],
             [
              1,
              "#f0f921"
             ]
            ],
            "type": "histogram2dcontour"
           }
          ],
          "mesh3d": [
           {
            "colorbar": {
             "outlinewidth": 0,
             "ticks": ""
            },
            "type": "mesh3d"
           }
          ],
          "parcoords": [
           {
            "line": {
             "colorbar": {
              "outlinewidth": 0,
              "ticks": ""
             }
            },
            "type": "parcoords"
           }
          ],
          "pie": [
           {
            "automargin": true,
            "type": "pie"
           }
          ],
          "scatter": [
           {
            "fillpattern": {
             "fillmode": "overlay",
             "size": 10,
             "solidity": 0.2
            },
            "type": "scatter"
           }
          ],
          "scatter3d": [
           {
            "line": {
             "colorbar": {
              "outlinewidth": 0,
              "ticks": ""
             }
            },
            "marker": {
             "colorbar": {
              "outlinewidth": 0,
              "ticks": ""
             }
            },
            "type": "scatter3d"
           }
          ],
          "scattercarpet": [
           {
            "marker": {
             "colorbar": {
              "outlinewidth": 0,
              "ticks": ""
             }
            },
            "type": "scattercarpet"
           }
          ],
          "scattergeo": [
           {
            "marker": {
             "colorbar": {
              "outlinewidth": 0,
              "ticks": ""
             }
            },
            "type": "scattergeo"
           }
          ],
          "scattergl": [
           {
            "marker": {
             "colorbar": {
              "outlinewidth": 0,
              "ticks": ""
             }
            },
            "type": "scattergl"
           }
          ],
          "scattermapbox": [
           {
            "marker": {
             "colorbar": {
              "outlinewidth": 0,
              "ticks": ""
             }
            },
            "type": "scattermapbox"
           }
          ],
          "scatterpolar": [
           {
            "marker": {
             "colorbar": {
              "outlinewidth": 0,
              "ticks": ""
             }
            },
            "type": "scatterpolar"
           }
          ],
          "scatterpolargl": [
           {
            "marker": {
             "colorbar": {
              "outlinewidth": 0,
              "ticks": ""
             }
            },
            "type": "scatterpolargl"
           }
          ],
          "scatterternary": [
           {
            "marker": {
             "colorbar": {
              "outlinewidth": 0,
              "ticks": ""
             }
            },
            "type": "scatterternary"
           }
          ],
          "surface": [
           {
            "colorbar": {
             "outlinewidth": 0,
             "ticks": ""
            },
            "colorscale": [
             [
              0,
              "#0d0887"
             ],
             [
              0.1111111111111111,
              "#46039f"
             ],
             [
              0.2222222222222222,
              "#7201a8"
             ],
             [
              0.3333333333333333,
              "#9c179e"
             ],
             [
              0.4444444444444444,
              "#bd3786"
             ],
             [
              0.5555555555555556,
              "#d8576b"
             ],
             [
              0.6666666666666666,
              "#ed7953"
             ],
             [
              0.7777777777777778,
              "#fb9f3a"
             ],
             [
              0.8888888888888888,
              "#fdca26"
             ],
             [
              1,
              "#f0f921"
             ]
            ],
            "type": "surface"
           }
          ],
          "table": [
           {
            "cells": {
             "fill": {
              "color": "#EBF0F8"
             },
             "line": {
              "color": "white"
             }
            },
            "header": {
             "fill": {
              "color": "#C8D4E3"
             },
             "line": {
              "color": "white"
             }
            },
            "type": "table"
           }
          ]
         },
         "layout": {
          "annotationdefaults": {
           "arrowcolor": "#2a3f5f",
           "arrowhead": 0,
           "arrowwidth": 1
          },
          "autotypenumbers": "strict",
          "coloraxis": {
           "colorbar": {
            "outlinewidth": 0,
            "ticks": ""
           }
          },
          "colorscale": {
           "diverging": [
            [
             0,
             "#8e0152"
            ],
            [
             0.1,
             "#c51b7d"
            ],
            [
             0.2,
             "#de77ae"
            ],
            [
             0.3,
             "#f1b6da"
            ],
            [
             0.4,
             "#fde0ef"
            ],
            [
             0.5,
             "#f7f7f7"
            ],
            [
             0.6,
             "#e6f5d0"
            ],
            [
             0.7,
             "#b8e186"
            ],
            [
             0.8,
             "#7fbc41"
            ],
            [
             0.9,
             "#4d9221"
            ],
            [
             1,
             "#276419"
            ]
           ],
           "sequential": [
            [
             0,
             "#0d0887"
            ],
            [
             0.1111111111111111,
             "#46039f"
            ],
            [
             0.2222222222222222,
             "#7201a8"
            ],
            [
             0.3333333333333333,
             "#9c179e"
            ],
            [
             0.4444444444444444,
             "#bd3786"
            ],
            [
             0.5555555555555556,
             "#d8576b"
            ],
            [
             0.6666666666666666,
             "#ed7953"
            ],
            [
             0.7777777777777778,
             "#fb9f3a"
            ],
            [
             0.8888888888888888,
             "#fdca26"
            ],
            [
             1,
             "#f0f921"
            ]
           ],
           "sequentialminus": [
            [
             0,
             "#0d0887"
            ],
            [
             0.1111111111111111,
             "#46039f"
            ],
            [
             0.2222222222222222,
             "#7201a8"
            ],
            [
             0.3333333333333333,
             "#9c179e"
            ],
            [
             0.4444444444444444,
             "#bd3786"
            ],
            [
             0.5555555555555556,
             "#d8576b"
            ],
            [
             0.6666666666666666,
             "#ed7953"
            ],
            [
             0.7777777777777778,
             "#fb9f3a"
            ],
            [
             0.8888888888888888,
             "#fdca26"
            ],
            [
             1,
             "#f0f921"
            ]
           ]
          },
          "colorway": [
           "#636efa",
           "#EF553B",
           "#00cc96",
           "#ab63fa",
           "#FFA15A",
           "#19d3f3",
           "#FF6692",
           "#B6E880",
           "#FF97FF",
           "#FECB52"
          ],
          "font": {
           "color": "#2a3f5f"
          },
          "geo": {
           "bgcolor": "white",
           "lakecolor": "white",
           "landcolor": "#E5ECF6",
           "showlakes": true,
           "showland": true,
           "subunitcolor": "white"
          },
          "hoverlabel": {
           "align": "left"
          },
          "hovermode": "closest",
          "mapbox": {
           "style": "light"
          },
          "paper_bgcolor": "white",
          "plot_bgcolor": "#E5ECF6",
          "polar": {
           "angularaxis": {
            "gridcolor": "white",
            "linecolor": "white",
            "ticks": ""
           },
           "bgcolor": "#E5ECF6",
           "radialaxis": {
            "gridcolor": "white",
            "linecolor": "white",
            "ticks": ""
           }
          },
          "scene": {
           "xaxis": {
            "backgroundcolor": "#E5ECF6",
            "gridcolor": "white",
            "gridwidth": 2,
            "linecolor": "white",
            "showbackground": true,
            "ticks": "",
            "zerolinecolor": "white"
           },
           "yaxis": {
            "backgroundcolor": "#E5ECF6",
            "gridcolor": "white",
            "gridwidth": 2,
            "linecolor": "white",
            "showbackground": true,
            "ticks": "",
            "zerolinecolor": "white"
           },
           "zaxis": {
            "backgroundcolor": "#E5ECF6",
            "gridcolor": "white",
            "gridwidth": 2,
            "linecolor": "white",
            "showbackground": true,
            "ticks": "",
            "zerolinecolor": "white"
           }
          },
          "shapedefaults": {
           "line": {
            "color": "#2a3f5f"
           }
          },
          "ternary": {
           "aaxis": {
            "gridcolor": "white",
            "linecolor": "white",
            "ticks": ""
           },
           "baxis": {
            "gridcolor": "white",
            "linecolor": "white",
            "ticks": ""
           },
           "bgcolor": "#E5ECF6",
           "caxis": {
            "gridcolor": "white",
            "linecolor": "white",
            "ticks": ""
           }
          },
          "title": {
           "x": 0.05
          },
          "xaxis": {
           "automargin": true,
           "gridcolor": "white",
           "linecolor": "white",
           "ticks": "",
           "title": {
            "standoff": 15
           },
           "zerolinecolor": "white",
           "zerolinewidth": 2
          },
          "yaxis": {
           "automargin": true,
           "gridcolor": "white",
           "linecolor": "white",
           "ticks": "",
           "title": {
            "standoff": 15
           },
           "zerolinecolor": "white",
           "zerolinewidth": 2
          }
         }
        },
        "title": {
         "text": "Occupancy of the wards after 1 month"
        },
        "xaxis": {
         "anchor": "y",
         "domain": [
          0,
          1
         ],
         "title": {
          "text": "Ward"
         }
        },
        "yaxis": {
         "anchor": "x",
         "domain": [
          0,
          1
         ],
         "title": {
          "text": "Number of patients"
         }
        }
       }
      }
     },
     "metadata": {},
     "output_type": "display_data"
    }
   ],
   "source": [
    "#create a stacked bar chart of the occupancy of the wards\n",
    "import plotly.express as px\n",
    "fig = px.bar(df_performance.drop(\"Rejected\", axis = 1))\n",
    "\n",
    "fig.update_layout(barmode='stack',\n",
    "                    title='Occupancy of the wards after 1 month',\n",
    "                    xaxis_title='Ward',\n",
    "                    yaxis_title='Number of patients')\n",
    "fig.show()\n",
    "fig.write_image(\"plots/occupancy.png\")\n",
    "#save fig in plots"
   ]
  },
  {
   "cell_type": "markdown",
   "metadata": {},
   "source": [
    "### Over time sim (HIDDEN FOR NOW)"
   ]
  },
  {
   "cell_type": "code",
   "execution_count": null,
   "metadata": {},
   "outputs": [],
   "source": [
    "# occupancy_last_sim = []\n",
    "# rejections_last_sim = []\n",
    "# for ward in wards:\n",
    "#     ward_occupancy = np.array(ward.occupancy)\n",
    "#     ward_rejections = np.array(ward.rejections)\n",
    "#     occupancy_last_sim.append(ward_occupancy[ward_occupancy[:,0] < total_time, :])\n",
    "#     rejections_last_sim.append(ward_rejections[ward_rejections < total_time])"
   ]
  },
  {
   "cell_type": "code",
   "execution_count": null,
   "metadata": {},
   "outputs": [],
   "source": [
    "# fig = go.Figure()\n",
    "# for i,ward in enumerate(wards):\n",
    "#     occupancy = occupancy_last_sim[i]\n",
    "#     color = 'rgba(' + str(np.random.randint(0,256)) + ',' + str(np.random.randint(0,256)) + ',' + str(np.random.randint(0,256)) + ',1)'\n",
    "#     fig.add_trace(go.Scatter(x = occupancy[:,0], y = occupancy[:,1], mode = 'lines', name = ward.type, line = dict(color = color)))\n",
    "#     #plot upper bound as line for each ward\n",
    "#     fig.add_trace(go.Scatter(x = occupancy[:,0], y = ward.capacity*np.ones(occupancy.shape[0]), mode = 'lines', line = dict(dash = 'dash', color = color), name = ward.type + ' upper bound'))\n",
    "#     #plot rejections as crosses for each ward\n",
    "#     rejections = rejections_last_sim[i]\n",
    "#     fig.add_trace(go.Scatter(x = rejections, y = ward.capacity*np.ones(len(rejections)), mode = 'markers', marker = dict(symbol = 'x', size = 7, color = color, opacity=0.5), name = ward.type + ' rejections'))\n",
    "# fig.update_layout(title = 'Occupancy through time for each simulation in each ward', xaxis_title = 'Time[days]', yaxis_title = 'Occupancy', height = 600)\n",
    "# fig.show()\n",
    "# #save figure as png\n",
    "# fig.write_image(\"plots/occupancy_through_time.png\")"
   ]
  },
  {
   "cell_type": "markdown",
   "metadata": {},
   "source": [
    " Create a new ward (F\n",
    "∗\n",
    ") in the system and allocate a minimal number of the current bed\n",
    "resources to the new ward. Ensure that at least 95% of the type F\n",
    "∗ patients are hospitalized in\n",
    "Ward F\n",
    "∗\n",
    ". Use the ”urgency points” from Table 1 to balance the solution (prioritize wards that\n",
    "need beds more than other wards)."
   ]
  },
  {
   "cell_type": "code",
   "execution_count": null,
   "metadata": {},
   "outputs": [],
   "source": [
    "performance = run_simulations(total_time, wards, relocation_probability, arrival_interval_function, occupancy_time_function, n_simulations = 100, verbose = False, burn_in_time = 0)"
   ]
  },
  {
   "cell_type": "code",
   "execution_count": null,
   "metadata": {},
   "outputs": [],
   "source": [
    "#Number of beds required to ensure that 95% of the arrivals in F are admitted\n",
    "F_bed_capacity_optimal = 34"
   ]
  },
  {
   "cell_type": "markdown",
   "metadata": {},
   "source": [
    "At some point increasing the number of beds in a ward will not dramatically decrease the penalty."
   ]
  },
  {
   "cell_type": "markdown",
   "metadata": {},
   "source": [
    "# Sensitivity analysis\n",
    "Test the system’s sensitivity to the length-of-stay distribution by replacing the exponential\n",
    "distribution with the log-normal distribution. Test the new distribution by gradually increasing\n",
    "the variance (e.g. σ\n",
    "2\n",
    "i = 2/µ2\n",
    "i\n",
    ", 3/µ2\n",
    "i\n",
    "and 4/µ2\n",
    "i\n",
    ")"
   ]
  },
  {
   "cell_type": "code",
   "execution_count": null,
   "metadata": {},
   "outputs": [],
   "source": [
    "#sampling functions. Takes type as input and returns a sample with the corresponding distribution\n",
    "#Test the system’s sensitivity to the length-of-stay distribution by replacing the exponential\n",
    "#distribution with the log-normal distribution. Test the new distribution by gradually increasing\n",
    "#the variance \n",
    "\n",
    "arrival_interval_function = lambda type: np.random.exponential(1/df[\"Arrivals per day\"][type])\n",
    "occupancy_time_function = lambda var_scale : lambda type: np.random.lognormal(mean = np.log(df[\"Mean Length of Stay\"][type]), sigma = np.sqrt(var_scale/df[\"Mean Length of Stay\"][type]**2))"
   ]
  },
  {
   "cell_type": "code",
   "execution_count": null,
   "metadata": {},
   "outputs": [],
   "source": [
    "var_scales = np.linspace(1, 10, 10)\n",
    "penalties = []\n",
    "df.loc['F', 'Bed Capacity'] = F_bed_capacity_optimal\n",
    "for var_scale in var_scales:\n",
    "    wards = initialize_wards(df) #list of wards\n",
    "    occupancy_time_function_var = occupancy_time_function(var_scale)\n",
    "    performance = run_simulations(total_time, wards, relocation_probability, arrival_interval_function, occupancy_time_function_var, n_simulations = 10, verbose = False)\n",
    "    penalties.append(performance[\"Weighted penalty\"])"
   ]
  },
  {
   "cell_type": "code",
   "execution_count": null,
   "metadata": {},
   "outputs": [
    {
     "data": {
      "application/vnd.plotly.v1+json": {
       "config": {
        "plotlyServerURL": "https://plot.ly"
       },
       "data": [
        {
         "name": "Weighted penalty",
         "type": "scatter",
         "x": [
          1,
          2,
          3,
          4,
          5,
          6,
          7,
          8,
          9,
          10
         ],
         "y": [
          4545.8,
          5290.3,
          6144.4,
          7237.799999999999,
          7590.7,
          8302.7,
          9046.8,
          9441.3,
          9538.599999999999,
          10156.4
         ]
        }
       ],
       "layout": {
        "template": {
         "data": {
          "bar": [
           {
            "error_x": {
             "color": "#2a3f5f"
            },
            "error_y": {
             "color": "#2a3f5f"
            },
            "marker": {
             "line": {
              "color": "#E5ECF6",
              "width": 0.5
             },
             "pattern": {
              "fillmode": "overlay",
              "size": 10,
              "solidity": 0.2
             }
            },
            "type": "bar"
           }
          ],
          "barpolar": [
           {
            "marker": {
             "line": {
              "color": "#E5ECF6",
              "width": 0.5
             },
             "pattern": {
              "fillmode": "overlay",
              "size": 10,
              "solidity": 0.2
             }
            },
            "type": "barpolar"
           }
          ],
          "carpet": [
           {
            "aaxis": {
             "endlinecolor": "#2a3f5f",
             "gridcolor": "white",
             "linecolor": "white",
             "minorgridcolor": "white",
             "startlinecolor": "#2a3f5f"
            },
            "baxis": {
             "endlinecolor": "#2a3f5f",
             "gridcolor": "white",
             "linecolor": "white",
             "minorgridcolor": "white",
             "startlinecolor": "#2a3f5f"
            },
            "type": "carpet"
           }
          ],
          "choropleth": [
           {
            "colorbar": {
             "outlinewidth": 0,
             "ticks": ""
            },
            "type": "choropleth"
           }
          ],
          "contour": [
           {
            "colorbar": {
             "outlinewidth": 0,
             "ticks": ""
            },
            "colorscale": [
             [
              0,
              "#0d0887"
             ],
             [
              0.1111111111111111,
              "#46039f"
             ],
             [
              0.2222222222222222,
              "#7201a8"
             ],
             [
              0.3333333333333333,
              "#9c179e"
             ],
             [
              0.4444444444444444,
              "#bd3786"
             ],
             [
              0.5555555555555556,
              "#d8576b"
             ],
             [
              0.6666666666666666,
              "#ed7953"
             ],
             [
              0.7777777777777778,
              "#fb9f3a"
             ],
             [
              0.8888888888888888,
              "#fdca26"
             ],
             [
              1,
              "#f0f921"
             ]
            ],
            "type": "contour"
           }
          ],
          "contourcarpet": [
           {
            "colorbar": {
             "outlinewidth": 0,
             "ticks": ""
            },
            "type": "contourcarpet"
           }
          ],
          "heatmap": [
           {
            "colorbar": {
             "outlinewidth": 0,
             "ticks": ""
            },
            "colorscale": [
             [
              0,
              "#0d0887"
             ],
             [
              0.1111111111111111,
              "#46039f"
             ],
             [
              0.2222222222222222,
              "#7201a8"
             ],
             [
              0.3333333333333333,
              "#9c179e"
             ],
             [
              0.4444444444444444,
              "#bd3786"
             ],
             [
              0.5555555555555556,
              "#d8576b"
             ],
             [
              0.6666666666666666,
              "#ed7953"
             ],
             [
              0.7777777777777778,
              "#fb9f3a"
             ],
             [
              0.8888888888888888,
              "#fdca26"
             ],
             [
              1,
              "#f0f921"
             ]
            ],
            "type": "heatmap"
           }
          ],
          "heatmapgl": [
           {
            "colorbar": {
             "outlinewidth": 0,
             "ticks": ""
            },
            "colorscale": [
             [
              0,
              "#0d0887"
             ],
             [
              0.1111111111111111,
              "#46039f"
             ],
             [
              0.2222222222222222,
              "#7201a8"
             ],
             [
              0.3333333333333333,
              "#9c179e"
             ],
             [
              0.4444444444444444,
              "#bd3786"
             ],
             [
              0.5555555555555556,
              "#d8576b"
             ],
             [
              0.6666666666666666,
              "#ed7953"
             ],
             [
              0.7777777777777778,
              "#fb9f3a"
             ],
             [
              0.8888888888888888,
              "#fdca26"
             ],
             [
              1,
              "#f0f921"
             ]
            ],
            "type": "heatmapgl"
           }
          ],
          "histogram": [
           {
            "marker": {
             "pattern": {
              "fillmode": "overlay",
              "size": 10,
              "solidity": 0.2
             }
            },
            "type": "histogram"
           }
          ],
          "histogram2d": [
           {
            "colorbar": {
             "outlinewidth": 0,
             "ticks": ""
            },
            "colorscale": [
             [
              0,
              "#0d0887"
             ],
             [
              0.1111111111111111,
              "#46039f"
             ],
             [
              0.2222222222222222,
              "#7201a8"
             ],
             [
              0.3333333333333333,
              "#9c179e"
             ],
             [
              0.4444444444444444,
              "#bd3786"
             ],
             [
              0.5555555555555556,
              "#d8576b"
             ],
             [
              0.6666666666666666,
              "#ed7953"
             ],
             [
              0.7777777777777778,
              "#fb9f3a"
             ],
             [
              0.8888888888888888,
              "#fdca26"
             ],
             [
              1,
              "#f0f921"
             ]
            ],
            "type": "histogram2d"
           }
          ],
          "histogram2dcontour": [
           {
            "colorbar": {
             "outlinewidth": 0,
             "ticks": ""
            },
            "colorscale": [
             [
              0,
              "#0d0887"
             ],
             [
              0.1111111111111111,
              "#46039f"
             ],
             [
              0.2222222222222222,
              "#7201a8"
             ],
             [
              0.3333333333333333,
              "#9c179e"
             ],
             [
              0.4444444444444444,
              "#bd3786"
             ],
             [
              0.5555555555555556,
              "#d8576b"
             ],
             [
              0.6666666666666666,
              "#ed7953"
             ],
             [
              0.7777777777777778,
              "#fb9f3a"
             ],
             [
              0.8888888888888888,
              "#fdca26"
             ],
             [
              1,
              "#f0f921"
             ]
            ],
            "type": "histogram2dcontour"
           }
          ],
          "mesh3d": [
           {
            "colorbar": {
             "outlinewidth": 0,
             "ticks": ""
            },
            "type": "mesh3d"
           }
          ],
          "parcoords": [
           {
            "line": {
             "colorbar": {
              "outlinewidth": 0,
              "ticks": ""
             }
            },
            "type": "parcoords"
           }
          ],
          "pie": [
           {
            "automargin": true,
            "type": "pie"
           }
          ],
          "scatter": [
           {
            "fillpattern": {
             "fillmode": "overlay",
             "size": 10,
             "solidity": 0.2
            },
            "type": "scatter"
           }
          ],
          "scatter3d": [
           {
            "line": {
             "colorbar": {
              "outlinewidth": 0,
              "ticks": ""
             }
            },
            "marker": {
             "colorbar": {
              "outlinewidth": 0,
              "ticks": ""
             }
            },
            "type": "scatter3d"
           }
          ],
          "scattercarpet": [
           {
            "marker": {
             "colorbar": {
              "outlinewidth": 0,
              "ticks": ""
             }
            },
            "type": "scattercarpet"
           }
          ],
          "scattergeo": [
           {
            "marker": {
             "colorbar": {
              "outlinewidth": 0,
              "ticks": ""
             }
            },
            "type": "scattergeo"
           }
          ],
          "scattergl": [
           {
            "marker": {
             "colorbar": {
              "outlinewidth": 0,
              "ticks": ""
             }
            },
            "type": "scattergl"
           }
          ],
          "scattermapbox": [
           {
            "marker": {
             "colorbar": {
              "outlinewidth": 0,
              "ticks": ""
             }
            },
            "type": "scattermapbox"
           }
          ],
          "scatterpolar": [
           {
            "marker": {
             "colorbar": {
              "outlinewidth": 0,
              "ticks": ""
             }
            },
            "type": "scatterpolar"
           }
          ],
          "scatterpolargl": [
           {
            "marker": {
             "colorbar": {
              "outlinewidth": 0,
              "ticks": ""
             }
            },
            "type": "scatterpolargl"
           }
          ],
          "scatterternary": [
           {
            "marker": {
             "colorbar": {
              "outlinewidth": 0,
              "ticks": ""
             }
            },
            "type": "scatterternary"
           }
          ],
          "surface": [
           {
            "colorbar": {
             "outlinewidth": 0,
             "ticks": ""
            },
            "colorscale": [
             [
              0,
              "#0d0887"
             ],
             [
              0.1111111111111111,
              "#46039f"
             ],
             [
              0.2222222222222222,
              "#7201a8"
             ],
             [
              0.3333333333333333,
              "#9c179e"
             ],
             [
              0.4444444444444444,
              "#bd3786"
             ],
             [
              0.5555555555555556,
              "#d8576b"
             ],
             [
              0.6666666666666666,
              "#ed7953"
             ],
             [
              0.7777777777777778,
              "#fb9f3a"
             ],
             [
              0.8888888888888888,
              "#fdca26"
             ],
             [
              1,
              "#f0f921"
             ]
            ],
            "type": "surface"
           }
          ],
          "table": [
           {
            "cells": {
             "fill": {
              "color": "#EBF0F8"
             },
             "line": {
              "color": "white"
             }
            },
            "header": {
             "fill": {
              "color": "#C8D4E3"
             },
             "line": {
              "color": "white"
             }
            },
            "type": "table"
           }
          ]
         },
         "layout": {
          "annotationdefaults": {
           "arrowcolor": "#2a3f5f",
           "arrowhead": 0,
           "arrowwidth": 1
          },
          "autotypenumbers": "strict",
          "coloraxis": {
           "colorbar": {
            "outlinewidth": 0,
            "ticks": ""
           }
          },
          "colorscale": {
           "diverging": [
            [
             0,
             "#8e0152"
            ],
            [
             0.1,
             "#c51b7d"
            ],
            [
             0.2,
             "#de77ae"
            ],
            [
             0.3,
             "#f1b6da"
            ],
            [
             0.4,
             "#fde0ef"
            ],
            [
             0.5,
             "#f7f7f7"
            ],
            [
             0.6,
             "#e6f5d0"
            ],
            [
             0.7,
             "#b8e186"
            ],
            [
             0.8,
             "#7fbc41"
            ],
            [
             0.9,
             "#4d9221"
            ],
            [
             1,
             "#276419"
            ]
           ],
           "sequential": [
            [
             0,
             "#0d0887"
            ],
            [
             0.1111111111111111,
             "#46039f"
            ],
            [
             0.2222222222222222,
             "#7201a8"
            ],
            [
             0.3333333333333333,
             "#9c179e"
            ],
            [
             0.4444444444444444,
             "#bd3786"
            ],
            [
             0.5555555555555556,
             "#d8576b"
            ],
            [
             0.6666666666666666,
             "#ed7953"
            ],
            [
             0.7777777777777778,
             "#fb9f3a"
            ],
            [
             0.8888888888888888,
             "#fdca26"
            ],
            [
             1,
             "#f0f921"
            ]
           ],
           "sequentialminus": [
            [
             0,
             "#0d0887"
            ],
            [
             0.1111111111111111,
             "#46039f"
            ],
            [
             0.2222222222222222,
             "#7201a8"
            ],
            [
             0.3333333333333333,
             "#9c179e"
            ],
            [
             0.4444444444444444,
             "#bd3786"
            ],
            [
             0.5555555555555556,
             "#d8576b"
            ],
            [
             0.6666666666666666,
             "#ed7953"
            ],
            [
             0.7777777777777778,
             "#fb9f3a"
            ],
            [
             0.8888888888888888,
             "#fdca26"
            ],
            [
             1,
             "#f0f921"
            ]
           ]
          },
          "colorway": [
           "#636efa",
           "#EF553B",
           "#00cc96",
           "#ab63fa",
           "#FFA15A",
           "#19d3f3",
           "#FF6692",
           "#B6E880",
           "#FF97FF",
           "#FECB52"
          ],
          "font": {
           "color": "#2a3f5f"
          },
          "geo": {
           "bgcolor": "white",
           "lakecolor": "white",
           "landcolor": "#E5ECF6",
           "showlakes": true,
           "showland": true,
           "subunitcolor": "white"
          },
          "hoverlabel": {
           "align": "left"
          },
          "hovermode": "closest",
          "mapbox": {
           "style": "light"
          },
          "paper_bgcolor": "white",
          "plot_bgcolor": "#E5ECF6",
          "polar": {
           "angularaxis": {
            "gridcolor": "white",
            "linecolor": "white",
            "ticks": ""
           },
           "bgcolor": "#E5ECF6",
           "radialaxis": {
            "gridcolor": "white",
            "linecolor": "white",
            "ticks": ""
           }
          },
          "scene": {
           "xaxis": {
            "backgroundcolor": "#E5ECF6",
            "gridcolor": "white",
            "gridwidth": 2,
            "linecolor": "white",
            "showbackground": true,
            "ticks": "",
            "zerolinecolor": "white"
           },
           "yaxis": {
            "backgroundcolor": "#E5ECF6",
            "gridcolor": "white",
            "gridwidth": 2,
            "linecolor": "white",
            "showbackground": true,
            "ticks": "",
            "zerolinecolor": "white"
           },
           "zaxis": {
            "backgroundcolor": "#E5ECF6",
            "gridcolor": "white",
            "gridwidth": 2,
            "linecolor": "white",
            "showbackground": true,
            "ticks": "",
            "zerolinecolor": "white"
           }
          },
          "shapedefaults": {
           "line": {
            "color": "#2a3f5f"
           }
          },
          "ternary": {
           "aaxis": {
            "gridcolor": "white",
            "linecolor": "white",
            "ticks": ""
           },
           "baxis": {
            "gridcolor": "white",
            "linecolor": "white",
            "ticks": ""
           },
           "bgcolor": "#E5ECF6",
           "caxis": {
            "gridcolor": "white",
            "linecolor": "white",
            "ticks": ""
           }
          },
          "title": {
           "x": 0.05
          },
          "xaxis": {
           "automargin": true,
           "gridcolor": "white",
           "linecolor": "white",
           "ticks": "",
           "title": {
            "standoff": 15
           },
           "zerolinecolor": "white",
           "zerolinewidth": 2
          },
          "yaxis": {
           "automargin": true,
           "gridcolor": "white",
           "linecolor": "white",
           "ticks": "",
           "title": {
            "standoff": 15
           },
           "zerolinecolor": "white",
           "zerolinewidth": 2
          }
         }
        },
        "title": {
         "text": "Weighted penalty as variance increases"
        },
        "xaxis": {
         "title": {
          "text": "μ^2 * σ^2"
         }
        },
        "yaxis": {
         "title": {
          "text": "Weighted penalty"
         }
        }
       }
      }
     },
     "metadata": {},
     "output_type": "display_data"
    }
   ],
   "source": [
    "#plot the results with PyPlot\n",
    "fig = go.Figure()\n",
    "fig.add_trace(go.Scatter(x = var_scales, y = penalties, name='Weighted penalty'))\n",
    "fig.update_layout(title = \"Weighted penalty as variance increases\",\n",
    "                  xaxis_title = \"μ^2 * σ^2\",\n",
    "                  yaxis_title = \"Weighted penalty\")\n",
    "fig.show()\n",
    "#save fig in plots\n",
    "fig.write_image(\"plots/penalty_variance.png\")"
   ]
  },
  {
   "cell_type": "markdown",
   "metadata": {},
   "source": [
    "Test the system’s sensitivity to the distribution of beds in the hospital."
   ]
  },
  {
   "cell_type": "code",
   "execution_count": null,
   "metadata": {},
   "outputs": [],
   "source": [
    "#gradient of the weighted penalty as a function of the number of beds in each ward\n",
    "arrival_interval_function = lambda type: np.random.exponential(1/df[\"Arrivals per day\"][type])\n",
    "occupancy_time_function = lambda type: np.random.exponential(df[\"Mean Length of Stay\"][type])"
   ]
  },
  {
   "cell_type": "code",
   "execution_count": null,
   "metadata": {},
   "outputs": [
    {
     "data": {
      "application/vnd.plotly.v1+json": {
       "config": {
        "plotlyServerURL": "https://plot.ly"
       },
       "data": [
        {
         "marker": {
          "color": [
           "blue",
           "red",
           "red",
           "blue",
           "blue",
           "red"
          ]
         },
         "type": "bar",
         "x": [
          "A",
          "B",
          "C",
          "D",
          "E",
          "F"
         ],
         "y": [
          150.6500000000001,
          -422.6500000000001,
          -146.79999999999995,
          75.95000000000005,
          93.64999999999986,
          -45.69999999999982
         ]
        }
       ],
       "layout": {
        "template": {
         "data": {
          "bar": [
           {
            "error_x": {
             "color": "#2a3f5f"
            },
            "error_y": {
             "color": "#2a3f5f"
            },
            "marker": {
             "line": {
              "color": "#E5ECF6",
              "width": 0.5
             },
             "pattern": {
              "fillmode": "overlay",
              "size": 10,
              "solidity": 0.2
             }
            },
            "type": "bar"
           }
          ],
          "barpolar": [
           {
            "marker": {
             "line": {
              "color": "#E5ECF6",
              "width": 0.5
             },
             "pattern": {
              "fillmode": "overlay",
              "size": 10,
              "solidity": 0.2
             }
            },
            "type": "barpolar"
           }
          ],
          "carpet": [
           {
            "aaxis": {
             "endlinecolor": "#2a3f5f",
             "gridcolor": "white",
             "linecolor": "white",
             "minorgridcolor": "white",
             "startlinecolor": "#2a3f5f"
            },
            "baxis": {
             "endlinecolor": "#2a3f5f",
             "gridcolor": "white",
             "linecolor": "white",
             "minorgridcolor": "white",
             "startlinecolor": "#2a3f5f"
            },
            "type": "carpet"
           }
          ],
          "choropleth": [
           {
            "colorbar": {
             "outlinewidth": 0,
             "ticks": ""
            },
            "type": "choropleth"
           }
          ],
          "contour": [
           {
            "colorbar": {
             "outlinewidth": 0,
             "ticks": ""
            },
            "colorscale": [
             [
              0,
              "#0d0887"
             ],
             [
              0.1111111111111111,
              "#46039f"
             ],
             [
              0.2222222222222222,
              "#7201a8"
             ],
             [
              0.3333333333333333,
              "#9c179e"
             ],
             [
              0.4444444444444444,
              "#bd3786"
             ],
             [
              0.5555555555555556,
              "#d8576b"
             ],
             [
              0.6666666666666666,
              "#ed7953"
             ],
             [
              0.7777777777777778,
              "#fb9f3a"
             ],
             [
              0.8888888888888888,
              "#fdca26"
             ],
             [
              1,
              "#f0f921"
             ]
            ],
            "type": "contour"
           }
          ],
          "contourcarpet": [
           {
            "colorbar": {
             "outlinewidth": 0,
             "ticks": ""
            },
            "type": "contourcarpet"
           }
          ],
          "heatmap": [
           {
            "colorbar": {
             "outlinewidth": 0,
             "ticks": ""
            },
            "colorscale": [
             [
              0,
              "#0d0887"
             ],
             [
              0.1111111111111111,
              "#46039f"
             ],
             [
              0.2222222222222222,
              "#7201a8"
             ],
             [
              0.3333333333333333,
              "#9c179e"
             ],
             [
              0.4444444444444444,
              "#bd3786"
             ],
             [
              0.5555555555555556,
              "#d8576b"
             ],
             [
              0.6666666666666666,
              "#ed7953"
             ],
             [
              0.7777777777777778,
              "#fb9f3a"
             ],
             [
              0.8888888888888888,
              "#fdca26"
             ],
             [
              1,
              "#f0f921"
             ]
            ],
            "type": "heatmap"
           }
          ],
          "heatmapgl": [
           {
            "colorbar": {
             "outlinewidth": 0,
             "ticks": ""
            },
            "colorscale": [
             [
              0,
              "#0d0887"
             ],
             [
              0.1111111111111111,
              "#46039f"
             ],
             [
              0.2222222222222222,
              "#7201a8"
             ],
             [
              0.3333333333333333,
              "#9c179e"
             ],
             [
              0.4444444444444444,
              "#bd3786"
             ],
             [
              0.5555555555555556,
              "#d8576b"
             ],
             [
              0.6666666666666666,
              "#ed7953"
             ],
             [
              0.7777777777777778,
              "#fb9f3a"
             ],
             [
              0.8888888888888888,
              "#fdca26"
             ],
             [
              1,
              "#f0f921"
             ]
            ],
            "type": "heatmapgl"
           }
          ],
          "histogram": [
           {
            "marker": {
             "pattern": {
              "fillmode": "overlay",
              "size": 10,
              "solidity": 0.2
             }
            },
            "type": "histogram"
           }
          ],
          "histogram2d": [
           {
            "colorbar": {
             "outlinewidth": 0,
             "ticks": ""
            },
            "colorscale": [
             [
              0,
              "#0d0887"
             ],
             [
              0.1111111111111111,
              "#46039f"
             ],
             [
              0.2222222222222222,
              "#7201a8"
             ],
             [
              0.3333333333333333,
              "#9c179e"
             ],
             [
              0.4444444444444444,
              "#bd3786"
             ],
             [
              0.5555555555555556,
              "#d8576b"
             ],
             [
              0.6666666666666666,
              "#ed7953"
             ],
             [
              0.7777777777777778,
              "#fb9f3a"
             ],
             [
              0.8888888888888888,
              "#fdca26"
             ],
             [
              1,
              "#f0f921"
             ]
            ],
            "type": "histogram2d"
           }
          ],
          "histogram2dcontour": [
           {
            "colorbar": {
             "outlinewidth": 0,
             "ticks": ""
            },
            "colorscale": [
             [
              0,
              "#0d0887"
             ],
             [
              0.1111111111111111,
              "#46039f"
             ],
             [
              0.2222222222222222,
              "#7201a8"
             ],
             [
              0.3333333333333333,
              "#9c179e"
             ],
             [
              0.4444444444444444,
              "#bd3786"
             ],
             [
              0.5555555555555556,
              "#d8576b"
             ],
             [
              0.6666666666666666,
              "#ed7953"
             ],
             [
              0.7777777777777778,
              "#fb9f3a"
             ],
             [
              0.8888888888888888,
              "#fdca26"
             ],
             [
              1,
              "#f0f921"
             ]
            ],
            "type": "histogram2dcontour"
           }
          ],
          "mesh3d": [
           {
            "colorbar": {
             "outlinewidth": 0,
             "ticks": ""
            },
            "type": "mesh3d"
           }
          ],
          "parcoords": [
           {
            "line": {
             "colorbar": {
              "outlinewidth": 0,
              "ticks": ""
             }
            },
            "type": "parcoords"
           }
          ],
          "pie": [
           {
            "automargin": true,
            "type": "pie"
           }
          ],
          "scatter": [
           {
            "fillpattern": {
             "fillmode": "overlay",
             "size": 10,
             "solidity": 0.2
            },
            "type": "scatter"
           }
          ],
          "scatter3d": [
           {
            "line": {
             "colorbar": {
              "outlinewidth": 0,
              "ticks": ""
             }
            },
            "marker": {
             "colorbar": {
              "outlinewidth": 0,
              "ticks": ""
             }
            },
            "type": "scatter3d"
           }
          ],
          "scattercarpet": [
           {
            "marker": {
             "colorbar": {
              "outlinewidth": 0,
              "ticks": ""
             }
            },
            "type": "scattercarpet"
           }
          ],
          "scattergeo": [
           {
            "marker": {
             "colorbar": {
              "outlinewidth": 0,
              "ticks": ""
             }
            },
            "type": "scattergeo"
           }
          ],
          "scattergl": [
           {
            "marker": {
             "colorbar": {
              "outlinewidth": 0,
              "ticks": ""
             }
            },
            "type": "scattergl"
           }
          ],
          "scattermapbox": [
           {
            "marker": {
             "colorbar": {
              "outlinewidth": 0,
              "ticks": ""
             }
            },
            "type": "scattermapbox"
           }
          ],
          "scatterpolar": [
           {
            "marker": {
             "colorbar": {
              "outlinewidth": 0,
              "ticks": ""
             }
            },
            "type": "scatterpolar"
           }
          ],
          "scatterpolargl": [
           {
            "marker": {
             "colorbar": {
              "outlinewidth": 0,
              "ticks": ""
             }
            },
            "type": "scatterpolargl"
           }
          ],
          "scatterternary": [
           {
            "marker": {
             "colorbar": {
              "outlinewidth": 0,
              "ticks": ""
             }
            },
            "type": "scatterternary"
           }
          ],
          "surface": [
           {
            "colorbar": {
             "outlinewidth": 0,
             "ticks": ""
            },
            "colorscale": [
             [
              0,
              "#0d0887"
             ],
             [
              0.1111111111111111,
              "#46039f"
             ],
             [
              0.2222222222222222,
              "#7201a8"
             ],
             [
              0.3333333333333333,
              "#9c179e"
             ],
             [
              0.4444444444444444,
              "#bd3786"
             ],
             [
              0.5555555555555556,
              "#d8576b"
             ],
             [
              0.6666666666666666,
              "#ed7953"
             ],
             [
              0.7777777777777778,
              "#fb9f3a"
             ],
             [
              0.8888888888888888,
              "#fdca26"
             ],
             [
              1,
              "#f0f921"
             ]
            ],
            "type": "surface"
           }
          ],
          "table": [
           {
            "cells": {
             "fill": {
              "color": "#EBF0F8"
             },
             "line": {
              "color": "white"
             }
            },
            "header": {
             "fill": {
              "color": "#C8D4E3"
             },
             "line": {
              "color": "white"
             }
            },
            "type": "table"
           }
          ]
         },
         "layout": {
          "annotationdefaults": {
           "arrowcolor": "#2a3f5f",
           "arrowhead": 0,
           "arrowwidth": 1
          },
          "autotypenumbers": "strict",
          "coloraxis": {
           "colorbar": {
            "outlinewidth": 0,
            "ticks": ""
           }
          },
          "colorscale": {
           "diverging": [
            [
             0,
             "#8e0152"
            ],
            [
             0.1,
             "#c51b7d"
            ],
            [
             0.2,
             "#de77ae"
            ],
            [
             0.3,
             "#f1b6da"
            ],
            [
             0.4,
             "#fde0ef"
            ],
            [
             0.5,
             "#f7f7f7"
            ],
            [
             0.6,
             "#e6f5d0"
            ],
            [
             0.7,
             "#b8e186"
            ],
            [
             0.8,
             "#7fbc41"
            ],
            [
             0.9,
             "#4d9221"
            ],
            [
             1,
             "#276419"
            ]
           ],
           "sequential": [
            [
             0,
             "#0d0887"
            ],
            [
             0.1111111111111111,
             "#46039f"
            ],
            [
             0.2222222222222222,
             "#7201a8"
            ],
            [
             0.3333333333333333,
             "#9c179e"
            ],
            [
             0.4444444444444444,
             "#bd3786"
            ],
            [
             0.5555555555555556,
             "#d8576b"
            ],
            [
             0.6666666666666666,
             "#ed7953"
            ],
            [
             0.7777777777777778,
             "#fb9f3a"
            ],
            [
             0.8888888888888888,
             "#fdca26"
            ],
            [
             1,
             "#f0f921"
            ]
           ],
           "sequentialminus": [
            [
             0,
             "#0d0887"
            ],
            [
             0.1111111111111111,
             "#46039f"
            ],
            [
             0.2222222222222222,
             "#7201a8"
            ],
            [
             0.3333333333333333,
             "#9c179e"
            ],
            [
             0.4444444444444444,
             "#bd3786"
            ],
            [
             0.5555555555555556,
             "#d8576b"
            ],
            [
             0.6666666666666666,
             "#ed7953"
            ],
            [
             0.7777777777777778,
             "#fb9f3a"
            ],
            [
             0.8888888888888888,
             "#fdca26"
            ],
            [
             1,
             "#f0f921"
            ]
           ]
          },
          "colorway": [
           "#636efa",
           "#EF553B",
           "#00cc96",
           "#ab63fa",
           "#FFA15A",
           "#19d3f3",
           "#FF6692",
           "#B6E880",
           "#FF97FF",
           "#FECB52"
          ],
          "font": {
           "color": "#2a3f5f"
          },
          "geo": {
           "bgcolor": "white",
           "lakecolor": "white",
           "landcolor": "#E5ECF6",
           "showlakes": true,
           "showland": true,
           "subunitcolor": "white"
          },
          "hoverlabel": {
           "align": "left"
          },
          "hovermode": "closest",
          "mapbox": {
           "style": "light"
          },
          "paper_bgcolor": "white",
          "plot_bgcolor": "#E5ECF6",
          "polar": {
           "angularaxis": {
            "gridcolor": "white",
            "linecolor": "white",
            "ticks": ""
           },
           "bgcolor": "#E5ECF6",
           "radialaxis": {
            "gridcolor": "white",
            "linecolor": "white",
            "ticks": ""
           }
          },
          "scene": {
           "xaxis": {
            "backgroundcolor": "#E5ECF6",
            "gridcolor": "white",
            "gridwidth": 2,
            "linecolor": "white",
            "showbackground": true,
            "ticks": "",
            "zerolinecolor": "white"
           },
           "yaxis": {
            "backgroundcolor": "#E5ECF6",
            "gridcolor": "white",
            "gridwidth": 2,
            "linecolor": "white",
            "showbackground": true,
            "ticks": "",
            "zerolinecolor": "white"
           },
           "zaxis": {
            "backgroundcolor": "#E5ECF6",
            "gridcolor": "white",
            "gridwidth": 2,
            "linecolor": "white",
            "showbackground": true,
            "ticks": "",
            "zerolinecolor": "white"
           }
          },
          "shapedefaults": {
           "line": {
            "color": "#2a3f5f"
           }
          },
          "ternary": {
           "aaxis": {
            "gridcolor": "white",
            "linecolor": "white",
            "ticks": ""
           },
           "baxis": {
            "gridcolor": "white",
            "linecolor": "white",
            "ticks": ""
           },
           "bgcolor": "#E5ECF6",
           "caxis": {
            "gridcolor": "white",
            "linecolor": "white",
            "ticks": ""
           }
          },
          "title": {
           "x": 0.05
          },
          "xaxis": {
           "automargin": true,
           "gridcolor": "white",
           "linecolor": "white",
           "ticks": "",
           "title": {
            "standoff": 15
           },
           "zerolinecolor": "white",
           "zerolinewidth": 2
          },
          "yaxis": {
           "automargin": true,
           "gridcolor": "white",
           "linecolor": "white",
           "ticks": "",
           "title": {
            "standoff": 15
           },
           "zerolinecolor": "white",
           "zerolinewidth": 2
          }
         }
        },
        "title": {
         "text": "Gradient of the weighted penalty with respect to the number of beds in each ward"
        },
        "xaxis": {
         "title": {
          "text": "Ward"
         }
        },
        "yaxis": {
         "title": {
          "text": "Weighted penalty"
         }
        }
       }
      }
     },
     "metadata": {},
     "output_type": "display_data"
    }
   ],
   "source": [
    "# Get the gradients for each ward\n",
    "wards = initialize_wards(df) #list of wards\n",
    "gradients = compute_gradient(total_time, wards, relocation_probability, arrival_interval_function, occupancy_time_function, n_simulations = 10, verbose = False)\n",
    "\n",
    "# Create a color array, setting the color to 'red' if the gradient is negative, 'blue' otherwise\n",
    "colors = ['red' if gradient < 0 else 'blue' for gradient in gradients]\n",
    "\n",
    "fig = go.Figure()\n",
    "fig.add_trace(go.Bar(x=[ward.type for ward in wards], y=gradients, marker_color=colors))\n",
    "fig.update_layout(title=\"Gradient of the weighted penalty with respect to the number of beds in each ward\",\n",
    "                  xaxis_title=\"Ward\",\n",
    "                  yaxis_title=\"Weighted penalty\")\n",
    "fig.show()\n",
    "#save fig in plots\n",
    "fig.write_image(\"plots/sensitivity.png\")"
   ]
  },
  {
   "cell_type": "markdown",
   "metadata": {},
   "source": [
    "valuate the result of increasing the total amount of beds in the system to for instance 170 or\n",
    "180 beds. Also, what would be the result of having fewer beds"
   ]
  }
 ],
 "metadata": {
  "kernelspec": {
   "display_name": "Python 3",
   "language": "python",
   "name": "python3"
  },
  "language_info": {
   "codemirror_mode": {
    "name": "ipython",
    "version": 3
   },
   "file_extension": ".py",
   "mimetype": "text/x-python",
   "name": "python",
   "nbconvert_exporter": "python",
   "pygments_lexer": "ipython3",
   "version": "3.11.0"
  }
 },
 "nbformat": 4,
 "nbformat_minor": 2
}
