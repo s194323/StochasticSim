{
 "cells": [
  {
   "cell_type": "markdown",
   "metadata": {},
   "source": [
    "# **Project 2:**"
   ]
  },
  {
   "cell_type": "code",
   "execution_count": 75,
   "metadata": {},
   "outputs": [],
   "source": [
    "import numpy as np\n",
    "import pandas as pd\n",
    "import plotly.graph_objects as go\n",
    "from src.Ward import Ward, initialize_wards\n",
    "from src.Patient import Patient, initialize_patients\n",
    "from src.simulation import simulation_loop, run_simulations,compute_gradient"
   ]
  },
  {
   "cell_type": "markdown",
   "metadata": {},
   "source": [
    "## initialization"
   ]
  },
  {
   "cell_type": "code",
   "execution_count": 76,
   "metadata": {},
   "outputs": [],
   "source": [
    "F_bed_capacity = 34 ##### Number to optimize #####\n",
    "\n",
    "#patient type from 'A' to 'F'\n",
    "patient_types = ['A', 'B', 'C', 'D', 'E', 'F']\n",
    "bed_capacity = np.array([55,40,30,20,20, F_bed_capacity])\n",
    "arrivals_pr_day = np.array([14.5,11.0,8.0,6.5,5.0, 13.0])\n",
    "mean_length_of_stay = np.array([2.9,4.0,4.5,1.4,3.9, 2.2])\n",
    "urgency_points = np.array([7,5,2,10,5, 0])\n",
    "\n",
    "#reloaction probability\n",
    "relocation_probability = np.array([\n",
    "    [0.0, 0.05, 0.10, 0.05, 0.80, 0.00],\n",
    "    [0.2, 0, 0.50, 0.15, 0.15, 0.00],\n",
    "    [0.30, 0.20, 0, 0.20, 0.30, 0.00],\n",
    "    [0.35, 0.30, 0.05, 0, 0.3, 0.00],\n",
    "    [0.20, 0.10, 0.60 ,0.10, 0, 0.00],\n",
    "    [0.20, 0.20, 0.20, 0.20, 0.20 ,0]\n",
    "    ])\n",
    "\n",
    "#Dataframe containing all the data (indexed by patient type)\n",
    "df = pd.DataFrame({\n",
    "    'Patient Type': patient_types,\n",
    "    'Bed Capacity': bed_capacity,\n",
    "    'Arrivals per day': arrivals_pr_day,\n",
    "    'Mean Length of Stay': mean_length_of_stay,\n",
    "    'Urgency Points': urgency_points\n",
    "    }).set_index('Patient Type')"
   ]
  },
  {
   "cell_type": "code",
   "execution_count": 77,
   "metadata": {},
   "outputs": [],
   "source": [
    "#sampling functions. Takes type as input and returns a sample with the corresponding distribution\n",
    "arrival_interval_function = lambda type: np.random.exponential(1/df[\"Arrivals per day\"][type])\n",
    "occupancy_time_function = lambda type: np.random.exponential(df[\"Mean Length of Stay\"][type])\n",
    "total_time = 31 #simulate 1 month"
   ]
  },
  {
   "cell_type": "markdown",
   "metadata": {},
   "source": [
    "# Optimize Bed configuration\n",
    "\n",
    "Create a new ward (F\n",
    "∗\n",
    ") in the system and allocate a minimal number of the current bed\n",
    "resources to the new ward. Ensure that at least 95% of the type F\n",
    "∗ patients are hospitalized in\n",
    "Ward F\n",
    "∗\n",
    ". Use the ”urgency points” from Table 1 to balance the solution (prioritize wards that\n",
    "need beds more than other wards)."
   ]
  },
  {
   "cell_type": "code",
   "execution_count": 141,
   "metadata": {},
   "outputs": [
    {
     "name": "stdout",
     "output_type": "stream",
     "text": [
      "F probability of rejection 0.9999999999999999  with bed capacity  0\n",
      "F probability of rejection 0.9663723145538172  with bed capacity  1\n",
      "F probability of rejection 0.9371740066828078  with bed capacity  2\n",
      "F probability of rejection 0.8978806691916963  with bed capacity  3\n",
      "F probability of rejection 0.8653345671438247  with bed capacity  4\n",
      "F probability of rejection 0.8311750999242015  with bed capacity  5\n",
      "F probability of rejection 0.8019503789461226  with bed capacity  6\n",
      "F probability of rejection 0.761697631322295  with bed capacity  7\n",
      "F probability of rejection 0.725605739683655  with bed capacity  8\n",
      "F probability of rejection 0.7117388137494347  with bed capacity  9\n",
      "F probability of rejection 0.6732910798558855  with bed capacity  10\n",
      "F probability of rejection 0.6335712250658336  with bed capacity  11\n",
      "F probability of rejection 0.6087747315226727  with bed capacity  12\n",
      "F probability of rejection 0.5770535297868049  with bed capacity  13\n",
      "F probability of rejection 0.5373969596513113  with bed capacity  14\n",
      "F probability of rejection 0.4938553099657294  with bed capacity  15\n",
      "F probability of rejection 0.48393481076434774  with bed capacity  16\n",
      "F probability of rejection 0.4467148864111763  with bed capacity  17\n",
      "F probability of rejection 0.40099803919506033  with bed capacity  18\n",
      "F probability of rejection 0.38241607836959796  with bed capacity  19\n",
      "F probability of rejection 0.366814693891933  with bed capacity  20\n",
      "F probability of rejection 0.3304872322358366  with bed capacity  21\n",
      "F probability of rejection 0.30469896700762117  with bed capacity  22\n",
      "F probability of rejection 0.23047756373390338  with bed capacity  23\n",
      "F probability of rejection 0.279414540590583  with bed capacity  24\n",
      "F probability of rejection 0.18061550096841797  with bed capacity  25\n",
      "F probability of rejection 0.20394581095593414  with bed capacity  26\n",
      "F probability of rejection 0.15769575174670933  with bed capacity  27\n",
      "F probability of rejection 0.13923855523751355  with bed capacity  28\n",
      "F probability of rejection 0.1081693637269748  with bed capacity  29\n",
      "F probability of rejection 0.1151150994721672  with bed capacity  30\n",
      "F probability of rejection 0.11269954787797205  with bed capacity  31\n",
      "F probability of rejection 0.08289227107409727  with bed capacity  32\n",
      "F probability of rejection 0.07692948354609844  with bed capacity  33\n",
      "F probability of rejection 0.04755556925460368  with bed capacity  34\n"
     ]
    }
   ],
   "source": [
    "#set seed!\n",
    "np.random.seed(69)\n",
    "F_occupied_prob = 1.0\n",
    "penalties_F = []\n",
    "F_occupied_probabilities = []\n",
    "df.loc['F', 'Bed Capacity'] = 0\n",
    "wards = initialize_wards(df) #list of wards\n",
    "while F_occupied_prob > 0.05:\n",
    "    #set F bed capacity in the dataframe\n",
    "    performance = run_simulations(total_time, wards, relocation_probability, arrival_interval_function, occupancy_time_function, n_simulations = 10, verbose = False)\n",
    "    F_ward = wards[-1]\n",
    "    F_occupied_prob = performance[F_ward][\"Occupied probability\"]\n",
    "    print(\"F probability of rejection\",F_occupied_prob, \" with bed capacity \", wards[-1].capacity)\n",
    "    penalties_F.append(performance[\"Weighted penalty\"])\n",
    "    F_occupied_probabilities.append(F_occupied_prob)\n",
    "    \n",
    "    \n",
    "    gradients = compute_gradient(total_time, wards, relocation_probability, arrival_interval_function, occupancy_time_function, n_simulations = 1, verbose = False)\n",
    "    #find least negative gradient\n",
    "    min_gradient = np.argmax(gradients[:-1])\n",
    "    wards[min_gradient].capacity -=1\n",
    "    wards[-1].capacity += 1\n",
    "    for ward in wards:\n",
    "        ward.reset_metrics()\n",
    "wards[-1].capacity -=1\n",
    "wards[min_gradient].capacity += 1\n",
    "F_bed_capacity = len(penalties_F)"
   ]
  },
  {
   "cell_type": "code",
   "execution_count": 143,
   "metadata": {},
   "outputs": [
    {
     "data": {
      "application/vnd.plotly.v1+json": {
       "config": {
        "plotlyServerURL": "https://plot.ly"
       },
       "data": [
        {
         "name": "Weighted penalty",
         "type": "scatter",
         "x": [
          0,
          1,
          2,
          3,
          4,
          5,
          6,
          7,
          8,
          9,
          10,
          11,
          12,
          13,
          14,
          15,
          16,
          17,
          18,
          19,
          20,
          21,
          22,
          23,
          24,
          25,
          26,
          27,
          28,
          29,
          30,
          31,
          32,
          33,
          34
         ],
         "y": [
          3108.3,
          3036.9,
          3211.3,
          3265.6,
          2964.1,
          3323.6,
          3184.7999999999997,
          3318,
          2907.6000000000004,
          3325.6000000000004,
          3115.3999999999996,
          3315.8,
          3175.8,
          2932.4,
          3053.8,
          2906.7,
          3478.1,
          3094.3,
          3311.5,
          3372,
          3419.1,
          3368.7,
          3034.6,
          2933.4,
          3400.2000000000003,
          3264.7,
          3518.9,
          3332.8999999999996,
          3503,
          3480.8,
          3511.3,
          3443.8999999999996,
          3646.1,
          3806.3,
          3514.2999999999997
         ]
        },
        {
         "name": "Rejection probability",
         "type": "scatter",
         "x": [
          0,
          1,
          2,
          3,
          4,
          5,
          6,
          7,
          8,
          9,
          10,
          11,
          12,
          13,
          14,
          15,
          16,
          17,
          18,
          19,
          20,
          21,
          22,
          23,
          24,
          25,
          26,
          27,
          28,
          29,
          30,
          31,
          32,
          33,
          34
         ],
         "y": [
          0.9999999999999999,
          0.9663723145538172,
          0.9371740066828078,
          0.8978806691916963,
          0.8653345671438247,
          0.8311750999242015,
          0.8019503789461226,
          0.761697631322295,
          0.725605739683655,
          0.7117388137494347,
          0.6732910798558855,
          0.6335712250658336,
          0.6087747315226727,
          0.5770535297868049,
          0.5373969596513113,
          0.4938553099657294,
          0.48393481076434774,
          0.4467148864111763,
          0.40099803919506033,
          0.38241607836959796,
          0.366814693891933,
          0.3304872322358366,
          0.30469896700762117,
          0.23047756373390338,
          0.279414540590583,
          0.18061550096841797,
          0.20394581095593414,
          0.15769575174670933,
          0.13923855523751355,
          0.1081693637269748,
          0.1151150994721672,
          0.11269954787797205,
          0.08289227107409727,
          0.07692948354609844,
          0.04755556925460368
         ],
         "yaxis": "y2"
        },
        {
         "marker": {
          "color": "red",
          "size": 10
         },
         "mode": "markers",
         "name": "5% Rejection",
         "type": "scatter",
         "x": [
          33
         ],
         "y": [
          0.07692948354609844
         ]
        }
       ],
       "layout": {
        "template": {
         "data": {
          "bar": [
           {
            "error_x": {
             "color": "#2a3f5f"
            },
            "error_y": {
             "color": "#2a3f5f"
            },
            "marker": {
             "line": {
              "color": "#E5ECF6",
              "width": 0.5
             },
             "pattern": {
              "fillmode": "overlay",
              "size": 10,
              "solidity": 0.2
             }
            },
            "type": "bar"
           }
          ],
          "barpolar": [
           {
            "marker": {
             "line": {
              "color": "#E5ECF6",
              "width": 0.5
             },
             "pattern": {
              "fillmode": "overlay",
              "size": 10,
              "solidity": 0.2
             }
            },
            "type": "barpolar"
           }
          ],
          "carpet": [
           {
            "aaxis": {
             "endlinecolor": "#2a3f5f",
             "gridcolor": "white",
             "linecolor": "white",
             "minorgridcolor": "white",
             "startlinecolor": "#2a3f5f"
            },
            "baxis": {
             "endlinecolor": "#2a3f5f",
             "gridcolor": "white",
             "linecolor": "white",
             "minorgridcolor": "white",
             "startlinecolor": "#2a3f5f"
            },
            "type": "carpet"
           }
          ],
          "choropleth": [
           {
            "colorbar": {
             "outlinewidth": 0,
             "ticks": ""
            },
            "type": "choropleth"
           }
          ],
          "contour": [
           {
            "colorbar": {
             "outlinewidth": 0,
             "ticks": ""
            },
            "colorscale": [
             [
              0,
              "#0d0887"
             ],
             [
              0.1111111111111111,
              "#46039f"
             ],
             [
              0.2222222222222222,
              "#7201a8"
             ],
             [
              0.3333333333333333,
              "#9c179e"
             ],
             [
              0.4444444444444444,
              "#bd3786"
             ],
             [
              0.5555555555555556,
              "#d8576b"
             ],
             [
              0.6666666666666666,
              "#ed7953"
             ],
             [
              0.7777777777777778,
              "#fb9f3a"
             ],
             [
              0.8888888888888888,
              "#fdca26"
             ],
             [
              1,
              "#f0f921"
             ]
            ],
            "type": "contour"
           }
          ],
          "contourcarpet": [
           {
            "colorbar": {
             "outlinewidth": 0,
             "ticks": ""
            },
            "type": "contourcarpet"
           }
          ],
          "heatmap": [
           {
            "colorbar": {
             "outlinewidth": 0,
             "ticks": ""
            },
            "colorscale": [
             [
              0,
              "#0d0887"
             ],
             [
              0.1111111111111111,
              "#46039f"
             ],
             [
              0.2222222222222222,
              "#7201a8"
             ],
             [
              0.3333333333333333,
              "#9c179e"
             ],
             [
              0.4444444444444444,
              "#bd3786"
             ],
             [
              0.5555555555555556,
              "#d8576b"
             ],
             [
              0.6666666666666666,
              "#ed7953"
             ],
             [
              0.7777777777777778,
              "#fb9f3a"
             ],
             [
              0.8888888888888888,
              "#fdca26"
             ],
             [
              1,
              "#f0f921"
             ]
            ],
            "type": "heatmap"
           }
          ],
          "heatmapgl": [
           {
            "colorbar": {
             "outlinewidth": 0,
             "ticks": ""
            },
            "colorscale": [
             [
              0,
              "#0d0887"
             ],
             [
              0.1111111111111111,
              "#46039f"
             ],
             [
              0.2222222222222222,
              "#7201a8"
             ],
             [
              0.3333333333333333,
              "#9c179e"
             ],
             [
              0.4444444444444444,
              "#bd3786"
             ],
             [
              0.5555555555555556,
              "#d8576b"
             ],
             [
              0.6666666666666666,
              "#ed7953"
             ],
             [
              0.7777777777777778,
              "#fb9f3a"
             ],
             [
              0.8888888888888888,
              "#fdca26"
             ],
             [
              1,
              "#f0f921"
             ]
            ],
            "type": "heatmapgl"
           }
          ],
          "histogram": [
           {
            "marker": {
             "pattern": {
              "fillmode": "overlay",
              "size": 10,
              "solidity": 0.2
             }
            },
            "type": "histogram"
           }
          ],
          "histogram2d": [
           {
            "colorbar": {
             "outlinewidth": 0,
             "ticks": ""
            },
            "colorscale": [
             [
              0,
              "#0d0887"
             ],
             [
              0.1111111111111111,
              "#46039f"
             ],
             [
              0.2222222222222222,
              "#7201a8"
             ],
             [
              0.3333333333333333,
              "#9c179e"
             ],
             [
              0.4444444444444444,
              "#bd3786"
             ],
             [
              0.5555555555555556,
              "#d8576b"
             ],
             [
              0.6666666666666666,
              "#ed7953"
             ],
             [
              0.7777777777777778,
              "#fb9f3a"
             ],
             [
              0.8888888888888888,
              "#fdca26"
             ],
             [
              1,
              "#f0f921"
             ]
            ],
            "type": "histogram2d"
           }
          ],
          "histogram2dcontour": [
           {
            "colorbar": {
             "outlinewidth": 0,
             "ticks": ""
            },
            "colorscale": [
             [
              0,
              "#0d0887"
             ],
             [
              0.1111111111111111,
              "#46039f"
             ],
             [
              0.2222222222222222,
              "#7201a8"
             ],
             [
              0.3333333333333333,
              "#9c179e"
             ],
             [
              0.4444444444444444,
              "#bd3786"
             ],
             [
              0.5555555555555556,
              "#d8576b"
             ],
             [
              0.6666666666666666,
              "#ed7953"
             ],
             [
              0.7777777777777778,
              "#fb9f3a"
             ],
             [
              0.8888888888888888,
              "#fdca26"
             ],
             [
              1,
              "#f0f921"
             ]
            ],
            "type": "histogram2dcontour"
           }
          ],
          "mesh3d": [
           {
            "colorbar": {
             "outlinewidth": 0,
             "ticks": ""
            },
            "type": "mesh3d"
           }
          ],
          "parcoords": [
           {
            "line": {
             "colorbar": {
              "outlinewidth": 0,
              "ticks": ""
             }
            },
            "type": "parcoords"
           }
          ],
          "pie": [
           {
            "automargin": true,
            "type": "pie"
           }
          ],
          "scatter": [
           {
            "fillpattern": {
             "fillmode": "overlay",
             "size": 10,
             "solidity": 0.2
            },
            "type": "scatter"
           }
          ],
          "scatter3d": [
           {
            "line": {
             "colorbar": {
              "outlinewidth": 0,
              "ticks": ""
             }
            },
            "marker": {
             "colorbar": {
              "outlinewidth": 0,
              "ticks": ""
             }
            },
            "type": "scatter3d"
           }
          ],
          "scattercarpet": [
           {
            "marker": {
             "colorbar": {
              "outlinewidth": 0,
              "ticks": ""
             }
            },
            "type": "scattercarpet"
           }
          ],
          "scattergeo": [
           {
            "marker": {
             "colorbar": {
              "outlinewidth": 0,
              "ticks": ""
             }
            },
            "type": "scattergeo"
           }
          ],
          "scattergl": [
           {
            "marker": {
             "colorbar": {
              "outlinewidth": 0,
              "ticks": ""
             }
            },
            "type": "scattergl"
           }
          ],
          "scattermapbox": [
           {
            "marker": {
             "colorbar": {
              "outlinewidth": 0,
              "ticks": ""
             }
            },
            "type": "scattermapbox"
           }
          ],
          "scatterpolar": [
           {
            "marker": {
             "colorbar": {
              "outlinewidth": 0,
              "ticks": ""
             }
            },
            "type": "scatterpolar"
           }
          ],
          "scatterpolargl": [
           {
            "marker": {
             "colorbar": {
              "outlinewidth": 0,
              "ticks": ""
             }
            },
            "type": "scatterpolargl"
           }
          ],
          "scatterternary": [
           {
            "marker": {
             "colorbar": {
              "outlinewidth": 0,
              "ticks": ""
             }
            },
            "type": "scatterternary"
           }
          ],
          "surface": [
           {
            "colorbar": {
             "outlinewidth": 0,
             "ticks": ""
            },
            "colorscale": [
             [
              0,
              "#0d0887"
             ],
             [
              0.1111111111111111,
              "#46039f"
             ],
             [
              0.2222222222222222,
              "#7201a8"
             ],
             [
              0.3333333333333333,
              "#9c179e"
             ],
             [
              0.4444444444444444,
              "#bd3786"
             ],
             [
              0.5555555555555556,
              "#d8576b"
             ],
             [
              0.6666666666666666,
              "#ed7953"
             ],
             [
              0.7777777777777778,
              "#fb9f3a"
             ],
             [
              0.8888888888888888,
              "#fdca26"
             ],
             [
              1,
              "#f0f921"
             ]
            ],
            "type": "surface"
           }
          ],
          "table": [
           {
            "cells": {
             "fill": {
              "color": "#EBF0F8"
             },
             "line": {
              "color": "white"
             }
            },
            "header": {
             "fill": {
              "color": "#C8D4E3"
             },
             "line": {
              "color": "white"
             }
            },
            "type": "table"
           }
          ]
         },
         "layout": {
          "annotationdefaults": {
           "arrowcolor": "#2a3f5f",
           "arrowhead": 0,
           "arrowwidth": 1
          },
          "autotypenumbers": "strict",
          "coloraxis": {
           "colorbar": {
            "outlinewidth": 0,
            "ticks": ""
           }
          },
          "colorscale": {
           "diverging": [
            [
             0,
             "#8e0152"
            ],
            [
             0.1,
             "#c51b7d"
            ],
            [
             0.2,
             "#de77ae"
            ],
            [
             0.3,
             "#f1b6da"
            ],
            [
             0.4,
             "#fde0ef"
            ],
            [
             0.5,
             "#f7f7f7"
            ],
            [
             0.6,
             "#e6f5d0"
            ],
            [
             0.7,
             "#b8e186"
            ],
            [
             0.8,
             "#7fbc41"
            ],
            [
             0.9,
             "#4d9221"
            ],
            [
             1,
             "#276419"
            ]
           ],
           "sequential": [
            [
             0,
             "#0d0887"
            ],
            [
             0.1111111111111111,
             "#46039f"
            ],
            [
             0.2222222222222222,
             "#7201a8"
            ],
            [
             0.3333333333333333,
             "#9c179e"
            ],
            [
             0.4444444444444444,
             "#bd3786"
            ],
            [
             0.5555555555555556,
             "#d8576b"
            ],
            [
             0.6666666666666666,
             "#ed7953"
            ],
            [
             0.7777777777777778,
             "#fb9f3a"
            ],
            [
             0.8888888888888888,
             "#fdca26"
            ],
            [
             1,
             "#f0f921"
            ]
           ],
           "sequentialminus": [
            [
             0,
             "#0d0887"
            ],
            [
             0.1111111111111111,
             "#46039f"
            ],
            [
             0.2222222222222222,
             "#7201a8"
            ],
            [
             0.3333333333333333,
             "#9c179e"
            ],
            [
             0.4444444444444444,
             "#bd3786"
            ],
            [
             0.5555555555555556,
             "#d8576b"
            ],
            [
             0.6666666666666666,
             "#ed7953"
            ],
            [
             0.7777777777777778,
             "#fb9f3a"
            ],
            [
             0.8888888888888888,
             "#fdca26"
            ],
            [
             1,
             "#f0f921"
            ]
           ]
          },
          "colorway": [
           "#636efa",
           "#EF553B",
           "#00cc96",
           "#ab63fa",
           "#FFA15A",
           "#19d3f3",
           "#FF6692",
           "#B6E880",
           "#FF97FF",
           "#FECB52"
          ],
          "font": {
           "color": "#2a3f5f"
          },
          "geo": {
           "bgcolor": "white",
           "lakecolor": "white",
           "landcolor": "#E5ECF6",
           "showlakes": true,
           "showland": true,
           "subunitcolor": "white"
          },
          "hoverlabel": {
           "align": "left"
          },
          "hovermode": "closest",
          "mapbox": {
           "style": "light"
          },
          "paper_bgcolor": "white",
          "plot_bgcolor": "#E5ECF6",
          "polar": {
           "angularaxis": {
            "gridcolor": "white",
            "linecolor": "white",
            "ticks": ""
           },
           "bgcolor": "#E5ECF6",
           "radialaxis": {
            "gridcolor": "white",
            "linecolor": "white",
            "ticks": ""
           }
          },
          "scene": {
           "xaxis": {
            "backgroundcolor": "#E5ECF6",
            "gridcolor": "white",
            "gridwidth": 2,
            "linecolor": "white",
            "showbackground": true,
            "ticks": "",
            "zerolinecolor": "white"
           },
           "yaxis": {
            "backgroundcolor": "#E5ECF6",
            "gridcolor": "white",
            "gridwidth": 2,
            "linecolor": "white",
            "showbackground": true,
            "ticks": "",
            "zerolinecolor": "white"
           },
           "zaxis": {
            "backgroundcolor": "#E5ECF6",
            "gridcolor": "white",
            "gridwidth": 2,
            "linecolor": "white",
            "showbackground": true,
            "ticks": "",
            "zerolinecolor": "white"
           }
          },
          "shapedefaults": {
           "line": {
            "color": "#2a3f5f"
           }
          },
          "ternary": {
           "aaxis": {
            "gridcolor": "white",
            "linecolor": "white",
            "ticks": ""
           },
           "baxis": {
            "gridcolor": "white",
            "linecolor": "white",
            "ticks": ""
           },
           "bgcolor": "#E5ECF6",
           "caxis": {
            "gridcolor": "white",
            "linecolor": "white",
            "ticks": ""
           }
          },
          "title": {
           "x": 0.05
          },
          "xaxis": {
           "automargin": true,
           "gridcolor": "white",
           "linecolor": "white",
           "ticks": "",
           "title": {
            "standoff": 15
           },
           "zerolinecolor": "white",
           "zerolinewidth": 2
          },
          "yaxis": {
           "automargin": true,
           "gridcolor": "white",
           "linecolor": "white",
           "ticks": "",
           "title": {
            "standoff": 15
           },
           "zerolinecolor": "white",
           "zerolinewidth": 2
          }
         }
        },
        "title": {
         "text": "Penalty and rejection rate as a function of F bed capacity"
        },
        "xaxis": {
         "title": {
          "text": "F bed capacity"
         }
        },
        "yaxis": {
         "title": {
          "text": "Weighted penalty"
         }
        },
        "yaxis2": {
         "overlaying": "y",
         "side": "right",
         "title": {
          "text": "Rejection probability"
         }
        }
       }
      }
     },
     "metadata": {},
     "output_type": "display_data"
    }
   ],
   "source": [
    "fig = go.Figure()\n",
    "fig.add_trace(go.Scatter(x = np.arange(0, F_bed_capacity), y = penalties_F, name='Weighted penalty'))\n",
    "fig.update_layout(title = \"Penalty and rejection rate as a function of F bed capacity\",\n",
    "                  xaxis_title = \"F bed capacity\",\n",
    "                  yaxis_title = \"Weighted penalty\")\n",
    "fig.add_trace(go.Scatter(x = np.arange(0, F_bed_capacity), y = F_occupied_probabilities, yaxis = 'y2', name='Rejection probability'))\n",
    "fig.update_layout(yaxis2 = dict(title = \"Rejection probability\", overlaying = 'y', side = 'right',\n",
    "                                ))# Find the index where F_occupied_probabilities is closest to 0.05\n",
    "index = (np.abs(np.array(F_occupied_probabilities) - 0.05)).argmin()\n",
    "\n",
    "# Add a point at that index\n",
    "fig.add_trace(go.Scatter(x=[np.arange(0, F_bed_capacity)[index-1]], \n",
    "                         y=[F_occupied_probabilities[index-1]], \n",
    "                         mode='markers', \n",
    "                         marker=dict(size=10, color='red'), \n",
    "                         name='5% Rejection'))\n",
    "fig.show()\n",
    "#save fig in plots\n",
    "fig.write_image(\"plots/penalty_rejection.png\")"
   ]
  },
  {
   "cell_type": "code",
   "execution_count": 150,
   "metadata": {},
   "outputs": [
    {
     "data": {
      "text/html": [
       "<div>\n",
       "<style scoped>\n",
       "    .dataframe tbody tr th:only-of-type {\n",
       "        vertical-align: middle;\n",
       "    }\n",
       "\n",
       "    .dataframe tbody tr th {\n",
       "        vertical-align: top;\n",
       "    }\n",
       "\n",
       "    .dataframe thead th {\n",
       "        text-align: right;\n",
       "    }\n",
       "</style>\n",
       "<table border=\"1\" class=\"dataframe\">\n",
       "  <thead>\n",
       "    <tr style=\"text-align: right;\">\n",
       "      <th></th>\n",
       "      <th>Bed Capacity</th>\n",
       "      <th>Arrivals per day</th>\n",
       "      <th>Mean Length of Stay</th>\n",
       "      <th>Urgency Points</th>\n",
       "    </tr>\n",
       "    <tr>\n",
       "      <th>Patient Type</th>\n",
       "      <th></th>\n",
       "      <th></th>\n",
       "      <th></th>\n",
       "      <th></th>\n",
       "    </tr>\n",
       "  </thead>\n",
       "  <tbody>\n",
       "    <tr>\n",
       "      <th>A</th>\n",
       "      <td>49</td>\n",
       "      <td>14.5</td>\n",
       "      <td>2.9</td>\n",
       "      <td>7</td>\n",
       "    </tr>\n",
       "    <tr>\n",
       "      <th>B</th>\n",
       "      <td>28</td>\n",
       "      <td>11.0</td>\n",
       "      <td>4.0</td>\n",
       "      <td>5</td>\n",
       "    </tr>\n",
       "    <tr>\n",
       "      <th>C</th>\n",
       "      <td>22</td>\n",
       "      <td>8.0</td>\n",
       "      <td>4.5</td>\n",
       "      <td>2</td>\n",
       "    </tr>\n",
       "    <tr>\n",
       "      <th>D</th>\n",
       "      <td>16</td>\n",
       "      <td>6.5</td>\n",
       "      <td>1.4</td>\n",
       "      <td>10</td>\n",
       "    </tr>\n",
       "    <tr>\n",
       "      <th>E</th>\n",
       "      <td>16</td>\n",
       "      <td>5.0</td>\n",
       "      <td>3.9</td>\n",
       "      <td>5</td>\n",
       "    </tr>\n",
       "    <tr>\n",
       "      <th>F</th>\n",
       "      <td>34</td>\n",
       "      <td>13.0</td>\n",
       "      <td>2.2</td>\n",
       "      <td>0</td>\n",
       "    </tr>\n",
       "  </tbody>\n",
       "</table>\n",
       "</div>"
      ],
      "text/plain": [
       "              Bed Capacity  Arrivals per day  Mean Length of Stay  \\\n",
       "Patient Type                                                        \n",
       "A                       49              14.5                  2.9   \n",
       "B                       28              11.0                  4.0   \n",
       "C                       22               8.0                  4.5   \n",
       "D                       16               6.5                  1.4   \n",
       "E                       16               5.0                  3.9   \n",
       "F                       34              13.0                  2.2   \n",
       "\n",
       "              Urgency Points  \n",
       "Patient Type                  \n",
       "A                          7  \n",
       "B                          5  \n",
       "C                          2  \n",
       "D                         10  \n",
       "E                          5  \n",
       "F                          0  "
      ]
     },
     "execution_count": 150,
     "metadata": {},
     "output_type": "execute_result"
    }
   ],
   "source": [
    "#update the dataframe based on the optimal bed configuration\n",
    "for i, ward in enumerate(wards):\n",
    "    df.loc[ward.type, 'Bed Capacity'] = ward.capacity\n",
    "\n",
    "#export dataframe to latex\n",
    "df.to_latex(\"tables/ward_data.tex\", float_format=\"%.1f\")\n",
    "#new bed configuration\n",
    "df"
   ]
  },
  {
   "cell_type": "code",
   "execution_count": 78,
   "metadata": {},
   "outputs": [
    {
     "data": {
      "text/plain": [
       "{A Ward with 55 beds and 7 urgency points.: {'Occupied probability': 0.05016392858143146,\n",
       "  'Estimated admissions': 482.9,\n",
       "  'Estimated rejections': 26.0,\n",
       "  'Estimated relocations': 11.6},\n",
       " B Ward with 40 beds and 5 urgency points.: {'Occupied probability': 0.23688668471289803,\n",
       "  'Estimated admissions': 286.99999999999994,\n",
       "  'Estimated rejections': 91.30000000000001,\n",
       "  'Estimated relocations': 58.10000000000001},\n",
       " C Ward with 30 beds and 2 urgency points.: {'Occupied probability': 0.36013483791812967,\n",
       "  'Estimated admissions': 211.0,\n",
       "  'Estimated rejections': 120.8,\n",
       "  'Estimated relocations': 66.39999999999999},\n",
       " D Ward with 20 beds and 10 urgency points.: {'Occupied probability': 0.053366940658573635,\n",
       "  'Estimated admissions': 237.79999999999998,\n",
       "  'Estimated rejections': 13.7,\n",
       "  'Estimated relocations': 6.4},\n",
       " E Ward with 20 beds and 5 urgency points.: {'Occupied probability': 0.34572918556733206,\n",
       "  'Estimated admissions': 146.9,\n",
       "  'Estimated rejections': 78.80000000000001,\n",
       "  'Estimated relocations': 33.99999999999999},\n",
       " F Ward with 30 beds and 0 urgency points.: {'Occupied probability': 0.12990323212695348,\n",
       "  'Estimated admissions': 357.4,\n",
       "  'Estimated rejections': 54.19999999999999,\n",
       "  'Estimated relocations': 42.89999999999999},\n",
       " 'Weighted penalty': 1411.1000000000001}"
      ]
     },
     "execution_count": 78,
     "metadata": {},
     "output_type": "execute_result"
    }
   ],
   "source": [
    "#run the simulation with the optimal bed configuration\n",
    "performance = run_simulations(total_time, wards, relocation_probability, arrival_interval_function, occupancy_time_function, n_simulations = 10, verbose = False)\n",
    "performance"
   ]
  },
  {
   "cell_type": "code",
   "execution_count": 148,
   "metadata": {},
   "outputs": [
    {
     "data": {
      "text/html": [
       "<div>\n",
       "<style scoped>\n",
       "    .dataframe tbody tr th:only-of-type {\n",
       "        vertical-align: middle;\n",
       "    }\n",
       "\n",
       "    .dataframe tbody tr th {\n",
       "        vertical-align: top;\n",
       "    }\n",
       "\n",
       "    .dataframe thead th {\n",
       "        text-align: right;\n",
       "    }\n",
       "</style>\n",
       "<table border=\"1\" class=\"dataframe\">\n",
       "  <thead>\n",
       "    <tr style=\"text-align: right;\">\n",
       "      <th></th>\n",
       "      <th>Occupied probability</th>\n",
       "      <th>Estimated admissions</th>\n",
       "      <th>Estimated rejections</th>\n",
       "      <th>Estimated relocations</th>\n",
       "      <th>Estimated lost</th>\n",
       "    </tr>\n",
       "  </thead>\n",
       "  <tbody>\n",
       "    <tr>\n",
       "      <th>A</th>\n",
       "      <td>0.178110</td>\n",
       "      <td>458.9</td>\n",
       "      <td>100.6</td>\n",
       "      <td>30.4</td>\n",
       "      <td>70.2</td>\n",
       "    </tr>\n",
       "    <tr>\n",
       "      <th>B</th>\n",
       "      <td>0.459389</td>\n",
       "      <td>215.8</td>\n",
       "      <td>184.9</td>\n",
       "      <td>78.2</td>\n",
       "      <td>106.7</td>\n",
       "    </tr>\n",
       "    <tr>\n",
       "      <th>C</th>\n",
       "      <td>0.604787</td>\n",
       "      <td>150.7</td>\n",
       "      <td>232.8</td>\n",
       "      <td>90.9</td>\n",
       "      <td>141.9</td>\n",
       "    </tr>\n",
       "    <tr>\n",
       "      <th>D</th>\n",
       "      <td>0.222279</td>\n",
       "      <td>207.8</td>\n",
       "      <td>60.1</td>\n",
       "      <td>24.2</td>\n",
       "      <td>35.9</td>\n",
       "    </tr>\n",
       "    <tr>\n",
       "      <th>E</th>\n",
       "      <td>0.543174</td>\n",
       "      <td>136.7</td>\n",
       "      <td>163.8</td>\n",
       "      <td>38.1</td>\n",
       "      <td>125.7</td>\n",
       "    </tr>\n",
       "    <tr>\n",
       "      <th>F</th>\n",
       "      <td>0.047556</td>\n",
       "      <td>385.9</td>\n",
       "      <td>19.5</td>\n",
       "      <td>11.5</td>\n",
       "      <td>8.0</td>\n",
       "    </tr>\n",
       "  </tbody>\n",
       "</table>\n",
       "</div>"
      ],
      "text/plain": [
       "   Occupied probability  Estimated admissions  Estimated rejections  \\\n",
       "A              0.178110                 458.9                 100.6   \n",
       "B              0.459389                 215.8                 184.9   \n",
       "C              0.604787                 150.7                 232.8   \n",
       "D              0.222279                 207.8                  60.1   \n",
       "E              0.543174                 136.7                 163.8   \n",
       "F              0.047556                 385.9                  19.5   \n",
       "\n",
       "   Estimated relocations  Estimated lost  \n",
       "A                   30.4            70.2  \n",
       "B                   78.2           106.7  \n",
       "C                   90.9           141.9  \n",
       "D                   24.2            35.9  \n",
       "E                   38.1           125.7  \n",
       "F                   11.5             8.0  "
      ]
     },
     "execution_count": 148,
     "metadata": {},
     "output_type": "execute_result"
    }
   ],
   "source": [
    "#convert performance to dataframe\n",
    "df_performance = pd.DataFrame(performance).T\n",
    "#exclude last row\n",
    "df_performance = df_performance.iloc[:-1]\n",
    "#change index\n",
    "df_performance.index = [ward.type for ward in wards]\n",
    "df_performance[\"Estimated lost\"] = df_performance[\"Estimated rejections\"] - df_performance[\"Estimated relocations\"]\n",
    "df_performance"
   ]
  },
  {
   "cell_type": "code",
   "execution_count": 82,
   "metadata": {},
   "outputs": [
    {
     "data": {
      "application/vnd.plotly.v1+json": {
       "config": {
        "plotlyServerURL": "https://plot.ly"
       },
       "data": [
        {
         "alignmentgroup": "True",
         "hovertemplate": "variable=Estimated admissions<br>index=%{x}<br>value=%{y}<extra></extra>",
         "legendgroup": "Estimated admissions",
         "marker": {
          "color": "#636efa",
          "pattern": {
           "shape": ""
          }
         },
         "name": "Estimated admissions",
         "offsetgroup": "Estimated admissions",
         "orientation": "v",
         "showlegend": true,
         "textposition": "auto",
         "type": "bar",
         "x": [
          "A",
          "B",
          "C",
          "D",
          "E",
          "F"
         ],
         "xaxis": "x",
         "y": [
          482.9,
          286.99999999999994,
          211,
          237.79999999999998,
          146.9,
          357.4
         ],
         "yaxis": "y"
        },
        {
         "alignmentgroup": "True",
         "hovertemplate": "variable=Estimated relocations<br>index=%{x}<br>value=%{y}<extra></extra>",
         "legendgroup": "Estimated relocations",
         "marker": {
          "color": "#EF553B",
          "pattern": {
           "shape": ""
          }
         },
         "name": "Estimated relocations",
         "offsetgroup": "Estimated relocations",
         "orientation": "v",
         "showlegend": true,
         "textposition": "auto",
         "type": "bar",
         "x": [
          "A",
          "B",
          "C",
          "D",
          "E",
          "F"
         ],
         "xaxis": "x",
         "y": [
          11.6,
          58.10000000000001,
          66.39999999999999,
          6.4,
          33.99999999999999,
          42.89999999999999
         ],
         "yaxis": "y"
        },
        {
         "alignmentgroup": "True",
         "hovertemplate": "variable=Estimated lost<br>index=%{x}<br>value=%{y}<extra></extra>",
         "legendgroup": "Estimated lost",
         "marker": {
          "color": "#00cc96",
          "pattern": {
           "shape": ""
          }
         },
         "name": "Estimated lost",
         "offsetgroup": "Estimated lost",
         "orientation": "v",
         "showlegend": true,
         "textposition": "auto",
         "type": "bar",
         "x": [
          "A",
          "B",
          "C",
          "D",
          "E",
          "F"
         ],
         "xaxis": "x",
         "y": [
          14.4,
          33.2,
          54.400000000000006,
          7.299999999999999,
          44.80000000000002,
          11.299999999999997
         ],
         "yaxis": "y"
        }
       ],
       "layout": {
        "barmode": "stack",
        "legend": {
         "title": {
          "text": "variable"
         },
         "tracegroupgap": 0
        },
        "margin": {
         "t": 60
        },
        "template": {
         "data": {
          "bar": [
           {
            "error_x": {
             "color": "#2a3f5f"
            },
            "error_y": {
             "color": "#2a3f5f"
            },
            "marker": {
             "line": {
              "color": "#E5ECF6",
              "width": 0.5
             },
             "pattern": {
              "fillmode": "overlay",
              "size": 10,
              "solidity": 0.2
             }
            },
            "type": "bar"
           }
          ],
          "barpolar": [
           {
            "marker": {
             "line": {
              "color": "#E5ECF6",
              "width": 0.5
             },
             "pattern": {
              "fillmode": "overlay",
              "size": 10,
              "solidity": 0.2
             }
            },
            "type": "barpolar"
           }
          ],
          "carpet": [
           {
            "aaxis": {
             "endlinecolor": "#2a3f5f",
             "gridcolor": "white",
             "linecolor": "white",
             "minorgridcolor": "white",
             "startlinecolor": "#2a3f5f"
            },
            "baxis": {
             "endlinecolor": "#2a3f5f",
             "gridcolor": "white",
             "linecolor": "white",
             "minorgridcolor": "white",
             "startlinecolor": "#2a3f5f"
            },
            "type": "carpet"
           }
          ],
          "choropleth": [
           {
            "colorbar": {
             "outlinewidth": 0,
             "ticks": ""
            },
            "type": "choropleth"
           }
          ],
          "contour": [
           {
            "colorbar": {
             "outlinewidth": 0,
             "ticks": ""
            },
            "colorscale": [
             [
              0,
              "#0d0887"
             ],
             [
              0.1111111111111111,
              "#46039f"
             ],
             [
              0.2222222222222222,
              "#7201a8"
             ],
             [
              0.3333333333333333,
              "#9c179e"
             ],
             [
              0.4444444444444444,
              "#bd3786"
             ],
             [
              0.5555555555555556,
              "#d8576b"
             ],
             [
              0.6666666666666666,
              "#ed7953"
             ],
             [
              0.7777777777777778,
              "#fb9f3a"
             ],
             [
              0.8888888888888888,
              "#fdca26"
             ],
             [
              1,
              "#f0f921"
             ]
            ],
            "type": "contour"
           }
          ],
          "contourcarpet": [
           {
            "colorbar": {
             "outlinewidth": 0,
             "ticks": ""
            },
            "type": "contourcarpet"
           }
          ],
          "heatmap": [
           {
            "colorbar": {
             "outlinewidth": 0,
             "ticks": ""
            },
            "colorscale": [
             [
              0,
              "#0d0887"
             ],
             [
              0.1111111111111111,
              "#46039f"
             ],
             [
              0.2222222222222222,
              "#7201a8"
             ],
             [
              0.3333333333333333,
              "#9c179e"
             ],
             [
              0.4444444444444444,
              "#bd3786"
             ],
             [
              0.5555555555555556,
              "#d8576b"
             ],
             [
              0.6666666666666666,
              "#ed7953"
             ],
             [
              0.7777777777777778,
              "#fb9f3a"
             ],
             [
              0.8888888888888888,
              "#fdca26"
             ],
             [
              1,
              "#f0f921"
             ]
            ],
            "type": "heatmap"
           }
          ],
          "heatmapgl": [
           {
            "colorbar": {
             "outlinewidth": 0,
             "ticks": ""
            },
            "colorscale": [
             [
              0,
              "#0d0887"
             ],
             [
              0.1111111111111111,
              "#46039f"
             ],
             [
              0.2222222222222222,
              "#7201a8"
             ],
             [
              0.3333333333333333,
              "#9c179e"
             ],
             [
              0.4444444444444444,
              "#bd3786"
             ],
             [
              0.5555555555555556,
              "#d8576b"
             ],
             [
              0.6666666666666666,
              "#ed7953"
             ],
             [
              0.7777777777777778,
              "#fb9f3a"
             ],
             [
              0.8888888888888888,
              "#fdca26"
             ],
             [
              1,
              "#f0f921"
             ]
            ],
            "type": "heatmapgl"
           }
          ],
          "histogram": [
           {
            "marker": {
             "pattern": {
              "fillmode": "overlay",
              "size": 10,
              "solidity": 0.2
             }
            },
            "type": "histogram"
           }
          ],
          "histogram2d": [
           {
            "colorbar": {
             "outlinewidth": 0,
             "ticks": ""
            },
            "colorscale": [
             [
              0,
              "#0d0887"
             ],
             [
              0.1111111111111111,
              "#46039f"
             ],
             [
              0.2222222222222222,
              "#7201a8"
             ],
             [
              0.3333333333333333,
              "#9c179e"
             ],
             [
              0.4444444444444444,
              "#bd3786"
             ],
             [
              0.5555555555555556,
              "#d8576b"
             ],
             [
              0.6666666666666666,
              "#ed7953"
             ],
             [
              0.7777777777777778,
              "#fb9f3a"
             ],
             [
              0.8888888888888888,
              "#fdca26"
             ],
             [
              1,
              "#f0f921"
             ]
            ],
            "type": "histogram2d"
           }
          ],
          "histogram2dcontour": [
           {
            "colorbar": {
             "outlinewidth": 0,
             "ticks": ""
            },
            "colorscale": [
             [
              0,
              "#0d0887"
             ],
             [
              0.1111111111111111,
              "#46039f"
             ],
             [
              0.2222222222222222,
              "#7201a8"
             ],
             [
              0.3333333333333333,
              "#9c179e"
             ],
             [
              0.4444444444444444,
              "#bd3786"
             ],
             [
              0.5555555555555556,
              "#d8576b"
             ],
             [
              0.6666666666666666,
              "#ed7953"
             ],
             [
              0.7777777777777778,
              "#fb9f3a"
             ],
             [
              0.8888888888888888,
              "#fdca26"
             ],
             [
              1,
              "#f0f921"
             ]
            ],
            "type": "histogram2dcontour"
           }
          ],
          "mesh3d": [
           {
            "colorbar": {
             "outlinewidth": 0,
             "ticks": ""
            },
            "type": "mesh3d"
           }
          ],
          "parcoords": [
           {
            "line": {
             "colorbar": {
              "outlinewidth": 0,
              "ticks": ""
             }
            },
            "type": "parcoords"
           }
          ],
          "pie": [
           {
            "automargin": true,
            "type": "pie"
           }
          ],
          "scatter": [
           {
            "fillpattern": {
             "fillmode": "overlay",
             "size": 10,
             "solidity": 0.2
            },
            "type": "scatter"
           }
          ],
          "scatter3d": [
           {
            "line": {
             "colorbar": {
              "outlinewidth": 0,
              "ticks": ""
             }
            },
            "marker": {
             "colorbar": {
              "outlinewidth": 0,
              "ticks": ""
             }
            },
            "type": "scatter3d"
           }
          ],
          "scattercarpet": [
           {
            "marker": {
             "colorbar": {
              "outlinewidth": 0,
              "ticks": ""
             }
            },
            "type": "scattercarpet"
           }
          ],
          "scattergeo": [
           {
            "marker": {
             "colorbar": {
              "outlinewidth": 0,
              "ticks": ""
             }
            },
            "type": "scattergeo"
           }
          ],
          "scattergl": [
           {
            "marker": {
             "colorbar": {
              "outlinewidth": 0,
              "ticks": ""
             }
            },
            "type": "scattergl"
           }
          ],
          "scattermapbox": [
           {
            "marker": {
             "colorbar": {
              "outlinewidth": 0,
              "ticks": ""
             }
            },
            "type": "scattermapbox"
           }
          ],
          "scatterpolar": [
           {
            "marker": {
             "colorbar": {
              "outlinewidth": 0,
              "ticks": ""
             }
            },
            "type": "scatterpolar"
           }
          ],
          "scatterpolargl": [
           {
            "marker": {
             "colorbar": {
              "outlinewidth": 0,
              "ticks": ""
             }
            },
            "type": "scatterpolargl"
           }
          ],
          "scatterternary": [
           {
            "marker": {
             "colorbar": {
              "outlinewidth": 0,
              "ticks": ""
             }
            },
            "type": "scatterternary"
           }
          ],
          "surface": [
           {
            "colorbar": {
             "outlinewidth": 0,
             "ticks": ""
            },
            "colorscale": [
             [
              0,
              "#0d0887"
             ],
             [
              0.1111111111111111,
              "#46039f"
             ],
             [
              0.2222222222222222,
              "#7201a8"
             ],
             [
              0.3333333333333333,
              "#9c179e"
             ],
             [
              0.4444444444444444,
              "#bd3786"
             ],
             [
              0.5555555555555556,
              "#d8576b"
             ],
             [
              0.6666666666666666,
              "#ed7953"
             ],
             [
              0.7777777777777778,
              "#fb9f3a"
             ],
             [
              0.8888888888888888,
              "#fdca26"
             ],
             [
              1,
              "#f0f921"
             ]
            ],
            "type": "surface"
           }
          ],
          "table": [
           {
            "cells": {
             "fill": {
              "color": "#EBF0F8"
             },
             "line": {
              "color": "white"
             }
            },
            "header": {
             "fill": {
              "color": "#C8D4E3"
             },
             "line": {
              "color": "white"
             }
            },
            "type": "table"
           }
          ]
         },
         "layout": {
          "annotationdefaults": {
           "arrowcolor": "#2a3f5f",
           "arrowhead": 0,
           "arrowwidth": 1
          },
          "autotypenumbers": "strict",
          "coloraxis": {
           "colorbar": {
            "outlinewidth": 0,
            "ticks": ""
           }
          },
          "colorscale": {
           "diverging": [
            [
             0,
             "#8e0152"
            ],
            [
             0.1,
             "#c51b7d"
            ],
            [
             0.2,
             "#de77ae"
            ],
            [
             0.3,
             "#f1b6da"
            ],
            [
             0.4,
             "#fde0ef"
            ],
            [
             0.5,
             "#f7f7f7"
            ],
            [
             0.6,
             "#e6f5d0"
            ],
            [
             0.7,
             "#b8e186"
            ],
            [
             0.8,
             "#7fbc41"
            ],
            [
             0.9,
             "#4d9221"
            ],
            [
             1,
             "#276419"
            ]
           ],
           "sequential": [
            [
             0,
             "#0d0887"
            ],
            [
             0.1111111111111111,
             "#46039f"
            ],
            [
             0.2222222222222222,
             "#7201a8"
            ],
            [
             0.3333333333333333,
             "#9c179e"
            ],
            [
             0.4444444444444444,
             "#bd3786"
            ],
            [
             0.5555555555555556,
             "#d8576b"
            ],
            [
             0.6666666666666666,
             "#ed7953"
            ],
            [
             0.7777777777777778,
             "#fb9f3a"
            ],
            [
             0.8888888888888888,
             "#fdca26"
            ],
            [
             1,
             "#f0f921"
            ]
           ],
           "sequentialminus": [
            [
             0,
             "#0d0887"
            ],
            [
             0.1111111111111111,
             "#46039f"
            ],
            [
             0.2222222222222222,
             "#7201a8"
            ],
            [
             0.3333333333333333,
             "#9c179e"
            ],
            [
             0.4444444444444444,
             "#bd3786"
            ],
            [
             0.5555555555555556,
             "#d8576b"
            ],
            [
             0.6666666666666666,
             "#ed7953"
            ],
            [
             0.7777777777777778,
             "#fb9f3a"
            ],
            [
             0.8888888888888888,
             "#fdca26"
            ],
            [
             1,
             "#f0f921"
            ]
           ]
          },
          "colorway": [
           "#636efa",
           "#EF553B",
           "#00cc96",
           "#ab63fa",
           "#FFA15A",
           "#19d3f3",
           "#FF6692",
           "#B6E880",
           "#FF97FF",
           "#FECB52"
          ],
          "font": {
           "color": "#2a3f5f"
          },
          "geo": {
           "bgcolor": "white",
           "lakecolor": "white",
           "landcolor": "#E5ECF6",
           "showlakes": true,
           "showland": true,
           "subunitcolor": "white"
          },
          "hoverlabel": {
           "align": "left"
          },
          "hovermode": "closest",
          "mapbox": {
           "style": "light"
          },
          "paper_bgcolor": "white",
          "plot_bgcolor": "#E5ECF6",
          "polar": {
           "angularaxis": {
            "gridcolor": "white",
            "linecolor": "white",
            "ticks": ""
           },
           "bgcolor": "#E5ECF6",
           "radialaxis": {
            "gridcolor": "white",
            "linecolor": "white",
            "ticks": ""
           }
          },
          "scene": {
           "xaxis": {
            "backgroundcolor": "#E5ECF6",
            "gridcolor": "white",
            "gridwidth": 2,
            "linecolor": "white",
            "showbackground": true,
            "ticks": "",
            "zerolinecolor": "white"
           },
           "yaxis": {
            "backgroundcolor": "#E5ECF6",
            "gridcolor": "white",
            "gridwidth": 2,
            "linecolor": "white",
            "showbackground": true,
            "ticks": "",
            "zerolinecolor": "white"
           },
           "zaxis": {
            "backgroundcolor": "#E5ECF6",
            "gridcolor": "white",
            "gridwidth": 2,
            "linecolor": "white",
            "showbackground": true,
            "ticks": "",
            "zerolinecolor": "white"
           }
          },
          "shapedefaults": {
           "line": {
            "color": "#2a3f5f"
           }
          },
          "ternary": {
           "aaxis": {
            "gridcolor": "white",
            "linecolor": "white",
            "ticks": ""
           },
           "baxis": {
            "gridcolor": "white",
            "linecolor": "white",
            "ticks": ""
           },
           "bgcolor": "#E5ECF6",
           "caxis": {
            "gridcolor": "white",
            "linecolor": "white",
            "ticks": ""
           }
          },
          "title": {
           "x": 0.05
          },
          "xaxis": {
           "automargin": true,
           "gridcolor": "white",
           "linecolor": "white",
           "ticks": "",
           "title": {
            "standoff": 15
           },
           "zerolinecolor": "white",
           "zerolinewidth": 2
          },
          "yaxis": {
           "automargin": true,
           "gridcolor": "white",
           "linecolor": "white",
           "ticks": "",
           "title": {
            "standoff": 15
           },
           "zerolinecolor": "white",
           "zerolinewidth": 2
          }
         }
        },
        "title": {
         "text": "Occupancy of the wards after 1 month"
        },
        "xaxis": {
         "anchor": "y",
         "domain": [
          0,
          1
         ],
         "title": {
          "text": "Ward"
         }
        },
        "yaxis": {
         "anchor": "x",
         "domain": [
          0,
          1
         ],
         "title": {
          "text": "Number of patients"
         }
        }
       }
      }
     },
     "metadata": {},
     "output_type": "display_data"
    }
   ],
   "source": [
    "#create a stacked bar chart of the occupancy of the wards\n",
    "import plotly.express as px\n",
    "fig = px.bar(df_performance[[\"Estimated admissions\", \"Estimated relocations\", \"Estimated lost\"]])\n",
    "fig.update_layout(barmode='stack',\n",
    "                    title='Occupancy of the wards after 1 month',\n",
    "                    xaxis_title='Ward',\n",
    "                    yaxis_title='Number of patients')\n",
    "fig.show()\n",
    "fig.write_image(\"plots/occupancy.png\")\n",
    "#save fig in plots"
   ]
  },
  {
   "cell_type": "code",
   "execution_count": 79,
   "metadata": {},
   "outputs": [],
   "source": [
    "occupancy_last_sim = []\n",
    "rejections_last_sim = []\n",
    "\n",
    "for ward in wards:\n",
    "    ward_occupancy = np.array(ward.occupancy)\n",
    "    ward_rejections = np.array(ward.rejections)\n",
    "    occupancy_last_sim.append(ward_occupancy[ward_occupancy[:,0] < total_time, :])\n",
    "    rejections_last_sim.append(ward_rejections[ward_rejections < total_time])"
   ]
  },
  {
   "cell_type": "code",
   "execution_count": 80,
   "metadata": {},
   "outputs": [
    {
     "data": {
      "application/vnd.plotly.v1+json": {
       "config": {
        "plotlyServerURL": "https://plot.ly"
       },
       "data": [
        {
         "line": {
          "color": "rgba(224,173,63,1)"
         },
         "mode": "lines",
         "name": "A",
         "type": "scatter",
         "x": [
          15.018117013336973,
          15.029931723756347,
          15.109350664894379,
          15.205290262042094,
          15.210769248436211,
          15.243438824929466,
          15.262149530452014,
          15.278092507762565,
          15.295266658054514,
          15.319796846259498,
          15.339790182283274,
          15.356723407961356,
          15.398064692746857,
          15.402535573120756,
          15.452080462115044,
          15.490856293747825,
          15.492649524877391,
          15.509231285986909,
          15.511865693305674,
          15.539711412495242,
          15.549419166656625,
          15.552216131666581,
          15.570372598026402,
          15.571690237222064,
          15.574404250559917,
          15.613972263016183,
          15.668938326144593,
          15.678099925646404,
          15.684811777829447,
          15.686163634803528,
          15.696158504408796,
          15.702068079116918,
          15.70670869145598,
          15.73160167534539,
          15.732003223538317,
          15.746113731025568,
          15.784347716474485,
          15.838814011671506,
          15.845759192644488,
          15.886466347600914,
          15.891790159300172,
          15.894236961508591,
          15.907877282368444,
          15.944310990165022,
          15.957158715456293,
          16.018567680398615,
          16.167494899191748,
          16.28563537091149,
          16.32343147968809,
          16.36074577985313,
          16.371998266482056,
          16.383751803964405,
          16.48612616796392,
          16.545745977188204,
          16.61871919022165,
          16.62124854857837,
          16.623935829130744,
          16.641845437495522,
          16.659583744970803,
          16.67047097222949,
          16.678412751409677,
          16.71378017341233,
          16.722185385728572,
          16.784746563047374,
          16.79124040349766,
          16.82276660632689,
          16.83339641038055,
          16.931127574731597,
          17.03023244412892,
          17.039173437753202,
          17.081941141486585,
          17.139778186755006,
          17.14616100973064,
          17.254462881154364,
          17.286121542455398,
          17.354037377900717,
          17.40500308977166,
          17.457461811139936,
          17.49038758627404,
          17.506118365524436,
          17.539314533957565,
          17.55440035874239,
          17.5815975435082,
          17.619572504363155,
          17.620605287382798,
          17.634180934580463,
          17.65101316425631,
          17.65970367454195,
          17.676176467418063,
          17.704311130729046,
          17.721134083239733,
          17.732573257701002,
          17.75308521581697,
          17.77954022515898,
          17.78108625735761,
          17.828946688502533,
          17.904062607296726,
          17.9113882507791,
          17.94555086320099,
          17.997635289810376,
          18.045683313243153,
          18.058707355252743,
          18.108544226410913,
          18.130768246217936,
          18.24359301351592,
          18.25858364851319,
          18.279786697454913,
          18.34152238265554,
          18.35570974282677,
          18.383285005375868,
          18.405290445721008,
          18.421980559864313,
          18.433545545305897,
          18.505062319736403,
          18.523584868544557,
          18.54406179099092,
          18.599640480886038,
          18.651404913720025,
          18.653292894556934,
          18.683022453904947,
          18.687830575265547,
          18.690430664874807,
          18.707683697111626,
          18.79196987239476,
          18.797274294673993,
          18.90610542411692,
          18.927984081065556,
          18.95770859560529,
          18.967225219940946,
          18.98404324701884,
          19.008917452639462,
          19.017427558683554,
          19.04693539445103,
          19.0508485718306,
          19.071829181340938,
          19.109730803301975,
          19.222148641205973,
          19.22774398701902,
          19.265998641371567,
          19.283367309910226,
          19.309371362398174,
          19.310385265752117,
          19.35113282253797,
          19.364964512801674,
          19.370378184046967,
          19.386914278262086,
          19.454845245570016,
          19.456044558179496,
          19.49209488036177,
          19.51335206212537,
          19.58842615431092,
          19.609929229386275,
          19.669128164632188,
          19.736033359162022,
          19.753078643911937,
          19.77031590382204,
          19.77355343809463,
          19.82732567512042,
          19.82736353990569,
          19.890055753937595,
          19.91766225044853,
          19.920459204926765,
          19.96813848077029,
          20.103902400095155,
          20.169104635652413,
          20.329808357784657,
          20.410221349227346,
          20.54759300727065,
          20.578039520972634,
          20.59154581810629,
          20.596561909906754,
          20.69238823947692,
          20.702137718861778,
          20.781648955472143,
          20.820732836584558,
          20.862622954360184,
          20.897821301139594,
          20.910602713595924,
          20.911020200292754,
          20.925366137458226,
          20.92943040435904,
          20.98014340402702,
          20.991545226330413,
          21.01548805796326,
          21.030106957190632,
          21.085699155284583,
          21.092796669192566,
          21.102600767594296,
          21.174712834805106,
          21.176704905870658,
          21.197441093811854,
          21.204414242574906,
          21.221828650829792,
          21.22504465392443,
          21.240031185465647,
          21.25598995395754,
          21.308353729782613,
          21.333873549830322,
          21.3491239834723,
          21.349369703029684,
          21.367313501345457,
          21.37123015449218,
          21.390875488046863,
          21.43743226667596,
          21.550123592245942,
          21.588113062969818,
          21.588434898656462,
          21.65730170418408,
          21.66417182340992,
          21.703218268891437,
          21.70442410230517,
          21.738937991446385,
          21.753630485492355,
          21.76635172710966,
          21.769471189763806,
          21.785659077458146,
          21.852733805528608,
          21.91956492234196,
          21.966555252288856,
          21.993190162993937,
          22.007029583361934,
          22.028784058360316,
          22.05556793183726,
          22.08348516691252,
          22.101443059505378,
          22.10694605723888,
          22.13653004859109,
          22.142779304306192,
          22.160079401301154,
          22.177014692845404,
          22.186653768503668,
          22.210747172816696,
          22.262970269248882,
          22.276774700655608,
          22.312666515515147,
          22.318183674318732,
          22.34892436762589,
          22.358221616190434,
          22.396671636400207,
          22.468792642923457,
          22.501335004851573,
          22.523476906458413,
          22.551937574905413,
          22.565701029150805,
          22.56972389891567,
          22.57351115615561,
          22.57905635229508,
          22.632394390420757,
          22.670316020527554,
          22.67475269299414,
          22.679969462064204,
          22.680849586348725,
          22.698057901977226,
          22.73776353234321,
          22.738311574571316,
          22.73939749937723,
          22.781435198017014,
          22.81081126561306,
          22.82153841181725,
          22.836560022905378,
          22.87849594048316,
          22.894203282377614,
          22.912436556247684,
          22.916754347901357,
          22.955843763360896,
          22.977393570475886,
          22.991885264453547,
          23.026422773250466,
          23.03391964433462,
          23.0948962980664,
          23.10774892547939,
          23.29492039324907,
          23.447213991793056,
          23.44968128976262,
          23.478858237232036,
          23.513595778686906,
          23.57757887952095,
          23.582489854995536,
          23.643827266936498,
          23.73108555310131,
          23.738031221324928,
          23.765136725331494,
          23.765487369792965,
          23.793573832942382,
          23.807095130251984,
          23.811209157624766,
          23.81627868334702,
          23.865835805267274,
          23.897607756353235,
          23.899218008536945,
          23.992337906304385,
          23.995525871529395,
          24.03104679034152,
          24.050387044226486,
          24.068737372464195,
          24.105897965877467,
          24.15729204071749,
          24.18642069485638,
          24.20832971257903,
          24.254158371097187,
          24.27857806990067,
          24.28114938011394,
          24.29181870317093,
          24.308782404281825,
          24.347795972914753,
          24.351483916045616,
          24.374932550312003,
          24.38215362695693,
          24.39231370107244,
          24.419843285513707,
          24.482596753783827,
          24.485573355706347,
          24.515714827590784,
          24.589776090682882,
          24.591045380957123,
          24.623419322831662,
          24.639272777828474,
          24.6457907298547,
          24.697430482532386,
          24.74957743198859,
          24.752321723416504,
          24.875570947003343,
          24.913776329212812,
          24.918165465464725,
          24.919086652948398,
          24.948263657607416,
          24.971158954168395,
          25.06723315952078,
          25.074416028955184,
          25.099773653657792,
          25.154350160063125,
          25.163773889877113,
          25.181834368117972,
          25.182432618350543,
          25.20253492630119,
          25.21581391807305,
          25.218951107865447,
          25.354144823761022,
          25.368458940652005,
          25.387634572024094,
          25.3960739429261,
          25.450322601000885,
          25.450929292139058,
          25.458678729137436,
          25.463629843575042,
          25.571902562008777,
          25.612986642853897,
          25.65305167175815,
          25.728177736571105,
          25.739168163666186,
          25.749669193393245,
          25.750251315076376,
          25.758803162210977,
          25.774039109545836,
          25.882115215857848,
          25.930354157007727,
          25.966707031638606,
          26.01847150137513,
          26.038861881268254,
          26.046845849182358,
          26.07860466126912,
          26.11598295842342,
          26.135876782401834,
          26.16355806312782,
          26.19305552641766,
          26.194984273198248,
          26.2354009072084,
          26.263639754480366,
          26.29304092859675,
          26.310893251879534,
          26.329597800987916,
          26.345244730091686,
          26.47420045767277,
          26.497526643147662,
          26.590830127100578,
          26.63204236355323,
          26.638450678610788,
          26.644407092863318,
          26.72480055637077,
          26.76058838407176,
          26.798294707742873,
          26.833933066640004,
          26.873953772018922,
          26.893023604629562,
          26.915114983254387,
          26.926527983462503,
          26.941248789934075,
          26.943922200530498,
          27.05189756912297,
          27.060381431566512,
          27.094427884784476,
          27.121763077399603,
          27.196206822730243,
          27.228062134171513,
          27.237089110847283,
          27.252261300266543,
          27.271646997728876,
          27.323147978897342,
          27.327412843779605,
          27.37321378678068,
          27.37806364567458,
          27.40895910993553,
          27.409557186741317,
          27.439527539039535,
          27.49033676077603,
          27.504638467331738,
          27.50547344798603,
          27.509226522512712,
          27.54888429796761,
          27.570623419362704,
          27.623984472888466,
          27.656805921362622,
          27.721752886824255,
          27.729451727144315,
          27.72946235611128,
          27.8344367728492,
          27.869973993308864,
          27.876681452512454,
          27.900355333197275,
          27.926697646055388,
          27.928790785690147,
          27.9309668082381,
          27.93112820193305,
          27.942517484225267,
          27.998923645375694,
          28.043389614196624,
          28.069435118588416,
          28.103876592962322,
          28.11647396509696,
          28.13069469674354,
          28.141421226216266,
          28.16668633534676,
          28.167304009895446,
          28.23900808428415,
          28.283799684554744,
          28.30901746547374,
          28.40698818516209,
          28.434250654807055,
          28.44665457438386,
          28.46415650641316,
          28.48219722705513,
          28.492961160416332,
          28.51775479337125,
          28.535150850105694,
          28.57325276075354,
          28.57925145279395,
          28.59399191040758,
          28.622778282757853,
          28.71500996688434,
          28.746582333201317,
          28.766603544443857,
          28.770214867993687,
          28.784872598390926,
          28.859595422046976,
          28.87227429113642,
          28.926975231990717,
          28.95681577994634,
          29.0011279554136,
          29.01548013975529,
          29.018396681548737,
          29.018867651632906,
          29.100738971858082,
          29.109076783442255,
          29.137431811388854,
          29.19844498560885,
          29.225671930302834,
          29.245358841779506,
          29.273703985389396,
          29.28892232154091,
          29.358643641413096,
          29.362915859438015,
          29.379700046074976,
          29.51332451830975,
          29.51634892728939,
          29.545121349787816,
          29.575577186529102,
          29.62317054509388,
          29.626580118232916,
          29.63419930119313,
          29.648642921982006,
          29.653095057036808,
          29.689696165200562,
          29.69765242515349,
          29.746965366198648,
          29.76325449423875,
          29.80683075727698,
          29.823651283331454,
          29.827680933923617,
          29.87709585036709,
          29.897841163727605,
          29.905648962236608,
          29.906041259803633,
          29.90892706072993,
          29.918472654272723,
          29.96212576641336,
          30.126102770765982,
          30.144169640592615,
          30.159022968573048,
          30.17062027691072,
          30.182043473686747,
          30.20054213783848,
          30.21432647668198,
          30.248847772873255,
          30.297325839008693,
          30.299591231839347,
          30.308191945890545,
          30.357174460328753,
          30.38940252457128,
          30.415010919614634,
          30.421840365713948,
          30.44574824093077,
          30.542441560495156,
          30.567681448890216,
          30.5870574548893,
          30.606347758805253,
          30.61791996538413,
          30.623159438513365,
          30.630178065235302,
          30.64630170056974,
          30.665882387217444,
          30.731950826359867,
          30.73747069245526,
          30.786850243322537,
          30.862139372938195,
          30.88192302734058,
          30.896980257130068,
          30.933558222877572,
          30.939222662004944,
          30.947308000178975,
          30.947842800278554,
          30.971538968836345
         ],
         "y": [
          52,
          51,
          50,
          51,
          50,
          49,
          48,
          47,
          46,
          47,
          48,
          47,
          48,
          49,
          50,
          51,
          52,
          51,
          50,
          49,
          50,
          51,
          50,
          49,
          48,
          49,
          50,
          51,
          52,
          53,
          52,
          51,
          50,
          51,
          50,
          51,
          50,
          49,
          50,
          51,
          50,
          51,
          52,
          53,
          54,
          55,
          54,
          55,
          54,
          53,
          54,
          55,
          54,
          55,
          54,
          55,
          54,
          55,
          54,
          55,
          54,
          55,
          54,
          53,
          54,
          55,
          54,
          55,
          54,
          53,
          54,
          53,
          52,
          51,
          50,
          51,
          52,
          51,
          50,
          51,
          50,
          51,
          52,
          51,
          50,
          51,
          50,
          49,
          50,
          49,
          50,
          51,
          50,
          51,
          52,
          51,
          52,
          51,
          52,
          51,
          52,
          51,
          52,
          53,
          52,
          53,
          54,
          53,
          52,
          53,
          54,
          53,
          54,
          53,
          52,
          53,
          52,
          51,
          50,
          49,
          48,
          47,
          46,
          47,
          46,
          45,
          46,
          45,
          46,
          47,
          46,
          47,
          46,
          45,
          44,
          43,
          44,
          43,
          42,
          41,
          40,
          41,
          42,
          41,
          42,
          43,
          44,
          45,
          44,
          45,
          46,
          45,
          44,
          45,
          44,
          45,
          44,
          45,
          46,
          45,
          44,
          43,
          44,
          43,
          44,
          45,
          46,
          45,
          46,
          45,
          46,
          47,
          46,
          45,
          46,
          45,
          44,
          45,
          46,
          45,
          44,
          45,
          44,
          43,
          44,
          43,
          42,
          43,
          42,
          43,
          44,
          45,
          46,
          45,
          46,
          47,
          46,
          47,
          48,
          49,
          48,
          49,
          50,
          51,
          50,
          49,
          50,
          49,
          48,
          47,
          48,
          47,
          46,
          47,
          46,
          47,
          48,
          47,
          46,
          45,
          44,
          45,
          46,
          45,
          44,
          45,
          46,
          45,
          44,
          43,
          42,
          41,
          42,
          43,
          42,
          41,
          40,
          41,
          42,
          43,
          44,
          45,
          44,
          43,
          42,
          43,
          44,
          45,
          46,
          45,
          44,
          43,
          44,
          45,
          46,
          47,
          48,
          47,
          46,
          47,
          46,
          47,
          46,
          45,
          46,
          47,
          48,
          49,
          48,
          49,
          48,
          49,
          48,
          47,
          48,
          47,
          48,
          49,
          48,
          49,
          48,
          49,
          48,
          47,
          48,
          47,
          48,
          49,
          50,
          49,
          48,
          47,
          48,
          49,
          50,
          51,
          50,
          49,
          48,
          47,
          46,
          45,
          44,
          45,
          44,
          43,
          42,
          41,
          42,
          43,
          44,
          45,
          44,
          45,
          44,
          45,
          46,
          47,
          48,
          47,
          48,
          47,
          46,
          47,
          46,
          45,
          44,
          43,
          44,
          45,
          46,
          45,
          46,
          45,
          44,
          45,
          44,
          45,
          44,
          43,
          44,
          45,
          46,
          47,
          48,
          47,
          48,
          49,
          50,
          49,
          50,
          51,
          52,
          51,
          52,
          53,
          54,
          55,
          54,
          53,
          52,
          53,
          52,
          53,
          52,
          53,
          54,
          53,
          52,
          53,
          54,
          55,
          54,
          55,
          54,
          55,
          54,
          55,
          54,
          55,
          54,
          55,
          54,
          53,
          52,
          53,
          54,
          55,
          54,
          55,
          54,
          55,
          54,
          53,
          52,
          53,
          52,
          53,
          52,
          51,
          50,
          51,
          50,
          51,
          50,
          49,
          48,
          47,
          48,
          47,
          48,
          47,
          46,
          45,
          46,
          45,
          46,
          45,
          44,
          43,
          42,
          43,
          42,
          41,
          40,
          39,
          40,
          39,
          40,
          41,
          42,
          43,
          42,
          43,
          44,
          45,
          44,
          45,
          44,
          43,
          44,
          45,
          46,
          45,
          46,
          45,
          46,
          47,
          46,
          47,
          48,
          47,
          48,
          49,
          48,
          47,
          48,
          49,
          48,
          49,
          50,
          51,
          50,
          49,
          48,
          49,
          48,
          47,
          46,
          47,
          48,
          49,
          50,
          49,
          48,
          47,
          48,
          49,
          50,
          49,
          50,
          51,
          50,
          51,
          52,
          51,
          50,
          49,
          48,
          47,
          48,
          49,
          48,
          47,
          46,
          45,
          44,
          43,
          44,
          45,
          46,
          47,
          48,
          47,
          48,
          47,
          48,
          49,
          50,
          49,
          48,
          47,
          48,
          49,
          48,
          49,
          50,
          51,
          52,
          53,
          52,
          53,
          54,
          55,
          54,
          55,
          54,
          53,
          54,
          53,
          52
         ]
        },
        {
         "line": {
          "color": "rgba(224,173,63,1)",
          "dash": "dash"
         },
         "mode": "lines",
         "name": "A upper bound",
         "type": "scatter",
         "x": [
          15.018117013336973,
          15.029931723756347,
          15.109350664894379,
          15.205290262042094,
          15.210769248436211,
          15.243438824929466,
          15.262149530452014,
          15.278092507762565,
          15.295266658054514,
          15.319796846259498,
          15.339790182283274,
          15.356723407961356,
          15.398064692746857,
          15.402535573120756,
          15.452080462115044,
          15.490856293747825,
          15.492649524877391,
          15.509231285986909,
          15.511865693305674,
          15.539711412495242,
          15.549419166656625,
          15.552216131666581,
          15.570372598026402,
          15.571690237222064,
          15.574404250559917,
          15.613972263016183,
          15.668938326144593,
          15.678099925646404,
          15.684811777829447,
          15.686163634803528,
          15.696158504408796,
          15.702068079116918,
          15.70670869145598,
          15.73160167534539,
          15.732003223538317,
          15.746113731025568,
          15.784347716474485,
          15.838814011671506,
          15.845759192644488,
          15.886466347600914,
          15.891790159300172,
          15.894236961508591,
          15.907877282368444,
          15.944310990165022,
          15.957158715456293,
          16.018567680398615,
          16.167494899191748,
          16.28563537091149,
          16.32343147968809,
          16.36074577985313,
          16.371998266482056,
          16.383751803964405,
          16.48612616796392,
          16.545745977188204,
          16.61871919022165,
          16.62124854857837,
          16.623935829130744,
          16.641845437495522,
          16.659583744970803,
          16.67047097222949,
          16.678412751409677,
          16.71378017341233,
          16.722185385728572,
          16.784746563047374,
          16.79124040349766,
          16.82276660632689,
          16.83339641038055,
          16.931127574731597,
          17.03023244412892,
          17.039173437753202,
          17.081941141486585,
          17.139778186755006,
          17.14616100973064,
          17.254462881154364,
          17.286121542455398,
          17.354037377900717,
          17.40500308977166,
          17.457461811139936,
          17.49038758627404,
          17.506118365524436,
          17.539314533957565,
          17.55440035874239,
          17.5815975435082,
          17.619572504363155,
          17.620605287382798,
          17.634180934580463,
          17.65101316425631,
          17.65970367454195,
          17.676176467418063,
          17.704311130729046,
          17.721134083239733,
          17.732573257701002,
          17.75308521581697,
          17.77954022515898,
          17.78108625735761,
          17.828946688502533,
          17.904062607296726,
          17.9113882507791,
          17.94555086320099,
          17.997635289810376,
          18.045683313243153,
          18.058707355252743,
          18.108544226410913,
          18.130768246217936,
          18.24359301351592,
          18.25858364851319,
          18.279786697454913,
          18.34152238265554,
          18.35570974282677,
          18.383285005375868,
          18.405290445721008,
          18.421980559864313,
          18.433545545305897,
          18.505062319736403,
          18.523584868544557,
          18.54406179099092,
          18.599640480886038,
          18.651404913720025,
          18.653292894556934,
          18.683022453904947,
          18.687830575265547,
          18.690430664874807,
          18.707683697111626,
          18.79196987239476,
          18.797274294673993,
          18.90610542411692,
          18.927984081065556,
          18.95770859560529,
          18.967225219940946,
          18.98404324701884,
          19.008917452639462,
          19.017427558683554,
          19.04693539445103,
          19.0508485718306,
          19.071829181340938,
          19.109730803301975,
          19.222148641205973,
          19.22774398701902,
          19.265998641371567,
          19.283367309910226,
          19.309371362398174,
          19.310385265752117,
          19.35113282253797,
          19.364964512801674,
          19.370378184046967,
          19.386914278262086,
          19.454845245570016,
          19.456044558179496,
          19.49209488036177,
          19.51335206212537,
          19.58842615431092,
          19.609929229386275,
          19.669128164632188,
          19.736033359162022,
          19.753078643911937,
          19.77031590382204,
          19.77355343809463,
          19.82732567512042,
          19.82736353990569,
          19.890055753937595,
          19.91766225044853,
          19.920459204926765,
          19.96813848077029,
          20.103902400095155,
          20.169104635652413,
          20.329808357784657,
          20.410221349227346,
          20.54759300727065,
          20.578039520972634,
          20.59154581810629,
          20.596561909906754,
          20.69238823947692,
          20.702137718861778,
          20.781648955472143,
          20.820732836584558,
          20.862622954360184,
          20.897821301139594,
          20.910602713595924,
          20.911020200292754,
          20.925366137458226,
          20.92943040435904,
          20.98014340402702,
          20.991545226330413,
          21.01548805796326,
          21.030106957190632,
          21.085699155284583,
          21.092796669192566,
          21.102600767594296,
          21.174712834805106,
          21.176704905870658,
          21.197441093811854,
          21.204414242574906,
          21.221828650829792,
          21.22504465392443,
          21.240031185465647,
          21.25598995395754,
          21.308353729782613,
          21.333873549830322,
          21.3491239834723,
          21.349369703029684,
          21.367313501345457,
          21.37123015449218,
          21.390875488046863,
          21.43743226667596,
          21.550123592245942,
          21.588113062969818,
          21.588434898656462,
          21.65730170418408,
          21.66417182340992,
          21.703218268891437,
          21.70442410230517,
          21.738937991446385,
          21.753630485492355,
          21.76635172710966,
          21.769471189763806,
          21.785659077458146,
          21.852733805528608,
          21.91956492234196,
          21.966555252288856,
          21.993190162993937,
          22.007029583361934,
          22.028784058360316,
          22.05556793183726,
          22.08348516691252,
          22.101443059505378,
          22.10694605723888,
          22.13653004859109,
          22.142779304306192,
          22.160079401301154,
          22.177014692845404,
          22.186653768503668,
          22.210747172816696,
          22.262970269248882,
          22.276774700655608,
          22.312666515515147,
          22.318183674318732,
          22.34892436762589,
          22.358221616190434,
          22.396671636400207,
          22.468792642923457,
          22.501335004851573,
          22.523476906458413,
          22.551937574905413,
          22.565701029150805,
          22.56972389891567,
          22.57351115615561,
          22.57905635229508,
          22.632394390420757,
          22.670316020527554,
          22.67475269299414,
          22.679969462064204,
          22.680849586348725,
          22.698057901977226,
          22.73776353234321,
          22.738311574571316,
          22.73939749937723,
          22.781435198017014,
          22.81081126561306,
          22.82153841181725,
          22.836560022905378,
          22.87849594048316,
          22.894203282377614,
          22.912436556247684,
          22.916754347901357,
          22.955843763360896,
          22.977393570475886,
          22.991885264453547,
          23.026422773250466,
          23.03391964433462,
          23.0948962980664,
          23.10774892547939,
          23.29492039324907,
          23.447213991793056,
          23.44968128976262,
          23.478858237232036,
          23.513595778686906,
          23.57757887952095,
          23.582489854995536,
          23.643827266936498,
          23.73108555310131,
          23.738031221324928,
          23.765136725331494,
          23.765487369792965,
          23.793573832942382,
          23.807095130251984,
          23.811209157624766,
          23.81627868334702,
          23.865835805267274,
          23.897607756353235,
          23.899218008536945,
          23.992337906304385,
          23.995525871529395,
          24.03104679034152,
          24.050387044226486,
          24.068737372464195,
          24.105897965877467,
          24.15729204071749,
          24.18642069485638,
          24.20832971257903,
          24.254158371097187,
          24.27857806990067,
          24.28114938011394,
          24.29181870317093,
          24.308782404281825,
          24.347795972914753,
          24.351483916045616,
          24.374932550312003,
          24.38215362695693,
          24.39231370107244,
          24.419843285513707,
          24.482596753783827,
          24.485573355706347,
          24.515714827590784,
          24.589776090682882,
          24.591045380957123,
          24.623419322831662,
          24.639272777828474,
          24.6457907298547,
          24.697430482532386,
          24.74957743198859,
          24.752321723416504,
          24.875570947003343,
          24.913776329212812,
          24.918165465464725,
          24.919086652948398,
          24.948263657607416,
          24.971158954168395,
          25.06723315952078,
          25.074416028955184,
          25.099773653657792,
          25.154350160063125,
          25.163773889877113,
          25.181834368117972,
          25.182432618350543,
          25.20253492630119,
          25.21581391807305,
          25.218951107865447,
          25.354144823761022,
          25.368458940652005,
          25.387634572024094,
          25.3960739429261,
          25.450322601000885,
          25.450929292139058,
          25.458678729137436,
          25.463629843575042,
          25.571902562008777,
          25.612986642853897,
          25.65305167175815,
          25.728177736571105,
          25.739168163666186,
          25.749669193393245,
          25.750251315076376,
          25.758803162210977,
          25.774039109545836,
          25.882115215857848,
          25.930354157007727,
          25.966707031638606,
          26.01847150137513,
          26.038861881268254,
          26.046845849182358,
          26.07860466126912,
          26.11598295842342,
          26.135876782401834,
          26.16355806312782,
          26.19305552641766,
          26.194984273198248,
          26.2354009072084,
          26.263639754480366,
          26.29304092859675,
          26.310893251879534,
          26.329597800987916,
          26.345244730091686,
          26.47420045767277,
          26.497526643147662,
          26.590830127100578,
          26.63204236355323,
          26.638450678610788,
          26.644407092863318,
          26.72480055637077,
          26.76058838407176,
          26.798294707742873,
          26.833933066640004,
          26.873953772018922,
          26.893023604629562,
          26.915114983254387,
          26.926527983462503,
          26.941248789934075,
          26.943922200530498,
          27.05189756912297,
          27.060381431566512,
          27.094427884784476,
          27.121763077399603,
          27.196206822730243,
          27.228062134171513,
          27.237089110847283,
          27.252261300266543,
          27.271646997728876,
          27.323147978897342,
          27.327412843779605,
          27.37321378678068,
          27.37806364567458,
          27.40895910993553,
          27.409557186741317,
          27.439527539039535,
          27.49033676077603,
          27.504638467331738,
          27.50547344798603,
          27.509226522512712,
          27.54888429796761,
          27.570623419362704,
          27.623984472888466,
          27.656805921362622,
          27.721752886824255,
          27.729451727144315,
          27.72946235611128,
          27.8344367728492,
          27.869973993308864,
          27.876681452512454,
          27.900355333197275,
          27.926697646055388,
          27.928790785690147,
          27.9309668082381,
          27.93112820193305,
          27.942517484225267,
          27.998923645375694,
          28.043389614196624,
          28.069435118588416,
          28.103876592962322,
          28.11647396509696,
          28.13069469674354,
          28.141421226216266,
          28.16668633534676,
          28.167304009895446,
          28.23900808428415,
          28.283799684554744,
          28.30901746547374,
          28.40698818516209,
          28.434250654807055,
          28.44665457438386,
          28.46415650641316,
          28.48219722705513,
          28.492961160416332,
          28.51775479337125,
          28.535150850105694,
          28.57325276075354,
          28.57925145279395,
          28.59399191040758,
          28.622778282757853,
          28.71500996688434,
          28.746582333201317,
          28.766603544443857,
          28.770214867993687,
          28.784872598390926,
          28.859595422046976,
          28.87227429113642,
          28.926975231990717,
          28.95681577994634,
          29.0011279554136,
          29.01548013975529,
          29.018396681548737,
          29.018867651632906,
          29.100738971858082,
          29.109076783442255,
          29.137431811388854,
          29.19844498560885,
          29.225671930302834,
          29.245358841779506,
          29.273703985389396,
          29.28892232154091,
          29.358643641413096,
          29.362915859438015,
          29.379700046074976,
          29.51332451830975,
          29.51634892728939,
          29.545121349787816,
          29.575577186529102,
          29.62317054509388,
          29.626580118232916,
          29.63419930119313,
          29.648642921982006,
          29.653095057036808,
          29.689696165200562,
          29.69765242515349,
          29.746965366198648,
          29.76325449423875,
          29.80683075727698,
          29.823651283331454,
          29.827680933923617,
          29.87709585036709,
          29.897841163727605,
          29.905648962236608,
          29.906041259803633,
          29.90892706072993,
          29.918472654272723,
          29.96212576641336,
          30.126102770765982,
          30.144169640592615,
          30.159022968573048,
          30.17062027691072,
          30.182043473686747,
          30.20054213783848,
          30.21432647668198,
          30.248847772873255,
          30.297325839008693,
          30.299591231839347,
          30.308191945890545,
          30.357174460328753,
          30.38940252457128,
          30.415010919614634,
          30.421840365713948,
          30.44574824093077,
          30.542441560495156,
          30.567681448890216,
          30.5870574548893,
          30.606347758805253,
          30.61791996538413,
          30.623159438513365,
          30.630178065235302,
          30.64630170056974,
          30.665882387217444,
          30.731950826359867,
          30.73747069245526,
          30.786850243322537,
          30.862139372938195,
          30.88192302734058,
          30.896980257130068,
          30.933558222877572,
          30.939222662004944,
          30.947308000178975,
          30.947842800278554,
          30.971538968836345
         ],
         "y": [
          55,
          55,
          55,
          55,
          55,
          55,
          55,
          55,
          55,
          55,
          55,
          55,
          55,
          55,
          55,
          55,
          55,
          55,
          55,
          55,
          55,
          55,
          55,
          55,
          55,
          55,
          55,
          55,
          55,
          55,
          55,
          55,
          55,
          55,
          55,
          55,
          55,
          55,
          55,
          55,
          55,
          55,
          55,
          55,
          55,
          55,
          55,
          55,
          55,
          55,
          55,
          55,
          55,
          55,
          55,
          55,
          55,
          55,
          55,
          55,
          55,
          55,
          55,
          55,
          55,
          55,
          55,
          55,
          55,
          55,
          55,
          55,
          55,
          55,
          55,
          55,
          55,
          55,
          55,
          55,
          55,
          55,
          55,
          55,
          55,
          55,
          55,
          55,
          55,
          55,
          55,
          55,
          55,
          55,
          55,
          55,
          55,
          55,
          55,
          55,
          55,
          55,
          55,
          55,
          55,
          55,
          55,
          55,
          55,
          55,
          55,
          55,
          55,
          55,
          55,
          55,
          55,
          55,
          55,
          55,
          55,
          55,
          55,
          55,
          55,
          55,
          55,
          55,
          55,
          55,
          55,
          55,
          55,
          55,
          55,
          55,
          55,
          55,
          55,
          55,
          55,
          55,
          55,
          55,
          55,
          55,
          55,
          55,
          55,
          55,
          55,
          55,
          55,
          55,
          55,
          55,
          55,
          55,
          55,
          55,
          55,
          55,
          55,
          55,
          55,
          55,
          55,
          55,
          55,
          55,
          55,
          55,
          55,
          55,
          55,
          55,
          55,
          55,
          55,
          55,
          55,
          55,
          55,
          55,
          55,
          55,
          55,
          55,
          55,
          55,
          55,
          55,
          55,
          55,
          55,
          55,
          55,
          55,
          55,
          55,
          55,
          55,
          55,
          55,
          55,
          55,
          55,
          55,
          55,
          55,
          55,
          55,
          55,
          55,
          55,
          55,
          55,
          55,
          55,
          55,
          55,
          55,
          55,
          55,
          55,
          55,
          55,
          55,
          55,
          55,
          55,
          55,
          55,
          55,
          55,
          55,
          55,
          55,
          55,
          55,
          55,
          55,
          55,
          55,
          55,
          55,
          55,
          55,
          55,
          55,
          55,
          55,
          55,
          55,
          55,
          55,
          55,
          55,
          55,
          55,
          55,
          55,
          55,
          55,
          55,
          55,
          55,
          55,
          55,
          55,
          55,
          55,
          55,
          55,
          55,
          55,
          55,
          55,
          55,
          55,
          55,
          55,
          55,
          55,
          55,
          55,
          55,
          55,
          55,
          55,
          55,
          55,
          55,
          55,
          55,
          55,
          55,
          55,
          55,
          55,
          55,
          55,
          55,
          55,
          55,
          55,
          55,
          55,
          55,
          55,
          55,
          55,
          55,
          55,
          55,
          55,
          55,
          55,
          55,
          55,
          55,
          55,
          55,
          55,
          55,
          55,
          55,
          55,
          55,
          55,
          55,
          55,
          55,
          55,
          55,
          55,
          55,
          55,
          55,
          55,
          55,
          55,
          55,
          55,
          55,
          55,
          55,
          55,
          55,
          55,
          55,
          55,
          55,
          55,
          55,
          55,
          55,
          55,
          55,
          55,
          55,
          55,
          55,
          55,
          55,
          55,
          55,
          55,
          55,
          55,
          55,
          55,
          55,
          55,
          55,
          55,
          55,
          55,
          55,
          55,
          55,
          55,
          55,
          55,
          55,
          55,
          55,
          55,
          55,
          55,
          55,
          55,
          55,
          55,
          55,
          55,
          55,
          55,
          55,
          55,
          55,
          55,
          55,
          55,
          55,
          55,
          55,
          55,
          55,
          55,
          55,
          55,
          55,
          55,
          55,
          55,
          55,
          55,
          55,
          55,
          55,
          55,
          55,
          55,
          55,
          55,
          55,
          55,
          55,
          55,
          55,
          55,
          55,
          55,
          55,
          55,
          55,
          55,
          55,
          55,
          55,
          55,
          55,
          55,
          55,
          55,
          55,
          55,
          55,
          55,
          55,
          55,
          55,
          55,
          55,
          55,
          55,
          55,
          55,
          55,
          55,
          55,
          55,
          55,
          55,
          55,
          55,
          55,
          55,
          55,
          55,
          55,
          55,
          55,
          55,
          55,
          55,
          55,
          55,
          55,
          55,
          55,
          55,
          55,
          55,
          55,
          55,
          55,
          55,
          55,
          55,
          55,
          55,
          55,
          55,
          55,
          55,
          55,
          55,
          55,
          55,
          55,
          55,
          55,
          55,
          55,
          55,
          55,
          55,
          55,
          55,
          55,
          55,
          55,
          55,
          55,
          55,
          55,
          55,
          55,
          55,
          55,
          55,
          55,
          55,
          55,
          55,
          55,
          55,
          55,
          55
         ]
        },
        {
         "marker": {
          "color": "rgba(224,173,63,1)",
          "opacity": 0.5,
          "size": 7,
          "symbol": "x"
         },
         "mode": "markers",
         "name": "A rejections",
         "type": "scatter",
         "x": [
          16.04313951609698,
          16.099071642386207,
          16.295697874917213,
          16.32003125714094,
          16.574421862307975,
          16.58486813326578,
          16.597782622627506,
          16.971153324343273,
          16.98309474700053,
          26.381260575049073,
          26.392289153428575,
          26.50786386958995,
          26.665262266206717,
          26.9516217292079,
          27.04241951244297,
          27.04416280143873,
          27.051186080433386,
          27.176281347833662
         ],
         "y": [
          55,
          55,
          55,
          55,
          55,
          55,
          55,
          55,
          55,
          55,
          55,
          55,
          55,
          55,
          55,
          55,
          55,
          55
         ]
        },
        {
         "line": {
          "color": "rgba(39,144,176,1)"
         },
         "mode": "lines",
         "name": "B",
         "type": "scatter",
         "x": [
          15.082858273993581,
          15.109845354098535,
          15.169723298862374,
          15.278757859256814,
          15.350925411921091,
          15.449688212583595,
          15.457514916637734,
          15.469008491292879,
          15.507832719894049,
          15.562942338413691,
          15.591316983095163,
          15.669115408553045,
          15.690174718917952,
          15.802905233294332,
          15.80919082587063,
          15.861828638907804,
          15.88109981087208,
          15.917494912163855,
          15.92156060234927,
          16.032603875011116,
          16.110115639137216,
          16.192364813610787,
          16.257566560378052,
          16.261419425344016,
          16.35636434624448,
          16.376039206031848,
          16.398379353313953,
          16.477693689171534,
          16.49563302802909,
          16.511369722341453,
          16.53380204707425,
          16.57963419541461,
          16.759615604502912,
          16.833376380608343,
          16.834430175007217,
          17.300756623967068,
          17.319441200401084,
          17.355761179711145,
          17.430950595045648,
          17.498253747501,
          17.533237490930194,
          17.53632413120286,
          17.53866866858752,
          17.63722030470783,
          17.667048496888015,
          17.781022802850153,
          17.787309908490606,
          17.793080188816482,
          17.799993939320654,
          17.85230654068319,
          17.900262579865355,
          17.90449908494821,
          17.921521196642974,
          18.047582133779382,
          18.08037139223657,
          18.113446438421676,
          18.12919288334714,
          18.2345274682739,
          18.24429846475353,
          18.27643971152317,
          18.309228847537806,
          18.42986762989959,
          18.443539100776643,
          18.53415507413098,
          18.6074429251529,
          18.678480273667958,
          18.692345671247942,
          18.700449523308016,
          18.718209604783382,
          18.772052354726625,
          18.77604488548257,
          18.7985789202779,
          18.810108411426725,
          18.874475241271416,
          18.976554937257283,
          18.996016941027843,
          19.035302933696276,
          19.115487224668232,
          19.134752108587676,
          19.222765100551484,
          19.22747193357942,
          19.231825239793203,
          19.273123312678113,
          19.348881638157803,
          19.43424173181618,
          19.478409130519,
          19.526701153279596,
          19.53517476251256,
          19.564029524133524,
          19.581586709798405,
          19.702611618465422,
          19.751510581656227,
          19.81693013272517,
          19.849268939896696,
          19.904821563537,
          19.938219553935184,
          19.9562257813926,
          20.03337466133282,
          20.05727460319219,
          20.074182572863617,
          20.120677003248783,
          20.318919837241094,
          20.369521132153167,
          20.44942439952159,
          20.481130397999525,
          20.505173946011105,
          20.521905742644915,
          20.57577121677979,
          20.606952643137156,
          20.62204742064881,
          20.623791155474276,
          20.669519567273124,
          20.80696920907392,
          20.9138800496055,
          20.97900082857362,
          21.07784554081212,
          21.098578067978206,
          21.1588322826804,
          21.16807358311397,
          21.168385977962686,
          21.186770059363617,
          21.216525567836705,
          21.402997296065376,
          21.47701077839802,
          21.488050062602806,
          21.577880572275966,
          21.61135623999509,
          21.647883399535218,
          21.670978655371695,
          21.709178239300144,
          21.806263906147397,
          21.91888595903813,
          21.9340071332526,
          21.993139212743166,
          22.0649158616542,
          22.086759575442915,
          22.107237197686615,
          22.134882718614527,
          22.217583810563422,
          22.298340721854437,
          22.304961610138186,
          22.43268288175428,
          22.439091249400494,
          22.542990087659536,
          22.543630486509393,
          22.555933970251637,
          22.587779649438453,
          22.6466952956886,
          22.647336245551664,
          22.668014297098082,
          22.70335293843805,
          22.775021454858965,
          22.802816157407918,
          22.822542482269604,
          22.853038480512065,
          23.24793825360031,
          23.294565695045847,
          23.364413758654912,
          23.378947803547042,
          23.392707376508092,
          23.516456344834133,
          23.521530704864247,
          23.561742719817445,
          23.59783352989568,
          23.629376516168556,
          23.67142644730159,
          23.691961244825855,
          23.845787502262812,
          23.859048533351004,
          23.877845226621027,
          23.914836802415618,
          24.079516361068173,
          24.096154419510608,
          24.21279215278335,
          24.26408644767554,
          24.280462958935388,
          24.437123040967744,
          24.57479090196965,
          24.586950167299626,
          24.795281744737572,
          24.84574226116196,
          24.901647165614737,
          24.936824929300485,
          24.96040708440973,
          24.983930599889803,
          24.986188040146267,
          24.986845180065654,
          25.018260544312508,
          25.091773037544538,
          25.137610375435116,
          25.29313276880272,
          25.294561702600955,
          25.330770784905905,
          25.439760710795177,
          25.511743829327663,
          25.59993948226725,
          25.6460373329372,
          25.664101407079585,
          25.679724915898277,
          25.690132582351158,
          25.705252688154456,
          25.736425922337297,
          25.736670694242118,
          25.74816386398439,
          25.852121992208666,
          25.87095942770982,
          25.8808969239472,
          25.930704723099524,
          25.97102107015335,
          25.976258324775475,
          25.998394025114237,
          26.06421006702233,
          26.13530364800466,
          26.148435170435075,
          26.16352590041578,
          26.16800748100214,
          26.17160032141107,
          26.386667875031993,
          26.401157407901472,
          26.43401700809471,
          26.54486020420326,
          26.544868129957763,
          26.63473618296412,
          26.63867834046922,
          26.64024183327558,
          26.668502019320933,
          26.68479223222674,
          26.808357628436035,
          26.820770366111546,
          26.885704315166482,
          26.998332600622945,
          27.01318060782087,
          27.029021175601667,
          27.129007956040937,
          27.15031463548686,
          27.1837552596014,
          27.221179576240075,
          27.252767100482735,
          27.253069920548946,
          27.2642656832052,
          27.28814465521529,
          27.303730223587277,
          27.444255293278005,
          27.45404067909705,
          27.560642336952775,
          27.56647182073897,
          27.575078299454614,
          27.63878190240368,
          27.670407702250852,
          27.673684287975984,
          27.734861153829776,
          27.743449190545736,
          27.77297343561481,
          27.813243214351225,
          27.849655855786782,
          27.860950534463612,
          28.03336427419098,
          28.10537210225061,
          28.111489534777785,
          28.227167107042824,
          28.23288978185631,
          28.23305420464319,
          28.237480152104506,
          28.295710022899552,
          28.357953602744836,
          28.521784276540544,
          28.56743419280413,
          28.621972742339437,
          28.65820100935232,
          28.69647099587725,
          28.79043474911647,
          28.949928833962765,
          28.989961436997568,
          28.9943782271122,
          29.018321931292384,
          29.034772240578917,
          29.14181545354243,
          29.191782207550933,
          29.193639757440774,
          29.247592447888124,
          29.31448984026242,
          29.315833445306417,
          29.38321475174137,
          29.802356564057654,
          29.81799773599898,
          29.893547165795308,
          29.915210900815268,
          29.969906766467528,
          29.974744468511673,
          29.994939601653215,
          30.000063343757557,
          30.054320618526383,
          30.112681064801933,
          30.17607716486203,
          30.185055733448355,
          30.211225415766183,
          30.211687046266483,
          30.218449448262025,
          30.263646810046378,
          30.46464277534544,
          30.522023566277152,
          30.53916290612061,
          30.540288524943595,
          30.632202532401237,
          30.641963308189105,
          30.752324388116968,
          30.76695299888877,
          30.85608102978747,
          30.86249380175647,
          30.899171739844775,
          30.91811317235952,
          30.924009860551244,
          30.977326783524695
         ],
         "y": [
          34,
          35,
          36,
          37,
          38,
          39,
          40,
          39,
          40,
          39,
          40,
          39,
          40,
          39,
          38,
          39,
          38,
          39,
          40,
          39,
          38,
          39,
          40,
          39,
          38,
          39,
          40,
          39,
          40,
          39,
          38,
          39,
          40,
          39,
          40,
          39,
          40,
          39,
          40,
          39,
          38,
          39,
          38,
          37,
          36,
          35,
          36,
          37,
          38,
          39,
          40,
          39,
          40,
          39,
          38,
          37,
          38,
          37,
          36,
          37,
          38,
          37,
          38,
          37,
          36,
          37,
          38,
          39,
          40,
          39,
          38,
          37,
          36,
          37,
          38,
          37,
          36,
          37,
          38,
          39,
          38,
          39,
          40,
          39,
          40,
          39,
          38,
          39,
          40,
          39,
          40,
          39,
          38,
          39,
          38,
          37,
          38,
          37,
          38,
          39,
          40,
          39,
          40,
          39,
          40,
          39,
          40,
          39,
          38,
          37,
          36,
          37,
          36,
          37,
          38,
          37,
          38,
          39,
          38,
          39,
          38,
          37,
          36,
          35,
          34,
          35,
          34,
          35,
          36,
          35,
          36,
          37,
          36,
          37,
          36,
          37,
          38,
          39,
          40,
          39,
          40,
          39,
          40,
          39,
          38,
          39,
          40,
          39,
          38,
          39,
          40,
          39,
          38,
          39,
          40,
          39,
          40,
          39,
          38,
          37,
          38,
          39,
          40,
          39,
          40,
          39,
          40,
          39,
          38,
          39,
          40,
          39,
          38,
          39,
          40,
          39,
          40,
          39,
          40,
          39,
          38,
          37,
          36,
          37,
          38,
          37,
          36,
          35,
          36,
          35,
          36,
          35,
          34,
          35,
          34,
          35,
          34,
          35,
          34,
          35,
          34,
          35,
          34,
          35,
          36,
          35,
          36,
          37,
          36,
          35,
          34,
          33,
          32,
          31,
          32,
          31,
          30,
          31,
          32,
          31,
          32,
          31,
          32,
          33,
          34,
          33,
          34,
          33,
          32,
          31,
          30,
          31,
          30,
          31,
          32,
          31,
          32,
          31,
          32,
          33,
          34,
          35,
          34,
          33,
          32,
          33,
          34,
          33,
          32,
          31,
          32,
          33,
          34,
          35,
          34,
          33,
          32,
          33,
          32,
          33,
          34,
          33,
          34,
          35,
          36,
          35,
          36,
          37,
          38,
          39,
          40,
          39,
          38,
          37,
          38,
          39,
          38,
          39,
          38,
          39,
          38,
          39,
          40,
          39,
          40,
          39,
          40,
          39,
          40,
          39,
          40,
          39,
          40,
          39,
          38,
          39,
          38,
          39,
          40,
          39,
          40,
          39,
          40,
          39,
          40,
          39,
          40,
          39,
          38,
          39,
          38,
          39,
          40
         ]
        },
        {
         "line": {
          "color": "rgba(39,144,176,1)",
          "dash": "dash"
         },
         "mode": "lines",
         "name": "B upper bound",
         "type": "scatter",
         "x": [
          15.082858273993581,
          15.109845354098535,
          15.169723298862374,
          15.278757859256814,
          15.350925411921091,
          15.449688212583595,
          15.457514916637734,
          15.469008491292879,
          15.507832719894049,
          15.562942338413691,
          15.591316983095163,
          15.669115408553045,
          15.690174718917952,
          15.802905233294332,
          15.80919082587063,
          15.861828638907804,
          15.88109981087208,
          15.917494912163855,
          15.92156060234927,
          16.032603875011116,
          16.110115639137216,
          16.192364813610787,
          16.257566560378052,
          16.261419425344016,
          16.35636434624448,
          16.376039206031848,
          16.398379353313953,
          16.477693689171534,
          16.49563302802909,
          16.511369722341453,
          16.53380204707425,
          16.57963419541461,
          16.759615604502912,
          16.833376380608343,
          16.834430175007217,
          17.300756623967068,
          17.319441200401084,
          17.355761179711145,
          17.430950595045648,
          17.498253747501,
          17.533237490930194,
          17.53632413120286,
          17.53866866858752,
          17.63722030470783,
          17.667048496888015,
          17.781022802850153,
          17.787309908490606,
          17.793080188816482,
          17.799993939320654,
          17.85230654068319,
          17.900262579865355,
          17.90449908494821,
          17.921521196642974,
          18.047582133779382,
          18.08037139223657,
          18.113446438421676,
          18.12919288334714,
          18.2345274682739,
          18.24429846475353,
          18.27643971152317,
          18.309228847537806,
          18.42986762989959,
          18.443539100776643,
          18.53415507413098,
          18.6074429251529,
          18.678480273667958,
          18.692345671247942,
          18.700449523308016,
          18.718209604783382,
          18.772052354726625,
          18.77604488548257,
          18.7985789202779,
          18.810108411426725,
          18.874475241271416,
          18.976554937257283,
          18.996016941027843,
          19.035302933696276,
          19.115487224668232,
          19.134752108587676,
          19.222765100551484,
          19.22747193357942,
          19.231825239793203,
          19.273123312678113,
          19.348881638157803,
          19.43424173181618,
          19.478409130519,
          19.526701153279596,
          19.53517476251256,
          19.564029524133524,
          19.581586709798405,
          19.702611618465422,
          19.751510581656227,
          19.81693013272517,
          19.849268939896696,
          19.904821563537,
          19.938219553935184,
          19.9562257813926,
          20.03337466133282,
          20.05727460319219,
          20.074182572863617,
          20.120677003248783,
          20.318919837241094,
          20.369521132153167,
          20.44942439952159,
          20.481130397999525,
          20.505173946011105,
          20.521905742644915,
          20.57577121677979,
          20.606952643137156,
          20.62204742064881,
          20.623791155474276,
          20.669519567273124,
          20.80696920907392,
          20.9138800496055,
          20.97900082857362,
          21.07784554081212,
          21.098578067978206,
          21.1588322826804,
          21.16807358311397,
          21.168385977962686,
          21.186770059363617,
          21.216525567836705,
          21.402997296065376,
          21.47701077839802,
          21.488050062602806,
          21.577880572275966,
          21.61135623999509,
          21.647883399535218,
          21.670978655371695,
          21.709178239300144,
          21.806263906147397,
          21.91888595903813,
          21.9340071332526,
          21.993139212743166,
          22.0649158616542,
          22.086759575442915,
          22.107237197686615,
          22.134882718614527,
          22.217583810563422,
          22.298340721854437,
          22.304961610138186,
          22.43268288175428,
          22.439091249400494,
          22.542990087659536,
          22.543630486509393,
          22.555933970251637,
          22.587779649438453,
          22.6466952956886,
          22.647336245551664,
          22.668014297098082,
          22.70335293843805,
          22.775021454858965,
          22.802816157407918,
          22.822542482269604,
          22.853038480512065,
          23.24793825360031,
          23.294565695045847,
          23.364413758654912,
          23.378947803547042,
          23.392707376508092,
          23.516456344834133,
          23.521530704864247,
          23.561742719817445,
          23.59783352989568,
          23.629376516168556,
          23.67142644730159,
          23.691961244825855,
          23.845787502262812,
          23.859048533351004,
          23.877845226621027,
          23.914836802415618,
          24.079516361068173,
          24.096154419510608,
          24.21279215278335,
          24.26408644767554,
          24.280462958935388,
          24.437123040967744,
          24.57479090196965,
          24.586950167299626,
          24.795281744737572,
          24.84574226116196,
          24.901647165614737,
          24.936824929300485,
          24.96040708440973,
          24.983930599889803,
          24.986188040146267,
          24.986845180065654,
          25.018260544312508,
          25.091773037544538,
          25.137610375435116,
          25.29313276880272,
          25.294561702600955,
          25.330770784905905,
          25.439760710795177,
          25.511743829327663,
          25.59993948226725,
          25.6460373329372,
          25.664101407079585,
          25.679724915898277,
          25.690132582351158,
          25.705252688154456,
          25.736425922337297,
          25.736670694242118,
          25.74816386398439,
          25.852121992208666,
          25.87095942770982,
          25.8808969239472,
          25.930704723099524,
          25.97102107015335,
          25.976258324775475,
          25.998394025114237,
          26.06421006702233,
          26.13530364800466,
          26.148435170435075,
          26.16352590041578,
          26.16800748100214,
          26.17160032141107,
          26.386667875031993,
          26.401157407901472,
          26.43401700809471,
          26.54486020420326,
          26.544868129957763,
          26.63473618296412,
          26.63867834046922,
          26.64024183327558,
          26.668502019320933,
          26.68479223222674,
          26.808357628436035,
          26.820770366111546,
          26.885704315166482,
          26.998332600622945,
          27.01318060782087,
          27.029021175601667,
          27.129007956040937,
          27.15031463548686,
          27.1837552596014,
          27.221179576240075,
          27.252767100482735,
          27.253069920548946,
          27.2642656832052,
          27.28814465521529,
          27.303730223587277,
          27.444255293278005,
          27.45404067909705,
          27.560642336952775,
          27.56647182073897,
          27.575078299454614,
          27.63878190240368,
          27.670407702250852,
          27.673684287975984,
          27.734861153829776,
          27.743449190545736,
          27.77297343561481,
          27.813243214351225,
          27.849655855786782,
          27.860950534463612,
          28.03336427419098,
          28.10537210225061,
          28.111489534777785,
          28.227167107042824,
          28.23288978185631,
          28.23305420464319,
          28.237480152104506,
          28.295710022899552,
          28.357953602744836,
          28.521784276540544,
          28.56743419280413,
          28.621972742339437,
          28.65820100935232,
          28.69647099587725,
          28.79043474911647,
          28.949928833962765,
          28.989961436997568,
          28.9943782271122,
          29.018321931292384,
          29.034772240578917,
          29.14181545354243,
          29.191782207550933,
          29.193639757440774,
          29.247592447888124,
          29.31448984026242,
          29.315833445306417,
          29.38321475174137,
          29.802356564057654,
          29.81799773599898,
          29.893547165795308,
          29.915210900815268,
          29.969906766467528,
          29.974744468511673,
          29.994939601653215,
          30.000063343757557,
          30.054320618526383,
          30.112681064801933,
          30.17607716486203,
          30.185055733448355,
          30.211225415766183,
          30.211687046266483,
          30.218449448262025,
          30.263646810046378,
          30.46464277534544,
          30.522023566277152,
          30.53916290612061,
          30.540288524943595,
          30.632202532401237,
          30.641963308189105,
          30.752324388116968,
          30.76695299888877,
          30.85608102978747,
          30.86249380175647,
          30.899171739844775,
          30.91811317235952,
          30.924009860551244,
          30.977326783524695
         ],
         "y": [
          40,
          40,
          40,
          40,
          40,
          40,
          40,
          40,
          40,
          40,
          40,
          40,
          40,
          40,
          40,
          40,
          40,
          40,
          40,
          40,
          40,
          40,
          40,
          40,
          40,
          40,
          40,
          40,
          40,
          40,
          40,
          40,
          40,
          40,
          40,
          40,
          40,
          40,
          40,
          40,
          40,
          40,
          40,
          40,
          40,
          40,
          40,
          40,
          40,
          40,
          40,
          40,
          40,
          40,
          40,
          40,
          40,
          40,
          40,
          40,
          40,
          40,
          40,
          40,
          40,
          40,
          40,
          40,
          40,
          40,
          40,
          40,
          40,
          40,
          40,
          40,
          40,
          40,
          40,
          40,
          40,
          40,
          40,
          40,
          40,
          40,
          40,
          40,
          40,
          40,
          40,
          40,
          40,
          40,
          40,
          40,
          40,
          40,
          40,
          40,
          40,
          40,
          40,
          40,
          40,
          40,
          40,
          40,
          40,
          40,
          40,
          40,
          40,
          40,
          40,
          40,
          40,
          40,
          40,
          40,
          40,
          40,
          40,
          40,
          40,
          40,
          40,
          40,
          40,
          40,
          40,
          40,
          40,
          40,
          40,
          40,
          40,
          40,
          40,
          40,
          40,
          40,
          40,
          40,
          40,
          40,
          40,
          40,
          40,
          40,
          40,
          40,
          40,
          40,
          40,
          40,
          40,
          40,
          40,
          40,
          40,
          40,
          40,
          40,
          40,
          40,
          40,
          40,
          40,
          40,
          40,
          40,
          40,
          40,
          40,
          40,
          40,
          40,
          40,
          40,
          40,
          40,
          40,
          40,
          40,
          40,
          40,
          40,
          40,
          40,
          40,
          40,
          40,
          40,
          40,
          40,
          40,
          40,
          40,
          40,
          40,
          40,
          40,
          40,
          40,
          40,
          40,
          40,
          40,
          40,
          40,
          40,
          40,
          40,
          40,
          40,
          40,
          40,
          40,
          40,
          40,
          40,
          40,
          40,
          40,
          40,
          40,
          40,
          40,
          40,
          40,
          40,
          40,
          40,
          40,
          40,
          40,
          40,
          40,
          40,
          40,
          40,
          40,
          40,
          40,
          40,
          40,
          40,
          40,
          40,
          40,
          40,
          40,
          40,
          40,
          40,
          40,
          40,
          40,
          40,
          40,
          40,
          40,
          40,
          40,
          40,
          40,
          40,
          40,
          40,
          40,
          40,
          40,
          40,
          40,
          40,
          40,
          40,
          40,
          40,
          40,
          40,
          40,
          40,
          40,
          40,
          40,
          40,
          40,
          40,
          40,
          40,
          40,
          40,
          40,
          40,
          40,
          40,
          40,
          40,
          40,
          40,
          40,
          40,
          40,
          40,
          40,
          40,
          40,
          40,
          40,
          40,
          40
         ]
        },
        {
         "marker": {
          "color": "rgba(39,144,176,1)",
          "opacity": 0.5,
          "size": 7,
          "symbol": "x"
         },
         "mode": "markers",
         "name": "B rejections",
         "type": "scatter",
         "x": [
          15.61296987387692,
          15.657743156378073,
          15.944310990165022,
          16.42531558826972,
          16.857226907238754,
          16.879552576973953,
          17.03180782716228,
          17.069231692399146,
          17.137388156862308,
          17.255852305844606,
          17.27031023199797,
          19.33788447044905,
          19.440242546547243,
          20.192101336977824,
          20.437023023198723,
          22.333742959711675,
          22.333949534743404,
          22.38658350571311,
          22.46749955996752,
          22.4795014399846,
          22.482608276620667,
          22.48788835173575,
          22.52678553078755,
          22.60312438770596,
          22.632394390420757,
          22.745249203338002,
          22.944133699777822,
          23.026422773250466,
          23.20098645315397,
          23.20123291203881,
          23.344994741944497,
          23.564402579529848,
          23.66051655634119,
          23.726177224076846,
          23.73108555310131,
          23.99242059187483,
          24.01028806060969,
          24.480902593178882,
          24.60022135706996,
          24.65737783763535,
          24.792033583424196,
          28.860374282766625,
          28.867865958977056,
          28.870303755356804,
          28.911421604390945,
          29.560670889500166,
          29.57879088694351,
          29.600135896279973,
          29.62317054509388,
          29.626580118232916,
          29.670138823506708,
          29.847704942016453,
          29.860330549195865,
          29.95728009609632,
          30.143995320890067,
          30.15734184816401,
          30.383447551774594,
          30.530727377907766,
          30.562336654113206,
          30.567681448890216,
          30.58112638186471,
          30.611227649491898,
          30.630178065235302,
          30.64630170056974,
          30.68807033043387,
          30.708631391932933,
          30.732789342018798,
          30.7366049226792,
          30.809666965549273
         ],
         "y": [
          40,
          40,
          40,
          40,
          40,
          40,
          40,
          40,
          40,
          40,
          40,
          40,
          40,
          40,
          40,
          40,
          40,
          40,
          40,
          40,
          40,
          40,
          40,
          40,
          40,
          40,
          40,
          40,
          40,
          40,
          40,
          40,
          40,
          40,
          40,
          40,
          40,
          40,
          40,
          40,
          40,
          40,
          40,
          40,
          40,
          40,
          40,
          40,
          40,
          40,
          40,
          40,
          40,
          40,
          40,
          40,
          40,
          40,
          40,
          40,
          40,
          40,
          40,
          40,
          40,
          40,
          40,
          40,
          40
         ]
        },
        {
         "line": {
          "color": "rgba(172,106,208,1)"
         },
         "mode": "lines",
         "name": "C",
         "type": "scatter",
         "x": [
          15.022918025471709,
          15.079844275968782,
          15.31789455223494,
          15.539323432477145,
          15.658054267508573,
          16.103511845838483,
          16.231137632888323,
          16.23868195737341,
          16.28867419138473,
          16.2935034617519,
          16.304756881471707,
          16.353549931388642,
          16.373504228631365,
          16.395082378416397,
          16.49671626984318,
          16.5735638588056,
          16.574421862307975,
          16.611332432963636,
          16.64943601316145,
          16.737647699604764,
          16.765686207016252,
          16.83717653005742,
          16.857226907238754,
          17.123836246204323,
          17.137388156862308,
          17.164028034150295,
          17.22664156852883,
          17.252402659905158,
          17.255852305844606,
          17.304276192870326,
          17.342388237332592,
          17.559714997384052,
          17.601775151893783,
          17.64091395215271,
          17.65714686885975,
          17.790562034508255,
          17.82262442667246,
          17.92528139358817,
          17.958176020628446,
          18.02561814668018,
          18.033270716950327,
          18.070910872260605,
          18.11621883386372,
          18.117877304434867,
          18.142227357173386,
          18.161253960253006,
          18.174910647753098,
          18.233001727095445,
          18.255522550702608,
          18.258361354953728,
          18.277429607845512,
          18.359187970552597,
          18.432131131077305,
          18.46821610742266,
          18.546437613151863,
          18.596014854111417,
          18.62610690113726,
          18.692048424557427,
          19.081809231626398,
          19.498504578394254,
          19.52749162487947,
          19.626185455819723,
          19.69872677309464,
          19.768879419173,
          19.836916678838918,
          19.848198650235997,
          19.925634783384034,
          19.998057619735434,
          20.106789642212316,
          20.172868143445275,
          20.293081132123792,
          20.455781223448852,
          20.564290500279846,
          20.86997060239798,
          20.920138816122957,
          21.18896109697121,
          21.26285118425369,
          21.544043645031962,
          21.569024539265286,
          21.57987831554326,
          21.585611686294776,
          21.689849656906656,
          21.707371194907413,
          21.73909216723434,
          21.755459786496306,
          21.960304352376262,
          22.328109746654118,
          22.38658350571311,
          22.46749955996752,
          22.493550338882766,
          22.57648939299027,
          22.664281566676493,
          22.739790933269724,
          22.78154096609296,
          22.804377460883085,
          22.810218297996997,
          22.82465505021937,
          23.008811894365888,
          23.06313981701681,
          23.215507381175154,
          23.304112662628725,
          23.317585589007535,
          23.36324671505017,
          23.416375660879773,
          23.421669635347257,
          23.49215916725608,
          23.49831983553438,
          23.518341216503494,
          23.566910003029644,
          23.588185923144696,
          23.59763375906458,
          24.061150397841487,
          24.12509186136819,
          24.146987214574967,
          24.161511453363644,
          24.207299299118304,
          24.207479974639632,
          24.229783113561943,
          24.245715965995878,
          24.331966220408034,
          24.33443685575149,
          24.503355151840385,
          24.51283402969164,
          24.52975417682292,
          24.54985368882595,
          24.5789295791768,
          24.60022135706996,
          24.814557710005968,
          24.950720039674614,
          25.05505599480008,
          25.11367319326709,
          25.115944758062593,
          25.129467698513025,
          25.230048021317245,
          25.31285816183881,
          25.53416211481215,
          25.695881734622244,
          25.758149943140307,
          25.778097745865484,
          25.82841596376666,
          25.85719226223482,
          25.8965411754301,
          25.926287522962465,
          25.96182410206336,
          26.027213798918474,
          26.053699296878733,
          26.058207021528744,
          26.059928328195223,
          26.201451947540047,
          26.30918584408788,
          26.329889225686195,
          26.378859475161356,
          26.449014248096375,
          26.49056652359297,
          26.511502141723753,
          26.784932694635742,
          26.824735577761967,
          26.83272207638149,
          26.989563697398136,
          27.011749408602768,
          27.045843496539607,
          27.049139347904138,
          27.11830934724256,
          27.158384033027765,
          27.17091825721215,
          27.197929316720003,
          27.237943274215162,
          27.293491516509395,
          27.30022522327915,
          27.360756093808547,
          27.412376353367893,
          27.503106573539576,
          27.53264453535417,
          27.66614038410564,
          27.742797126128487,
          27.899611754168898,
          27.957190134551343,
          27.98052638911882,
          27.981841478252555,
          28.009565471322038,
          28.04668805185945,
          28.144483872436187,
          28.155359948102824,
          28.300521787806183,
          28.356520965793187,
          28.375689322594923,
          28.527493407803878,
          28.580143435098467,
          28.80860804053036,
          28.835429199188987,
          28.870303755356804,
          29.156205425856484,
          29.17311064169549,
          29.237581403868575,
          29.393890678829955,
          29.40111529180603,
          29.454509918370107,
          29.490497009284866,
          29.560670889500166,
          29.565413086293905,
          29.584551082031666,
          29.598129552924703,
          29.600135896279973,
          29.789338258898432,
          29.847704942016453,
          29.862262996788655,
          29.880636340447857,
          30.327871105210892,
          30.416462820637875,
          30.48136737470735,
          30.530727377907766,
          30.59568290255958,
          30.63541259769086,
          30.67411809309005,
          30.696575780268393,
          30.764542633724457,
          30.847662922591372,
          30.884234757877927,
          30.926777492022556
         ],
         "y": [
          30,
          29,
          30,
          29,
          30,
          29,
          28,
          27,
          26,
          25,
          24,
          25,
          26,
          25,
          26,
          27,
          28,
          27,
          28,
          29,
          30,
          29,
          30,
          29,
          30,
          29,
          28,
          27,
          28,
          27,
          28,
          27,
          28,
          29,
          30,
          29,
          30,
          29,
          28,
          27,
          26,
          27,
          28,
          27,
          26,
          27,
          28,
          29,
          28,
          29,
          30,
          29,
          28,
          29,
          30,
          29,
          30,
          29,
          30,
          29,
          28,
          27,
          28,
          29,
          28,
          29,
          28,
          27,
          28,
          29,
          30,
          29,
          30,
          29,
          30,
          29,
          30,
          29,
          28,
          29,
          28,
          29,
          30,
          29,
          30,
          29,
          28,
          29,
          30,
          29,
          30,
          29,
          30,
          29,
          28,
          29,
          30,
          29,
          30,
          29,
          30,
          29,
          30,
          29,
          30,
          29,
          28,
          27,
          28,
          29,
          30,
          29,
          28,
          27,
          28,
          27,
          26,
          25,
          26,
          27,
          28,
          29,
          30,
          29,
          30,
          29,
          30,
          29,
          30,
          29,
          28,
          27,
          26,
          27,
          26,
          27,
          26,
          27,
          26,
          27,
          26,
          25,
          26,
          27,
          28,
          27,
          28,
          27,
          28,
          29,
          30,
          29,
          30,
          29,
          28,
          29,
          30,
          29,
          28,
          27,
          28,
          29,
          30,
          29,
          28,
          29,
          28,
          29,
          30,
          29,
          30,
          29,
          30,
          29,
          30,
          29,
          30,
          29,
          28,
          29,
          30,
          29,
          28,
          27,
          28,
          29,
          30,
          29,
          30,
          29,
          30,
          29,
          28,
          29,
          28,
          27,
          28,
          29,
          30,
          29,
          28,
          29,
          30,
          29,
          30,
          29,
          30,
          29,
          30,
          29,
          30,
          29,
          30,
          29,
          30,
          29,
          30,
          29,
          30
         ]
        },
        {
         "line": {
          "color": "rgba(172,106,208,1)",
          "dash": "dash"
         },
         "mode": "lines",
         "name": "C upper bound",
         "type": "scatter",
         "x": [
          15.022918025471709,
          15.079844275968782,
          15.31789455223494,
          15.539323432477145,
          15.658054267508573,
          16.103511845838483,
          16.231137632888323,
          16.23868195737341,
          16.28867419138473,
          16.2935034617519,
          16.304756881471707,
          16.353549931388642,
          16.373504228631365,
          16.395082378416397,
          16.49671626984318,
          16.5735638588056,
          16.574421862307975,
          16.611332432963636,
          16.64943601316145,
          16.737647699604764,
          16.765686207016252,
          16.83717653005742,
          16.857226907238754,
          17.123836246204323,
          17.137388156862308,
          17.164028034150295,
          17.22664156852883,
          17.252402659905158,
          17.255852305844606,
          17.304276192870326,
          17.342388237332592,
          17.559714997384052,
          17.601775151893783,
          17.64091395215271,
          17.65714686885975,
          17.790562034508255,
          17.82262442667246,
          17.92528139358817,
          17.958176020628446,
          18.02561814668018,
          18.033270716950327,
          18.070910872260605,
          18.11621883386372,
          18.117877304434867,
          18.142227357173386,
          18.161253960253006,
          18.174910647753098,
          18.233001727095445,
          18.255522550702608,
          18.258361354953728,
          18.277429607845512,
          18.359187970552597,
          18.432131131077305,
          18.46821610742266,
          18.546437613151863,
          18.596014854111417,
          18.62610690113726,
          18.692048424557427,
          19.081809231626398,
          19.498504578394254,
          19.52749162487947,
          19.626185455819723,
          19.69872677309464,
          19.768879419173,
          19.836916678838918,
          19.848198650235997,
          19.925634783384034,
          19.998057619735434,
          20.106789642212316,
          20.172868143445275,
          20.293081132123792,
          20.455781223448852,
          20.564290500279846,
          20.86997060239798,
          20.920138816122957,
          21.18896109697121,
          21.26285118425369,
          21.544043645031962,
          21.569024539265286,
          21.57987831554326,
          21.585611686294776,
          21.689849656906656,
          21.707371194907413,
          21.73909216723434,
          21.755459786496306,
          21.960304352376262,
          22.328109746654118,
          22.38658350571311,
          22.46749955996752,
          22.493550338882766,
          22.57648939299027,
          22.664281566676493,
          22.739790933269724,
          22.78154096609296,
          22.804377460883085,
          22.810218297996997,
          22.82465505021937,
          23.008811894365888,
          23.06313981701681,
          23.215507381175154,
          23.304112662628725,
          23.317585589007535,
          23.36324671505017,
          23.416375660879773,
          23.421669635347257,
          23.49215916725608,
          23.49831983553438,
          23.518341216503494,
          23.566910003029644,
          23.588185923144696,
          23.59763375906458,
          24.061150397841487,
          24.12509186136819,
          24.146987214574967,
          24.161511453363644,
          24.207299299118304,
          24.207479974639632,
          24.229783113561943,
          24.245715965995878,
          24.331966220408034,
          24.33443685575149,
          24.503355151840385,
          24.51283402969164,
          24.52975417682292,
          24.54985368882595,
          24.5789295791768,
          24.60022135706996,
          24.814557710005968,
          24.950720039674614,
          25.05505599480008,
          25.11367319326709,
          25.115944758062593,
          25.129467698513025,
          25.230048021317245,
          25.31285816183881,
          25.53416211481215,
          25.695881734622244,
          25.758149943140307,
          25.778097745865484,
          25.82841596376666,
          25.85719226223482,
          25.8965411754301,
          25.926287522962465,
          25.96182410206336,
          26.027213798918474,
          26.053699296878733,
          26.058207021528744,
          26.059928328195223,
          26.201451947540047,
          26.30918584408788,
          26.329889225686195,
          26.378859475161356,
          26.449014248096375,
          26.49056652359297,
          26.511502141723753,
          26.784932694635742,
          26.824735577761967,
          26.83272207638149,
          26.989563697398136,
          27.011749408602768,
          27.045843496539607,
          27.049139347904138,
          27.11830934724256,
          27.158384033027765,
          27.17091825721215,
          27.197929316720003,
          27.237943274215162,
          27.293491516509395,
          27.30022522327915,
          27.360756093808547,
          27.412376353367893,
          27.503106573539576,
          27.53264453535417,
          27.66614038410564,
          27.742797126128487,
          27.899611754168898,
          27.957190134551343,
          27.98052638911882,
          27.981841478252555,
          28.009565471322038,
          28.04668805185945,
          28.144483872436187,
          28.155359948102824,
          28.300521787806183,
          28.356520965793187,
          28.375689322594923,
          28.527493407803878,
          28.580143435098467,
          28.80860804053036,
          28.835429199188987,
          28.870303755356804,
          29.156205425856484,
          29.17311064169549,
          29.237581403868575,
          29.393890678829955,
          29.40111529180603,
          29.454509918370107,
          29.490497009284866,
          29.560670889500166,
          29.565413086293905,
          29.584551082031666,
          29.598129552924703,
          29.600135896279973,
          29.789338258898432,
          29.847704942016453,
          29.862262996788655,
          29.880636340447857,
          30.327871105210892,
          30.416462820637875,
          30.48136737470735,
          30.530727377907766,
          30.59568290255958,
          30.63541259769086,
          30.67411809309005,
          30.696575780268393,
          30.764542633724457,
          30.847662922591372,
          30.884234757877927,
          30.926777492022556
         ],
         "y": [
          30,
          30,
          30,
          30,
          30,
          30,
          30,
          30,
          30,
          30,
          30,
          30,
          30,
          30,
          30,
          30,
          30,
          30,
          30,
          30,
          30,
          30,
          30,
          30,
          30,
          30,
          30,
          30,
          30,
          30,
          30,
          30,
          30,
          30,
          30,
          30,
          30,
          30,
          30,
          30,
          30,
          30,
          30,
          30,
          30,
          30,
          30,
          30,
          30,
          30,
          30,
          30,
          30,
          30,
          30,
          30,
          30,
          30,
          30,
          30,
          30,
          30,
          30,
          30,
          30,
          30,
          30,
          30,
          30,
          30,
          30,
          30,
          30,
          30,
          30,
          30,
          30,
          30,
          30,
          30,
          30,
          30,
          30,
          30,
          30,
          30,
          30,
          30,
          30,
          30,
          30,
          30,
          30,
          30,
          30,
          30,
          30,
          30,
          30,
          30,
          30,
          30,
          30,
          30,
          30,
          30,
          30,
          30,
          30,
          30,
          30,
          30,
          30,
          30,
          30,
          30,
          30,
          30,
          30,
          30,
          30,
          30,
          30,
          30,
          30,
          30,
          30,
          30,
          30,
          30,
          30,
          30,
          30,
          30,
          30,
          30,
          30,
          30,
          30,
          30,
          30,
          30,
          30,
          30,
          30,
          30,
          30,
          30,
          30,
          30,
          30,
          30,
          30,
          30,
          30,
          30,
          30,
          30,
          30,
          30,
          30,
          30,
          30,
          30,
          30,
          30,
          30,
          30,
          30,
          30,
          30,
          30,
          30,
          30,
          30,
          30,
          30,
          30,
          30,
          30,
          30,
          30,
          30,
          30,
          30,
          30,
          30,
          30,
          30,
          30,
          30,
          30,
          30,
          30,
          30,
          30,
          30,
          30,
          30,
          30,
          30,
          30,
          30,
          30,
          30,
          30,
          30,
          30,
          30,
          30,
          30,
          30,
          30,
          30,
          30,
          30,
          30,
          30,
          30
         ]
        },
        {
         "marker": {
          "color": "rgba(172,106,208,1)",
          "opacity": 0.5,
          "size": 7,
          "symbol": "x"
         },
         "mode": "markers",
         "name": "C rejections",
         "type": "scatter",
         "x": [
          15.339790182283274,
          15.362692582252222,
          15.403912870126973,
          15.449688212583595,
          15.52981459672606,
          15.72355513921838,
          16.018567680398615,
          16.04313951609698,
          16.803709062184193,
          16.879552576973953,
          17.048409240335296,
          17.069231692399146,
          17.721134083239733,
          17.732573257701002,
          17.771255064323494,
          17.825631376896634,
          17.830040666905585,
          17.85230654068319,
          17.861902621481786,
          17.86232423559179,
          17.921521196642974,
          18.279786697454913,
          18.295812951394304,
          18.35758255476435,
          19.206816318381584,
          19.232566321047063,
          19.26309860888884,
          19.370378184046967,
          19.440242546547243,
          20.413398052218945,
          20.669519567273124,
          20.677403431194367,
          20.694610655221208,
          20.75282489425569,
          20.97900082857362,
          21.10309161418532,
          21.146273388003145,
          21.407995047499632,
          21.765509346818323,
          21.76635172710966,
          21.785659077458146,
          21.800721600805534,
          21.803174247676935,
          21.806263906147397,
          21.943881403479292,
          22.4795014399846,
          22.482608276620667,
          22.768660393616308,
          22.920142069749392,
          22.944133699777822,
          22.99022383716751,
          23.20123291203881,
          23.206956789907867,
          23.375650437146696,
          23.67267726665417,
          23.7220747387027,
          23.760694479130557,
          23.81627868334702,
          23.889565992554658,
          23.897607756353235,
          23.99242059187483,
          24.65737783763535,
          24.68052387965316,
          24.74715957141238,
          24.792033583424196,
          24.951138324383994,
          27.304144174341875,
          27.55639671059149,
          27.56647182073897,
          27.58049340291315,
          27.605357097523843,
          27.62765165881783,
          28.069435118588416,
          28.91941312738361,
          28.989622375238312,
          29.640995005254265,
          29.676417324200614,
          29.76325449423875,
          29.860330549195865,
          29.861069480152985,
          29.905648962236608,
          29.906041259803633,
          29.974744468511673,
          30.15734184816401,
          30.562336654113206,
          30.58112638186471,
          30.708631391932933,
          30.937424075094896
         ],
         "y": [
          30,
          30,
          30,
          30,
          30,
          30,
          30,
          30,
          30,
          30,
          30,
          30,
          30,
          30,
          30,
          30,
          30,
          30,
          30,
          30,
          30,
          30,
          30,
          30,
          30,
          30,
          30,
          30,
          30,
          30,
          30,
          30,
          30,
          30,
          30,
          30,
          30,
          30,
          30,
          30,
          30,
          30,
          30,
          30,
          30,
          30,
          30,
          30,
          30,
          30,
          30,
          30,
          30,
          30,
          30,
          30,
          30,
          30,
          30,
          30,
          30,
          30,
          30,
          30,
          30,
          30,
          30,
          30,
          30,
          30,
          30,
          30,
          30,
          30,
          30,
          30,
          30,
          30,
          30,
          30,
          30,
          30,
          30,
          30,
          30,
          30,
          30,
          30
         ]
        },
        {
         "line": {
          "color": "rgba(108,72,164,1)"
         },
         "mode": "lines",
         "name": "D",
         "type": "scatter",
         "x": [
          15.04956525690637,
          15.05671162359085,
          15.075146229877742,
          15.087698669332042,
          15.116134476201887,
          15.144681507007016,
          15.33391812873153,
          15.337776436658498,
          15.409393664262133,
          15.44190709542261,
          15.512862935931528,
          15.595864695194209,
          15.605094638339612,
          15.657743156378073,
          15.805949663103561,
          15.815289945598154,
          15.853487685384842,
          15.89453936136006,
          15.98386166473452,
          16.022174592376853,
          16.054293326044185,
          16.069845949343172,
          16.11439930332027,
          16.13413824743038,
          16.14230942232169,
          16.142719122648824,
          16.2094844745778,
          16.248888724735572,
          16.25828192776292,
          16.3755408439719,
          16.427079074629482,
          16.587125307250908,
          16.597782622627506,
          16.59910188580714,
          16.733512262739136,
          16.756951841203286,
          16.794076480101655,
          16.914893608089635,
          16.94375017213581,
          16.98503921386498,
          16.999275284077882,
          17.01990655114647,
          17.058482711247464,
          17.16915178063288,
          17.383420501965436,
          17.499064298268404,
          17.648707303456767,
          17.672634126458036,
          17.73698613517388,
          17.771255064323494,
          17.786737377984934,
          17.825631376896634,
          17.90066839729603,
          17.91708675122905,
          17.951392970046868,
          17.976762351254784,
          17.98390724123158,
          18.07864513371389,
          18.10567526086743,
          18.11973300099426,
          18.298649303521575,
          18.342558634124284,
          18.35758255476435,
          18.478928662808084,
          18.4949983324066,
          18.911013070182992,
          19.0149478534137,
          19.236166221139666,
          19.33788447044905,
          19.376059929734033,
          19.413008541093,
          19.42101981576702,
          19.436741389232598,
          19.549898684345422,
          19.587392235859934,
          19.595110611905927,
          19.659133759075896,
          19.817713833299745,
          19.82798444551917,
          19.95973371302058,
          20.085180040554544,
          20.192101336977824,
          20.34473560424854,
          20.346004007966716,
          20.349381850891508,
          20.498963562911925,
          20.548450792619455,
          20.61088830406796,
          20.677403431194367,
          20.69323362930742,
          20.694610655221208,
          20.71934155260007,
          20.75282489425569,
          20.807058646533847,
          20.825241558025695,
          20.8783128758566,
          20.912368024307348,
          21.013200119069936,
          21.043767289172955,
          21.16947628855743,
          21.257163525973553,
          21.268965698434087,
          21.322562698098483,
          21.37419845420804,
          21.377823489078896,
          21.384094342356374,
          21.426328912873675,
          21.582643709389796,
          21.58431077426716,
          21.659145418334486,
          21.67786814380926,
          21.69185137876653,
          21.70316931105237,
          21.729646044841875,
          21.767368780293996,
          21.824295931593163,
          21.846655349100132,
          21.879680562960054,
          21.904586800232757,
          21.927753378879697,
          21.9289464878285,
          21.963956025859744,
          22.000545972328172,
          22.022170061286896,
          22.06583624025629,
          22.12013682673251,
          22.134451475697,
          22.153603100632097,
          22.195941135327875,
          22.256824779957807,
          22.257775003373254,
          22.317178384697947,
          22.333949534743404,
          22.354873661126327,
          22.35573946160766,
          22.40937768795613,
          22.436797191045148,
          22.437094615124895,
          22.439140690574014,
          22.65288211160598,
          22.712847292525623,
          22.80590608196593,
          22.924170309693107,
          22.95925845130737,
          23.033186342789673,
          23.14809251775993,
          23.161978261959018,
          23.19263060706822,
          23.20098645315397,
          23.265229915090664,
          23.29717091044758,
          23.330909979147407,
          23.342092469864113,
          23.403625844209266,
          23.40505464589762,
          23.440130532907126,
          23.45982802410671,
          23.653935086685454,
          23.66035330049724,
          23.67267726665417,
          23.704992142393547,
          23.74798047864227,
          23.760694479130557,
          24.310430436083326,
          24.448937810946397,
          24.522670553372617,
          24.643142049888176,
          24.661639073618343,
          24.712927750553725,
          24.74715957141238,
          24.861218674202142,
          24.901207554647584,
          24.951138324383994,
          25.09786589157705,
          25.237295812507217,
          25.379250586126872,
          25.404918426826164,
          25.40510397019697,
          25.51260859503157,
          25.614908008699647,
          25.73310230089953,
          25.850726754322405,
          25.882407538819894,
          26.003437957160298,
          26.083694078641837,
          26.084252877856592,
          26.370663523379083,
          26.39275159782378,
          26.43926503274081,
          26.457769684420413,
          26.496290828756504,
          26.57752349445332,
          26.636654319288667,
          26.792082443630004,
          26.801256469682667,
          26.815784489399352,
          26.82108460759694,
          26.86105087587976,
          26.872379252760755,
          26.882028234009567,
          26.898356026307745,
          26.936636829765092,
          26.938876138165103,
          27.11785781981009,
          27.13478971635988,
          27.176281347833662,
          27.21849720220141,
          27.22950385098393,
          27.249728884864965,
          27.25618598796661,
          27.284774310797925,
          27.304144174341875,
          27.32340585938521,
          27.55639671059149,
          27.605357097523843,
          27.77117891976959,
          27.94444722808,
          27.944569909846006,
          28.146911555161704,
          28.272015275913496,
          28.35123113302477,
          28.578788343017003,
          28.802505180550938,
          28.86861531654144,
          28.91941312738361,
          29.02941532724536,
          29.052316668278714,
          29.12168911801587,
          29.125645680128198,
          29.155917982008656,
          29.306154311299032,
          29.341917435189156,
          29.372446018948917,
          29.41316922178652,
          29.475032728766,
          29.57879088694351,
          29.640995005254265,
          29.66899913389261,
          29.676417324200614,
          29.849976808978514,
          29.993532205845604,
          30.12465533335938,
          30.221645760517507,
          30.228856052966247,
          30.26081808633108,
          30.37851935792257,
          30.551491498943555,
          30.605602102664108,
          30.60948918315438,
          30.611227649491898,
          30.626174907356404,
          30.66721901846922,
          30.684577602583627,
          30.777993972646506,
          30.80303032842049,
          30.809666965549273,
          30.853350686840653
         ],
         "y": [
          18,
          17,
          16,
          15,
          16,
          15,
          16,
          17,
          16,
          15,
          16,
          17,
          16,
          17,
          16,
          15,
          16,
          15,
          16,
          17,
          16,
          17,
          16,
          15,
          14,
          13,
          12,
          13,
          12,
          11,
          10,
          11,
          12,
          11,
          12,
          13,
          12,
          13,
          14,
          13,
          12,
          13,
          12,
          11,
          10,
          11,
          12,
          11,
          10,
          11,
          12,
          13,
          14,
          13,
          12,
          13,
          14,
          15,
          14,
          15,
          16,
          15,
          16,
          15,
          14,
          15,
          14,
          13,
          14,
          13,
          12,
          11,
          12,
          11,
          10,
          9,
          10,
          9,
          10,
          11,
          10,
          11,
          10,
          11,
          10,
          11,
          12,
          13,
          14,
          15,
          16,
          15,
          16,
          15,
          16,
          17,
          16,
          17,
          16,
          15,
          16,
          15,
          16,
          15,
          16,
          15,
          16,
          17,
          16,
          15,
          14,
          13,
          12,
          11,
          12,
          13,
          14,
          13,
          14,
          15,
          14,
          15,
          14,
          13,
          14,
          13,
          14,
          13,
          14,
          13,
          14,
          15,
          16,
          17,
          18,
          17,
          18,
          19,
          20,
          19,
          20,
          19,
          18,
          19,
          20,
          19,
          20,
          19,
          20,
          19,
          20,
          19,
          20,
          19,
          18,
          19,
          20,
          19,
          18,
          19,
          20,
          19,
          20,
          19,
          18,
          19,
          18,
          17,
          18,
          19,
          18,
          17,
          18,
          17,
          18,
          17,
          18,
          17,
          16,
          15,
          14,
          13,
          14,
          13,
          14,
          13,
          14,
          15,
          14,
          15,
          14,
          15,
          14,
          15,
          16,
          15,
          16,
          15,
          14,
          13,
          12,
          11,
          10,
          11,
          10,
          11,
          10,
          11,
          10,
          11,
          10,
          11,
          12,
          13,
          14,
          15,
          14,
          13,
          12,
          13,
          12,
          13,
          14,
          15,
          16,
          15,
          16,
          15,
          14,
          13,
          12,
          13,
          12,
          11,
          12,
          13,
          14,
          15,
          16,
          15,
          14,
          15,
          16,
          17,
          18,
          19,
          20,
          19,
          18,
          19,
          20,
          19,
          20,
          19,
          18,
          19,
          20
         ]
        },
        {
         "line": {
          "color": "rgba(108,72,164,1)",
          "dash": "dash"
         },
         "mode": "lines",
         "name": "D upper bound",
         "type": "scatter",
         "x": [
          15.04956525690637,
          15.05671162359085,
          15.075146229877742,
          15.087698669332042,
          15.116134476201887,
          15.144681507007016,
          15.33391812873153,
          15.337776436658498,
          15.409393664262133,
          15.44190709542261,
          15.512862935931528,
          15.595864695194209,
          15.605094638339612,
          15.657743156378073,
          15.805949663103561,
          15.815289945598154,
          15.853487685384842,
          15.89453936136006,
          15.98386166473452,
          16.022174592376853,
          16.054293326044185,
          16.069845949343172,
          16.11439930332027,
          16.13413824743038,
          16.14230942232169,
          16.142719122648824,
          16.2094844745778,
          16.248888724735572,
          16.25828192776292,
          16.3755408439719,
          16.427079074629482,
          16.587125307250908,
          16.597782622627506,
          16.59910188580714,
          16.733512262739136,
          16.756951841203286,
          16.794076480101655,
          16.914893608089635,
          16.94375017213581,
          16.98503921386498,
          16.999275284077882,
          17.01990655114647,
          17.058482711247464,
          17.16915178063288,
          17.383420501965436,
          17.499064298268404,
          17.648707303456767,
          17.672634126458036,
          17.73698613517388,
          17.771255064323494,
          17.786737377984934,
          17.825631376896634,
          17.90066839729603,
          17.91708675122905,
          17.951392970046868,
          17.976762351254784,
          17.98390724123158,
          18.07864513371389,
          18.10567526086743,
          18.11973300099426,
          18.298649303521575,
          18.342558634124284,
          18.35758255476435,
          18.478928662808084,
          18.4949983324066,
          18.911013070182992,
          19.0149478534137,
          19.236166221139666,
          19.33788447044905,
          19.376059929734033,
          19.413008541093,
          19.42101981576702,
          19.436741389232598,
          19.549898684345422,
          19.587392235859934,
          19.595110611905927,
          19.659133759075896,
          19.817713833299745,
          19.82798444551917,
          19.95973371302058,
          20.085180040554544,
          20.192101336977824,
          20.34473560424854,
          20.346004007966716,
          20.349381850891508,
          20.498963562911925,
          20.548450792619455,
          20.61088830406796,
          20.677403431194367,
          20.69323362930742,
          20.694610655221208,
          20.71934155260007,
          20.75282489425569,
          20.807058646533847,
          20.825241558025695,
          20.8783128758566,
          20.912368024307348,
          21.013200119069936,
          21.043767289172955,
          21.16947628855743,
          21.257163525973553,
          21.268965698434087,
          21.322562698098483,
          21.37419845420804,
          21.377823489078896,
          21.384094342356374,
          21.426328912873675,
          21.582643709389796,
          21.58431077426716,
          21.659145418334486,
          21.67786814380926,
          21.69185137876653,
          21.70316931105237,
          21.729646044841875,
          21.767368780293996,
          21.824295931593163,
          21.846655349100132,
          21.879680562960054,
          21.904586800232757,
          21.927753378879697,
          21.9289464878285,
          21.963956025859744,
          22.000545972328172,
          22.022170061286896,
          22.06583624025629,
          22.12013682673251,
          22.134451475697,
          22.153603100632097,
          22.195941135327875,
          22.256824779957807,
          22.257775003373254,
          22.317178384697947,
          22.333949534743404,
          22.354873661126327,
          22.35573946160766,
          22.40937768795613,
          22.436797191045148,
          22.437094615124895,
          22.439140690574014,
          22.65288211160598,
          22.712847292525623,
          22.80590608196593,
          22.924170309693107,
          22.95925845130737,
          23.033186342789673,
          23.14809251775993,
          23.161978261959018,
          23.19263060706822,
          23.20098645315397,
          23.265229915090664,
          23.29717091044758,
          23.330909979147407,
          23.342092469864113,
          23.403625844209266,
          23.40505464589762,
          23.440130532907126,
          23.45982802410671,
          23.653935086685454,
          23.66035330049724,
          23.67267726665417,
          23.704992142393547,
          23.74798047864227,
          23.760694479130557,
          24.310430436083326,
          24.448937810946397,
          24.522670553372617,
          24.643142049888176,
          24.661639073618343,
          24.712927750553725,
          24.74715957141238,
          24.861218674202142,
          24.901207554647584,
          24.951138324383994,
          25.09786589157705,
          25.237295812507217,
          25.379250586126872,
          25.404918426826164,
          25.40510397019697,
          25.51260859503157,
          25.614908008699647,
          25.73310230089953,
          25.850726754322405,
          25.882407538819894,
          26.003437957160298,
          26.083694078641837,
          26.084252877856592,
          26.370663523379083,
          26.39275159782378,
          26.43926503274081,
          26.457769684420413,
          26.496290828756504,
          26.57752349445332,
          26.636654319288667,
          26.792082443630004,
          26.801256469682667,
          26.815784489399352,
          26.82108460759694,
          26.86105087587976,
          26.872379252760755,
          26.882028234009567,
          26.898356026307745,
          26.936636829765092,
          26.938876138165103,
          27.11785781981009,
          27.13478971635988,
          27.176281347833662,
          27.21849720220141,
          27.22950385098393,
          27.249728884864965,
          27.25618598796661,
          27.284774310797925,
          27.304144174341875,
          27.32340585938521,
          27.55639671059149,
          27.605357097523843,
          27.77117891976959,
          27.94444722808,
          27.944569909846006,
          28.146911555161704,
          28.272015275913496,
          28.35123113302477,
          28.578788343017003,
          28.802505180550938,
          28.86861531654144,
          28.91941312738361,
          29.02941532724536,
          29.052316668278714,
          29.12168911801587,
          29.125645680128198,
          29.155917982008656,
          29.306154311299032,
          29.341917435189156,
          29.372446018948917,
          29.41316922178652,
          29.475032728766,
          29.57879088694351,
          29.640995005254265,
          29.66899913389261,
          29.676417324200614,
          29.849976808978514,
          29.993532205845604,
          30.12465533335938,
          30.221645760517507,
          30.228856052966247,
          30.26081808633108,
          30.37851935792257,
          30.551491498943555,
          30.605602102664108,
          30.60948918315438,
          30.611227649491898,
          30.626174907356404,
          30.66721901846922,
          30.684577602583627,
          30.777993972646506,
          30.80303032842049,
          30.809666965549273,
          30.853350686840653
         ],
         "y": [
          20,
          20,
          20,
          20,
          20,
          20,
          20,
          20,
          20,
          20,
          20,
          20,
          20,
          20,
          20,
          20,
          20,
          20,
          20,
          20,
          20,
          20,
          20,
          20,
          20,
          20,
          20,
          20,
          20,
          20,
          20,
          20,
          20,
          20,
          20,
          20,
          20,
          20,
          20,
          20,
          20,
          20,
          20,
          20,
          20,
          20,
          20,
          20,
          20,
          20,
          20,
          20,
          20,
          20,
          20,
          20,
          20,
          20,
          20,
          20,
          20,
          20,
          20,
          20,
          20,
          20,
          20,
          20,
          20,
          20,
          20,
          20,
          20,
          20,
          20,
          20,
          20,
          20,
          20,
          20,
          20,
          20,
          20,
          20,
          20,
          20,
          20,
          20,
          20,
          20,
          20,
          20,
          20,
          20,
          20,
          20,
          20,
          20,
          20,
          20,
          20,
          20,
          20,
          20,
          20,
          20,
          20,
          20,
          20,
          20,
          20,
          20,
          20,
          20,
          20,
          20,
          20,
          20,
          20,
          20,
          20,
          20,
          20,
          20,
          20,
          20,
          20,
          20,
          20,
          20,
          20,
          20,
          20,
          20,
          20,
          20,
          20,
          20,
          20,
          20,
          20,
          20,
          20,
          20,
          20,
          20,
          20,
          20,
          20,
          20,
          20,
          20,
          20,
          20,
          20,
          20,
          20,
          20,
          20,
          20,
          20,
          20,
          20,
          20,
          20,
          20,
          20,
          20,
          20,
          20,
          20,
          20,
          20,
          20,
          20,
          20,
          20,
          20,
          20,
          20,
          20,
          20,
          20,
          20,
          20,
          20,
          20,
          20,
          20,
          20,
          20,
          20,
          20,
          20,
          20,
          20,
          20,
          20,
          20,
          20,
          20,
          20,
          20,
          20,
          20,
          20,
          20,
          20,
          20,
          20,
          20,
          20,
          20,
          20,
          20,
          20,
          20,
          20,
          20,
          20,
          20,
          20,
          20,
          20,
          20,
          20,
          20,
          20,
          20,
          20,
          20,
          20,
          20,
          20,
          20,
          20,
          20,
          20,
          20,
          20,
          20,
          20,
          20,
          20,
          20,
          20,
          20,
          20,
          20,
          20,
          20,
          20,
          20,
          20,
          20,
          20,
          20
         ]
        },
        {
         "marker": {
          "color": "rgba(108,72,164,1)",
          "opacity": 0.5,
          "size": 7,
          "symbol": "x"
         },
         "mode": "markers",
         "name": "D rejections",
         "type": "scatter",
         "x": [
          22.48788835173575,
          22.501335004851573,
          22.575766812987887,
          22.587779649438453,
          22.60312438770596,
          22.73776353234321,
          22.745249203338002,
          22.75933496135587,
          23.206956789907867,
          23.344994741944497,
          23.36736932491412,
          23.463539814431304,
          23.57757887952095,
          23.59962912471879,
          23.72227151329465,
          23.865835805267274,
          23.950524696244212,
          23.9644440465252,
          24.01028806060969,
          24.01374207926407,
          30.68807033043387,
          30.732789342018798,
          30.887438408410045,
          30.896980257130068,
          30.899171739844775,
          30.937424075094896,
          30.980742495801106
         ],
         "y": [
          20,
          20,
          20,
          20,
          20,
          20,
          20,
          20,
          20,
          20,
          20,
          20,
          20,
          20,
          20,
          20,
          20,
          20,
          20,
          20,
          20,
          20,
          20,
          20,
          20,
          20,
          20
         ]
        },
        {
         "line": {
          "color": "rgba(1,63,141,1)"
         },
         "mode": "lines",
         "name": "E",
         "type": "scatter",
         "x": [
          15.25369706934621,
          15.314832160960991,
          15.749571379114373,
          15.768826380856314,
          16.08426286949618,
          16.099071642386207,
          16.110436477963603,
          16.16096420944175,
          16.179005239314147,
          16.25339251720996,
          16.295697874917213,
          16.32003125714094,
          16.329479518257312,
          16.37991673143247,
          16.602888218311186,
          16.623914774510194,
          16.68068374818614,
          16.803709062184193,
          16.971153324343273,
          16.976022679308194,
          16.99369016232381,
          17.03180782716228,
          17.152770036791818,
          17.236882902276495,
          17.978554591888017,
          18.250096029153312,
          18.269075961221603,
          18.295812951394304,
          18.357070384635495,
          18.47285269233299,
          18.564739366962552,
          18.593155570221995,
          18.672152871646514,
          18.776720648629027,
          18.787364246796177,
          18.873636419583768,
          18.883246124784296,
          19.206816318381584,
          19.336269513087803,
          19.4344642335033,
          20.053339668255607,
          20.362699587790747,
          20.413398052218945,
          20.437023023198723,
          20.71751190116108,
          21.10309161418532,
          21.247243661947124,
          21.407995047499632,
          21.46125317404566,
          21.531258516202858,
          21.577750751808946,
          21.70169454190353,
          21.783884866755873,
          21.800721600805534,
          21.8896760926078,
          21.943881403479292,
          22.061988887559753,
          22.07319089377341,
          22.20205429530581,
          22.209326289564743,
          22.252899619969465,
          22.263408239121052,
          22.648071843112984,
          22.75933496135587,
          22.980491114033857,
          22.99022383716751,
          23.513652269210418,
          23.564402579529848,
          23.637939948765375,
          23.66051655634119,
          23.97854486913835,
          24.01374207926407,
          24.080346578814368,
          24.149453107401385,
          24.27813101308046,
          24.350358896795687,
          24.4242443853742,
          24.480902593178882,
          24.48103718572889,
          24.68052387965316,
          24.707215482495364,
          24.728995971652125,
          24.765371448826535,
          24.839048974362115,
          25.011947510840898,
          25.078982213337888,
          25.3446878616734,
          25.366236075335973,
          25.604936027284992,
          25.73441692924501,
          26.043248455659345,
          26.173092620235984,
          26.345944317577565,
          26.381260575049073,
          26.392289153428575,
          26.50786386958995,
          26.578564152425734,
          26.58839269555577,
          26.665262266206717,
          26.70550123822159,
          26.772400882292327,
          26.9516217292079,
          26.987738610412084,
          27.01666865972039,
          27.04241951244297,
          27.04416280143873,
          27.09331006489161,
          27.120260675807565,
          27.20414290422586,
          27.377084462926685,
          27.446824979739723,
          27.519225839185783,
          27.58049340291315,
          27.585957186695268,
          27.62765165881783,
          27.698772814165192,
          27.80351186761631,
          27.954559833375672,
          28.075700872132707,
          28.113725513112065,
          28.154397123425017,
          28.246847845713795,
          28.433245869667175,
          28.5220823614366,
          28.55676561354555,
          28.557663497833847,
          28.598027763176425,
          28.609124737379513,
          28.61405668341215,
          28.673040504641133,
          28.860374282766625,
          28.867865958977056,
          29.17521985830271,
          29.282993511540685,
          29.49888345165847,
          29.54174292929031,
          29.569580282921788,
          29.6529696933247,
          29.75367763965232,
          29.838284609930913,
          30.038293286026335,
          30.143995320890067,
          30.23220109148391,
          30.257148089004865,
          30.29779771523319,
          30.35912799055333,
          30.483782888703782,
          30.543997250070078,
          30.77552305511349,
          30.840639328144423,
          30.849348085762735,
          30.85054998076018,
          30.87308287826759,
          30.943121714700656,
          30.965007961870125,
          30.968882908122346,
          30.973211134863764
         ],
         "y": [
          19,
          20,
          19,
          20,
          19,
          20,
          19,
          18,
          17,
          16,
          17,
          18,
          19,
          20,
          19,
          18,
          17,
          18,
          19,
          20,
          19,
          20,
          19,
          20,
          19,
          18,
          17,
          18,
          19,
          18,
          17,
          18,
          17,
          18,
          17,
          18,
          19,
          20,
          19,
          20,
          19,
          18,
          19,
          20,
          19,
          20,
          19,
          20,
          19,
          20,
          19,
          18,
          17,
          18,
          17,
          18,
          19,
          20,
          19,
          18,
          19,
          20,
          19,
          20,
          19,
          20,
          19,
          20,
          19,
          20,
          19,
          20,
          19,
          18,
          19,
          20,
          19,
          20,
          19,
          20,
          19,
          20,
          19,
          18,
          19,
          20,
          19,
          18,
          19,
          20,
          19,
          18,
          17,
          18,
          19,
          20,
          19,
          18,
          19,
          18,
          17,
          18,
          17,
          18,
          19,
          20,
          19,
          20,
          19,
          20,
          19,
          18,
          19,
          18,
          19,
          20,
          19,
          20,
          19,
          18,
          19,
          20,
          19,
          20,
          19,
          18,
          19,
          18,
          17,
          18,
          19,
          20,
          19,
          20,
          19,
          18,
          19,
          20,
          19,
          20,
          19,
          20,
          19,
          18,
          19,
          20,
          19,
          20,
          19,
          20,
          19,
          18,
          19,
          20,
          19,
          18,
          19
         ]
        },
        {
         "line": {
          "color": "rgba(1,63,141,1)",
          "dash": "dash"
         },
         "mode": "lines",
         "name": "E upper bound",
         "type": "scatter",
         "x": [
          15.25369706934621,
          15.314832160960991,
          15.749571379114373,
          15.768826380856314,
          16.08426286949618,
          16.099071642386207,
          16.110436477963603,
          16.16096420944175,
          16.179005239314147,
          16.25339251720996,
          16.295697874917213,
          16.32003125714094,
          16.329479518257312,
          16.37991673143247,
          16.602888218311186,
          16.623914774510194,
          16.68068374818614,
          16.803709062184193,
          16.971153324343273,
          16.976022679308194,
          16.99369016232381,
          17.03180782716228,
          17.152770036791818,
          17.236882902276495,
          17.978554591888017,
          18.250096029153312,
          18.269075961221603,
          18.295812951394304,
          18.357070384635495,
          18.47285269233299,
          18.564739366962552,
          18.593155570221995,
          18.672152871646514,
          18.776720648629027,
          18.787364246796177,
          18.873636419583768,
          18.883246124784296,
          19.206816318381584,
          19.336269513087803,
          19.4344642335033,
          20.053339668255607,
          20.362699587790747,
          20.413398052218945,
          20.437023023198723,
          20.71751190116108,
          21.10309161418532,
          21.247243661947124,
          21.407995047499632,
          21.46125317404566,
          21.531258516202858,
          21.577750751808946,
          21.70169454190353,
          21.783884866755873,
          21.800721600805534,
          21.8896760926078,
          21.943881403479292,
          22.061988887559753,
          22.07319089377341,
          22.20205429530581,
          22.209326289564743,
          22.252899619969465,
          22.263408239121052,
          22.648071843112984,
          22.75933496135587,
          22.980491114033857,
          22.99022383716751,
          23.513652269210418,
          23.564402579529848,
          23.637939948765375,
          23.66051655634119,
          23.97854486913835,
          24.01374207926407,
          24.080346578814368,
          24.149453107401385,
          24.27813101308046,
          24.350358896795687,
          24.4242443853742,
          24.480902593178882,
          24.48103718572889,
          24.68052387965316,
          24.707215482495364,
          24.728995971652125,
          24.765371448826535,
          24.839048974362115,
          25.011947510840898,
          25.078982213337888,
          25.3446878616734,
          25.366236075335973,
          25.604936027284992,
          25.73441692924501,
          26.043248455659345,
          26.173092620235984,
          26.345944317577565,
          26.381260575049073,
          26.392289153428575,
          26.50786386958995,
          26.578564152425734,
          26.58839269555577,
          26.665262266206717,
          26.70550123822159,
          26.772400882292327,
          26.9516217292079,
          26.987738610412084,
          27.01666865972039,
          27.04241951244297,
          27.04416280143873,
          27.09331006489161,
          27.120260675807565,
          27.20414290422586,
          27.377084462926685,
          27.446824979739723,
          27.519225839185783,
          27.58049340291315,
          27.585957186695268,
          27.62765165881783,
          27.698772814165192,
          27.80351186761631,
          27.954559833375672,
          28.075700872132707,
          28.113725513112065,
          28.154397123425017,
          28.246847845713795,
          28.433245869667175,
          28.5220823614366,
          28.55676561354555,
          28.557663497833847,
          28.598027763176425,
          28.609124737379513,
          28.61405668341215,
          28.673040504641133,
          28.860374282766625,
          28.867865958977056,
          29.17521985830271,
          29.282993511540685,
          29.49888345165847,
          29.54174292929031,
          29.569580282921788,
          29.6529696933247,
          29.75367763965232,
          29.838284609930913,
          30.038293286026335,
          30.143995320890067,
          30.23220109148391,
          30.257148089004865,
          30.29779771523319,
          30.35912799055333,
          30.483782888703782,
          30.543997250070078,
          30.77552305511349,
          30.840639328144423,
          30.849348085762735,
          30.85054998076018,
          30.87308287826759,
          30.943121714700656,
          30.965007961870125,
          30.968882908122346,
          30.973211134863764
         ],
         "y": [
          20,
          20,
          20,
          20,
          20,
          20,
          20,
          20,
          20,
          20,
          20,
          20,
          20,
          20,
          20,
          20,
          20,
          20,
          20,
          20,
          20,
          20,
          20,
          20,
          20,
          20,
          20,
          20,
          20,
          20,
          20,
          20,
          20,
          20,
          20,
          20,
          20,
          20,
          20,
          20,
          20,
          20,
          20,
          20,
          20,
          20,
          20,
          20,
          20,
          20,
          20,
          20,
          20,
          20,
          20,
          20,
          20,
          20,
          20,
          20,
          20,
          20,
          20,
          20,
          20,
          20,
          20,
          20,
          20,
          20,
          20,
          20,
          20,
          20,
          20,
          20,
          20,
          20,
          20,
          20,
          20,
          20,
          20,
          20,
          20,
          20,
          20,
          20,
          20,
          20,
          20,
          20,
          20,
          20,
          20,
          20,
          20,
          20,
          20,
          20,
          20,
          20,
          20,
          20,
          20,
          20,
          20,
          20,
          20,
          20,
          20,
          20,
          20,
          20,
          20,
          20,
          20,
          20,
          20,
          20,
          20,
          20,
          20,
          20,
          20,
          20,
          20,
          20,
          20,
          20,
          20,
          20,
          20,
          20,
          20,
          20,
          20,
          20,
          20,
          20,
          20,
          20,
          20,
          20,
          20,
          20,
          20,
          20,
          20,
          20,
          20,
          20,
          20,
          20,
          20,
          20,
          20
         ]
        },
        {
         "marker": {
          "color": "rgba(1,63,141,1)",
          "opacity": 0.5,
          "size": 7,
          "symbol": "x"
         },
         "mode": "markers",
         "name": "E rejections",
         "type": "scatter",
         "x": [
          15.362692582252222,
          15.403912870126973,
          15.492649524877391,
          15.52981459672606,
          15.595864695194209,
          15.61296987387692,
          15.613972263016183,
          15.72355513921838,
          15.861828638907804,
          16.5735638588056,
          16.58486813326578,
          16.98309474700053,
          17.048409240335296,
          17.27031023199797,
          17.64091395215271,
          17.82262442667246,
          17.830040666905585,
          17.861902621481786,
          17.86232423559179,
          19.232566321047063,
          19.26309860888884,
          21.146273388003145,
          21.1588322826804,
          22.333742959711675,
          22.52678553078755,
          22.575766812987887,
          22.768660393616308,
          22.810218297996997,
          22.894203282377614,
          22.920142069749392,
          23.36324671505017,
          23.36736932491412,
          23.375650437146696,
          23.463539814431304,
          23.7220747387027,
          23.889565992554658,
          23.950524696244212,
          23.9644440465252,
          25.926287522962465,
          26.027213798918474,
          27.051186080433386,
          27.412376353367893,
          27.734861153829776,
          28.04668805185945,
          28.911421604390945,
          28.989622375238312,
          29.018396681548737,
          29.341917435189156,
          29.490497009284866,
          29.670138823506708,
          29.861069480152985,
          29.880636340447857,
          29.915210900815268,
          29.95728009609632,
          30.416462820637875,
          30.626174907356404,
          30.696575780268393,
          30.7366049226792,
          30.847759719364607
         ],
         "y": [
          20,
          20,
          20,
          20,
          20,
          20,
          20,
          20,
          20,
          20,
          20,
          20,
          20,
          20,
          20,
          20,
          20,
          20,
          20,
          20,
          20,
          20,
          20,
          20,
          20,
          20,
          20,
          20,
          20,
          20,
          20,
          20,
          20,
          20,
          20,
          20,
          20,
          20,
          20,
          20,
          20,
          20,
          20,
          20,
          20,
          20,
          20,
          20,
          20,
          20,
          20,
          20,
          20,
          20,
          20,
          20,
          20,
          20,
          20
         ]
        },
        {
         "line": {
          "color": "rgba(193,224,255,1)"
         },
         "mode": "lines",
         "name": "F",
         "type": "scatter",
         "x": [
          15.060414714667873,
          15.11220656057643,
          15.217975421286923,
          15.245049272780545,
          15.264089829282524,
          15.297936197532106,
          15.42367801850485,
          15.450675088535808,
          15.611787929278096,
          15.616568839400115,
          15.64944221487957,
          15.658753291959309,
          15.67591719025803,
          15.769719769604203,
          15.836323035587078,
          15.89040848586825,
          15.897879537018955,
          15.953272505259903,
          15.96929742526482,
          15.970950385289752,
          15.994937888194274,
          16.00058596259891,
          16.095459446822176,
          16.107898746344183,
          16.13242126849495,
          16.132829751310567,
          16.133335437984968,
          16.158250050329496,
          16.19935359261573,
          16.267805377315483,
          16.26916184787213,
          16.31742771750347,
          16.387243105582137,
          16.391472495597093,
          16.46030299997395,
          16.555812721790137,
          16.614601729339228,
          16.662062200441913,
          16.66982942257478,
          16.679220995421588,
          16.690030790668672,
          16.73455865443546,
          16.87305626685682,
          16.98530407786889,
          17.048917366111514,
          17.0592213371522,
          17.185577043771627,
          17.187055116215422,
          17.194545553579687,
          17.21503218376492,
          17.33889583465212,
          17.410068455300443,
          17.55406027885504,
          17.5542503497036,
          17.580568227697263,
          17.582907985320357,
          17.65876607480194,
          17.685154498564128,
          17.716684941229882,
          17.725164009393183,
          17.742854183882915,
          17.772010001658334,
          17.90815220009603,
          17.940273782770316,
          17.952480893874263,
          17.96460930363844,
          17.971006463983574,
          18.07503472402252,
          18.123836172405476,
          18.138590389165607,
          18.163253017099933,
          18.172662009181494,
          18.193250370272825,
          18.20704388864172,
          18.374031327282236,
          18.382975506772528,
          18.390446843306382,
          18.402004135358997,
          18.412536815076866,
          18.455603765054818,
          18.47173483483505,
          18.471857086036167,
          18.474541406513293,
          18.479813345084096,
          18.539283105804834,
          18.565819805568005,
          18.65374865348741,
          18.671015735439433,
          18.681285888622416,
          18.68162579952346,
          18.684891722818175,
          18.821877315115504,
          18.832078056340077,
          18.878832120921388,
          18.944602664522513,
          18.95843943162849,
          18.96750504450594,
          18.98089253317305,
          19.018969196659423,
          19.06461059148257,
          19.11068089081625,
          19.124953210935338,
          19.135312942640226,
          19.169445369852262,
          19.233829860376616,
          19.252907816662763,
          19.276349088132815,
          19.37773913180734,
          19.401300111049604,
          19.43908977894667,
          19.50344706625643,
          19.51457467854842,
          19.59619010827193,
          19.601130509413824,
          19.61154648096495,
          19.698352686665483,
          19.716235833560997,
          19.766404067386404,
          19.81639552151182,
          19.87517521710811,
          19.903256575603837,
          19.943593188535473,
          19.953679178385208,
          19.97027310152749,
          19.991618642133396,
          19.99337769686953,
          20.002308528219917,
          20.041136074741207,
          20.10749194843011,
          20.11735630535235,
          20.21649590155302,
          20.23521162523315,
          20.283510223875165,
          20.39740126812049,
          20.418801762963973,
          20.426838458169545,
          20.45266763798097,
          20.481263303948083,
          20.491051690128764,
          20.521805164211557,
          20.601671640693173,
          20.63473338515372,
          20.64400430237439,
          20.705478445144173,
          20.710691625866907,
          20.71184288575195,
          20.724471669718703,
          20.72693941443751,
          20.861367138587983,
          20.869089710773572,
          20.880956711740804,
          20.942090193951984,
          21.009816624460314,
          21.065029811115153,
          21.185415157046585,
          21.222946975194322,
          21.263153483478412,
          21.281638731440367,
          21.286451510604717,
          21.28968594395012,
          21.33068176842801,
          21.33524431842771,
          21.36286293469128,
          21.37552751411802,
          21.41156797405941,
          21.45316135534686,
          21.467721406621603,
          21.49615658636248,
          21.497233707099237,
          21.71196996246417,
          21.806027900163297,
          21.81415093363025,
          21.903678614081418,
          21.9149242790642,
          22.100047698934407,
          22.128959269353686,
          22.16648185614713,
          22.212687258247765,
          22.26331809628219,
          22.280542300302617,
          22.413340865957927,
          22.431387744944143,
          22.432529015534552,
          22.48192114912214,
          22.510925242653567,
          22.536065546871594,
          22.607297770655954,
          22.612458219171792,
          22.661588001773087,
          22.689109953806028,
          22.74649326783322,
          22.758512604653795,
          22.776982692314114,
          22.82337376272422,
          22.844165394390593,
          22.848749235129354,
          22.870225372890815,
          22.948287398385453,
          23.018409988910637,
          23.035064038240495,
          23.037099249966513,
          23.072936022426262,
          23.147836419464845,
          23.18663748777092,
          23.25764991292386,
          23.28569411259961,
          23.319781659712024,
          23.4035203155401,
          23.600768323123987,
          23.60589913149247,
          23.618010603990346,
          23.662069239197898,
          23.740263805611665,
          23.818947270790197,
          23.834005593100507,
          23.913174223115238,
          24.027310505195942,
          24.047513733514112,
          24.073028161262343,
          24.151606482609754,
          24.295112459693403,
          24.316790499044256,
          24.393111479581613,
          24.473565855702944,
          24.509094915208294,
          24.538764502966963,
          24.662573052674873,
          24.68099013911662,
          24.699946751249197,
          24.717376970308212,
          24.78243523122132,
          24.784607030780187,
          24.821596752675088,
          24.83588526914036,
          24.85173293827811,
          24.878846129134423,
          24.93612134761704,
          24.937838043205268,
          25.02486107240944,
          25.02656667630047,
          25.06833595336442,
          25.068398496427424,
          25.135524123955054,
          25.16466983438689,
          25.187670907602108,
          25.283830579257415,
          25.29295369801896,
          25.307457026390274,
          25.411443418141655,
          25.466377427270636,
          25.532261796136787,
          25.538545766003654,
          25.5447397787061,
          25.587937248694594,
          25.61621038927993,
          25.62145498904877,
          25.628755298173964,
          25.64666491917478,
          25.660082856012266,
          25.695019184730402,
          25.70605396108991,
          25.713855143716266,
          25.752537989727134,
          25.762753318588825,
          25.78309736700684,
          25.79099157709297,
          25.872699406974647,
          25.89928967644521,
          25.918199349432033,
          25.93965295163287,
          25.960385507080947,
          25.99471635195551,
          26.08005357839476,
          26.119844127498915,
          26.1698139480513,
          26.195081913056743,
          26.222876253844227,
          26.22758241577086,
          26.235096394975045,
          26.235339188110252,
          26.26032004513082,
          26.268934130137946,
          26.327968376016866,
          26.365110598353798,
          26.366564642245848,
          26.389789739464906,
          26.472837634758434,
          26.5164769914603,
          26.547973963831947,
          26.573992287090373,
          26.618317997707745,
          26.6422832020112,
          26.656267952211184,
          26.664165033916685,
          26.678967003222926,
          26.702085662208848,
          26.7116946960122,
          26.84328673752024,
          26.872758269276463,
          26.876837476254273,
          27.13136919179525,
          27.273732149872913,
          27.38063218333362,
          27.455518376386962,
          27.459748848793865,
          27.506089180916703,
          27.506528278086126,
          27.5374886415023,
          27.60220077599263,
          27.65492032883492,
          27.6594342175854,
          27.746544287322905,
          27.747972039326342,
          27.758315374287772,
          27.78167305720572,
          27.80391240464557,
          27.893999058763864,
          27.921158439727265,
          27.955308468848393,
          28.08411573008021,
          28.12835147433219,
          28.138738216202377,
          28.320469378401988,
          28.356121815110274,
          28.403469777508462,
          28.404127731428723,
          28.46982482183528,
          28.532249717134015,
          28.543459863762532,
          28.56344183477487,
          28.573938508355468,
          28.736293688695056,
          28.858524530081525,
          28.902855960040366,
          28.917558460509458,
          28.93294472027859,
          28.940270411125034,
          28.993114108665928,
          29.152490219182507,
          29.163756809023013,
          29.187551875275002,
          29.367583362163245,
          29.384130144530335,
          29.387316686961803,
          29.416120611556053,
          29.439292216919846,
          29.464126451171428,
          29.536556232235444,
          29.614295746767237,
          29.792648106524908,
          29.816912818027838,
          29.837382350282763,
          29.866891542696283,
          29.886763244651323,
          29.904269755205867,
          29.97609406309784,
          29.976601127432147,
          30.144676527247608,
          30.167123497603768,
          30.210150460296255,
          30.226049062353024,
          30.230755495600267,
          30.395174148700157,
          30.397152248852045,
          30.443879208437057,
          30.492631240604428,
          30.495307531536895,
          30.503400814328128,
          30.548416401636086,
          30.649001914198724,
          30.676533995463096,
          30.68349010259945,
          30.68523667811935,
          30.843018191825642,
          30.93308517971868,
          30.956743021506306,
          30.98256460099533
         ],
         "y": [
          29,
          30,
          29,
          28,
          29,
          30,
          29,
          30,
          29,
          30,
          29,
          28,
          29,
          30,
          29,
          28,
          29,
          28,
          29,
          30,
          29,
          28,
          27,
          28,
          27,
          26,
          27,
          26,
          25,
          26,
          27,
          28,
          29,
          30,
          29,
          28,
          27,
          26,
          27,
          26,
          25,
          26,
          27,
          28,
          29,
          30,
          29,
          28,
          27,
          28,
          27,
          28,
          29,
          28,
          27,
          26,
          27,
          28,
          29,
          30,
          29,
          30,
          29,
          28,
          27,
          28,
          29,
          30,
          29,
          28,
          29,
          28,
          29,
          30,
          29,
          28,
          27,
          26,
          27,
          26,
          25,
          26,
          27,
          26,
          27,
          26,
          27,
          26,
          27,
          26,
          25,
          24,
          23,
          22,
          23,
          24,
          23,
          22,
          23,
          24,
          25,
          24,
          23,
          22,
          23,
          24,
          25,
          26,
          25,
          24,
          25,
          24,
          23,
          24,
          23,
          24,
          23,
          22,
          21,
          22,
          21,
          22,
          23,
          24,
          25,
          24,
          23,
          24,
          25,
          24,
          23,
          22,
          23,
          24,
          23,
          22,
          21,
          22,
          23,
          24,
          23,
          22,
          23,
          24,
          25,
          26,
          25,
          24,
          23,
          22,
          23,
          24,
          25,
          26,
          27,
          26,
          25,
          24,
          25,
          24,
          25,
          26,
          27,
          28,
          29,
          28,
          29,
          30,
          29,
          30,
          29,
          30,
          29,
          30,
          29,
          28,
          29,
          30,
          29,
          30,
          29,
          28,
          29,
          28,
          29,
          30,
          29,
          30,
          29,
          30,
          29,
          30,
          29,
          28,
          27,
          28,
          29,
          28,
          27,
          26,
          27,
          26,
          27,
          28,
          29,
          30,
          29,
          30,
          29,
          30,
          29,
          30,
          29,
          28,
          29,
          28,
          27,
          28,
          27,
          26,
          27,
          26,
          25,
          24,
          25,
          26,
          27,
          28,
          27,
          26,
          25,
          24,
          25,
          24,
          25,
          24,
          25,
          24,
          23,
          24,
          25,
          24,
          25,
          24,
          23,
          24,
          25,
          24,
          25,
          26,
          27,
          26,
          27,
          26,
          27,
          28,
          29,
          30,
          29,
          28,
          29,
          30,
          29,
          30,
          29,
          30,
          29,
          30,
          29,
          28,
          29,
          28,
          27,
          28,
          27,
          26,
          27,
          28,
          27,
          28,
          29,
          28,
          27,
          28,
          27,
          26,
          27,
          26,
          25,
          26,
          27,
          28,
          29,
          30,
          29,
          28,
          27,
          28,
          29,
          30,
          29,
          30,
          29,
          30,
          29,
          28,
          29,
          28,
          27,
          26,
          25,
          24,
          25,
          26,
          25,
          24,
          23,
          22,
          23,
          22,
          23,
          24,
          23,
          24,
          25,
          26,
          25,
          26,
          25,
          26,
          27,
          26,
          25,
          24,
          23,
          22,
          23,
          22,
          23,
          22,
          21,
          20,
          21,
          20,
          21,
          20,
          21,
          20,
          21,
          22,
          23,
          24,
          25,
          26,
          27,
          28,
          27,
          26,
          27,
          28,
          29,
          30,
          29,
          28,
          27,
          28,
          29,
          30,
          29,
          28,
          29,
          28,
          29,
          30,
          29,
          30,
          29
         ]
        },
        {
         "line": {
          "color": "rgba(193,224,255,1)",
          "dash": "dash"
         },
         "mode": "lines",
         "name": "F upper bound",
         "type": "scatter",
         "x": [
          15.060414714667873,
          15.11220656057643,
          15.217975421286923,
          15.245049272780545,
          15.264089829282524,
          15.297936197532106,
          15.42367801850485,
          15.450675088535808,
          15.611787929278096,
          15.616568839400115,
          15.64944221487957,
          15.658753291959309,
          15.67591719025803,
          15.769719769604203,
          15.836323035587078,
          15.89040848586825,
          15.897879537018955,
          15.953272505259903,
          15.96929742526482,
          15.970950385289752,
          15.994937888194274,
          16.00058596259891,
          16.095459446822176,
          16.107898746344183,
          16.13242126849495,
          16.132829751310567,
          16.133335437984968,
          16.158250050329496,
          16.19935359261573,
          16.267805377315483,
          16.26916184787213,
          16.31742771750347,
          16.387243105582137,
          16.391472495597093,
          16.46030299997395,
          16.555812721790137,
          16.614601729339228,
          16.662062200441913,
          16.66982942257478,
          16.679220995421588,
          16.690030790668672,
          16.73455865443546,
          16.87305626685682,
          16.98530407786889,
          17.048917366111514,
          17.0592213371522,
          17.185577043771627,
          17.187055116215422,
          17.194545553579687,
          17.21503218376492,
          17.33889583465212,
          17.410068455300443,
          17.55406027885504,
          17.5542503497036,
          17.580568227697263,
          17.582907985320357,
          17.65876607480194,
          17.685154498564128,
          17.716684941229882,
          17.725164009393183,
          17.742854183882915,
          17.772010001658334,
          17.90815220009603,
          17.940273782770316,
          17.952480893874263,
          17.96460930363844,
          17.971006463983574,
          18.07503472402252,
          18.123836172405476,
          18.138590389165607,
          18.163253017099933,
          18.172662009181494,
          18.193250370272825,
          18.20704388864172,
          18.374031327282236,
          18.382975506772528,
          18.390446843306382,
          18.402004135358997,
          18.412536815076866,
          18.455603765054818,
          18.47173483483505,
          18.471857086036167,
          18.474541406513293,
          18.479813345084096,
          18.539283105804834,
          18.565819805568005,
          18.65374865348741,
          18.671015735439433,
          18.681285888622416,
          18.68162579952346,
          18.684891722818175,
          18.821877315115504,
          18.832078056340077,
          18.878832120921388,
          18.944602664522513,
          18.95843943162849,
          18.96750504450594,
          18.98089253317305,
          19.018969196659423,
          19.06461059148257,
          19.11068089081625,
          19.124953210935338,
          19.135312942640226,
          19.169445369852262,
          19.233829860376616,
          19.252907816662763,
          19.276349088132815,
          19.37773913180734,
          19.401300111049604,
          19.43908977894667,
          19.50344706625643,
          19.51457467854842,
          19.59619010827193,
          19.601130509413824,
          19.61154648096495,
          19.698352686665483,
          19.716235833560997,
          19.766404067386404,
          19.81639552151182,
          19.87517521710811,
          19.903256575603837,
          19.943593188535473,
          19.953679178385208,
          19.97027310152749,
          19.991618642133396,
          19.99337769686953,
          20.002308528219917,
          20.041136074741207,
          20.10749194843011,
          20.11735630535235,
          20.21649590155302,
          20.23521162523315,
          20.283510223875165,
          20.39740126812049,
          20.418801762963973,
          20.426838458169545,
          20.45266763798097,
          20.481263303948083,
          20.491051690128764,
          20.521805164211557,
          20.601671640693173,
          20.63473338515372,
          20.64400430237439,
          20.705478445144173,
          20.710691625866907,
          20.71184288575195,
          20.724471669718703,
          20.72693941443751,
          20.861367138587983,
          20.869089710773572,
          20.880956711740804,
          20.942090193951984,
          21.009816624460314,
          21.065029811115153,
          21.185415157046585,
          21.222946975194322,
          21.263153483478412,
          21.281638731440367,
          21.286451510604717,
          21.28968594395012,
          21.33068176842801,
          21.33524431842771,
          21.36286293469128,
          21.37552751411802,
          21.41156797405941,
          21.45316135534686,
          21.467721406621603,
          21.49615658636248,
          21.497233707099237,
          21.71196996246417,
          21.806027900163297,
          21.81415093363025,
          21.903678614081418,
          21.9149242790642,
          22.100047698934407,
          22.128959269353686,
          22.16648185614713,
          22.212687258247765,
          22.26331809628219,
          22.280542300302617,
          22.413340865957927,
          22.431387744944143,
          22.432529015534552,
          22.48192114912214,
          22.510925242653567,
          22.536065546871594,
          22.607297770655954,
          22.612458219171792,
          22.661588001773087,
          22.689109953806028,
          22.74649326783322,
          22.758512604653795,
          22.776982692314114,
          22.82337376272422,
          22.844165394390593,
          22.848749235129354,
          22.870225372890815,
          22.948287398385453,
          23.018409988910637,
          23.035064038240495,
          23.037099249966513,
          23.072936022426262,
          23.147836419464845,
          23.18663748777092,
          23.25764991292386,
          23.28569411259961,
          23.319781659712024,
          23.4035203155401,
          23.600768323123987,
          23.60589913149247,
          23.618010603990346,
          23.662069239197898,
          23.740263805611665,
          23.818947270790197,
          23.834005593100507,
          23.913174223115238,
          24.027310505195942,
          24.047513733514112,
          24.073028161262343,
          24.151606482609754,
          24.295112459693403,
          24.316790499044256,
          24.393111479581613,
          24.473565855702944,
          24.509094915208294,
          24.538764502966963,
          24.662573052674873,
          24.68099013911662,
          24.699946751249197,
          24.717376970308212,
          24.78243523122132,
          24.784607030780187,
          24.821596752675088,
          24.83588526914036,
          24.85173293827811,
          24.878846129134423,
          24.93612134761704,
          24.937838043205268,
          25.02486107240944,
          25.02656667630047,
          25.06833595336442,
          25.068398496427424,
          25.135524123955054,
          25.16466983438689,
          25.187670907602108,
          25.283830579257415,
          25.29295369801896,
          25.307457026390274,
          25.411443418141655,
          25.466377427270636,
          25.532261796136787,
          25.538545766003654,
          25.5447397787061,
          25.587937248694594,
          25.61621038927993,
          25.62145498904877,
          25.628755298173964,
          25.64666491917478,
          25.660082856012266,
          25.695019184730402,
          25.70605396108991,
          25.713855143716266,
          25.752537989727134,
          25.762753318588825,
          25.78309736700684,
          25.79099157709297,
          25.872699406974647,
          25.89928967644521,
          25.918199349432033,
          25.93965295163287,
          25.960385507080947,
          25.99471635195551,
          26.08005357839476,
          26.119844127498915,
          26.1698139480513,
          26.195081913056743,
          26.222876253844227,
          26.22758241577086,
          26.235096394975045,
          26.235339188110252,
          26.26032004513082,
          26.268934130137946,
          26.327968376016866,
          26.365110598353798,
          26.366564642245848,
          26.389789739464906,
          26.472837634758434,
          26.5164769914603,
          26.547973963831947,
          26.573992287090373,
          26.618317997707745,
          26.6422832020112,
          26.656267952211184,
          26.664165033916685,
          26.678967003222926,
          26.702085662208848,
          26.7116946960122,
          26.84328673752024,
          26.872758269276463,
          26.876837476254273,
          27.13136919179525,
          27.273732149872913,
          27.38063218333362,
          27.455518376386962,
          27.459748848793865,
          27.506089180916703,
          27.506528278086126,
          27.5374886415023,
          27.60220077599263,
          27.65492032883492,
          27.6594342175854,
          27.746544287322905,
          27.747972039326342,
          27.758315374287772,
          27.78167305720572,
          27.80391240464557,
          27.893999058763864,
          27.921158439727265,
          27.955308468848393,
          28.08411573008021,
          28.12835147433219,
          28.138738216202377,
          28.320469378401988,
          28.356121815110274,
          28.403469777508462,
          28.404127731428723,
          28.46982482183528,
          28.532249717134015,
          28.543459863762532,
          28.56344183477487,
          28.573938508355468,
          28.736293688695056,
          28.858524530081525,
          28.902855960040366,
          28.917558460509458,
          28.93294472027859,
          28.940270411125034,
          28.993114108665928,
          29.152490219182507,
          29.163756809023013,
          29.187551875275002,
          29.367583362163245,
          29.384130144530335,
          29.387316686961803,
          29.416120611556053,
          29.439292216919846,
          29.464126451171428,
          29.536556232235444,
          29.614295746767237,
          29.792648106524908,
          29.816912818027838,
          29.837382350282763,
          29.866891542696283,
          29.886763244651323,
          29.904269755205867,
          29.97609406309784,
          29.976601127432147,
          30.144676527247608,
          30.167123497603768,
          30.210150460296255,
          30.226049062353024,
          30.230755495600267,
          30.395174148700157,
          30.397152248852045,
          30.443879208437057,
          30.492631240604428,
          30.495307531536895,
          30.503400814328128,
          30.548416401636086,
          30.649001914198724,
          30.676533995463096,
          30.68349010259945,
          30.68523667811935,
          30.843018191825642,
          30.93308517971868,
          30.956743021506306,
          30.98256460099533
         ],
         "y": [
          30,
          30,
          30,
          30,
          30,
          30,
          30,
          30,
          30,
          30,
          30,
          30,
          30,
          30,
          30,
          30,
          30,
          30,
          30,
          30,
          30,
          30,
          30,
          30,
          30,
          30,
          30,
          30,
          30,
          30,
          30,
          30,
          30,
          30,
          30,
          30,
          30,
          30,
          30,
          30,
          30,
          30,
          30,
          30,
          30,
          30,
          30,
          30,
          30,
          30,
          30,
          30,
          30,
          30,
          30,
          30,
          30,
          30,
          30,
          30,
          30,
          30,
          30,
          30,
          30,
          30,
          30,
          30,
          30,
          30,
          30,
          30,
          30,
          30,
          30,
          30,
          30,
          30,
          30,
          30,
          30,
          30,
          30,
          30,
          30,
          30,
          30,
          30,
          30,
          30,
          30,
          30,
          30,
          30,
          30,
          30,
          30,
          30,
          30,
          30,
          30,
          30,
          30,
          30,
          30,
          30,
          30,
          30,
          30,
          30,
          30,
          30,
          30,
          30,
          30,
          30,
          30,
          30,
          30,
          30,
          30,
          30,
          30,
          30,
          30,
          30,
          30,
          30,
          30,
          30,
          30,
          30,
          30,
          30,
          30,
          30,
          30,
          30,
          30,
          30,
          30,
          30,
          30,
          30,
          30,
          30,
          30,
          30,
          30,
          30,
          30,
          30,
          30,
          30,
          30,
          30,
          30,
          30,
          30,
          30,
          30,
          30,
          30,
          30,
          30,
          30,
          30,
          30,
          30,
          30,
          30,
          30,
          30,
          30,
          30,
          30,
          30,
          30,
          30,
          30,
          30,
          30,
          30,
          30,
          30,
          30,
          30,
          30,
          30,
          30,
          30,
          30,
          30,
          30,
          30,
          30,
          30,
          30,
          30,
          30,
          30,
          30,
          30,
          30,
          30,
          30,
          30,
          30,
          30,
          30,
          30,
          30,
          30,
          30,
          30,
          30,
          30,
          30,
          30,
          30,
          30,
          30,
          30,
          30,
          30,
          30,
          30,
          30,
          30,
          30,
          30,
          30,
          30,
          30,
          30,
          30,
          30,
          30,
          30,
          30,
          30,
          30,
          30,
          30,
          30,
          30,
          30,
          30,
          30,
          30,
          30,
          30,
          30,
          30,
          30,
          30,
          30,
          30,
          30,
          30,
          30,
          30,
          30,
          30,
          30,
          30,
          30,
          30,
          30,
          30,
          30,
          30,
          30,
          30,
          30,
          30,
          30,
          30,
          30,
          30,
          30,
          30,
          30,
          30,
          30,
          30,
          30,
          30,
          30,
          30,
          30,
          30,
          30,
          30,
          30,
          30,
          30,
          30,
          30,
          30,
          30,
          30,
          30,
          30,
          30,
          30,
          30,
          30,
          30,
          30,
          30,
          30,
          30,
          30,
          30,
          30,
          30,
          30,
          30,
          30,
          30,
          30,
          30,
          30,
          30,
          30,
          30,
          30,
          30,
          30,
          30,
          30,
          30,
          30,
          30,
          30,
          30,
          30,
          30,
          30,
          30,
          30,
          30,
          30,
          30,
          30,
          30,
          30,
          30,
          30,
          30,
          30,
          30,
          30,
          30,
          30,
          30,
          30,
          30,
          30,
          30,
          30,
          30,
          30,
          30,
          30,
          30,
          30,
          30,
          30,
          30,
          30,
          30,
          30,
          30,
          30,
          30
         ]
        },
        {
         "marker": {
          "color": "rgba(193,224,255,1)",
          "opacity": 0.5,
          "size": 7,
          "symbol": "x"
         },
         "mode": "markers",
         "name": "F rejections",
         "type": "scatter",
         "x": [
          15.018117013336973,
          15.205290262042094,
          15.507832719894049,
          15.549419166656625,
          16.42531558826972,
          17.799993939320654,
          17.90066839729603,
          17.904062607296726,
          18.258361354953728,
          18.277429607845512,
          18.309228847537806,
          21.765509346818323,
          21.767368780293996,
          21.803174247676935,
          21.824295931593163,
          22.061988887559753,
          22.07319089377341,
          22.304961610138186,
          22.35573946160766,
          22.555933970251637,
          22.57351115615561,
          22.712847292525623,
          22.739790933269724,
          23.29492039324907,
          23.440130532907126,
          23.521530704864247,
          23.59962912471879,
          23.704992142393547,
          23.72227151329465,
          23.726177224076846,
          25.73441692924501,
          25.736425922337297,
          25.74816386398439,
          27.045843496539607,
          27.060381431566512,
          27.303730223587277,
          27.32340585938521,
          30.26081808633108,
          30.29779771523319,
          30.383447551774594,
          30.543997250070078,
          30.847759719364607,
          30.87308287826759,
          30.887438408410045,
          30.980742495801106
         ],
         "y": [
          30,
          30,
          30,
          30,
          30,
          30,
          30,
          30,
          30,
          30,
          30,
          30,
          30,
          30,
          30,
          30,
          30,
          30,
          30,
          30,
          30,
          30,
          30,
          30,
          30,
          30,
          30,
          30,
          30,
          30,
          30,
          30,
          30,
          30,
          30,
          30,
          30,
          30,
          30,
          30,
          30,
          30,
          30,
          30,
          30
         ]
        }
       ],
       "layout": {
        "height": 600,
        "template": {
         "data": {
          "bar": [
           {
            "error_x": {
             "color": "#2a3f5f"
            },
            "error_y": {
             "color": "#2a3f5f"
            },
            "marker": {
             "line": {
              "color": "#E5ECF6",
              "width": 0.5
             },
             "pattern": {
              "fillmode": "overlay",
              "size": 10,
              "solidity": 0.2
             }
            },
            "type": "bar"
           }
          ],
          "barpolar": [
           {
            "marker": {
             "line": {
              "color": "#E5ECF6",
              "width": 0.5
             },
             "pattern": {
              "fillmode": "overlay",
              "size": 10,
              "solidity": 0.2
             }
            },
            "type": "barpolar"
           }
          ],
          "carpet": [
           {
            "aaxis": {
             "endlinecolor": "#2a3f5f",
             "gridcolor": "white",
             "linecolor": "white",
             "minorgridcolor": "white",
             "startlinecolor": "#2a3f5f"
            },
            "baxis": {
             "endlinecolor": "#2a3f5f",
             "gridcolor": "white",
             "linecolor": "white",
             "minorgridcolor": "white",
             "startlinecolor": "#2a3f5f"
            },
            "type": "carpet"
           }
          ],
          "choropleth": [
           {
            "colorbar": {
             "outlinewidth": 0,
             "ticks": ""
            },
            "type": "choropleth"
           }
          ],
          "contour": [
           {
            "colorbar": {
             "outlinewidth": 0,
             "ticks": ""
            },
            "colorscale": [
             [
              0,
              "#0d0887"
             ],
             [
              0.1111111111111111,
              "#46039f"
             ],
             [
              0.2222222222222222,
              "#7201a8"
             ],
             [
              0.3333333333333333,
              "#9c179e"
             ],
             [
              0.4444444444444444,
              "#bd3786"
             ],
             [
              0.5555555555555556,
              "#d8576b"
             ],
             [
              0.6666666666666666,
              "#ed7953"
             ],
             [
              0.7777777777777778,
              "#fb9f3a"
             ],
             [
              0.8888888888888888,
              "#fdca26"
             ],
             [
              1,
              "#f0f921"
             ]
            ],
            "type": "contour"
           }
          ],
          "contourcarpet": [
           {
            "colorbar": {
             "outlinewidth": 0,
             "ticks": ""
            },
            "type": "contourcarpet"
           }
          ],
          "heatmap": [
           {
            "colorbar": {
             "outlinewidth": 0,
             "ticks": ""
            },
            "colorscale": [
             [
              0,
              "#0d0887"
             ],
             [
              0.1111111111111111,
              "#46039f"
             ],
             [
              0.2222222222222222,
              "#7201a8"
             ],
             [
              0.3333333333333333,
              "#9c179e"
             ],
             [
              0.4444444444444444,
              "#bd3786"
             ],
             [
              0.5555555555555556,
              "#d8576b"
             ],
             [
              0.6666666666666666,
              "#ed7953"
             ],
             [
              0.7777777777777778,
              "#fb9f3a"
             ],
             [
              0.8888888888888888,
              "#fdca26"
             ],
             [
              1,
              "#f0f921"
             ]
            ],
            "type": "heatmap"
           }
          ],
          "heatmapgl": [
           {
            "colorbar": {
             "outlinewidth": 0,
             "ticks": ""
            },
            "colorscale": [
             [
              0,
              "#0d0887"
             ],
             [
              0.1111111111111111,
              "#46039f"
             ],
             [
              0.2222222222222222,
              "#7201a8"
             ],
             [
              0.3333333333333333,
              "#9c179e"
             ],
             [
              0.4444444444444444,
              "#bd3786"
             ],
             [
              0.5555555555555556,
              "#d8576b"
             ],
             [
              0.6666666666666666,
              "#ed7953"
             ],
             [
              0.7777777777777778,
              "#fb9f3a"
             ],
             [
              0.8888888888888888,
              "#fdca26"
             ],
             [
              1,
              "#f0f921"
             ]
            ],
            "type": "heatmapgl"
           }
          ],
          "histogram": [
           {
            "marker": {
             "pattern": {
              "fillmode": "overlay",
              "size": 10,
              "solidity": 0.2
             }
            },
            "type": "histogram"
           }
          ],
          "histogram2d": [
           {
            "colorbar": {
             "outlinewidth": 0,
             "ticks": ""
            },
            "colorscale": [
             [
              0,
              "#0d0887"
             ],
             [
              0.1111111111111111,
              "#46039f"
             ],
             [
              0.2222222222222222,
              "#7201a8"
             ],
             [
              0.3333333333333333,
              "#9c179e"
             ],
             [
              0.4444444444444444,
              "#bd3786"
             ],
             [
              0.5555555555555556,
              "#d8576b"
             ],
             [
              0.6666666666666666,
              "#ed7953"
             ],
             [
              0.7777777777777778,
              "#fb9f3a"
             ],
             [
              0.8888888888888888,
              "#fdca26"
             ],
             [
              1,
              "#f0f921"
             ]
            ],
            "type": "histogram2d"
           }
          ],
          "histogram2dcontour": [
           {
            "colorbar": {
             "outlinewidth": 0,
             "ticks": ""
            },
            "colorscale": [
             [
              0,
              "#0d0887"
             ],
             [
              0.1111111111111111,
              "#46039f"
             ],
             [
              0.2222222222222222,
              "#7201a8"
             ],
             [
              0.3333333333333333,
              "#9c179e"
             ],
             [
              0.4444444444444444,
              "#bd3786"
             ],
             [
              0.5555555555555556,
              "#d8576b"
             ],
             [
              0.6666666666666666,
              "#ed7953"
             ],
             [
              0.7777777777777778,
              "#fb9f3a"
             ],
             [
              0.8888888888888888,
              "#fdca26"
             ],
             [
              1,
              "#f0f921"
             ]
            ],
            "type": "histogram2dcontour"
           }
          ],
          "mesh3d": [
           {
            "colorbar": {
             "outlinewidth": 0,
             "ticks": ""
            },
            "type": "mesh3d"
           }
          ],
          "parcoords": [
           {
            "line": {
             "colorbar": {
              "outlinewidth": 0,
              "ticks": ""
             }
            },
            "type": "parcoords"
           }
          ],
          "pie": [
           {
            "automargin": true,
            "type": "pie"
           }
          ],
          "scatter": [
           {
            "fillpattern": {
             "fillmode": "overlay",
             "size": 10,
             "solidity": 0.2
            },
            "type": "scatter"
           }
          ],
          "scatter3d": [
           {
            "line": {
             "colorbar": {
              "outlinewidth": 0,
              "ticks": ""
             }
            },
            "marker": {
             "colorbar": {
              "outlinewidth": 0,
              "ticks": ""
             }
            },
            "type": "scatter3d"
           }
          ],
          "scattercarpet": [
           {
            "marker": {
             "colorbar": {
              "outlinewidth": 0,
              "ticks": ""
             }
            },
            "type": "scattercarpet"
           }
          ],
          "scattergeo": [
           {
            "marker": {
             "colorbar": {
              "outlinewidth": 0,
              "ticks": ""
             }
            },
            "type": "scattergeo"
           }
          ],
          "scattergl": [
           {
            "marker": {
             "colorbar": {
              "outlinewidth": 0,
              "ticks": ""
             }
            },
            "type": "scattergl"
           }
          ],
          "scattermapbox": [
           {
            "marker": {
             "colorbar": {
              "outlinewidth": 0,
              "ticks": ""
             }
            },
            "type": "scattermapbox"
           }
          ],
          "scatterpolar": [
           {
            "marker": {
             "colorbar": {
              "outlinewidth": 0,
              "ticks": ""
             }
            },
            "type": "scatterpolar"
           }
          ],
          "scatterpolargl": [
           {
            "marker": {
             "colorbar": {
              "outlinewidth": 0,
              "ticks": ""
             }
            },
            "type": "scatterpolargl"
           }
          ],
          "scatterternary": [
           {
            "marker": {
             "colorbar": {
              "outlinewidth": 0,
              "ticks": ""
             }
            },
            "type": "scatterternary"
           }
          ],
          "surface": [
           {
            "colorbar": {
             "outlinewidth": 0,
             "ticks": ""
            },
            "colorscale": [
             [
              0,
              "#0d0887"
             ],
             [
              0.1111111111111111,
              "#46039f"
             ],
             [
              0.2222222222222222,
              "#7201a8"
             ],
             [
              0.3333333333333333,
              "#9c179e"
             ],
             [
              0.4444444444444444,
              "#bd3786"
             ],
             [
              0.5555555555555556,
              "#d8576b"
             ],
             [
              0.6666666666666666,
              "#ed7953"
             ],
             [
              0.7777777777777778,
              "#fb9f3a"
             ],
             [
              0.8888888888888888,
              "#fdca26"
             ],
             [
              1,
              "#f0f921"
             ]
            ],
            "type": "surface"
           }
          ],
          "table": [
           {
            "cells": {
             "fill": {
              "color": "#EBF0F8"
             },
             "line": {
              "color": "white"
             }
            },
            "header": {
             "fill": {
              "color": "#C8D4E3"
             },
             "line": {
              "color": "white"
             }
            },
            "type": "table"
           }
          ]
         },
         "layout": {
          "annotationdefaults": {
           "arrowcolor": "#2a3f5f",
           "arrowhead": 0,
           "arrowwidth": 1
          },
          "autotypenumbers": "strict",
          "coloraxis": {
           "colorbar": {
            "outlinewidth": 0,
            "ticks": ""
           }
          },
          "colorscale": {
           "diverging": [
            [
             0,
             "#8e0152"
            ],
            [
             0.1,
             "#c51b7d"
            ],
            [
             0.2,
             "#de77ae"
            ],
            [
             0.3,
             "#f1b6da"
            ],
            [
             0.4,
             "#fde0ef"
            ],
            [
             0.5,
             "#f7f7f7"
            ],
            [
             0.6,
             "#e6f5d0"
            ],
            [
             0.7,
             "#b8e186"
            ],
            [
             0.8,
             "#7fbc41"
            ],
            [
             0.9,
             "#4d9221"
            ],
            [
             1,
             "#276419"
            ]
           ],
           "sequential": [
            [
             0,
             "#0d0887"
            ],
            [
             0.1111111111111111,
             "#46039f"
            ],
            [
             0.2222222222222222,
             "#7201a8"
            ],
            [
             0.3333333333333333,
             "#9c179e"
            ],
            [
             0.4444444444444444,
             "#bd3786"
            ],
            [
             0.5555555555555556,
             "#d8576b"
            ],
            [
             0.6666666666666666,
             "#ed7953"
            ],
            [
             0.7777777777777778,
             "#fb9f3a"
            ],
            [
             0.8888888888888888,
             "#fdca26"
            ],
            [
             1,
             "#f0f921"
            ]
           ],
           "sequentialminus": [
            [
             0,
             "#0d0887"
            ],
            [
             0.1111111111111111,
             "#46039f"
            ],
            [
             0.2222222222222222,
             "#7201a8"
            ],
            [
             0.3333333333333333,
             "#9c179e"
            ],
            [
             0.4444444444444444,
             "#bd3786"
            ],
            [
             0.5555555555555556,
             "#d8576b"
            ],
            [
             0.6666666666666666,
             "#ed7953"
            ],
            [
             0.7777777777777778,
             "#fb9f3a"
            ],
            [
             0.8888888888888888,
             "#fdca26"
            ],
            [
             1,
             "#f0f921"
            ]
           ]
          },
          "colorway": [
           "#636efa",
           "#EF553B",
           "#00cc96",
           "#ab63fa",
           "#FFA15A",
           "#19d3f3",
           "#FF6692",
           "#B6E880",
           "#FF97FF",
           "#FECB52"
          ],
          "font": {
           "color": "#2a3f5f"
          },
          "geo": {
           "bgcolor": "white",
           "lakecolor": "white",
           "landcolor": "#E5ECF6",
           "showlakes": true,
           "showland": true,
           "subunitcolor": "white"
          },
          "hoverlabel": {
           "align": "left"
          },
          "hovermode": "closest",
          "mapbox": {
           "style": "light"
          },
          "paper_bgcolor": "white",
          "plot_bgcolor": "#E5ECF6",
          "polar": {
           "angularaxis": {
            "gridcolor": "white",
            "linecolor": "white",
            "ticks": ""
           },
           "bgcolor": "#E5ECF6",
           "radialaxis": {
            "gridcolor": "white",
            "linecolor": "white",
            "ticks": ""
           }
          },
          "scene": {
           "xaxis": {
            "backgroundcolor": "#E5ECF6",
            "gridcolor": "white",
            "gridwidth": 2,
            "linecolor": "white",
            "showbackground": true,
            "ticks": "",
            "zerolinecolor": "white"
           },
           "yaxis": {
            "backgroundcolor": "#E5ECF6",
            "gridcolor": "white",
            "gridwidth": 2,
            "linecolor": "white",
            "showbackground": true,
            "ticks": "",
            "zerolinecolor": "white"
           },
           "zaxis": {
            "backgroundcolor": "#E5ECF6",
            "gridcolor": "white",
            "gridwidth": 2,
            "linecolor": "white",
            "showbackground": true,
            "ticks": "",
            "zerolinecolor": "white"
           }
          },
          "shapedefaults": {
           "line": {
            "color": "#2a3f5f"
           }
          },
          "ternary": {
           "aaxis": {
            "gridcolor": "white",
            "linecolor": "white",
            "ticks": ""
           },
           "baxis": {
            "gridcolor": "white",
            "linecolor": "white",
            "ticks": ""
           },
           "bgcolor": "#E5ECF6",
           "caxis": {
            "gridcolor": "white",
            "linecolor": "white",
            "ticks": ""
           }
          },
          "title": {
           "x": 0.05
          },
          "xaxis": {
           "automargin": true,
           "gridcolor": "white",
           "linecolor": "white",
           "ticks": "",
           "title": {
            "standoff": 15
           },
           "zerolinecolor": "white",
           "zerolinewidth": 2
          },
          "yaxis": {
           "automargin": true,
           "gridcolor": "white",
           "linecolor": "white",
           "ticks": "",
           "title": {
            "standoff": 15
           },
           "zerolinecolor": "white",
           "zerolinewidth": 2
          }
         }
        },
        "title": {
         "text": "Occupancy through time for each simulation in each ward"
        },
        "xaxis": {
         "title": {
          "text": "Time[days]"
         }
        },
        "yaxis": {
         "title": {
          "text": "Occupancy"
         }
        }
       }
      }
     },
     "metadata": {},
     "output_type": "display_data"
    }
   ],
   "source": [
    "fig = go.Figure()\n",
    "for i,ward in enumerate(wards):\n",
    "    occupancy = occupancy_last_sim[i]\n",
    "    color = 'rgba(' + str(np.random.randint(0,256)) + ',' + str(np.random.randint(0,256)) + ',' + str(np.random.randint(0,256)) + ',1)'\n",
    "    fig.add_trace(go.Scatter(x = occupancy[:,0], y = occupancy[:,1], mode = 'lines', name = ward.type, line = dict(color = color)))\n",
    "    #plot upper bound as line for each ward\n",
    "    fig.add_trace(go.Scatter(x = occupancy[:,0], y = ward.capacity*np.ones(occupancy.shape[0]), mode = 'lines', line = dict(dash = 'dash', color = color), name = ward.type + ' upper bound'))\n",
    "    #plot rejections as crosses for each ward\n",
    "    rejections = rejections_last_sim[i]\n",
    "    fig.add_trace(go.Scatter(x = rejections, y = ward.capacity*np.ones(len(rejections)), mode = 'markers', marker = dict(symbol = 'x', size = 7, color = color, opacity=0.5), name = ward.type + ' rejections'))\n",
    "fig.update_layout(title = 'Occupancy through time for each simulation in each ward', xaxis_title = 'Time[days]', yaxis_title = 'Occupancy', height = 600)\n",
    "fig.show()\n",
    "#save figure as png\n",
    "fig.write_image(\"plots/occupancy_through_time.png\")"
   ]
  },
  {
   "cell_type": "markdown",
   "metadata": {},
   "source": [
    " Create a new ward (F\n",
    "∗\n",
    ") in the system and allocate a minimal number of the current bed\n",
    "resources to the new ward. Ensure that at least 95% of the type F\n",
    "∗ patients are hospitalized in\n",
    "Ward F\n",
    "∗\n",
    ". Use the ”urgency points” from Table 1 to balance the solution (prioritize wards that\n",
    "need beds more than other wards)."
   ]
  },
  {
   "cell_type": "code",
   "execution_count": 142,
   "metadata": {},
   "outputs": [
    {
     "data": {
      "text/plain": [
       "[A Ward with 49 beds and 7 urgency points.,\n",
       " B Ward with 28 beds and 5 urgency points.,\n",
       " C Ward with 22 beds and 2 urgency points.,\n",
       " D Ward with 16 beds and 10 urgency points.,\n",
       " E Ward with 16 beds and 5 urgency points.,\n",
       " F Ward with 34 beds and 0 urgency points.]"
      ]
     },
     "execution_count": 142,
     "metadata": {},
     "output_type": "execute_result"
    }
   ],
   "source": [
    "performance = run_simulations(total_time, wards, relocation_probability, arrival_interval_function, occupancy_time_function, n_simulations = 100, verbose = False)"
   ]
  },
  {
   "cell_type": "code",
   "execution_count": 135,
   "metadata": {},
   "outputs": [
    {
     "name": "stdout",
     "output_type": "stream",
     "text": [
      "Number of beds required to ensure that 95% of the arrivals in F are admitted 34\n"
     ]
    }
   ],
   "source": [
    "#Number of beds required to ensure that 95% of the arrivals in F are admitted\n",
    "F_bed_capacity_optimal = np.argmax(np.array(F_occupied_probabilities) < 0.05)\n",
    "print(\"Number of beds required to ensure that 95% of the arrivals in F are admitted\", F_bed_capacity_optimal)"
   ]
  },
  {
   "cell_type": "markdown",
   "metadata": {},
   "source": [
    "At some point increasing the number of beds in a ward will not dramatically decrease the penalty."
   ]
  },
  {
   "cell_type": "markdown",
   "metadata": {},
   "source": [
    "# Sensitivity analysis\n",
    "Test the system’s sensitivity to the length-of-stay distribution by replacing the exponential\n",
    "distribution with the log-normal distribution. Test the new distribution by gradually increasing\n",
    "the variance (e.g. σ\n",
    "2\n",
    "i = 2/µ2\n",
    "i\n",
    ", 3/µ2\n",
    "i\n",
    "and 4/µ2\n",
    "i\n",
    ")"
   ]
  },
  {
   "cell_type": "code",
   "execution_count": 86,
   "metadata": {},
   "outputs": [],
   "source": [
    "#sampling functions. Takes type as input and returns a sample with the corresponding distribution\n",
    "#Test the system’s sensitivity to the length-of-stay distribution by replacing the exponential\n",
    "#distribution with the log-normal distribution. Test the new distribution by gradually increasing\n",
    "#the variance \n",
    "\n",
    "arrival_interval_function = lambda type: np.random.exponential(1/df[\"Arrivals per day\"][type])\n",
    "occupancy_time_function = lambda var_scale : lambda type: np.random.lognormal(mean = np.log(df[\"Mean Length of Stay\"][type]), sigma = np.sqrt(var_scale/df[\"Mean Length of Stay\"][type]**2))"
   ]
  },
  {
   "cell_type": "code",
   "execution_count": 87,
   "metadata": {},
   "outputs": [],
   "source": [
    "var_scales = np.linspace(1, 10, 10)\n",
    "penalties = []\n",
    "df.loc['F', 'Bed Capacity'] = F_bed_capacity_optimal\n",
    "for var_scale in var_scales:\n",
    "    wards = initialize_wards(df) #list of wards\n",
    "    occupancy_time_function_var = occupancy_time_function(var_scale)\n",
    "    performance = run_simulations(total_time, wards, relocation_probability, arrival_interval_function, occupancy_time_function_var, n_simulations = 10, verbose = False)\n",
    "    penalties.append(performance[\"Weighted penalty\"])"
   ]
  },
  {
   "cell_type": "code",
   "execution_count": 88,
   "metadata": {},
   "outputs": [
    {
     "data": {
      "application/vnd.plotly.v1+json": {
       "config": {
        "plotlyServerURL": "https://plot.ly"
       },
       "data": [
        {
         "name": "Weighted penalty",
         "type": "scatter",
         "x": [
          1,
          2,
          3,
          4,
          5,
          6,
          7,
          8,
          9,
          10
         ],
         "y": [
          1824.1999999999998,
          2683.5,
          3730.9,
          4697.2,
          5379.9,
          6409.1,
          6728.599999999999,
          7409,
          7663.8,
          8431.3
         ]
        }
       ],
       "layout": {
        "template": {
         "data": {
          "bar": [
           {
            "error_x": {
             "color": "#2a3f5f"
            },
            "error_y": {
             "color": "#2a3f5f"
            },
            "marker": {
             "line": {
              "color": "#E5ECF6",
              "width": 0.5
             },
             "pattern": {
              "fillmode": "overlay",
              "size": 10,
              "solidity": 0.2
             }
            },
            "type": "bar"
           }
          ],
          "barpolar": [
           {
            "marker": {
             "line": {
              "color": "#E5ECF6",
              "width": 0.5
             },
             "pattern": {
              "fillmode": "overlay",
              "size": 10,
              "solidity": 0.2
             }
            },
            "type": "barpolar"
           }
          ],
          "carpet": [
           {
            "aaxis": {
             "endlinecolor": "#2a3f5f",
             "gridcolor": "white",
             "linecolor": "white",
             "minorgridcolor": "white",
             "startlinecolor": "#2a3f5f"
            },
            "baxis": {
             "endlinecolor": "#2a3f5f",
             "gridcolor": "white",
             "linecolor": "white",
             "minorgridcolor": "white",
             "startlinecolor": "#2a3f5f"
            },
            "type": "carpet"
           }
          ],
          "choropleth": [
           {
            "colorbar": {
             "outlinewidth": 0,
             "ticks": ""
            },
            "type": "choropleth"
           }
          ],
          "contour": [
           {
            "colorbar": {
             "outlinewidth": 0,
             "ticks": ""
            },
            "colorscale": [
             [
              0,
              "#0d0887"
             ],
             [
              0.1111111111111111,
              "#46039f"
             ],
             [
              0.2222222222222222,
              "#7201a8"
             ],
             [
              0.3333333333333333,
              "#9c179e"
             ],
             [
              0.4444444444444444,
              "#bd3786"
             ],
             [
              0.5555555555555556,
              "#d8576b"
             ],
             [
              0.6666666666666666,
              "#ed7953"
             ],
             [
              0.7777777777777778,
              "#fb9f3a"
             ],
             [
              0.8888888888888888,
              "#fdca26"
             ],
             [
              1,
              "#f0f921"
             ]
            ],
            "type": "contour"
           }
          ],
          "contourcarpet": [
           {
            "colorbar": {
             "outlinewidth": 0,
             "ticks": ""
            },
            "type": "contourcarpet"
           }
          ],
          "heatmap": [
           {
            "colorbar": {
             "outlinewidth": 0,
             "ticks": ""
            },
            "colorscale": [
             [
              0,
              "#0d0887"
             ],
             [
              0.1111111111111111,
              "#46039f"
             ],
             [
              0.2222222222222222,
              "#7201a8"
             ],
             [
              0.3333333333333333,
              "#9c179e"
             ],
             [
              0.4444444444444444,
              "#bd3786"
             ],
             [
              0.5555555555555556,
              "#d8576b"
             ],
             [
              0.6666666666666666,
              "#ed7953"
             ],
             [
              0.7777777777777778,
              "#fb9f3a"
             ],
             [
              0.8888888888888888,
              "#fdca26"
             ],
             [
              1,
              "#f0f921"
             ]
            ],
            "type": "heatmap"
           }
          ],
          "heatmapgl": [
           {
            "colorbar": {
             "outlinewidth": 0,
             "ticks": ""
            },
            "colorscale": [
             [
              0,
              "#0d0887"
             ],
             [
              0.1111111111111111,
              "#46039f"
             ],
             [
              0.2222222222222222,
              "#7201a8"
             ],
             [
              0.3333333333333333,
              "#9c179e"
             ],
             [
              0.4444444444444444,
              "#bd3786"
             ],
             [
              0.5555555555555556,
              "#d8576b"
             ],
             [
              0.6666666666666666,
              "#ed7953"
             ],
             [
              0.7777777777777778,
              "#fb9f3a"
             ],
             [
              0.8888888888888888,
              "#fdca26"
             ],
             [
              1,
              "#f0f921"
             ]
            ],
            "type": "heatmapgl"
           }
          ],
          "histogram": [
           {
            "marker": {
             "pattern": {
              "fillmode": "overlay",
              "size": 10,
              "solidity": 0.2
             }
            },
            "type": "histogram"
           }
          ],
          "histogram2d": [
           {
            "colorbar": {
             "outlinewidth": 0,
             "ticks": ""
            },
            "colorscale": [
             [
              0,
              "#0d0887"
             ],
             [
              0.1111111111111111,
              "#46039f"
             ],
             [
              0.2222222222222222,
              "#7201a8"
             ],
             [
              0.3333333333333333,
              "#9c179e"
             ],
             [
              0.4444444444444444,
              "#bd3786"
             ],
             [
              0.5555555555555556,
              "#d8576b"
             ],
             [
              0.6666666666666666,
              "#ed7953"
             ],
             [
              0.7777777777777778,
              "#fb9f3a"
             ],
             [
              0.8888888888888888,
              "#fdca26"
             ],
             [
              1,
              "#f0f921"
             ]
            ],
            "type": "histogram2d"
           }
          ],
          "histogram2dcontour": [
           {
            "colorbar": {
             "outlinewidth": 0,
             "ticks": ""
            },
            "colorscale": [
             [
              0,
              "#0d0887"
             ],
             [
              0.1111111111111111,
              "#46039f"
             ],
             [
              0.2222222222222222,
              "#7201a8"
             ],
             [
              0.3333333333333333,
              "#9c179e"
             ],
             [
              0.4444444444444444,
              "#bd3786"
             ],
             [
              0.5555555555555556,
              "#d8576b"
             ],
             [
              0.6666666666666666,
              "#ed7953"
             ],
             [
              0.7777777777777778,
              "#fb9f3a"
             ],
             [
              0.8888888888888888,
              "#fdca26"
             ],
             [
              1,
              "#f0f921"
             ]
            ],
            "type": "histogram2dcontour"
           }
          ],
          "mesh3d": [
           {
            "colorbar": {
             "outlinewidth": 0,
             "ticks": ""
            },
            "type": "mesh3d"
           }
          ],
          "parcoords": [
           {
            "line": {
             "colorbar": {
              "outlinewidth": 0,
              "ticks": ""
             }
            },
            "type": "parcoords"
           }
          ],
          "pie": [
           {
            "automargin": true,
            "type": "pie"
           }
          ],
          "scatter": [
           {
            "fillpattern": {
             "fillmode": "overlay",
             "size": 10,
             "solidity": 0.2
            },
            "type": "scatter"
           }
          ],
          "scatter3d": [
           {
            "line": {
             "colorbar": {
              "outlinewidth": 0,
              "ticks": ""
             }
            },
            "marker": {
             "colorbar": {
              "outlinewidth": 0,
              "ticks": ""
             }
            },
            "type": "scatter3d"
           }
          ],
          "scattercarpet": [
           {
            "marker": {
             "colorbar": {
              "outlinewidth": 0,
              "ticks": ""
             }
            },
            "type": "scattercarpet"
           }
          ],
          "scattergeo": [
           {
            "marker": {
             "colorbar": {
              "outlinewidth": 0,
              "ticks": ""
             }
            },
            "type": "scattergeo"
           }
          ],
          "scattergl": [
           {
            "marker": {
             "colorbar": {
              "outlinewidth": 0,
              "ticks": ""
             }
            },
            "type": "scattergl"
           }
          ],
          "scattermapbox": [
           {
            "marker": {
             "colorbar": {
              "outlinewidth": 0,
              "ticks": ""
             }
            },
            "type": "scattermapbox"
           }
          ],
          "scatterpolar": [
           {
            "marker": {
             "colorbar": {
              "outlinewidth": 0,
              "ticks": ""
             }
            },
            "type": "scatterpolar"
           }
          ],
          "scatterpolargl": [
           {
            "marker": {
             "colorbar": {
              "outlinewidth": 0,
              "ticks": ""
             }
            },
            "type": "scatterpolargl"
           }
          ],
          "scatterternary": [
           {
            "marker": {
             "colorbar": {
              "outlinewidth": 0,
              "ticks": ""
             }
            },
            "type": "scatterternary"
           }
          ],
          "surface": [
           {
            "colorbar": {
             "outlinewidth": 0,
             "ticks": ""
            },
            "colorscale": [
             [
              0,
              "#0d0887"
             ],
             [
              0.1111111111111111,
              "#46039f"
             ],
             [
              0.2222222222222222,
              "#7201a8"
             ],
             [
              0.3333333333333333,
              "#9c179e"
             ],
             [
              0.4444444444444444,
              "#bd3786"
             ],
             [
              0.5555555555555556,
              "#d8576b"
             ],
             [
              0.6666666666666666,
              "#ed7953"
             ],
             [
              0.7777777777777778,
              "#fb9f3a"
             ],
             [
              0.8888888888888888,
              "#fdca26"
             ],
             [
              1,
              "#f0f921"
             ]
            ],
            "type": "surface"
           }
          ],
          "table": [
           {
            "cells": {
             "fill": {
              "color": "#EBF0F8"
             },
             "line": {
              "color": "white"
             }
            },
            "header": {
             "fill": {
              "color": "#C8D4E3"
             },
             "line": {
              "color": "white"
             }
            },
            "type": "table"
           }
          ]
         },
         "layout": {
          "annotationdefaults": {
           "arrowcolor": "#2a3f5f",
           "arrowhead": 0,
           "arrowwidth": 1
          },
          "autotypenumbers": "strict",
          "coloraxis": {
           "colorbar": {
            "outlinewidth": 0,
            "ticks": ""
           }
          },
          "colorscale": {
           "diverging": [
            [
             0,
             "#8e0152"
            ],
            [
             0.1,
             "#c51b7d"
            ],
            [
             0.2,
             "#de77ae"
            ],
            [
             0.3,
             "#f1b6da"
            ],
            [
             0.4,
             "#fde0ef"
            ],
            [
             0.5,
             "#f7f7f7"
            ],
            [
             0.6,
             "#e6f5d0"
            ],
            [
             0.7,
             "#b8e186"
            ],
            [
             0.8,
             "#7fbc41"
            ],
            [
             0.9,
             "#4d9221"
            ],
            [
             1,
             "#276419"
            ]
           ],
           "sequential": [
            [
             0,
             "#0d0887"
            ],
            [
             0.1111111111111111,
             "#46039f"
            ],
            [
             0.2222222222222222,
             "#7201a8"
            ],
            [
             0.3333333333333333,
             "#9c179e"
            ],
            [
             0.4444444444444444,
             "#bd3786"
            ],
            [
             0.5555555555555556,
             "#d8576b"
            ],
            [
             0.6666666666666666,
             "#ed7953"
            ],
            [
             0.7777777777777778,
             "#fb9f3a"
            ],
            [
             0.8888888888888888,
             "#fdca26"
            ],
            [
             1,
             "#f0f921"
            ]
           ],
           "sequentialminus": [
            [
             0,
             "#0d0887"
            ],
            [
             0.1111111111111111,
             "#46039f"
            ],
            [
             0.2222222222222222,
             "#7201a8"
            ],
            [
             0.3333333333333333,
             "#9c179e"
            ],
            [
             0.4444444444444444,
             "#bd3786"
            ],
            [
             0.5555555555555556,
             "#d8576b"
            ],
            [
             0.6666666666666666,
             "#ed7953"
            ],
            [
             0.7777777777777778,
             "#fb9f3a"
            ],
            [
             0.8888888888888888,
             "#fdca26"
            ],
            [
             1,
             "#f0f921"
            ]
           ]
          },
          "colorway": [
           "#636efa",
           "#EF553B",
           "#00cc96",
           "#ab63fa",
           "#FFA15A",
           "#19d3f3",
           "#FF6692",
           "#B6E880",
           "#FF97FF",
           "#FECB52"
          ],
          "font": {
           "color": "#2a3f5f"
          },
          "geo": {
           "bgcolor": "white",
           "lakecolor": "white",
           "landcolor": "#E5ECF6",
           "showlakes": true,
           "showland": true,
           "subunitcolor": "white"
          },
          "hoverlabel": {
           "align": "left"
          },
          "hovermode": "closest",
          "mapbox": {
           "style": "light"
          },
          "paper_bgcolor": "white",
          "plot_bgcolor": "#E5ECF6",
          "polar": {
           "angularaxis": {
            "gridcolor": "white",
            "linecolor": "white",
            "ticks": ""
           },
           "bgcolor": "#E5ECF6",
           "radialaxis": {
            "gridcolor": "white",
            "linecolor": "white",
            "ticks": ""
           }
          },
          "scene": {
           "xaxis": {
            "backgroundcolor": "#E5ECF6",
            "gridcolor": "white",
            "gridwidth": 2,
            "linecolor": "white",
            "showbackground": true,
            "ticks": "",
            "zerolinecolor": "white"
           },
           "yaxis": {
            "backgroundcolor": "#E5ECF6",
            "gridcolor": "white",
            "gridwidth": 2,
            "linecolor": "white",
            "showbackground": true,
            "ticks": "",
            "zerolinecolor": "white"
           },
           "zaxis": {
            "backgroundcolor": "#E5ECF6",
            "gridcolor": "white",
            "gridwidth": 2,
            "linecolor": "white",
            "showbackground": true,
            "ticks": "",
            "zerolinecolor": "white"
           }
          },
          "shapedefaults": {
           "line": {
            "color": "#2a3f5f"
           }
          },
          "ternary": {
           "aaxis": {
            "gridcolor": "white",
            "linecolor": "white",
            "ticks": ""
           },
           "baxis": {
            "gridcolor": "white",
            "linecolor": "white",
            "ticks": ""
           },
           "bgcolor": "#E5ECF6",
           "caxis": {
            "gridcolor": "white",
            "linecolor": "white",
            "ticks": ""
           }
          },
          "title": {
           "x": 0.05
          },
          "xaxis": {
           "automargin": true,
           "gridcolor": "white",
           "linecolor": "white",
           "ticks": "",
           "title": {
            "standoff": 15
           },
           "zerolinecolor": "white",
           "zerolinewidth": 2
          },
          "yaxis": {
           "automargin": true,
           "gridcolor": "white",
           "linecolor": "white",
           "ticks": "",
           "title": {
            "standoff": 15
           },
           "zerolinecolor": "white",
           "zerolinewidth": 2
          }
         }
        },
        "title": {
         "text": "Weighted penalty as variance increases"
        },
        "xaxis": {
         "title": {
          "text": "μ^2 * σ^2"
         }
        },
        "yaxis": {
         "title": {
          "text": "Weighted penalty"
         }
        }
       }
      }
     },
     "metadata": {},
     "output_type": "display_data"
    }
   ],
   "source": [
    "#plot the results with PyPlot\n",
    "fig = go.Figure()\n",
    "fig.add_trace(go.Scatter(x = var_scales, y = penalties, name='Weighted penalty'))\n",
    "fig.update_layout(title = \"Weighted penalty as variance increases\",\n",
    "                  xaxis_title = \"μ^2 * σ^2\",\n",
    "                  yaxis_title = \"Weighted penalty\")\n",
    "fig.show()\n",
    "#save fig in plots\n",
    "fig.write_image(\"plots/penalty_variance.png\")"
   ]
  },
  {
   "cell_type": "markdown",
   "metadata": {},
   "source": [
    "Test the system’s sensitivity to the distribution of beds in the hospital."
   ]
  },
  {
   "cell_type": "code",
   "execution_count": 89,
   "metadata": {},
   "outputs": [],
   "source": [
    "#gradient of the weighted penalty as a function of the number of beds in each ward\n",
    "arrival_interval_function = lambda type: np.random.exponential(1/df[\"Arrivals per day\"][type])\n",
    "occupancy_time_function = lambda type: np.random.exponential(df[\"Mean Length of Stay\"][type])"
   ]
  },
  {
   "cell_type": "code",
   "execution_count": 90,
   "metadata": {},
   "outputs": [
    {
     "data": {
      "application/vnd.plotly.v1+json": {
       "config": {
        "plotlyServerURL": "https://plot.ly"
       },
       "data": [
        {
         "marker": {
          "color": [
           "red",
           "red",
           "red",
           "red",
           "red",
           "blue"
          ]
         },
         "type": "bar",
         "x": [
          "A",
          "B",
          "C",
          "D",
          "E",
          "F"
         ],
         "y": [
          -83.39000000000021,
          -23.825000000000273,
          -68.85500000000013,
          -28.519999999999982,
          -91.23500000000001,
          1.4950000000003456
         ]
        }
       ],
       "layout": {
        "template": {
         "data": {
          "bar": [
           {
            "error_x": {
             "color": "#2a3f5f"
            },
            "error_y": {
             "color": "#2a3f5f"
            },
            "marker": {
             "line": {
              "color": "#E5ECF6",
              "width": 0.5
             },
             "pattern": {
              "fillmode": "overlay",
              "size": 10,
              "solidity": 0.2
             }
            },
            "type": "bar"
           }
          ],
          "barpolar": [
           {
            "marker": {
             "line": {
              "color": "#E5ECF6",
              "width": 0.5
             },
             "pattern": {
              "fillmode": "overlay",
              "size": 10,
              "solidity": 0.2
             }
            },
            "type": "barpolar"
           }
          ],
          "carpet": [
           {
            "aaxis": {
             "endlinecolor": "#2a3f5f",
             "gridcolor": "white",
             "linecolor": "white",
             "minorgridcolor": "white",
             "startlinecolor": "#2a3f5f"
            },
            "baxis": {
             "endlinecolor": "#2a3f5f",
             "gridcolor": "white",
             "linecolor": "white",
             "minorgridcolor": "white",
             "startlinecolor": "#2a3f5f"
            },
            "type": "carpet"
           }
          ],
          "choropleth": [
           {
            "colorbar": {
             "outlinewidth": 0,
             "ticks": ""
            },
            "type": "choropleth"
           }
          ],
          "contour": [
           {
            "colorbar": {
             "outlinewidth": 0,
             "ticks": ""
            },
            "colorscale": [
             [
              0,
              "#0d0887"
             ],
             [
              0.1111111111111111,
              "#46039f"
             ],
             [
              0.2222222222222222,
              "#7201a8"
             ],
             [
              0.3333333333333333,
              "#9c179e"
             ],
             [
              0.4444444444444444,
              "#bd3786"
             ],
             [
              0.5555555555555556,
              "#d8576b"
             ],
             [
              0.6666666666666666,
              "#ed7953"
             ],
             [
              0.7777777777777778,
              "#fb9f3a"
             ],
             [
              0.8888888888888888,
              "#fdca26"
             ],
             [
              1,
              "#f0f921"
             ]
            ],
            "type": "contour"
           }
          ],
          "contourcarpet": [
           {
            "colorbar": {
             "outlinewidth": 0,
             "ticks": ""
            },
            "type": "contourcarpet"
           }
          ],
          "heatmap": [
           {
            "colorbar": {
             "outlinewidth": 0,
             "ticks": ""
            },
            "colorscale": [
             [
              0,
              "#0d0887"
             ],
             [
              0.1111111111111111,
              "#46039f"
             ],
             [
              0.2222222222222222,
              "#7201a8"
             ],
             [
              0.3333333333333333,
              "#9c179e"
             ],
             [
              0.4444444444444444,
              "#bd3786"
             ],
             [
              0.5555555555555556,
              "#d8576b"
             ],
             [
              0.6666666666666666,
              "#ed7953"
             ],
             [
              0.7777777777777778,
              "#fb9f3a"
             ],
             [
              0.8888888888888888,
              "#fdca26"
             ],
             [
              1,
              "#f0f921"
             ]
            ],
            "type": "heatmap"
           }
          ],
          "heatmapgl": [
           {
            "colorbar": {
             "outlinewidth": 0,
             "ticks": ""
            },
            "colorscale": [
             [
              0,
              "#0d0887"
             ],
             [
              0.1111111111111111,
              "#46039f"
             ],
             [
              0.2222222222222222,
              "#7201a8"
             ],
             [
              0.3333333333333333,
              "#9c179e"
             ],
             [
              0.4444444444444444,
              "#bd3786"
             ],
             [
              0.5555555555555556,
              "#d8576b"
             ],
             [
              0.6666666666666666,
              "#ed7953"
             ],
             [
              0.7777777777777778,
              "#fb9f3a"
             ],
             [
              0.8888888888888888,
              "#fdca26"
             ],
             [
              1,
              "#f0f921"
             ]
            ],
            "type": "heatmapgl"
           }
          ],
          "histogram": [
           {
            "marker": {
             "pattern": {
              "fillmode": "overlay",
              "size": 10,
              "solidity": 0.2
             }
            },
            "type": "histogram"
           }
          ],
          "histogram2d": [
           {
            "colorbar": {
             "outlinewidth": 0,
             "ticks": ""
            },
            "colorscale": [
             [
              0,
              "#0d0887"
             ],
             [
              0.1111111111111111,
              "#46039f"
             ],
             [
              0.2222222222222222,
              "#7201a8"
             ],
             [
              0.3333333333333333,
              "#9c179e"
             ],
             [
              0.4444444444444444,
              "#bd3786"
             ],
             [
              0.5555555555555556,
              "#d8576b"
             ],
             [
              0.6666666666666666,
              "#ed7953"
             ],
             [
              0.7777777777777778,
              "#fb9f3a"
             ],
             [
              0.8888888888888888,
              "#fdca26"
             ],
             [
              1,
              "#f0f921"
             ]
            ],
            "type": "histogram2d"
           }
          ],
          "histogram2dcontour": [
           {
            "colorbar": {
             "outlinewidth": 0,
             "ticks": ""
            },
            "colorscale": [
             [
              0,
              "#0d0887"
             ],
             [
              0.1111111111111111,
              "#46039f"
             ],
             [
              0.2222222222222222,
              "#7201a8"
             ],
             [
              0.3333333333333333,
              "#9c179e"
             ],
             [
              0.4444444444444444,
              "#bd3786"
             ],
             [
              0.5555555555555556,
              "#d8576b"
             ],
             [
              0.6666666666666666,
              "#ed7953"
             ],
             [
              0.7777777777777778,
              "#fb9f3a"
             ],
             [
              0.8888888888888888,
              "#fdca26"
             ],
             [
              1,
              "#f0f921"
             ]
            ],
            "type": "histogram2dcontour"
           }
          ],
          "mesh3d": [
           {
            "colorbar": {
             "outlinewidth": 0,
             "ticks": ""
            },
            "type": "mesh3d"
           }
          ],
          "parcoords": [
           {
            "line": {
             "colorbar": {
              "outlinewidth": 0,
              "ticks": ""
             }
            },
            "type": "parcoords"
           }
          ],
          "pie": [
           {
            "automargin": true,
            "type": "pie"
           }
          ],
          "scatter": [
           {
            "fillpattern": {
             "fillmode": "overlay",
             "size": 10,
             "solidity": 0.2
            },
            "type": "scatter"
           }
          ],
          "scatter3d": [
           {
            "line": {
             "colorbar": {
              "outlinewidth": 0,
              "ticks": ""
             }
            },
            "marker": {
             "colorbar": {
              "outlinewidth": 0,
              "ticks": ""
             }
            },
            "type": "scatter3d"
           }
          ],
          "scattercarpet": [
           {
            "marker": {
             "colorbar": {
              "outlinewidth": 0,
              "ticks": ""
             }
            },
            "type": "scattercarpet"
           }
          ],
          "scattergeo": [
           {
            "marker": {
             "colorbar": {
              "outlinewidth": 0,
              "ticks": ""
             }
            },
            "type": "scattergeo"
           }
          ],
          "scattergl": [
           {
            "marker": {
             "colorbar": {
              "outlinewidth": 0,
              "ticks": ""
             }
            },
            "type": "scattergl"
           }
          ],
          "scattermapbox": [
           {
            "marker": {
             "colorbar": {
              "outlinewidth": 0,
              "ticks": ""
             }
            },
            "type": "scattermapbox"
           }
          ],
          "scatterpolar": [
           {
            "marker": {
             "colorbar": {
              "outlinewidth": 0,
              "ticks": ""
             }
            },
            "type": "scatterpolar"
           }
          ],
          "scatterpolargl": [
           {
            "marker": {
             "colorbar": {
              "outlinewidth": 0,
              "ticks": ""
             }
            },
            "type": "scatterpolargl"
           }
          ],
          "scatterternary": [
           {
            "marker": {
             "colorbar": {
              "outlinewidth": 0,
              "ticks": ""
             }
            },
            "type": "scatterternary"
           }
          ],
          "surface": [
           {
            "colorbar": {
             "outlinewidth": 0,
             "ticks": ""
            },
            "colorscale": [
             [
              0,
              "#0d0887"
             ],
             [
              0.1111111111111111,
              "#46039f"
             ],
             [
              0.2222222222222222,
              "#7201a8"
             ],
             [
              0.3333333333333333,
              "#9c179e"
             ],
             [
              0.4444444444444444,
              "#bd3786"
             ],
             [
              0.5555555555555556,
              "#d8576b"
             ],
             [
              0.6666666666666666,
              "#ed7953"
             ],
             [
              0.7777777777777778,
              "#fb9f3a"
             ],
             [
              0.8888888888888888,
              "#fdca26"
             ],
             [
              1,
              "#f0f921"
             ]
            ],
            "type": "surface"
           }
          ],
          "table": [
           {
            "cells": {
             "fill": {
              "color": "#EBF0F8"
             },
             "line": {
              "color": "white"
             }
            },
            "header": {
             "fill": {
              "color": "#C8D4E3"
             },
             "line": {
              "color": "white"
             }
            },
            "type": "table"
           }
          ]
         },
         "layout": {
          "annotationdefaults": {
           "arrowcolor": "#2a3f5f",
           "arrowhead": 0,
           "arrowwidth": 1
          },
          "autotypenumbers": "strict",
          "coloraxis": {
           "colorbar": {
            "outlinewidth": 0,
            "ticks": ""
           }
          },
          "colorscale": {
           "diverging": [
            [
             0,
             "#8e0152"
            ],
            [
             0.1,
             "#c51b7d"
            ],
            [
             0.2,
             "#de77ae"
            ],
            [
             0.3,
             "#f1b6da"
            ],
            [
             0.4,
             "#fde0ef"
            ],
            [
             0.5,
             "#f7f7f7"
            ],
            [
             0.6,
             "#e6f5d0"
            ],
            [
             0.7,
             "#b8e186"
            ],
            [
             0.8,
             "#7fbc41"
            ],
            [
             0.9,
             "#4d9221"
            ],
            [
             1,
             "#276419"
            ]
           ],
           "sequential": [
            [
             0,
             "#0d0887"
            ],
            [
             0.1111111111111111,
             "#46039f"
            ],
            [
             0.2222222222222222,
             "#7201a8"
            ],
            [
             0.3333333333333333,
             "#9c179e"
            ],
            [
             0.4444444444444444,
             "#bd3786"
            ],
            [
             0.5555555555555556,
             "#d8576b"
            ],
            [
             0.6666666666666666,
             "#ed7953"
            ],
            [
             0.7777777777777778,
             "#fb9f3a"
            ],
            [
             0.8888888888888888,
             "#fdca26"
            ],
            [
             1,
             "#f0f921"
            ]
           ],
           "sequentialminus": [
            [
             0,
             "#0d0887"
            ],
            [
             0.1111111111111111,
             "#46039f"
            ],
            [
             0.2222222222222222,
             "#7201a8"
            ],
            [
             0.3333333333333333,
             "#9c179e"
            ],
            [
             0.4444444444444444,
             "#bd3786"
            ],
            [
             0.5555555555555556,
             "#d8576b"
            ],
            [
             0.6666666666666666,
             "#ed7953"
            ],
            [
             0.7777777777777778,
             "#fb9f3a"
            ],
            [
             0.8888888888888888,
             "#fdca26"
            ],
            [
             1,
             "#f0f921"
            ]
           ]
          },
          "colorway": [
           "#636efa",
           "#EF553B",
           "#00cc96",
           "#ab63fa",
           "#FFA15A",
           "#19d3f3",
           "#FF6692",
           "#B6E880",
           "#FF97FF",
           "#FECB52"
          ],
          "font": {
           "color": "#2a3f5f"
          },
          "geo": {
           "bgcolor": "white",
           "lakecolor": "white",
           "landcolor": "#E5ECF6",
           "showlakes": true,
           "showland": true,
           "subunitcolor": "white"
          },
          "hoverlabel": {
           "align": "left"
          },
          "hovermode": "closest",
          "mapbox": {
           "style": "light"
          },
          "paper_bgcolor": "white",
          "plot_bgcolor": "#E5ECF6",
          "polar": {
           "angularaxis": {
            "gridcolor": "white",
            "linecolor": "white",
            "ticks": ""
           },
           "bgcolor": "#E5ECF6",
           "radialaxis": {
            "gridcolor": "white",
            "linecolor": "white",
            "ticks": ""
           }
          },
          "scene": {
           "xaxis": {
            "backgroundcolor": "#E5ECF6",
            "gridcolor": "white",
            "gridwidth": 2,
            "linecolor": "white",
            "showbackground": true,
            "ticks": "",
            "zerolinecolor": "white"
           },
           "yaxis": {
            "backgroundcolor": "#E5ECF6",
            "gridcolor": "white",
            "gridwidth": 2,
            "linecolor": "white",
            "showbackground": true,
            "ticks": "",
            "zerolinecolor": "white"
           },
           "zaxis": {
            "backgroundcolor": "#E5ECF6",
            "gridcolor": "white",
            "gridwidth": 2,
            "linecolor": "white",
            "showbackground": true,
            "ticks": "",
            "zerolinecolor": "white"
           }
          },
          "shapedefaults": {
           "line": {
            "color": "#2a3f5f"
           }
          },
          "ternary": {
           "aaxis": {
            "gridcolor": "white",
            "linecolor": "white",
            "ticks": ""
           },
           "baxis": {
            "gridcolor": "white",
            "linecolor": "white",
            "ticks": ""
           },
           "bgcolor": "#E5ECF6",
           "caxis": {
            "gridcolor": "white",
            "linecolor": "white",
            "ticks": ""
           }
          },
          "title": {
           "x": 0.05
          },
          "xaxis": {
           "automargin": true,
           "gridcolor": "white",
           "linecolor": "white",
           "ticks": "",
           "title": {
            "standoff": 15
           },
           "zerolinecolor": "white",
           "zerolinewidth": 2
          },
          "yaxis": {
           "automargin": true,
           "gridcolor": "white",
           "linecolor": "white",
           "ticks": "",
           "title": {
            "standoff": 15
           },
           "zerolinecolor": "white",
           "zerolinewidth": 2
          }
         }
        },
        "title": {
         "text": "Gradient of the weighted penalty with respect to the number of beds in each ward"
        },
        "xaxis": {
         "title": {
          "text": "Ward"
         }
        },
        "yaxis": {
         "title": {
          "text": "Weighted penalty"
         }
        }
       }
      }
     },
     "metadata": {},
     "output_type": "display_data"
    }
   ],
   "source": [
    "# Get the gradients for each ward\n",
    "wards = initialize_wards(df) #list of wards\n",
    "gradients = compute_gradient(total_time, wards, relocation_probability, arrival_interval_function, occupancy_time_function, n_simulations = 100, verbose = False)\n",
    "\n",
    "# Create a color array, setting the color to 'red' if the gradient is negative, 'blue' otherwise\n",
    "colors = ['red' if gradient < 0 else 'blue' for gradient in gradients]\n",
    "\n",
    "fig = go.Figure()\n",
    "fig.add_trace(go.Bar(x=[ward.type for ward in wards], y=gradients, marker_color=colors))\n",
    "fig.update_layout(title=\"Gradient of the weighted penalty with respect to the number of beds in each ward\",\n",
    "                  xaxis_title=\"Ward\",\n",
    "                  yaxis_title=\"Weighted penalty\")\n",
    "fig.show()\n",
    "#save fig in plots\n",
    "fig.write_image(\"plots/sensitivity.png\")"
   ]
  },
  {
   "cell_type": "markdown",
   "metadata": {},
   "source": [
    "valuate the result of increasing the total amount of beds in the system to for instance 170 or\n",
    "180 beds. Also, what would be the result of having fewer beds"
   ]
  },
  {
   "cell_type": "code",
   "execution_count": null,
   "metadata": {},
   "outputs": [],
   "source": [
    "#"
   ]
  }
 ],
 "metadata": {
  "kernelspec": {
   "display_name": "Python 3",
   "language": "python",
   "name": "python3"
  },
  "language_info": {
   "codemirror_mode": {
    "name": "ipython",
    "version": 3
   },
   "file_extension": ".py",
   "mimetype": "text/x-python",
   "name": "python",
   "nbconvert_exporter": "python",
   "pygments_lexer": "ipython3",
   "version": "3.11.9"
  }
 },
 "nbformat": 4,
 "nbformat_minor": 2
}
