{
 "cells": [
  {
   "cell_type": "markdown",
   "metadata": {},
   "source": [
    "# **Project 2:**"
   ]
  },
  {
   "cell_type": "code",
   "execution_count": 1,
   "metadata": {},
   "outputs": [],
   "source": [
    "import numpy as np\n",
    "import pandas as pd\n",
    "from src.Ward import Ward, initialize_wards\n",
    "from src.Patient import Patient, initialize_patients"
   ]
  },
  {
   "cell_type": "markdown",
   "metadata": {},
   "source": [
    "## initialization"
   ]
  },
  {
   "cell_type": "code",
   "execution_count": 2,
   "metadata": {},
   "outputs": [
    {
     "data": {
      "text/html": [
       "<div>\n",
       "<style scoped>\n",
       "    .dataframe tbody tr th:only-of-type {\n",
       "        vertical-align: middle;\n",
       "    }\n",
       "\n",
       "    .dataframe tbody tr th {\n",
       "        vertical-align: top;\n",
       "    }\n",
       "\n",
       "    .dataframe thead th {\n",
       "        text-align: right;\n",
       "    }\n",
       "</style>\n",
       "<table border=\"1\" class=\"dataframe\">\n",
       "  <thead>\n",
       "    <tr style=\"text-align: right;\">\n",
       "      <th></th>\n",
       "      <th>Bed Capacity</th>\n",
       "      <th>Arrivals per day</th>\n",
       "      <th>Mean Length of Stay</th>\n",
       "      <th>Urgency Points</th>\n",
       "    </tr>\n",
       "    <tr>\n",
       "      <th>Patient Type</th>\n",
       "      <th></th>\n",
       "      <th></th>\n",
       "      <th></th>\n",
       "      <th></th>\n",
       "    </tr>\n",
       "  </thead>\n",
       "  <tbody>\n",
       "    <tr>\n",
       "      <th>A</th>\n",
       "      <td>55</td>\n",
       "      <td>14.5</td>\n",
       "      <td>2.9</td>\n",
       "      <td>1</td>\n",
       "    </tr>\n",
       "    <tr>\n",
       "      <th>B</th>\n",
       "      <td>40</td>\n",
       "      <td>11.0</td>\n",
       "      <td>4.0</td>\n",
       "      <td>2</td>\n",
       "    </tr>\n",
       "    <tr>\n",
       "      <th>C</th>\n",
       "      <td>30</td>\n",
       "      <td>8.0</td>\n",
       "      <td>4.5</td>\n",
       "      <td>3</td>\n",
       "    </tr>\n",
       "    <tr>\n",
       "      <th>D</th>\n",
       "      <td>20</td>\n",
       "      <td>6.5</td>\n",
       "      <td>1.4</td>\n",
       "      <td>4</td>\n",
       "    </tr>\n",
       "    <tr>\n",
       "      <th>E</th>\n",
       "      <td>20</td>\n",
       "      <td>5.0</td>\n",
       "      <td>3.9</td>\n",
       "      <td>5</td>\n",
       "    </tr>\n",
       "  </tbody>\n",
       "</table>\n",
       "</div>"
      ],
      "text/plain": [
       "              Bed Capacity  Arrivals per day  Mean Length of Stay  \\\n",
       "Patient Type                                                        \n",
       "A                       55              14.5                  2.9   \n",
       "B                       40              11.0                  4.0   \n",
       "C                       30               8.0                  4.5   \n",
       "D                       20               6.5                  1.4   \n",
       "E                       20               5.0                  3.9   \n",
       "\n",
       "              Urgency Points  \n",
       "Patient Type                  \n",
       "A                          1  \n",
       "B                          2  \n",
       "C                          3  \n",
       "D                          4  \n",
       "E                          5  "
      ]
     },
     "execution_count": 2,
     "metadata": {},
     "output_type": "execute_result"
    }
   ],
   "source": [
    "#patient type from 'A' to 'F'\n",
    "patient_type = ['A', 'B', 'C', 'D', 'E']\n",
    "bed_capacity = np.array([55,40,30,20,20])\n",
    "arrivals_pr_day = np.array([14.5,11.0,8.0,6.5,5.0])\n",
    "mean_length_of_stay = np.array([2.9,4.0,4.5,1.4,3.9])\n",
    "urgency_points = np.array([1,2,3,4,5])\n",
    "\n",
    "#reloaction probability\n",
    "relocation_probability = np.array([\n",
    "    [0.0, 0.05, 0.10, 0.05, 0.80, 0.00],\n",
    "    [0.2, 0, 0.50, 0.15, 0.15, 0.00],\n",
    "    [0.30, 0.20, 0, 0.20, 0.30, 0.00],\n",
    "    [0.35, 0.30, 0.05, 0, 0.3, 0.00],\n",
    "    [0.20, 0.10, 0.60 ,0.10, 0, 0.00],\n",
    "    [0.20, 0.20, 0.20, 0.20, 0.20 ,0]\n",
    "    ])\n",
    "\n",
    "#Dataframe containing all the data (indexed by patient type)\n",
    "df = pd.DataFrame({\n",
    "    'Patient Type': patient_type,\n",
    "    'Bed Capacity': bed_capacity,\n",
    "    'Arrivals per day': arrivals_pr_day,\n",
    "    'Mean Length of Stay': mean_length_of_stay,\n",
    "    'Urgency Points': urgency_points\n",
    "    }).set_index('Patient Type')\n",
    "df"
   ]
  },
  {
   "cell_type": "code",
   "execution_count": 3,
   "metadata": {},
   "outputs": [
    {
     "data": {
      "text/plain": [
       "[A Ward with 55 beds and 0 patients currently admitted.,\n",
       " B Ward with 40 beds and 0 patients currently admitted.,\n",
       " C Ward with 30 beds and 0 patients currently admitted.,\n",
       " D Ward with 20 beds and 0 patients currently admitted.,\n",
       " E Ward with 20 beds and 0 patients currently admitted.]"
      ]
     },
     "execution_count": 3,
     "metadata": {},
     "output_type": "execute_result"
    }
   ],
   "source": [
    "wards = initialize_wards(df) #list of wards\n",
    "wards"
   ]
  },
  {
   "cell_type": "code",
   "execution_count": 4,
   "metadata": {},
   "outputs": [],
   "source": [
    "arrival_interval_function = lambda type, num_people: np.random.exponential(1/df[\"Arrivals per day\"][type], num_people)\n",
    "occupancy_time_function = lambda type,num_people: np.random.exponential(df[\"Mean Length of Stay\"][type], num_people)"
   ]
  },
  {
   "cell_type": "code",
   "execution_count": 5,
   "metadata": {},
   "outputs": [
    {
     "data": {
      "text/plain": [
       "[Patient C with Admission at time 0.00988436666519222,\n",
       " Patient A with Admission at time 0.08690046084735224,\n",
       " Patient B with Admission at time 0.12220054252784002,\n",
       " Patient E with Admission at time 0.1424088063170678,\n",
       " Patient B with Admission at time 0.15652813131243914,\n",
       " Patient B with Admission at time 0.16378316647205685,\n",
       " Patient A with Admission at time 0.18654433031123546,\n",
       " Patient C with Admission at time 0.19819146313651373,\n",
       " Patient B with Admission at time 0.23376745298158935,\n",
       " Patient B with Admission at time 0.27158214666087305,\n",
       " Patient A with Admission at time 0.28772246208018765,\n",
       " Patient A with Admission at time 0.2911705384122238,\n",
       " Patient B with Admission at time 0.2979164110487137,\n",
       " Patient E with Admission at time 0.29843512224372204,\n",
       " Patient A with Admission at time 0.3170527455476914,\n",
       " Patient B with Admission at time 0.36162058845551026,\n",
       " Patient D with Admission at time 0.39667075809191477,\n",
       " Patient A with Admission at time 0.44045027573199114,\n",
       " Patient B with Admission at time 0.4419284849611553,\n",
       " Patient C with Admission at time 0.45259331466759545,\n",
       " Patient B with Admission at time 0.4723222261269966,\n",
       " Patient D with Admission at time 0.4927825116730254,\n",
       " Patient C with Admission at time 0.4968111740647253,\n",
       " Patient B with Admission at time 0.5907835938988584,\n",
       " Patient A with Admission at time 0.5920846710108769,\n",
       " Patient A with Admission at time 0.6536950633365174,\n",
       " Patient D with Admission at time 0.7471119101901332,\n",
       " Patient D with Admission at time 0.7563461092596208,\n",
       " Patient A with Admission at time 0.8159181844869323,\n",
       " Patient A with Admission at time 0.8505769337586752,\n",
       " Patient C with Admission at time 0.8814926676134729,\n",
       " Patient E with Admission at time 0.9283415271821112,\n",
       " Patient E with Admission at time 0.9366372140945955,\n",
       " Patient E with Admission at time 0.9914815033975765,\n",
       " Patient C with Admission at time 1.0127867457322968,\n",
       " Patient C with Admission at time 1.0227150793505322,\n",
       " Patient D with Admission at time 1.06932251308947,\n",
       " Patient E with Admission at time 1.0824100729913377,\n",
       " Patient E with Admission at time 1.2668339517106997,\n",
       " Patient D with Admission at time 1.3170689413688943,\n",
       " Patient D with Admission at time 1.3544780906749214,\n",
       " Patient D with Admission at time 1.4295965229678265,\n",
       " Patient E with Admission at time 1.6956910599675012,\n",
       " Patient D with Admission at time 1.747257773565431,\n",
       " Patient C with Admission at time 1.8073502584213452,\n",
       " Patient D with Admission at time 1.8128745092330463,\n",
       " Patient C with Admission at time 1.8601329423486297,\n",
       " Patient C with Admission at time 1.888158596015492,\n",
       " Patient E with Admission at time 2.0076465871141553,\n",
       " Patient E with Admission at time 2.021581561867991]"
      ]
     },
     "execution_count": 5,
     "metadata": {},
     "output_type": "execute_result"
    }
   ],
   "source": [
    "#parameters\n",
    "n = 10\n",
    "num_patients = { #number of patients of each type\n",
    "    'A': n,\n",
    "    'B': n,\n",
    "    'C': n,\n",
    "    'D': n,\n",
    "    'E': n\n",
    "}\n",
    "patients = initialize_patients(num_patients, arrival_interval_function, occupancy_time_function)\n",
    "patients"
   ]
  }
 ],
 "metadata": {
  "kernelspec": {
   "display_name": "Python 3",
   "language": "python",
   "name": "python3"
  },
  "language_info": {
   "codemirror_mode": {
    "name": "ipython",
    "version": 3
   },
   "file_extension": ".py",
   "mimetype": "text/x-python",
   "name": "python",
   "nbconvert_exporter": "python",
   "pygments_lexer": "ipython3",
   "version": "3.11.9"
  }
 },
 "nbformat": 4,
 "nbformat_minor": 2
}
