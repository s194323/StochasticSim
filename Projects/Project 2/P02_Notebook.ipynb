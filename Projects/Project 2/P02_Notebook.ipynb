{
 "cells": [
  {
   "cell_type": "markdown",
   "metadata": {},
   "source": [
    "# **Project 2:**"
   ]
  },
  {
   "cell_type": "code",
   "execution_count": 1,
   "metadata": {},
   "outputs": [],
   "source": [
    "import numpy as np\n",
    "import pandas as pd\n",
    "from src.Ward import Ward, initialize_wards\n",
    "from src.Patient import Patient, initialize_patients\n",
    "from src.simulation import simulation_loop, run_simulations"
   ]
  },
  {
   "cell_type": "markdown",
   "metadata": {},
   "source": [
    "## initialization"
   ]
  },
  {
   "cell_type": "code",
   "execution_count": 2,
   "metadata": {},
   "outputs": [
    {
     "data": {
      "text/html": [
       "<div>\n",
       "<style scoped>\n",
       "    .dataframe tbody tr th:only-of-type {\n",
       "        vertical-align: middle;\n",
       "    }\n",
       "\n",
       "    .dataframe tbody tr th {\n",
       "        vertical-align: top;\n",
       "    }\n",
       "\n",
       "    .dataframe thead th {\n",
       "        text-align: right;\n",
       "    }\n",
       "</style>\n",
       "<table border=\"1\" class=\"dataframe\">\n",
       "  <thead>\n",
       "    <tr style=\"text-align: right;\">\n",
       "      <th></th>\n",
       "      <th>Bed Capacity</th>\n",
       "      <th>Arrivals per day</th>\n",
       "      <th>Mean Length of Stay</th>\n",
       "      <th>Urgency Points</th>\n",
       "    </tr>\n",
       "    <tr>\n",
       "      <th>Patient Type</th>\n",
       "      <th></th>\n",
       "      <th></th>\n",
       "      <th></th>\n",
       "      <th></th>\n",
       "    </tr>\n",
       "  </thead>\n",
       "  <tbody>\n",
       "    <tr>\n",
       "      <th>A</th>\n",
       "      <td>55</td>\n",
       "      <td>14.5</td>\n",
       "      <td>2.9</td>\n",
       "      <td>7</td>\n",
       "    </tr>\n",
       "    <tr>\n",
       "      <th>B</th>\n",
       "      <td>40</td>\n",
       "      <td>11.0</td>\n",
       "      <td>4.0</td>\n",
       "      <td>5</td>\n",
       "    </tr>\n",
       "    <tr>\n",
       "      <th>C</th>\n",
       "      <td>30</td>\n",
       "      <td>8.0</td>\n",
       "      <td>4.5</td>\n",
       "      <td>2</td>\n",
       "    </tr>\n",
       "    <tr>\n",
       "      <th>D</th>\n",
       "      <td>20</td>\n",
       "      <td>6.5</td>\n",
       "      <td>1.4</td>\n",
       "      <td>10</td>\n",
       "    </tr>\n",
       "    <tr>\n",
       "      <th>E</th>\n",
       "      <td>20</td>\n",
       "      <td>5.0</td>\n",
       "      <td>3.9</td>\n",
       "      <td>5</td>\n",
       "    </tr>\n",
       "    <tr>\n",
       "      <th>F</th>\n",
       "      <td>30</td>\n",
       "      <td>13.0</td>\n",
       "      <td>2.0</td>\n",
       "      <td>0</td>\n",
       "    </tr>\n",
       "  </tbody>\n",
       "</table>\n",
       "</div>"
      ],
      "text/plain": [
       "              Bed Capacity  Arrivals per day  Mean Length of Stay  \\\n",
       "Patient Type                                                        \n",
       "A                       55              14.5                  2.9   \n",
       "B                       40              11.0                  4.0   \n",
       "C                       30               8.0                  4.5   \n",
       "D                       20               6.5                  1.4   \n",
       "E                       20               5.0                  3.9   \n",
       "F                       30              13.0                  2.0   \n",
       "\n",
       "              Urgency Points  \n",
       "Patient Type                  \n",
       "A                          7  \n",
       "B                          5  \n",
       "C                          2  \n",
       "D                         10  \n",
       "E                          5  \n",
       "F                          0  "
      ]
     },
     "execution_count": 2,
     "metadata": {},
     "output_type": "execute_result"
    }
   ],
   "source": [
    "F_bed_capacity = 30 ##### Number to optimize #####\n",
    "\n",
    "#patient type from 'A' to 'F'\n",
    "patient_types = ['A', 'B', 'C', 'D', 'E', 'F']\n",
    "bed_capacity = np.array([55,40,30,20,20, F_bed_capacity])\n",
    "arrivals_pr_day = np.array([14.5,11.0,8.0,6.5,5.0, 13.0])\n",
    "mean_length_of_stay = np.array([2.9,4.0,4.5,1.4,3.9, 2.0])\n",
    "urgency_points = np.array([7,5,2,10,5, 0])\n",
    "\n",
    "#reloaction probability\n",
    "relocation_probability = np.array([\n",
    "    [0.0, 0.05, 0.10, 0.05, 0.80, 0.00],\n",
    "    [0.2, 0, 0.50, 0.15, 0.15, 0.00],\n",
    "    [0.30, 0.20, 0, 0.20, 0.30, 0.00],\n",
    "    [0.35, 0.30, 0.05, 0, 0.3, 0.00],\n",
    "    [0.20, 0.10, 0.60 ,0.10, 0, 0.00],\n",
    "    [0.20, 0.20, 0.20, 0.20, 0.20 ,0]\n",
    "    ])\n",
    "\n",
    "#Dataframe containing all the data (indexed by patient type)\n",
    "df = pd.DataFrame({\n",
    "    'Patient Type': patient_types,\n",
    "    'Bed Capacity': bed_capacity,\n",
    "    'Arrivals per day': arrivals_pr_day,\n",
    "    'Mean Length of Stay': mean_length_of_stay,\n",
    "    'Urgency Points': urgency_points\n",
    "    }).set_index('Patient Type')\n",
    "df"
   ]
  },
  {
   "cell_type": "code",
   "execution_count": 3,
   "metadata": {},
   "outputs": [],
   "source": [
    "#sampling functions. Takes type as input and returns a sample with the corresponding distribution\n",
    "arrival_interval_function = lambda type: np.random.exponential(1/df[\"Arrivals per day\"][type])\n",
    "occupancy_time_function = lambda type: np.random.exponential(df[\"Mean Length of Stay\"][type])"
   ]
  },
  {
   "cell_type": "code",
   "execution_count": 4,
   "metadata": {},
   "outputs": [
    {
     "data": {
      "text/plain": [
       "[A Ward with 55 beds and 7 urgency points.,\n",
       " B Ward with 40 beds and 5 urgency points.,\n",
       " C Ward with 30 beds and 2 urgency points.,\n",
       " D Ward with 20 beds and 10 urgency points.,\n",
       " E Ward with 20 beds and 5 urgency points.,\n",
       " F Ward with 30 beds and 0 urgency points.]"
      ]
     },
     "execution_count": 4,
     "metadata": {},
     "output_type": "execute_result"
    }
   ],
   "source": [
    "wards"
   ]
  },
  {
   "cell_type": "markdown",
   "metadata": {},
   "source": [
    "# Optimize F beds"
   ]
  },
  {
   "cell_type": "code",
   "execution_count": 5,
   "metadata": {},
   "outputs": [
    {
     "data": {
      "text/plain": [
       "{A Ward with 55 beds and 7 urgency points.: {'Occupied probability': 0.0473777093343733,\n",
       "  'Estimated admissions': 483.00000000000006,\n",
       "  'Estimated rejections': 24.3,\n",
       "  'Estimated relocations': 20.7},\n",
       " B Ward with 40 beds and 5 urgency points.: {'Occupied probability': 0.1755148852078935,\n",
       "  'Estimated admissions': 304.59999999999997,\n",
       "  'Estimated rejections': 64.89999999999999,\n",
       "  'Estimated relocations': 57.300000000000004},\n",
       " C Ward with 30 beds and 2 urgency points.: {'Occupied probability': 0.3168044846742311,\n",
       "  'Estimated admissions': 212.70000000000002,\n",
       "  'Estimated rejections': 98.5,\n",
       "  'Estimated relocations': 73.2},\n",
       " D Ward with 20 beds and 10 urgency points.: {'Occupied probability': 0.019650364935789658,\n",
       "  'Estimated admissions': 221.4,\n",
       "  'Estimated rejections': 4.499999999999999,\n",
       "  'Estimated relocations': 4.0},\n",
       " E Ward with 20 beds and 5 urgency points.: {'Occupied probability': 0.32045832537198876,\n",
       "  'Estimated admissions': 147.79999999999998,\n",
       "  'Estimated rejections': 70.29999999999998,\n",
       "  'Estimated relocations': 47.300000000000004},\n",
       " F Ward with 30 beds and 0 urgency points.: {'Occupied probability': 0.057584263895422594,\n",
       "  'Estimated admissions': 373.19999999999993,\n",
       "  'Estimated rejections': 23.1,\n",
       "  'Estimated relocations': 23.1},\n",
       " 'Weighted penalty': 1088.1}"
      ]
     },
     "execution_count": 5,
     "metadata": {},
     "output_type": "execute_result"
    }
   ],
   "source": [
    "total_time = 31 #simulate 1 month\n",
    "performance = run_simulations(total_time, wards, relocation_probability, arrival_interval_function, occupancy_time_function, n_simulations = 10, verbose = False)\n",
    "performance"
   ]
  },
  {
   "cell_type": "code",
   "execution_count": 12,
   "metadata": {},
   "outputs": [
    {
     "name": "stdout",
     "output_type": "stream",
     "text": [
      "0.9999999999999999\n",
      "0.9598024475964233\n",
      "0.9161936405681051\n",
      "0.8806882532749907\n",
      "0.839356065045148\n",
      "0.7855297358524503\n",
      "0.777631336567079\n",
      "0.7163756146129191\n",
      "0.7073519173727016\n",
      "0.6560369225381426\n",
      "0.6057562069863067\n",
      "0.5853347483281492\n",
      "0.5474575443204684\n",
      "0.49726078450686234\n",
      "0.46838776421194495\n",
      "0.44136002134940766\n",
      "0.41369802571329933\n",
      "0.39154422193389354\n",
      "0.3449843234510903\n",
      "0.3295207544976071\n",
      "0.2778990006660437\n",
      "0.24800411387544802\n",
      "0.23490591060249175\n",
      "0.1723962577652407\n",
      "0.1774003383685554\n",
      "0.1538947149608947\n",
      "0.11750897737942974\n",
      "0.10036051179292071\n",
      "0.0870663010116422\n",
      "0.07486997962125302\n",
      "0.06488360395720838\n",
      "0.046776216102714575\n"
     ]
    }
   ],
   "source": [
    "F_bed_capacity = 0\n",
    "F_occupied_prob = 1.0\n",
    "penalties = []\n",
    "while F_occupied_prob > 0.05:\n",
    "    #set F bed capacity in the dataframe\n",
    "    df.loc['F', 'Bed Capacity'] = F_bed_capacity\n",
    "    wards = initialize_wards(df) #list of wards\n",
    "    performance = run_simulations(total_time, wards, relocation_probability, arrival_interval_function, occupancy_time_function, n_simulations = 10, verbose = False)\n",
    "    F_ward = wards[-1]\n",
    "    F_occupied_prob = performance[F_ward][\"Occupied probability\"]\n",
    "    print(F_occupied_prob)\n",
    "    penalties.append(performance[\"Weighted penalty\"])\n",
    "    F_bed_capacity += 1"
   ]
  },
  {
   "cell_type": "code",
   "execution_count": 15,
   "metadata": {},
   "outputs": [
    {
     "data": {
      "image/png": "[encoded data removed]",
      "text/plain": [
       "<Figure size 640x480 with 1 Axes>"
      ]
     },
     "metadata": {},
     "output_type": "display_data"
    }
   ],
   "source": [
    "#plot the penalties\n",
    "import matplotlib.pyplot as plt\n",
    "plt.plot(penalties)\n",
    "plt.xlabel(\"F bed capacity\")\n",
    "plt.ylabel(\"Weighted penalty\")\n",
    "plt.show()"
   ]
  },
  {
   "cell_type": "code",
   "execution_count": 21,
   "metadata": {},
   "outputs": [
    {
     "name": "stdout",
     "output_type": "stream",
     "text": [
      "The number of beds required to ensure that 95% of the arrivals in F are admitted is:  31\n"
     ]
    }
   ],
   "source": [
    "#Number of beds required to ensure that 95% of the arrivals in F are admitted\n",
    "F_bed_capacity = df[\"Bed Capacity\"][\"F\"]\n",
    "print(\"The number of beds required to ensure that 95% of the arrivals in F are admitted is: \", F_bed_capacity)"
   ]
  }
 ],
 "metadata": {
  "kernelspec": {
   "display_name": "Python 3",
   "language": "python",
   "name": "python3"
  },
  "language_info": {
   "codemirror_mode": {
    "name": "ipython",
    "version": 3
   },
   "file_extension": ".py",
   "mimetype": "text/x-python",
   "name": "python",
   "nbconvert_exporter": "python",
   "pygments_lexer": "ipython3",
   "version": "3.11.9"
  }
 },
 "nbformat": 4,
 "nbformat_minor": 2
}
