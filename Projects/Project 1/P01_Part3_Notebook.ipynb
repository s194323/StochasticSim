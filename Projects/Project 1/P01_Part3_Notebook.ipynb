{
 "cells": [
  {
   "cell_type": "markdown",
   "metadata": {},
   "source": [
    "## **Part 3: Estimation**"
   ]
  },
  {
   "cell_type": "code",
   "execution_count": 27,
   "metadata": {},
   "outputs": [],
   "source": [
    "# Plotting\n",
    "import plotly.graph_objects as go\n",
    "import plotly.express as px\n",
    "import plotly.subplots as sp\n",
    "import plotly.io as pio\n",
    "pio.renderers.default = \"notebook+pdf\"\n",
    "pio.templates.default = \"plotly_dark\"\n",
    "\n",
    "# Utilities\n",
    "import numpy as np\n",
    "from tqdm import tqdm"
   ]
  },
  {
   "cell_type": "markdown",
   "metadata": {},
   "source": [
    "### **Task 12**"
   ]
  },
  {
   "cell_type": "code",
   "execution_count": 2,
   "metadata": {},
   "outputs": [
    {
     "name": "stdout",
     "output_type": "stream",
     "text": [
      "[[-0.00475  0.0025   0.00125  0.       0.001  ]\n",
      " [ 0.      -0.007    0.       0.002    0.005  ]\n",
      " [ 0.       0.      -0.008    0.003    0.005  ]\n",
      " [ 0.       0.       0.      -0.009    0.009  ]\n",
      " [ 0.       0.       0.       0.      -0.     ]]\n"
     ]
    }
   ],
   "source": [
    "num_women = 1000\n",
    "\n",
    "# double check if this is the right Q matrix\n",
    "Q = np.array([[0, 0.0025, 0.00125, 0, 0.001],\n",
    "              [0, 0, 0, 0.002, 0.005],\n",
    "              [0, 0, 0, 0.003, 0.005],\n",
    "              [0, 0, 0, 0, 0.009],\n",
    "              [0, 0, 0, 0, 0]])\n",
    "\n",
    "for i in range(Q.shape[0]):\n",
    "    Q[i,i] = -np.sum(Q[i,:])\n",
    "\n",
    "print(Q)"
   ]
  },
  {
   "cell_type": "code",
   "execution_count": 3,
   "metadata": {},
   "outputs": [],
   "source": [
    "def changeState(state, currentTime, endTime, Q):\n",
    "    Qdiag = np.diag(Q)\n",
    "    if state == 4:\n",
    "        return endTime, 4\n",
    "    qii = Qdiag[state]\n",
    "    if qii == 0:\n",
    "        return endTime, state\n",
    "    time = np.random.exponential(-(1/qii))\n",
    "    if currentTime + time > endTime:\n",
    "        return endTime, state\n",
    "    # Determine the next state\n",
    "    ps = np.copy(Q[state, :])\n",
    "    ps[state] = 0\n",
    "    ps /= -qii\n",
    "    ps[state] = 1 - sum(ps)\n",
    "    nextState = np.random.choice(range(5), p=ps)\n",
    "    return time, nextState\n",
    "\n",
    "def simulateWoman(startingState, endTime, Q):\n",
    "    state = startingState\n",
    "    time = 0\n",
    "    times = [0]\n",
    "    states = [state]\n",
    "    while state != 4 and time < endTime:\n",
    "        dt, state = changeState(state, time, endTime, Q)\n",
    "        time += dt\n",
    "        times.append(time)\n",
    "        states.append(state)\n",
    "    return np.array(times), np.array(states)\n",
    "\n",
    "def simulateWomen(n, startingStates, endTime, Q):\n",
    "    women = []\n",
    "    for i in range(n):\n",
    "        times, states = simulateWoman(startingStates[i], endTime, Q)\n",
    "        women.append((times, states))\n",
    "    return women\n",
    "\n",
    "endTime = np.inf\n",
    "startingStates = np.zeros(num_women, dtype=int)\n",
    "women = simulateWomen(num_women, startingStates, endTime, Q)\n"
   ]
  },
  {
   "cell_type": "code",
   "execution_count": 32,
   "metadata": {},
   "outputs": [
    {
     "name": "stdout",
     "output_type": "stream",
     "text": [
      "(1000, 42)\n"
     ]
    }
   ],
   "source": [
    "max_time = 0\n",
    "for i in range(num_women):\n",
    "    temp = women[i][0][-1]\n",
    "\n",
    "    if temp > max_time:\n",
    "        max_time = temp\n",
    "\n",
    "time_steps = np.ceil(max_time/48)\n",
    "\n",
    "Y = np.zeros((num_women, int(time_steps+1)), dtype=int)\n",
    "\n",
    "for i in range(num_women):\n",
    "    for j in range(int(time_steps+1)):\n",
    "        true_indices = np.where([women[i][0] <= 48*j])[1]\n",
    "        if true_indices.size == 0:\n",
    "            Y[i,j] = 0\n",
    "        else:\n",
    "            Y[i,j] = women[i][1][true_indices.max()]\n"
   ]
  },
  {
   "cell_type": "markdown",
   "metadata": {},
   "source": [
    "### **Task 13**"
   ]
  },
  {
   "cell_type": "code",
   "execution_count": 73,
   "metadata": {},
   "outputs": [
    {
     "name": "stdout",
     "output_type": "stream",
     "text": [
      "[[-0.00475  0.0025   0.00125  0.       0.001  ]\n",
      " [ 0.      -0.007    0.       0.002    0.005  ]\n",
      " [ 0.       0.      -0.008    0.003    0.005  ]\n",
      " [ 0.       0.       0.      -0.009    0.009  ]\n",
      " [ 0.       0.       0.       0.      -0.     ]]\n",
      "Iteration: 1\n"
     ]
    },
    {
     "name": "stderr",
     "output_type": "stream",
     "text": [
      "100%|██████████| 1000/1000 [00:01<00:00, 513.44it/s]\n"
     ]
    },
    {
     "name": "stdout",
     "output_type": "stream",
     "text": [
      "Iteration: 2\n"
     ]
    },
    {
     "name": "stderr",
     "output_type": "stream",
     "text": [
      "100%|██████████| 1000/1000 [00:01<00:00, 781.18it/s]\n"
     ]
    },
    {
     "data": {
      "text/plain": [
       "array([[-0.00521094,  0.00240224,  0.00109951,  0.00017196,  0.00153723],\n",
       "       [ 0.        , -0.00502128,  0.        ,  0.00107832,  0.00394295],\n",
       "       [ 0.        ,  0.        , -0.00543015,  0.00151838,  0.00391177],\n",
       "       [ 0.        ,  0.        ,  0.        , -0.00628757,  0.00628757],\n",
       "       [ 0.        ,  0.        ,  0.        ,  0.        , -0.        ]])"
      ]
     },
     "execution_count": 73,
     "metadata": {},
     "output_type": "execute_result"
    }
   ],
   "source": [
    "def est_Q(Q_0, Y):\n",
    "    Q = Q_0\n",
    "    err = 1\n",
    "\n",
    "    time_steps = Y.shape[1]\n",
    "    num_women = Y.shape[0]\n",
    "\n",
    "    k = 0\n",
    "\n",
    "    while np.abs(err) > 1e-3:\n",
    "        k += 1\n",
    "        print(f\"Iteration: {k}\")\n",
    "\n",
    "        N = np.zeros((5,5))\n",
    "        S = np.zeros((5))\n",
    "\n",
    "        Q_old = np.copy(Q)\n",
    "\n",
    "        for i in tqdm(range(num_women)):\n",
    "            for j in range(1, int(time_steps)):\n",
    "                while True:\n",
    "                    women = simulateWomen(1, [Y[i,j-1]], 48, Q_old)\n",
    "\n",
    "                    Y_new = women[0][1][-1]\n",
    "\n",
    "                    if Y_new == Y[i,j]:\n",
    "                        N[Y[i,j-1],Y_new] += 1\n",
    "                        S[Y[i,j]] += women[0][0][-1]\n",
    "                        break\n",
    "\n",
    "        Q = np.zeros((5,5))\n",
    "\n",
    "        for i in range(5):\n",
    "            for j in range(5):\n",
    "                if i != j:\n",
    "                    Q[i,j] = N[i,j]/S[i]\n",
    "\n",
    "            Q[i,i] = -np.sum(Q[i,:])\n",
    "\n",
    "        err = np.linalg.norm(Q_old - Q)\n",
    "\n",
    "    return Q\n",
    "\n",
    "Q_0 = np.copy(Q)\n",
    "\n",
    "def generate_matrix():\n",
    "    # Generate a 5x5 matrix with random positive elements\n",
    "    matrix = np.random.rand(5, 5)\n",
    "\n",
    "    # Make the lower triangular part zero\n",
    "    matrix = np.triu(matrix)\n",
    "\n",
    "    # Make the diagonal elements the negative sum of the remaining row elements\n",
    "    np.fill_diagonal(matrix, -matrix.sum(axis=1) + np.diag(matrix))\n",
    "\n",
    "    return matrix\n",
    "\n",
    "#Q_0 = generate_matrix()\n",
    "\n",
    "print(Q_0)\n",
    "\n",
    "est_Q(Q_0, Y)"
   ]
  }
 ],
 "metadata": {
  "kernelspec": {
   "display_name": "base",
   "language": "python",
   "name": "python3"
  },
  "language_info": {
   "codemirror_mode": {
    "name": "ipython",
    "version": 3
   },
   "file_extension": ".py",
   "mimetype": "text/x-python",
   "name": "python",
   "nbconvert_exporter": "python",
   "pygments_lexer": "ipython3",
   "version": "3.11.9"
  }
 },
 "nbformat": 4,
 "nbformat_minor": 2
}
