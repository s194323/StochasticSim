{
 "cells": [
  {
   "cell_type": "markdown",
   "metadata": {},
   "source": [
    "## **Part 3: Estimation**"
   ]
  },
  {
   "cell_type": "code",
   "execution_count": 1,
   "metadata": {},
   "outputs": [],
   "source": [
    "# Plotting\n",
    "import plotly.graph_objects as go\n",
    "import plotly.express as px\n",
    "import plotly.subplots as sp\n",
    "import plotly.io as pio\n",
    "#pio.renderers.default = \"notebook+pdf\"\n",
    "#pio.templates.default = \"plotly_dark\"\n",
    "\n",
    "# Utilities\n",
    "import numpy as np\n",
    "from tqdm import tqdm"
   ]
  },
  {
   "cell_type": "markdown",
   "metadata": {},
   "source": [
    "### **Task 12**"
   ]
  },
  {
   "cell_type": "code",
   "execution_count": 2,
   "metadata": {},
   "outputs": [
    {
     "name": "stdout",
     "output_type": "stream",
     "text": [
      "[[-0.00475  0.0025   0.00125  0.       0.001  ]\n",
      " [ 0.      -0.007    0.       0.002    0.005  ]\n",
      " [ 0.       0.      -0.008    0.003    0.005  ]\n",
      " [ 0.       0.       0.      -0.009    0.009  ]\n",
      " [ 0.       0.       0.       0.      -0.     ]]\n"
     ]
    }
   ],
   "source": [
    "num_women = 1000\n",
    "\n",
    "# double check if this is the right Q matrix\n",
    "Q = np.array([[0, 0.0025, 0.00125, 0, 0.001],\n",
    "              [0, 0, 0, 0.002, 0.005],\n",
    "              [0, 0, 0, 0.003, 0.005],\n",
    "              [0, 0, 0, 0, 0.009],\n",
    "              [0, 0, 0, 0, 0]])\n",
    "\n",
    "for i in range(Q.shape[0]):\n",
    "    Q[i,i] = -np.sum(Q[i,:])\n",
    "\n",
    "print(Q)"
   ]
  },
  {
   "cell_type": "code",
   "execution_count": 3,
   "metadata": {},
   "outputs": [],
   "source": [
    "def changeState(Q, state, currentTime, endTime):\n",
    "    if state == 4:\n",
    "        return endTime, 4\n",
    "    qii = Q[state,state]\n",
    "    if qii == 0:\n",
    "        return endTime, state\n",
    "    time = np.random.exponential(-(1/qii))\n",
    "    if currentTime + time > endTime:\n",
    "        return endTime - currentTime, state\n",
    "    # Determine the next state\n",
    "    ps = np.copy(Q[state, :])\n",
    "    ps[state] = 0\n",
    "    ps /= -qii\n",
    "    nextState = np.random.choice(range(5), p=ps)\n",
    "    return time, nextState\n",
    "\n",
    "def simulateWoman(Q, startingState, endTime):\n",
    "    state = startingState\n",
    "    time = 0\n",
    "    times = [0]\n",
    "    states = [state]\n",
    "    while state != 4 and time < endTime:\n",
    "        dt, state = changeState(Q, state, time, endTime)\n",
    "        time += dt\n",
    "        times.append(time)\n",
    "        states.append(state)\n",
    "    return np.array(times), np.array(states)\n",
    "\n",
    "def simulateWomen(Q, n, startingStates, endTime):\n",
    "    women = []\n",
    "    for i in range(n):\n",
    "        times, states = simulateWoman(Q, startingStates[i], endTime)\n",
    "        women.append((times, states))\n",
    "    return women\n",
    "\n",
    "endTime = np.inf\n",
    "startingStates = np.zeros(num_women, dtype=int)\n",
    "women = simulateWomen(Q, num_women, startingStates, endTime)\n"
   ]
  },
  {
   "cell_type": "code",
   "execution_count": 4,
   "metadata": {},
   "outputs": [],
   "source": [
    "max_time = 0\n",
    "for i in range(num_women):\n",
    "    temp = women[i][0][-1]\n",
    "\n",
    "    if temp > max_time:\n",
    "        max_time = temp\n",
    "\n",
    "time_steps = np.ceil(max_time/48)\n",
    "\n",
    "Y = np.zeros((num_women, int(time_steps+1)), dtype=int)\n",
    "\n",
    "for i in range(num_women):\n",
    "    for j in range(int(time_steps+1)):\n",
    "        true_indices = np.where([women[i][0] <= 48*j])[1]\n",
    "        if true_indices.size == 0:\n",
    "            Y[i,j] = 0\n",
    "        else:\n",
    "            Y[i,j] = women[i][1][true_indices.max()]\n"
   ]
  },
  {
   "cell_type": "code",
   "execution_count": 11,
   "metadata": {},
   "outputs": [
    {
     "data": {
      "application/vnd.plotly.v1+json": {
       "config": {
        "plotlyServerURL": "https://plot.ly"
       },
       "data": [
        {
         "mode": "lines",
         "name": "No Cancer",
         "type": "scatter",
         "x": [
          0,
          48,
          96,
          144,
          192,
          240,
          288,
          336,
          384,
          432,
          480,
          528,
          576,
          624,
          672,
          720,
          768,
          816,
          864,
          912,
          960,
          1008,
          1056,
          1104,
          1152,
          1200,
          1248,
          1296,
          1344,
          1392,
          1440,
          1488,
          1536,
          1584,
          1632,
          1680,
          1728,
          1776,
          1824
         ],
         "y": [
          1000,
          776,
          619,
          490,
          364,
          294,
          228,
          169,
          140,
          112,
          98,
          72,
          59,
          46,
          34,
          25,
          17,
          15,
          15,
          12,
          7,
          6,
          4,
          3,
          2,
          2,
          2,
          2,
          2,
          2,
          1,
          1,
          0,
          0,
          0,
          0,
          0,
          0,
          0
         ]
        },
        {
         "mode": "lines",
         "name": "Local Recurrence",
         "type": "scatter",
         "x": [
          0,
          48,
          96,
          144,
          192,
          240,
          288,
          336,
          384,
          432,
          480,
          528,
          576,
          624,
          672,
          720,
          768,
          816,
          864,
          912,
          960,
          1008,
          1056,
          1104,
          1152,
          1200,
          1248,
          1296,
          1344,
          1392,
          1440,
          1488,
          1536,
          1584,
          1632,
          1680,
          1728,
          1776,
          1824
         ],
         "y": [
          0,
          93,
          148,
          152,
          161,
          139,
          138,
          124,
          90,
          86,
          63,
          60,
          42,
          44,
          35,
          27,
          23,
          18,
          10,
          9,
          9,
          6,
          6,
          6,
          6,
          5,
          4,
          3,
          3,
          3,
          4,
          3,
          1,
          1,
          1,
          0,
          0,
          0,
          0
         ]
        },
        {
         "mode": "lines",
         "name": "Distant Metastasis",
         "type": "scatter",
         "x": [
          0,
          48,
          96,
          144,
          192,
          240,
          288,
          336,
          384,
          432,
          480,
          528,
          576,
          624,
          672,
          720,
          768,
          816,
          864,
          912,
          960,
          1008,
          1056,
          1104,
          1152,
          1200,
          1248,
          1296,
          1344,
          1392,
          1440,
          1488,
          1536,
          1584,
          1632,
          1680,
          1728,
          1776,
          1824
         ],
         "y": [
          0,
          49,
          69,
          81,
          63,
          53,
          50,
          46,
          41,
          31,
          23,
          25,
          21,
          18,
          17,
          14,
          13,
          9,
          7,
          4,
          2,
          1,
          1,
          0,
          0,
          0,
          0,
          0,
          0,
          0,
          0,
          0,
          0,
          0,
          0,
          0,
          0,
          0,
          0
         ]
        },
        {
         "mode": "lines",
         "name": "Both Local and Distant",
         "type": "scatter",
         "x": [
          0,
          48,
          96,
          144,
          192,
          240,
          288,
          336,
          384,
          432,
          480,
          528,
          576,
          624,
          672,
          720,
          768,
          816,
          864,
          912,
          960,
          1008,
          1056,
          1104,
          1152,
          1200,
          1248,
          1296,
          1344,
          1392,
          1440,
          1488,
          1536,
          1584,
          1632,
          1680,
          1728,
          1776,
          1824
         ],
         "y": [
          0,
          7,
          19,
          34,
          46,
          55,
          55,
          45,
          44,
          39,
          43,
          30,
          30,
          24,
          22,
          20,
          18,
          12,
          7,
          4,
          4,
          5,
          5,
          3,
          3,
          0,
          1,
          0,
          0,
          0,
          0,
          0,
          2,
          1,
          1,
          1,
          1,
          1,
          0
         ]
        },
        {
         "mode": "lines",
         "name": "Death",
         "type": "scatter",
         "x": [
          0,
          48,
          96,
          144,
          192,
          240,
          288,
          336,
          384,
          432,
          480,
          528,
          576,
          624,
          672,
          720,
          768,
          816,
          864,
          912,
          960,
          1008,
          1056,
          1104,
          1152,
          1200,
          1248,
          1296,
          1344,
          1392,
          1440,
          1488,
          1536,
          1584,
          1632,
          1680,
          1728,
          1776,
          1824
         ],
         "y": [
          0,
          75,
          145,
          243,
          366,
          459,
          529,
          616,
          685,
          732,
          773,
          813,
          848,
          868,
          892,
          914,
          929,
          946,
          961,
          971,
          978,
          982,
          984,
          988,
          989,
          993,
          993,
          995,
          995,
          995,
          995,
          996,
          997,
          998,
          998,
          999,
          999,
          999,
          1000
         ]
        }
       ],
       "layout": {
        "template": {
         "data": {
          "bar": [
           {
            "error_x": {
             "color": "#2a3f5f"
            },
            "error_y": {
             "color": "#2a3f5f"
            },
            "marker": {
             "line": {
              "color": "#E5ECF6",
              "width": 0.5
             },
             "pattern": {
              "fillmode": "overlay",
              "size": 10,
              "solidity": 0.2
             }
            },
            "type": "bar"
           }
          ],
          "barpolar": [
           {
            "marker": {
             "line": {
              "color": "#E5ECF6",
              "width": 0.5
             },
             "pattern": {
              "fillmode": "overlay",
              "size": 10,
              "solidity": 0.2
             }
            },
            "type": "barpolar"
           }
          ],
          "carpet": [
           {
            "aaxis": {
             "endlinecolor": "#2a3f5f",
             "gridcolor": "white",
             "linecolor": "white",
             "minorgridcolor": "white",
             "startlinecolor": "#2a3f5f"
            },
            "baxis": {
             "endlinecolor": "#2a3f5f",
             "gridcolor": "white",
             "linecolor": "white",
             "minorgridcolor": "white",
             "startlinecolor": "#2a3f5f"
            },
            "type": "carpet"
           }
          ],
          "choropleth": [
           {
            "colorbar": {
             "outlinewidth": 0,
             "ticks": ""
            },
            "type": "choropleth"
           }
          ],
          "contour": [
           {
            "colorbar": {
             "outlinewidth": 0,
             "ticks": ""
            },
            "colorscale": [
             [
              0,
              "#0d0887"
             ],
             [
              0.1111111111111111,
              "#46039f"
             ],
             [
              0.2222222222222222,
              "#7201a8"
             ],
             [
              0.3333333333333333,
              "#9c179e"
             ],
             [
              0.4444444444444444,
              "#bd3786"
             ],
             [
              0.5555555555555556,
              "#d8576b"
             ],
             [
              0.6666666666666666,
              "#ed7953"
             ],
             [
              0.7777777777777778,
              "#fb9f3a"
             ],
             [
              0.8888888888888888,
              "#fdca26"
             ],
             [
              1,
              "#f0f921"
             ]
            ],
            "type": "contour"
           }
          ],
          "contourcarpet": [
           {
            "colorbar": {
             "outlinewidth": 0,
             "ticks": ""
            },
            "type": "contourcarpet"
           }
          ],
          "heatmap": [
           {
            "colorbar": {
             "outlinewidth": 0,
             "ticks": ""
            },
            "colorscale": [
             [
              0,
              "#0d0887"
             ],
             [
              0.1111111111111111,
              "#46039f"
             ],
             [
              0.2222222222222222,
              "#7201a8"
             ],
             [
              0.3333333333333333,
              "#9c179e"
             ],
             [
              0.4444444444444444,
              "#bd3786"
             ],
             [
              0.5555555555555556,
              "#d8576b"
             ],
             [
              0.6666666666666666,
              "#ed7953"
             ],
             [
              0.7777777777777778,
              "#fb9f3a"
             ],
             [
              0.8888888888888888,
              "#fdca26"
             ],
             [
              1,
              "#f0f921"
             ]
            ],
            "type": "heatmap"
           }
          ],
          "heatmapgl": [
           {
            "colorbar": {
             "outlinewidth": 0,
             "ticks": ""
            },
            "colorscale": [
             [
              0,
              "#0d0887"
             ],
             [
              0.1111111111111111,
              "#46039f"
             ],
             [
              0.2222222222222222,
              "#7201a8"
             ],
             [
              0.3333333333333333,
              "#9c179e"
             ],
             [
              0.4444444444444444,
              "#bd3786"
             ],
             [
              0.5555555555555556,
              "#d8576b"
             ],
             [
              0.6666666666666666,
              "#ed7953"
             ],
             [
              0.7777777777777778,
              "#fb9f3a"
             ],
             [
              0.8888888888888888,
              "#fdca26"
             ],
             [
              1,
              "#f0f921"
             ]
            ],
            "type": "heatmapgl"
           }
          ],
          "histogram": [
           {
            "marker": {
             "pattern": {
              "fillmode": "overlay",
              "size": 10,
              "solidity": 0.2
             }
            },
            "type": "histogram"
           }
          ],
          "histogram2d": [
           {
            "colorbar": {
             "outlinewidth": 0,
             "ticks": ""
            },
            "colorscale": [
             [
              0,
              "#0d0887"
             ],
             [
              0.1111111111111111,
              "#46039f"
             ],
             [
              0.2222222222222222,
              "#7201a8"
             ],
             [
              0.3333333333333333,
              "#9c179e"
             ],
             [
              0.4444444444444444,
              "#bd3786"
             ],
             [
              0.5555555555555556,
              "#d8576b"
             ],
             [
              0.6666666666666666,
              "#ed7953"
             ],
             [
              0.7777777777777778,
              "#fb9f3a"
             ],
             [
              0.8888888888888888,
              "#fdca26"
             ],
             [
              1,
              "#f0f921"
             ]
            ],
            "type": "histogram2d"
           }
          ],
          "histogram2dcontour": [
           {
            "colorbar": {
             "outlinewidth": 0,
             "ticks": ""
            },
            "colorscale": [
             [
              0,
              "#0d0887"
             ],
             [
              0.1111111111111111,
              "#46039f"
             ],
             [
              0.2222222222222222,
              "#7201a8"
             ],
             [
              0.3333333333333333,
              "#9c179e"
             ],
             [
              0.4444444444444444,
              "#bd3786"
             ],
             [
              0.5555555555555556,
              "#d8576b"
             ],
             [
              0.6666666666666666,
              "#ed7953"
             ],
             [
              0.7777777777777778,
              "#fb9f3a"
             ],
             [
              0.8888888888888888,
              "#fdca26"
             ],
             [
              1,
              "#f0f921"
             ]
            ],
            "type": "histogram2dcontour"
           }
          ],
          "mesh3d": [
           {
            "colorbar": {
             "outlinewidth": 0,
             "ticks": ""
            },
            "type": "mesh3d"
           }
          ],
          "parcoords": [
           {
            "line": {
             "colorbar": {
              "outlinewidth": 0,
              "ticks": ""
             }
            },
            "type": "parcoords"
           }
          ],
          "pie": [
           {
            "automargin": true,
            "type": "pie"
           }
          ],
          "scatter": [
           {
            "fillpattern": {
             "fillmode": "overlay",
             "size": 10,
             "solidity": 0.2
            },
            "type": "scatter"
           }
          ],
          "scatter3d": [
           {
            "line": {
             "colorbar": {
              "outlinewidth": 0,
              "ticks": ""
             }
            },
            "marker": {
             "colorbar": {
              "outlinewidth": 0,
              "ticks": ""
             }
            },
            "type": "scatter3d"
           }
          ],
          "scattercarpet": [
           {
            "marker": {
             "colorbar": {
              "outlinewidth": 0,
              "ticks": ""
             }
            },
            "type": "scattercarpet"
           }
          ],
          "scattergeo": [
           {
            "marker": {
             "colorbar": {
              "outlinewidth": 0,
              "ticks": ""
             }
            },
            "type": "scattergeo"
           }
          ],
          "scattergl": [
           {
            "marker": {
             "colorbar": {
              "outlinewidth": 0,
              "ticks": ""
             }
            },
            "type": "scattergl"
           }
          ],
          "scattermapbox": [
           {
            "marker": {
             "colorbar": {
              "outlinewidth": 0,
              "ticks": ""
             }
            },
            "type": "scattermapbox"
           }
          ],
          "scatterpolar": [
           {
            "marker": {
             "colorbar": {
              "outlinewidth": 0,
              "ticks": ""
             }
            },
            "type": "scatterpolar"
           }
          ],
          "scatterpolargl": [
           {
            "marker": {
             "colorbar": {
              "outlinewidth": 0,
              "ticks": ""
             }
            },
            "type": "scatterpolargl"
           }
          ],
          "scatterternary": [
           {
            "marker": {
             "colorbar": {
              "outlinewidth": 0,
              "ticks": ""
             }
            },
            "type": "scatterternary"
           }
          ],
          "surface": [
           {
            "colorbar": {
             "outlinewidth": 0,
             "ticks": ""
            },
            "colorscale": [
             [
              0,
              "#0d0887"
             ],
             [
              0.1111111111111111,
              "#46039f"
             ],
             [
              0.2222222222222222,
              "#7201a8"
             ],
             [
              0.3333333333333333,
              "#9c179e"
             ],
             [
              0.4444444444444444,
              "#bd3786"
             ],
             [
              0.5555555555555556,
              "#d8576b"
             ],
             [
              0.6666666666666666,
              "#ed7953"
             ],
             [
              0.7777777777777778,
              "#fb9f3a"
             ],
             [
              0.8888888888888888,
              "#fdca26"
             ],
             [
              1,
              "#f0f921"
             ]
            ],
            "type": "surface"
           }
          ],
          "table": [
           {
            "cells": {
             "fill": {
              "color": "#EBF0F8"
             },
             "line": {
              "color": "white"
             }
            },
            "header": {
             "fill": {
              "color": "#C8D4E3"
             },
             "line": {
              "color": "white"
             }
            },
            "type": "table"
           }
          ]
         },
         "layout": {
          "annotationdefaults": {
           "arrowcolor": "#2a3f5f",
           "arrowhead": 0,
           "arrowwidth": 1
          },
          "autotypenumbers": "strict",
          "coloraxis": {
           "colorbar": {
            "outlinewidth": 0,
            "ticks": ""
           }
          },
          "colorscale": {
           "diverging": [
            [
             0,
             "#8e0152"
            ],
            [
             0.1,
             "#c51b7d"
            ],
            [
             0.2,
             "#de77ae"
            ],
            [
             0.3,
             "#f1b6da"
            ],
            [
             0.4,
             "#fde0ef"
            ],
            [
             0.5,
             "#f7f7f7"
            ],
            [
             0.6,
             "#e6f5d0"
            ],
            [
             0.7,
             "#b8e186"
            ],
            [
             0.8,
             "#7fbc41"
            ],
            [
             0.9,
             "#4d9221"
            ],
            [
             1,
             "#276419"
            ]
           ],
           "sequential": [
            [
             0,
             "#0d0887"
            ],
            [
             0.1111111111111111,
             "#46039f"
            ],
            [
             0.2222222222222222,
             "#7201a8"
            ],
            [
             0.3333333333333333,
             "#9c179e"
            ],
            [
             0.4444444444444444,
             "#bd3786"
            ],
            [
             0.5555555555555556,
             "#d8576b"
            ],
            [
             0.6666666666666666,
             "#ed7953"
            ],
            [
             0.7777777777777778,
             "#fb9f3a"
            ],
            [
             0.8888888888888888,
             "#fdca26"
            ],
            [
             1,
             "#f0f921"
            ]
           ],
           "sequentialminus": [
            [
             0,
             "#0d0887"
            ],
            [
             0.1111111111111111,
             "#46039f"
            ],
            [
             0.2222222222222222,
             "#7201a8"
            ],
            [
             0.3333333333333333,
             "#9c179e"
            ],
            [
             0.4444444444444444,
             "#bd3786"
            ],
            [
             0.5555555555555556,
             "#d8576b"
            ],
            [
             0.6666666666666666,
             "#ed7953"
            ],
            [
             0.7777777777777778,
             "#fb9f3a"
            ],
            [
             0.8888888888888888,
             "#fdca26"
            ],
            [
             1,
             "#f0f921"
            ]
           ]
          },
          "colorway": [
           "#636efa",
           "#EF553B",
           "#00cc96",
           "#ab63fa",
           "#FFA15A",
           "#19d3f3",
           "#FF6692",
           "#B6E880",
           "#FF97FF",
           "#FECB52"
          ],
          "font": {
           "color": "#2a3f5f"
          },
          "geo": {
           "bgcolor": "white",
           "lakecolor": "white",
           "landcolor": "#E5ECF6",
           "showlakes": true,
           "showland": true,
           "subunitcolor": "white"
          },
          "hoverlabel": {
           "align": "left"
          },
          "hovermode": "closest",
          "mapbox": {
           "style": "light"
          },
          "paper_bgcolor": "white",
          "plot_bgcolor": "#E5ECF6",
          "polar": {
           "angularaxis": {
            "gridcolor": "white",
            "linecolor": "white",
            "ticks": ""
           },
           "bgcolor": "#E5ECF6",
           "radialaxis": {
            "gridcolor": "white",
            "linecolor": "white",
            "ticks": ""
           }
          },
          "scene": {
           "xaxis": {
            "backgroundcolor": "#E5ECF6",
            "gridcolor": "white",
            "gridwidth": 2,
            "linecolor": "white",
            "showbackground": true,
            "ticks": "",
            "zerolinecolor": "white"
           },
           "yaxis": {
            "backgroundcolor": "#E5ECF6",
            "gridcolor": "white",
            "gridwidth": 2,
            "linecolor": "white",
            "showbackground": true,
            "ticks": "",
            "zerolinecolor": "white"
           },
           "zaxis": {
            "backgroundcolor": "#E5ECF6",
            "gridcolor": "white",
            "gridwidth": 2,
            "linecolor": "white",
            "showbackground": true,
            "ticks": "",
            "zerolinecolor": "white"
           }
          },
          "shapedefaults": {
           "line": {
            "color": "#2a3f5f"
           }
          },
          "ternary": {
           "aaxis": {
            "gridcolor": "white",
            "linecolor": "white",
            "ticks": ""
           },
           "baxis": {
            "gridcolor": "white",
            "linecolor": "white",
            "ticks": ""
           },
           "bgcolor": "#E5ECF6",
           "caxis": {
            "gridcolor": "white",
            "linecolor": "white",
            "ticks": ""
           }
          },
          "title": {
           "x": 0.05
          },
          "xaxis": {
           "automargin": true,
           "gridcolor": "white",
           "linecolor": "white",
           "ticks": "",
           "title": {
            "standoff": 15
           },
           "zerolinecolor": "white",
           "zerolinewidth": 2
          },
          "yaxis": {
           "automargin": true,
           "gridcolor": "white",
           "linecolor": "white",
           "ticks": "",
           "title": {
            "standoff": 15
           },
           "zerolinecolor": "white",
           "zerolinewidth": 2
          }
         }
        },
        "xaxis": {
         "title": {
          "text": "Time (months)"
         }
        },
        "yaxis": {
         "title": {
          "text": "Number of women in state"
         }
        }
       }
      },
      "text/html": [
       "<div>                            <div id=\"92af94b2-2a0e-444e-bdcc-6d64ab9ca923\" class=\"plotly-graph-div\" style=\"height:525px; width:100%;\"></div>            <script type=\"text/javascript\">                require([\"plotly\"], function(Plotly) {                    window.PLOTLYENV=window.PLOTLYENV || {};                                    if (document.getElementById(\"92af94b2-2a0e-444e-bdcc-6d64ab9ca923\")) {                    Plotly.newPlot(                        \"92af94b2-2a0e-444e-bdcc-6d64ab9ca923\",                        [{\"mode\":\"lines\",\"name\":\"No Cancer\",\"x\":[0.0,48.0,96.0,144.0,192.0,240.0,288.0,336.0,384.0,432.0,480.0,528.0,576.0,624.0,672.0,720.0,768.0,816.0,864.0,912.0,960.0,1008.0,1056.0,1104.0,1152.0,1200.0,1248.0,1296.0,1344.0,1392.0,1440.0,1488.0,1536.0,1584.0,1632.0,1680.0,1728.0,1776.0,1824.0],\"y\":[1000.0,776.0,619.0,490.0,364.0,294.0,228.0,169.0,140.0,112.0,98.0,72.0,59.0,46.0,34.0,25.0,17.0,15.0,15.0,12.0,7.0,6.0,4.0,3.0,2.0,2.0,2.0,2.0,2.0,2.0,1.0,1.0,0.0,0.0,0.0,0.0,0.0,0.0,0.0],\"type\":\"scatter\"},{\"mode\":\"lines\",\"name\":\"Local Recurrence\",\"x\":[0.0,48.0,96.0,144.0,192.0,240.0,288.0,336.0,384.0,432.0,480.0,528.0,576.0,624.0,672.0,720.0,768.0,816.0,864.0,912.0,960.0,1008.0,1056.0,1104.0,1152.0,1200.0,1248.0,1296.0,1344.0,1392.0,1440.0,1488.0,1536.0,1584.0,1632.0,1680.0,1728.0,1776.0,1824.0],\"y\":[0.0,93.0,148.0,152.0,161.0,139.0,138.0,124.0,90.0,86.0,63.0,60.0,42.0,44.0,35.0,27.0,23.0,18.0,10.0,9.0,9.0,6.0,6.0,6.0,6.0,5.0,4.0,3.0,3.0,3.0,4.0,3.0,1.0,1.0,1.0,0.0,0.0,0.0,0.0],\"type\":\"scatter\"},{\"mode\":\"lines\",\"name\":\"Distant Metastasis\",\"x\":[0.0,48.0,96.0,144.0,192.0,240.0,288.0,336.0,384.0,432.0,480.0,528.0,576.0,624.0,672.0,720.0,768.0,816.0,864.0,912.0,960.0,1008.0,1056.0,1104.0,1152.0,1200.0,1248.0,1296.0,1344.0,1392.0,1440.0,1488.0,1536.0,1584.0,1632.0,1680.0,1728.0,1776.0,1824.0],\"y\":[0.0,49.0,69.0,81.0,63.0,53.0,50.0,46.0,41.0,31.0,23.0,25.0,21.0,18.0,17.0,14.0,13.0,9.0,7.0,4.0,2.0,1.0,1.0,0.0,0.0,0.0,0.0,0.0,0.0,0.0,0.0,0.0,0.0,0.0,0.0,0.0,0.0,0.0,0.0],\"type\":\"scatter\"},{\"mode\":\"lines\",\"name\":\"Both Local and Distant\",\"x\":[0.0,48.0,96.0,144.0,192.0,240.0,288.0,336.0,384.0,432.0,480.0,528.0,576.0,624.0,672.0,720.0,768.0,816.0,864.0,912.0,960.0,1008.0,1056.0,1104.0,1152.0,1200.0,1248.0,1296.0,1344.0,1392.0,1440.0,1488.0,1536.0,1584.0,1632.0,1680.0,1728.0,1776.0,1824.0],\"y\":[0.0,7.0,19.0,34.0,46.0,55.0,55.0,45.0,44.0,39.0,43.0,30.0,30.0,24.0,22.0,20.0,18.0,12.0,7.0,4.0,4.0,5.0,5.0,3.0,3.0,0.0,1.0,0.0,0.0,0.0,0.0,0.0,2.0,1.0,1.0,1.0,1.0,1.0,0.0],\"type\":\"scatter\"},{\"mode\":\"lines\",\"name\":\"Death\",\"x\":[0.0,48.0,96.0,144.0,192.0,240.0,288.0,336.0,384.0,432.0,480.0,528.0,576.0,624.0,672.0,720.0,768.0,816.0,864.0,912.0,960.0,1008.0,1056.0,1104.0,1152.0,1200.0,1248.0,1296.0,1344.0,1392.0,1440.0,1488.0,1536.0,1584.0,1632.0,1680.0,1728.0,1776.0,1824.0],\"y\":[0.0,75.0,145.0,243.0,366.0,459.0,529.0,616.0,685.0,732.0,773.0,813.0,848.0,868.0,892.0,914.0,929.0,946.0,961.0,971.0,978.0,982.0,984.0,988.0,989.0,993.0,993.0,995.0,995.0,995.0,995.0,996.0,997.0,998.0,998.0,999.0,999.0,999.0,1000.0],\"type\":\"scatter\"}],                        {\"template\":{\"data\":{\"histogram2dcontour\":[{\"type\":\"histogram2dcontour\",\"colorbar\":{\"outlinewidth\":0,\"ticks\":\"\"},\"colorscale\":[[0.0,\"#0d0887\"],[0.1111111111111111,\"#46039f\"],[0.2222222222222222,\"#7201a8\"],[0.3333333333333333,\"#9c179e\"],[0.4444444444444444,\"#bd3786\"],[0.5555555555555556,\"#d8576b\"],[0.6666666666666666,\"#ed7953\"],[0.7777777777777778,\"#fb9f3a\"],[0.8888888888888888,\"#fdca26\"],[1.0,\"#f0f921\"]]}],\"choropleth\":[{\"type\":\"choropleth\",\"colorbar\":{\"outlinewidth\":0,\"ticks\":\"\"}}],\"histogram2d\":[{\"type\":\"histogram2d\",\"colorbar\":{\"outlinewidth\":0,\"ticks\":\"\"},\"colorscale\":[[0.0,\"#0d0887\"],[0.1111111111111111,\"#46039f\"],[0.2222222222222222,\"#7201a8\"],[0.3333333333333333,\"#9c179e\"],[0.4444444444444444,\"#bd3786\"],[0.5555555555555556,\"#d8576b\"],[0.6666666666666666,\"#ed7953\"],[0.7777777777777778,\"#fb9f3a\"],[0.8888888888888888,\"#fdca26\"],[1.0,\"#f0f921\"]]}],\"heatmap\":[{\"type\":\"heatmap\",\"colorbar\":{\"outlinewidth\":0,\"ticks\":\"\"},\"colorscale\":[[0.0,\"#0d0887\"],[0.1111111111111111,\"#46039f\"],[0.2222222222222222,\"#7201a8\"],[0.3333333333333333,\"#9c179e\"],[0.4444444444444444,\"#bd3786\"],[0.5555555555555556,\"#d8576b\"],[0.6666666666666666,\"#ed7953\"],[0.7777777777777778,\"#fb9f3a\"],[0.8888888888888888,\"#fdca26\"],[1.0,\"#f0f921\"]]}],\"heatmapgl\":[{\"type\":\"heatmapgl\",\"colorbar\":{\"outlinewidth\":0,\"ticks\":\"\"},\"colorscale\":[[0.0,\"#0d0887\"],[0.1111111111111111,\"#46039f\"],[0.2222222222222222,\"#7201a8\"],[0.3333333333333333,\"#9c179e\"],[0.4444444444444444,\"#bd3786\"],[0.5555555555555556,\"#d8576b\"],[0.6666666666666666,\"#ed7953\"],[0.7777777777777778,\"#fb9f3a\"],[0.8888888888888888,\"#fdca26\"],[1.0,\"#f0f921\"]]}],\"contourcarpet\":[{\"type\":\"contourcarpet\",\"colorbar\":{\"outlinewidth\":0,\"ticks\":\"\"}}],\"contour\":[{\"type\":\"contour\",\"colorbar\":{\"outlinewidth\":0,\"ticks\":\"\"},\"colorscale\":[[0.0,\"#0d0887\"],[0.1111111111111111,\"#46039f\"],[0.2222222222222222,\"#7201a8\"],[0.3333333333333333,\"#9c179e\"],[0.4444444444444444,\"#bd3786\"],[0.5555555555555556,\"#d8576b\"],[0.6666666666666666,\"#ed7953\"],[0.7777777777777778,\"#fb9f3a\"],[0.8888888888888888,\"#fdca26\"],[1.0,\"#f0f921\"]]}],\"surface\":[{\"type\":\"surface\",\"colorbar\":{\"outlinewidth\":0,\"ticks\":\"\"},\"colorscale\":[[0.0,\"#0d0887\"],[0.1111111111111111,\"#46039f\"],[0.2222222222222222,\"#7201a8\"],[0.3333333333333333,\"#9c179e\"],[0.4444444444444444,\"#bd3786\"],[0.5555555555555556,\"#d8576b\"],[0.6666666666666666,\"#ed7953\"],[0.7777777777777778,\"#fb9f3a\"],[0.8888888888888888,\"#fdca26\"],[1.0,\"#f0f921\"]]}],\"mesh3d\":[{\"type\":\"mesh3d\",\"colorbar\":{\"outlinewidth\":0,\"ticks\":\"\"}}],\"scatter\":[{\"fillpattern\":{\"fillmode\":\"overlay\",\"size\":10,\"solidity\":0.2},\"type\":\"scatter\"}],\"parcoords\":[{\"type\":\"parcoords\",\"line\":{\"colorbar\":{\"outlinewidth\":0,\"ticks\":\"\"}}}],\"scatterpolargl\":[{\"type\":\"scatterpolargl\",\"marker\":{\"colorbar\":{\"outlinewidth\":0,\"ticks\":\"\"}}}],\"bar\":[{\"error_x\":{\"color\":\"#2a3f5f\"},\"error_y\":{\"color\":\"#2a3f5f\"},\"marker\":{\"line\":{\"color\":\"#E5ECF6\",\"width\":0.5},\"pattern\":{\"fillmode\":\"overlay\",\"size\":10,\"solidity\":0.2}},\"type\":\"bar\"}],\"scattergeo\":[{\"type\":\"scattergeo\",\"marker\":{\"colorbar\":{\"outlinewidth\":0,\"ticks\":\"\"}}}],\"scatterpolar\":[{\"type\":\"scatterpolar\",\"marker\":{\"colorbar\":{\"outlinewidth\":0,\"ticks\":\"\"}}}],\"histogram\":[{\"marker\":{\"pattern\":{\"fillmode\":\"overlay\",\"size\":10,\"solidity\":0.2}},\"type\":\"histogram\"}],\"scattergl\":[{\"type\":\"scattergl\",\"marker\":{\"colorbar\":{\"outlinewidth\":0,\"ticks\":\"\"}}}],\"scatter3d\":[{\"type\":\"scatter3d\",\"line\":{\"colorbar\":{\"outlinewidth\":0,\"ticks\":\"\"}},\"marker\":{\"colorbar\":{\"outlinewidth\":0,\"ticks\":\"\"}}}],\"scattermapbox\":[{\"type\":\"scattermapbox\",\"marker\":{\"colorbar\":{\"outlinewidth\":0,\"ticks\":\"\"}}}],\"scatterternary\":[{\"type\":\"scatterternary\",\"marker\":{\"colorbar\":{\"outlinewidth\":0,\"ticks\":\"\"}}}],\"scattercarpet\":[{\"type\":\"scattercarpet\",\"marker\":{\"colorbar\":{\"outlinewidth\":0,\"ticks\":\"\"}}}],\"carpet\":[{\"aaxis\":{\"endlinecolor\":\"#2a3f5f\",\"gridcolor\":\"white\",\"linecolor\":\"white\",\"minorgridcolor\":\"white\",\"startlinecolor\":\"#2a3f5f\"},\"baxis\":{\"endlinecolor\":\"#2a3f5f\",\"gridcolor\":\"white\",\"linecolor\":\"white\",\"minorgridcolor\":\"white\",\"startlinecolor\":\"#2a3f5f\"},\"type\":\"carpet\"}],\"table\":[{\"cells\":{\"fill\":{\"color\":\"#EBF0F8\"},\"line\":{\"color\":\"white\"}},\"header\":{\"fill\":{\"color\":\"#C8D4E3\"},\"line\":{\"color\":\"white\"}},\"type\":\"table\"}],\"barpolar\":[{\"marker\":{\"line\":{\"color\":\"#E5ECF6\",\"width\":0.5},\"pattern\":{\"fillmode\":\"overlay\",\"size\":10,\"solidity\":0.2}},\"type\":\"barpolar\"}],\"pie\":[{\"automargin\":true,\"type\":\"pie\"}]},\"layout\":{\"autotypenumbers\":\"strict\",\"colorway\":[\"#636efa\",\"#EF553B\",\"#00cc96\",\"#ab63fa\",\"#FFA15A\",\"#19d3f3\",\"#FF6692\",\"#B6E880\",\"#FF97FF\",\"#FECB52\"],\"font\":{\"color\":\"#2a3f5f\"},\"hovermode\":\"closest\",\"hoverlabel\":{\"align\":\"left\"},\"paper_bgcolor\":\"white\",\"plot_bgcolor\":\"#E5ECF6\",\"polar\":{\"bgcolor\":\"#E5ECF6\",\"angularaxis\":{\"gridcolor\":\"white\",\"linecolor\":\"white\",\"ticks\":\"\"},\"radialaxis\":{\"gridcolor\":\"white\",\"linecolor\":\"white\",\"ticks\":\"\"}},\"ternary\":{\"bgcolor\":\"#E5ECF6\",\"aaxis\":{\"gridcolor\":\"white\",\"linecolor\":\"white\",\"ticks\":\"\"},\"baxis\":{\"gridcolor\":\"white\",\"linecolor\":\"white\",\"ticks\":\"\"},\"caxis\":{\"gridcolor\":\"white\",\"linecolor\":\"white\",\"ticks\":\"\"}},\"coloraxis\":{\"colorbar\":{\"outlinewidth\":0,\"ticks\":\"\"}},\"colorscale\":{\"sequential\":[[0.0,\"#0d0887\"],[0.1111111111111111,\"#46039f\"],[0.2222222222222222,\"#7201a8\"],[0.3333333333333333,\"#9c179e\"],[0.4444444444444444,\"#bd3786\"],[0.5555555555555556,\"#d8576b\"],[0.6666666666666666,\"#ed7953\"],[0.7777777777777778,\"#fb9f3a\"],[0.8888888888888888,\"#fdca26\"],[1.0,\"#f0f921\"]],\"sequentialminus\":[[0.0,\"#0d0887\"],[0.1111111111111111,\"#46039f\"],[0.2222222222222222,\"#7201a8\"],[0.3333333333333333,\"#9c179e\"],[0.4444444444444444,\"#bd3786\"],[0.5555555555555556,\"#d8576b\"],[0.6666666666666666,\"#ed7953\"],[0.7777777777777778,\"#fb9f3a\"],[0.8888888888888888,\"#fdca26\"],[1.0,\"#f0f921\"]],\"diverging\":[[0,\"#8e0152\"],[0.1,\"#c51b7d\"],[0.2,\"#de77ae\"],[0.3,\"#f1b6da\"],[0.4,\"#fde0ef\"],[0.5,\"#f7f7f7\"],[0.6,\"#e6f5d0\"],[0.7,\"#b8e186\"],[0.8,\"#7fbc41\"],[0.9,\"#4d9221\"],[1,\"#276419\"]]},\"xaxis\":{\"gridcolor\":\"white\",\"linecolor\":\"white\",\"ticks\":\"\",\"title\":{\"standoff\":15},\"zerolinecolor\":\"white\",\"automargin\":true,\"zerolinewidth\":2},\"yaxis\":{\"gridcolor\":\"white\",\"linecolor\":\"white\",\"ticks\":\"\",\"title\":{\"standoff\":15},\"zerolinecolor\":\"white\",\"automargin\":true,\"zerolinewidth\":2},\"scene\":{\"xaxis\":{\"backgroundcolor\":\"#E5ECF6\",\"gridcolor\":\"white\",\"linecolor\":\"white\",\"showbackground\":true,\"ticks\":\"\",\"zerolinecolor\":\"white\",\"gridwidth\":2},\"yaxis\":{\"backgroundcolor\":\"#E5ECF6\",\"gridcolor\":\"white\",\"linecolor\":\"white\",\"showbackground\":true,\"ticks\":\"\",\"zerolinecolor\":\"white\",\"gridwidth\":2},\"zaxis\":{\"backgroundcolor\":\"#E5ECF6\",\"gridcolor\":\"white\",\"linecolor\":\"white\",\"showbackground\":true,\"ticks\":\"\",\"zerolinecolor\":\"white\",\"gridwidth\":2}},\"shapedefaults\":{\"line\":{\"color\":\"#2a3f5f\"}},\"annotationdefaults\":{\"arrowcolor\":\"#2a3f5f\",\"arrowhead\":0,\"arrowwidth\":1},\"geo\":{\"bgcolor\":\"white\",\"landcolor\":\"#E5ECF6\",\"subunitcolor\":\"white\",\"showland\":true,\"showlakes\":true,\"lakecolor\":\"white\"},\"title\":{\"x\":0.05},\"mapbox\":{\"style\":\"light\"}}},\"xaxis\":{\"title\":{\"text\":\"Time (months)\"}},\"yaxis\":{\"title\":{\"text\":\"Number of women in state\"}}},                        {\"responsive\": true}                    ).then(function(){\n",
       "                            \n",
       "var gd = document.getElementById('92af94b2-2a0e-444e-bdcc-6d64ab9ca923');\n",
       "var x = new MutationObserver(function (mutations, observer) {{\n",
       "        var display = window.getComputedStyle(gd).display;\n",
       "        if (!display || display === 'none') {{\n",
       "            console.log([gd, 'removed!']);\n",
       "            Plotly.purge(gd);\n",
       "            observer.disconnect();\n",
       "        }}\n",
       "}});\n",
       "\n",
       "// Listen for the removal of the full notebook cells\n",
       "var notebookContainer = gd.closest('#notebook-container');\n",
       "if (notebookContainer) {{\n",
       "    x.observe(notebookContainer, {childList: true});\n",
       "}}\n",
       "\n",
       "// Listen for the clearing of the current output cell\n",
       "var outputEl = gd.closest('.output');\n",
       "if (outputEl) {{\n",
       "    x.observe(outputEl, {childList: true});\n",
       "}}\n",
       "\n",
       "                        })                };                });            </script>        </div>"
      ]
     },
     "metadata": {},
     "output_type": "display_data"
    }
   ],
   "source": [
    "vector = np.zeros((5, int(time_steps+1)))\n",
    "for i in range(5):\n",
    "    for j in range(int(time_steps+1)):\n",
    "        vector[i,j] = np.sum(Y[:,j] == i)\n",
    "\n",
    "stateDescs = ['No Cancer', 'Local Recurrence', 'Distant Metastasis', 'Both Local and Distant', 'Death']\n",
    "\n",
    "fig = go.Figure()\n",
    "for i in range(5):\n",
    "    fig.add_trace(go.Scatter(x=48*np.arange(time_steps+1), y=vector[i,:], mode='lines', name=stateDescs[i]))\n",
    "# add desription of x and y axis\n",
    "fig.update_layout(\n",
    "    xaxis_title=\"Time (months)\",\n",
    "    yaxis_title=\"Number of women in state\"\n",
    ")\n",
    "fig.show()"
   ]
  },
  {
   "cell_type": "markdown",
   "metadata": {},
   "source": [
    "### **Task 13**"
   ]
  },
  {
   "cell_type": "code",
   "execution_count": 16,
   "metadata": {},
   "outputs": [
    {
     "name": "stdout",
     "output_type": "stream",
     "text": [
      "Iteration: 1\n"
     ]
    },
    {
     "name": "stderr",
     "output_type": "stream",
     "text": [
      "100%|██████████| 1000/1000 [00:01<00:00, 571.80it/s]\n"
     ]
    },
    {
     "name": "stdout",
     "output_type": "stream",
     "text": [
      "Iteration: 2\n"
     ]
    },
    {
     "name": "stderr",
     "output_type": "stream",
     "text": [
      "100%|██████████| 1000/1000 [00:01<00:00, 787.40it/s]\n"
     ]
    },
    {
     "name": "stdout",
     "output_type": "stream",
     "text": [
      "Iteration: 1\n"
     ]
    },
    {
     "name": "stderr",
     "output_type": "stream",
     "text": [
      "100%|██████████| 1000/1000 [00:02<00:00, 432.09it/s]\n"
     ]
    },
    {
     "name": "stdout",
     "output_type": "stream",
     "text": [
      "Iteration: 2\n"
     ]
    },
    {
     "name": "stderr",
     "output_type": "stream",
     "text": [
      "100%|██████████| 1000/1000 [00:01<00:00, 877.87it/s]\n"
     ]
    },
    {
     "name": "stdout",
     "output_type": "stream",
     "text": [
      "Iteration: 2\n"
     ]
    },
    {
     "name": "stderr",
     "output_type": "stream",
     "text": [
      "100%|██████████| 1000/1000 [00:00<00:00, 1051.80it/s]\n"
     ]
    },
    {
     "name": "stdout",
     "output_type": "stream",
     "text": [
      "Iteration: 2\n"
     ]
    },
    {
     "name": "stderr",
     "output_type": "stream",
     "text": [
      "100%|██████████| 1000/1000 [00:01<00:00, 914.12it/s]\n"
     ]
    },
    {
     "name": "stdout",
     "output_type": "stream",
     "text": [
      "Iteration: 2\n"
     ]
    },
    {
     "name": "stderr",
     "output_type": "stream",
     "text": [
      "100%|██████████| 1000/1000 [00:00<00:00, 1116.58it/s]\n"
     ]
    },
    {
     "name": "stdout",
     "output_type": "stream",
     "text": [
      "Iteration: 2\n"
     ]
    },
    {
     "name": "stderr",
     "output_type": "stream",
     "text": [
      "100%|██████████| 1000/1000 [00:00<00:00, 1242.52it/s]\n"
     ]
    }
   ],
   "source": [
    "def est_Q(Q_0, Y):\n",
    "    Q = Q_0\n",
    "    err = 1\n",
    "\n",
    "    time_steps = Y.shape[1]\n",
    "    num_women = Y.shape[0]\n",
    "\n",
    "    k = 0\n",
    "\n",
    "    while np.abs(err) > 1e-3:\n",
    "\n",
    "        k = k + 1\n",
    "        print(f\"Iteration: {k}\")\n",
    "\n",
    "        N = np.zeros((5,5))\n",
    "        S = np.zeros((5))\n",
    "\n",
    "        Q_old = np.copy(Q)\n",
    "\n",
    "        for i in tqdm(range(num_women)):\n",
    "            for j in range(1, int(time_steps)):\n",
    "                while True:\n",
    "                    women = simulateWomen(Q_old, 1, [Y[i,j-1]], 48)\n",
    "\n",
    "                    Y_new_state = women[0][1]\n",
    "                    Y_new_time = women[0][0]\n",
    "\n",
    "                    if Y_new_state[-1] == Y[i,j]:\n",
    "                        for k in range(1,len(Y_new_state)):\n",
    "                            N[Y_new_state[k-1],Y_new_state[k]] += 1\n",
    "                            S[Y_new_state[k]] += Y_new_time[k]\n",
    "                        break\n",
    "\n",
    "        Q = np.zeros((5,5))\n",
    "\n",
    "        for i in range(5):\n",
    "            for j in range(5):\n",
    "                if i != j:\n",
    "                    Q[i,j] = N[i,j]/S[i]\n",
    "\n",
    "            Q[i,i] = -np.sum(Q[i,:])\n",
    "\n",
    "        err = np.linalg.norm(Q_old - Q)\n",
    "\n",
    "    return Q\n",
    "\n",
    "def generate_matrix():\n",
    "    # Generate a 5x5 matrix with random positive elements\n",
    "    matrix = np.random.rand(5, 5)\n",
    "    matrix /= 100\n",
    "\n",
    "    # Make the diagonal elements the negative sum of the remaining row elements\n",
    "    np.fill_diagonal(matrix, -matrix.sum(axis=1) + np.diag(matrix))\n",
    "\n",
    "    return matrix\n",
    "\n",
    "Q_01 = generate_matrix()\n",
    "Q_02 = np.copy(Q)\n",
    "\n",
    "Q2 = est_Q(Q_02, Y)\n",
    "Q1 = est_Q(Q_01, Y)\n"
   ]
  },
  {
   "cell_type": "code",
   "execution_count": 17,
   "metadata": {},
   "outputs": [
    {
     "name": "stdout",
     "output_type": "stream",
     "text": [
      "True matrix\n",
      "[[-0.00475  0.0025   0.00125  0.       0.001  ]\n",
      " [ 0.      -0.007    0.       0.002    0.005  ]\n",
      " [ 0.       0.      -0.008    0.003    0.005  ]\n",
      " [ 0.       0.       0.      -0.009    0.009  ]\n",
      " [ 0.       0.       0.       0.      -0.     ]]\n",
      "\n",
      "\n",
      "Random matrix\n",
      "[[-0.01910434  0.00414031  0.00967065  0.00054224  0.00475114]\n",
      " [ 0.00606369 -0.02589853  0.00991725  0.00569917  0.00421841]\n",
      " [ 0.00600835  0.0098022  -0.02914006  0.00482201  0.0085075 ]\n",
      " [ 0.00077268  0.00660384  0.00678534 -0.01984402  0.00568216]\n",
      " [ 0.00343321  0.00278938  0.0071282   0.00459005 -0.01794084]]\n",
      "\n",
      "\n",
      "From random matrix\n",
      "[[-0.00576  0.00298  0.00141  0.00007  0.0013 ]\n",
      " [ 0.      -0.00606  0.00004  0.00179  0.00423]\n",
      " [ 0.00003  0.      -0.00681  0.00231  0.00448]\n",
      " [ 0.       0.       0.      -0.00735  0.00735]\n",
      " [ 0.       0.       0.       0.      -0.     ]]\n",
      "\n",
      "\n",
      "From true matrix\n",
      "[[-0.00576  0.00306  0.0015   0.       0.0012 ]\n",
      " [ 0.      -0.0062   0.       0.00179  0.00441]\n",
      " [ 0.       0.      -0.00708  0.00253  0.00455]\n",
      " [ 0.       0.       0.      -0.00725  0.00725]\n",
      " [ 0.       0.       0.       0.      -0.     ]]\n",
      "\n",
      "\n",
      "0.000478891737068248\n"
     ]
    }
   ],
   "source": [
    "print(\"True matrix\")\n",
    "print(Q)\n",
    "print(\"\\n\")\n",
    "\n",
    "print(\"Random matrix\")\n",
    "print(Q_01)\n",
    "print(\"\\n\")\n",
    "\n",
    "print(\"From random matrix\")\n",
    "with np.printoptions(suppress=True):\n",
    "    print(np.round(Q1, 5))\n",
    "print(\"\\n\")\n",
    "\n",
    "print(\"From true matrix\")\n",
    "print(np.round(Q2, 5))\n",
    "print(\"\\n\")\n",
    "\n",
    "print(np.linalg.norm(Q1 - Q2))"
   ]
  }
 ],
 "metadata": {
  "kernelspec": {
   "display_name": "base",
   "language": "python",
   "name": "python3"
  },
  "language_info": {
   "codemirror_mode": {
    "name": "ipython",
    "version": 3
   },
   "file_extension": ".py",
   "mimetype": "text/x-python",
   "name": "python",
   "nbconvert_exporter": "python",
   "pygments_lexer": "ipython3",
   "version": "3.11.9"
  }
 },
 "nbformat": 4,
 "nbformat_minor": 2
}
